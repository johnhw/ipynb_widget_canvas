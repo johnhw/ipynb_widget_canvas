{
 "cells": [
  {
   "cell_type": "markdown",
   "metadata": {},
   "source": [
    "# Canvas Mouse Events in Python"
   ]
  },
  {
   "cell_type": "code",
   "execution_count": 4,
   "metadata": {
    "collapsed": false
   },
   "outputs": [],
   "source": [
    "from __future__ import print_function, unicode_literals, division, absolute_import\n",
    "\n",
    "import imageio\n",
    "import IPython\n",
    "\n",
    "from widget_canvas import widget_canvas"
   ]
  },
  {
   "cell_type": "markdown",
   "metadata": {},
   "source": [
    "## Load some data"
   ]
  },
  {
   "cell_type": "code",
   "execution_count": 5,
   "metadata": {
    "collapsed": true
   },
   "outputs": [],
   "source": [
    "image_A = imageio.imread('images/Whippet.jpg')\n",
    "image_B = imageio.imread('images/Doberman.jpg')"
   ]
  },
  {
   "cell_type": "markdown",
   "metadata": {},
   "source": [
    "## Simple Example"
   ]
  },
  {
   "cell_type": "code",
   "execution_count": 16,
   "metadata": {
    "collapsed": false
   },
   "outputs": [],
   "source": [
    "# Build and display the widget.\n",
    "wid = widget_canvas.CanvasImage(image_A)\n",
    "\n",
    "wid.display()\n",
    "\n",
    "# Build an event handler function.\n",
    "def simple_handler(wid, info):\n",
    "    print(info)\n",
    "    \n",
    "# Attach the handler to the widget's on_click events.\n",
    "wid.on_click(simple_handler)"
   ]
  },
  {
   "cell_type": "markdown",
   "metadata": {},
   "source": [
    "Click on the image above and notice the generated event information displayed to the cell."
   ]
  },
  {
   "cell_type": "code",
   "execution_count": 17,
   "metadata": {
    "collapsed": true
   },
   "outputs": [],
   "source": [
    "IPython.html.widgets.Output?"
   ]
  },
  {
   "cell_type": "markdown",
   "metadata": {},
   "source": [
    "---"
   ]
  },
  {
   "cell_type": "markdown",
   "metadata": {},
   "source": [
    "## More Complicated Example"
   ]
  },
  {
   "cell_type": "markdown",
   "metadata": {},
   "source": [
    "I want to display one of the images above using canvas image widget with a few additional helper widgets so I can see what's happening as I capture mouse events.  The setup process for connecting multiple widgets seems a little \"wordy\" to me, but this is also the first time I attempt to work with so many at the same time.  Maybe this is normal?  If there exists a better, more effective process I would to hear some feedback.\n",
    "\n",
    "In the cell below I create a mouse-event display system to work alongside an instance of a my Canvas Widget.  The display is made from combinations of several `HTMLWidgets`, a single `TextareaWidget`, and a few `ContainerWidgets` to arrange them all in a nice layout."
   ]
  },
  {
   "cell_type": "code",
   "execution_count": null,
   "metadata": {
    "collapsed": false
   },
   "outputs": [],
   "source": [
    "# Image widget.\n",
    "wid_image = canvas.CanvasImageBase(data_A)\n",
    "wid_image.set_css({'border': 'solid black 1px'})\n",
    "\n",
    "# Mouse X & Y canvas coordinates.\n",
    "wid_move_XY = HTMLWidget(value='XY:')\n",
    "wid_move_XY.set_css({'width': '250px', 'margin-left': '10px', 'font-family': 'monospace'})\n",
    "\n",
    "wid_drag_XY = HTMLWidget(value='XY:')\n",
    "wid_drag_XY.set_css({'width': '250px', 'margin-left': '10px', 'font-family': 'monospace'})\n",
    "\n",
    "# Status indicators.\n",
    "wid_move = HTMLWidget(value='Move')\n",
    "wid_move.set_css({'width': '35px'})\n",
    "\n",
    "wid_drag = HTMLWidget(value='Drag')\n",
    "wid_drag.set_css({'width': '35px'})\n",
    "\n",
    "wid_down_up = HTMLWidget(value='Button: Up')\n",
    "wid_down_up.set_css({'width': '100px'})\n",
    "\n",
    "wid_click = HTMLWidget(value='Click')\n",
    "\n",
    "wid_scroll = HTMLWidget(value='Scroll')\n",
    "\n",
    "# Event information.\n",
    "wid_event_text = TextareaWidget()\n",
    "wid_event_text.set_css({'width': '500', 'height': '130', 'font-family': 'monospace'})\n",
    "\n",
    "# Assemble containers.\n",
    "container_move = ContainerWidget(children=[wid_move, wid_move_XY])\n",
    "container_drag = ContainerWidget(children=[wid_drag, wid_drag_XY])\n",
    "\n",
    "container_info = ContainerWidget(children=[container_move, container_drag, wid_down_up, wid_click, \n",
    "                                           wid_scroll, wid_event_text])\n",
    "container_info.set_css({'margin-left': '10px'})\n",
    "\n",
    "container_main = ContainerWidget(children=[wid_image, container_info])"
   ]
  },
  {
   "cell_type": "markdown",
   "metadata": {},
   "source": [
    "The `container_main` widget is an instance of `ContainerWidget` and it holds all of the widgets comprising my display system, including the `ImageWidget` instance stored in `wid_image`."
   ]
  },
  {
   "cell_type": "markdown",
   "metadata": {},
   "source": [
    "## Python event handlers"
   ]
  },
  {
   "cell_type": "markdown",
   "metadata": {},
   "source": [
    "Define a few Python event handlers and connect them to the canvas widget so they can update the display in response to mouse events."
   ]
  },
  {
   "cell_type": "code",
   "execution_count": null,
   "metadata": {
    "collapsed": false
   },
   "outputs": [],
   "source": [
    "# http://getbootstrap.com/components/#labels\n",
    "style_A = 'label label-default'\n",
    "style_B = 'label label-primary'\n",
    "style_C = 'label label-success'\n",
    "style_D = 'label label-info'\n",
    "style_E = 'label label-warning'\n",
    "style_F = 'label label-danger'\n",
    "\n",
    "# Handlers.\n",
    "def handle_event(widget, ev):\n",
    "    \"\"\"Generic event handler.\"\"\"\n",
    "    wid_event_text.value = 'Event:\\n{}'.format(ev)\n",
    "\n",
    "def handle_motion(widget, ev):\n",
    "    wid_move.value = '<b>Move</b>'\n",
    "    X, Y = ev['canvas_xy']\n",
    "    wid_move_XY.value = 'XY: {:04.0f}, {:04.0f}'.format(X, Y)\n",
    "\n",
    "    wid_drag.value = 'Drag'\n",
    "    wid_drag_XY.value = 'XY:'\n",
    "\n",
    "    \n",
    "def handle_drag(widget, ev):\n",
    "    wid_move.value = 'Move'\n",
    "    wid_drag.value = '<b>Drag</b>'\n",
    "    X, Y = ev['drag_xy']\n",
    "    \n",
    "    wid_drag_XY.value = 'XY: {:04.0f}, {:04.0f}'.format(X, Y)\n",
    "    wid_move_XY.value = 'XY:'\n",
    "    \n",
    "def handle_down(widget, ev):\n",
    "    wid_down_up.value = 'Button: Down'\n",
    "    \n",
    "def handle_up(widget, ev):\n",
    "    wid_down_up.value = 'Button: Up'\n",
    "\n",
    "    \n",
    "_click_classes = [style_E, style_F]\n",
    "_click_data = [data_A, data_B]\n",
    "ix = [0]\n",
    "def handle_click(widget, ev):\n",
    "    wid_click.remove_class(_click_classes[ix[0]])\n",
    "\n",
    "    ix[0] = (ix[0] + 1) % 2\n",
    "    wid_click.add_class(_click_classes[ix[0]])\n",
    "    wid_image.image = _click_data[ix[0]]\n",
    "\n",
    "    \n",
    "_scroll_classes = [style_B, style_C]\n",
    "iw = [0]\n",
    "def handle_scroll(widget, ev):\n",
    "    wid_scroll.remove_class(_scroll_classes[iw[0]])\n",
    "\n",
    "    iw[0] = (iw[0] + 1) % 2\n",
    "    wid_scroll.add_class(_scroll_classes[iw[0]])\n",
    "\n",
    "# Assign handlers for individual event types.\n",
    "wid_image.on_mouse_move(handle_motion)\n",
    "wid_image.on_mouse_move(handle_event)\n",
    "\n",
    "wid_image.on_mouse_drag(handle_drag)\n",
    "wid_image.on_mouse_drag(handle_event)\n",
    "\n",
    "wid_image.on_mouse_down(handle_down)\n",
    "wid_image.on_mouse_down(handle_event)\n",
    "\n",
    "wid_image.on_mouse_up(handle_up)\n",
    "wid_image.on_mouse_up(handle_event)\n",
    "\n",
    "wid_image.on_mouse_click(handle_click)\n",
    "wid_image.on_mouse_click(handle_event)\n",
    "\n",
    "wid_image.on_mouse_wheel(handle_scroll)\n",
    "wid_image.on_mouse_wheel(handle_event)"
   ]
  },
  {
   "cell_type": "markdown",
   "metadata": {},
   "source": [
    "## Helper function\n",
    "The helper function below is used to display the widgets and then apply any classes that can only be done after the widget is actually dsplayed to the screen."
   ]
  },
  {
   "cell_type": "code",
   "execution_count": null,
   "metadata": {
    "collapsed": false
   },
   "outputs": [],
   "source": [
    "d.values?"
   ]
  },
  {
   "cell_type": "code",
   "execution_count": null,
   "metadata": {
    "collapsed": false
   },
   "outputs": [],
   "source": [
    "def display_my_widgets(widget, mod_hbox):\n",
    "    IPython.display.display(widget)\n",
    "    \n",
    "    # Change class values after widget has been displayed to screen.\n",
    "    wid_click.add_class(_click_classes[ix[0]])\n",
    "    wid_scroll.add_class(_scroll_classes[iw[0]])\n",
    "\n",
    "    for w in mod_hbox:\n",
    "        w.remove_class('vbox')\n",
    "        w.add_class('hbox')"
   ]
  },
  {
   "cell_type": "markdown",
   "metadata": {},
   "source": [
    "## Display everything!"
   ]
  },
  {
   "cell_type": "markdown",
   "metadata": {},
   "source": [
    "Now its finally time to render the collection of widgets to the browser screen.  If it works for yo then you should see an image of a dog on the left and a handful of small information displays on the right.  Try clicking, dragging, and scrolling on the image and notice the display updating for each event."
   ]
  },
  {
   "cell_type": "code",
   "execution_count": null,
   "metadata": {
    "collapsed": false
   },
   "outputs": [],
   "source": [
    "# List of widgets to be set to `hbox` style.\n",
    "mod_hbox = [container_main, container_move, container_drag]\n",
    "\n",
    "# Display!\n",
    "display_my_widgets(container_main, mod_hbox)"
   ]
  },
  {
   "cell_type": "markdown",
   "metadata": {},
   "source": [
    "Right below I show a screen shot of what this display should look like when you run the Notebook all the way through.  If it didn't work you let me know!"
   ]
  },
  {
   "cell_type": "code",
   "execution_count": null,
   "metadata": {
    "collapsed": false
   },
   "outputs": [],
   "source": [
    "# Load and display a screenshoot of the above widgets displayed in their full glory.\n",
    "IPython.display.Image(filename='images/info_display.png', width=500)"
   ]
  },
  {
   "cell_type": "code",
   "execution_count": null,
   "metadata": {
    "collapsed": false
   },
   "outputs": [],
   "source": []
  }
 ],
 "metadata": {
  "kernelspec": {
   "display_name": "Python 3",
   "language": "python",
   "name": "python3"
  },
  "language_info": {
   "codemirror_mode": {
    "name": "ipython",
    "version": 3
   },
   "file_extension": ".py",
   "mimetype": "text/x-python",
   "name": "python",
   "nbconvert_exporter": "python",
   "pygments_lexer": "ipython3",
   "version": "3.4.3"
  }
 },
 "nbformat": 4,
 "nbformat_minor": 0
}

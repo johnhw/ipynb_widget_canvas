{
 "cells": [
  {
   "cell_type": "markdown",
   "metadata": {},
   "source": [
    "# Canvas Image Widget for IPython Notebook "
   ]
  },
  {
   "cell_type": "markdown",
   "metadata": {},
   "source": [
    "## Motivation\n",
    "\n",
    "The HTML5 Canvas element is a powerful tool for displaying resolution-dependent bitmap data.  It's great for efficiently rendering 2D graphics, images, artwork, or game components.  My current interest in the Canvas element is as the foundation for an interactive image viewer within the IPython [Notebook](http://ipython.org/notebook.html) widget [framework](http://nbviewer.ipython.org/github/ipython/ipython/blob/3.x/examples/Interactive%20Widgets/Index.ipynb).\n",
    "\n",
    "I knew early on that I would need to learn a lot about JavaScript to make this project work. JavaScript is a really curious programming language, a wilderness of bizarre constructs and third-party modules.  Navigating through that mess is risky without a good reference book: [JavaScript: The Good Parts](https://play.google.com/store/books/details/Douglas_Crockford_JavaScript_The_Good_Parts?id=PXa2bby0oQ0C). I was really surprised by much I had to learn about both [RequireJS](http://requirejs.org/) and [BackboneJS](http://backbonejs.org/) before I could start making meaningful progress on the technical parts of my project.\n",
    "\n",
    "Ultimately the most satisfying moment for me was when the [Module Pattern](http://javascriptplayground.com/blog/2012/04/javascript-module-pattern/) finally started making sense."
   ]
  },
  {
   "cell_type": "markdown",
   "metadata": {},
   "source": [
    "## Design Thoughts\n",
    "\n",
    "My initial plans for the Canvas Widget were to implement functionality required by my other projects:\n",
    "  - Display an image from a Numpy array: gray scale, RGB, or RGBA\n",
    "  - Display an image via URL\n",
    "  - Python callback functions as response to user's mouse motion/click events\n",
    "  - Readily support image zooming and panning via mouse drag and scroll wheel\n",
    "\n",
    "I want this widget to be as easy (or hard??) to install and use as the built-in widgets."
   ]
  },
  {
   "cell_type": "markdown",
   "metadata": {},
   "source": [
    "# Example Widget Usage"
   ]
  },
  {
   "cell_type": "code",
   "execution_count": 12,
   "metadata": {
    "collapsed": false
   },
   "outputs": [],
   "source": [
    "# Setup.\n",
    "from __future__ import print_function, unicode_literals, division, absolute_import\n",
    "\n",
    "import imageio\n",
    "import IPython\n",
    "\n",
    "from widget_canvas import widget_canvas"
   ]
  },
  {
   "cell_type": "code",
   "execution_count": 17,
   "metadata": {
    "collapsed": false
   },
   "outputs": [],
   "source": [
    "# Load some data using imageio package.\n",
    "data_image = imageio.imread('images/Whippet.jpg')\n",
    "\n",
    "# Create widget instance.\n",
    "wid_canvas = widget_canvas.CanvasImage(data_image)\n",
    "\n",
    "# Display.\n",
    "wid_canvas"
   ]
  },
  {
   "cell_type": "code",
   "execution_count": 18,
   "metadata": {
    "collapsed": true
   },
   "outputs": [],
   "source": [
    "# Make a nice outline.\n",
    "wid_canvas.border_color = 'black'\n",
    "wid_canvas.border_width = 2"
   ]
  },
  {
   "cell_type": "code",
   "execution_count": 19,
   "metadata": {
    "collapsed": true
   },
   "outputs": [],
   "source": [
    "# Update image data.\n",
    "data_image_2 = imageio.imread('images/Doberman.jpg')\n",
    "\n",
    "wid_canvas.data = data_image_2"
   ]
  },
  {
   "cell_type": "code",
   "execution_count": null,
   "metadata": {
    "collapsed": true
   },
   "outputs": [],
   "source": []
  }
 ],
 "metadata": {
  "kernelspec": {
   "display_name": "Python 3",
   "language": "python",
   "name": "python3"
  },
  "language_info": {
   "codemirror_mode": {
    "name": "ipython",
    "version": 3
   },
   "file_extension": ".py",
   "mimetype": "text/x-python",
   "name": "python",
   "nbconvert_exporter": "python",
   "pygments_lexer": "ipython3",
   "version": "3.4.3"
  }
 },
 "nbformat": 4,
 "nbformat_minor": 0
}

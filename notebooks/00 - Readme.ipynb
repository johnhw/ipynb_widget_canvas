{
 "cells": [
  {
   "cell_type": "markdown",
   "metadata": {},
   "source": [
    "# Canvas Image Widget for IPython Notebook "
   ]
  },
  {
   "cell_type": "markdown",
   "metadata": {},
   "source": [
    "## Features\n",
    "\n",
    "- Accept image data from Numpy arrays or URLs.\n",
    "- Support Python callback functions for front-end mouse events.\n",
    "- Support Canvas affine transform operations (work in progress)\n",
    "\n",
    "\n",
    "## Installation\n",
    "\n",
    "This widget uses [jupyter-pip](https://github.com/jdfreder/jupyter-pip) which allows me to make this package pip installable!  `jupyter-pip` is specifically designed to solve the distribution problem for notebook extensions that have associated JavaScript.  `jupyter-pip` takes care of placing files in all the right places.  No extra action required by the casual user, just install like any other Python package:\n",
    "\n",
    "```bash\n",
    "pip install ipynb_widget_canvas\n",
    "```\n",
    "\n",
    "## Dependencies\n",
    "\n",
    "- `imageio`\n",
    "- `requests`\n",
    "- `numpy`\n",
    "- `ipython`\n",
    "\n",
    "The [`imageio`](http://imageio.github.io/) package is used to encode image data in the Python back-end prior to sending it to the browser front-end.  The `requests` package is used for fetching image data from remote URLs.\n",
    "\n",
    "Development was done with Python 3.4 and IPython 3.2.0."
   ]
  },
  {
   "cell_type": "markdown",
   "metadata": {},
   "source": [
    "# Example Widget Usage"
   ]
  },
  {
   "cell_type": "code",
   "execution_count": 1,
   "metadata": {
    "collapsed": false
   },
   "outputs": [],
   "source": [
    "# Setup.\n",
    "from __future__ import print_function, unicode_literals, division, absolute_import\n",
    "\n",
    "import imageio\n",
    "import IPython\n",
    "\n",
    "from widget_canvas import widget_canvas"
   ]
  },
  {
   "cell_type": "code",
   "execution_count": 2,
   "metadata": {
    "collapsed": false
   },
   "outputs": [],
   "source": [
    "# Load some data using imageio package.\n",
    "data_image = imageio.imread('images/Whippet.jpg')\n",
    "\n",
    "# Create and display the widget.\n",
    "wid_canvas = widget_canvas.CanvasImage(data_image)\n",
    "\n",
    "wid_canvas"
   ]
  },
  {
   "cell_type": "code",
   "execution_count": 3,
   "metadata": {
    "collapsed": true
   },
   "outputs": [],
   "source": [
    "# Make a nice outline.\n",
    "wid_canvas.border_color = 'black'\n",
    "wid_canvas.border_width = 2"
   ]
  },
  {
   "cell_type": "code",
   "execution_count": 4,
   "metadata": {
    "collapsed": true
   },
   "outputs": [],
   "source": [
    "# Update image data.\n",
    "data_image_2 = imageio.imread('images/Doberman.jpg')\n",
    "\n",
    "wid_canvas.data = data_image_2"
   ]
  },
  {
   "cell_type": "code",
   "execution_count": null,
   "metadata": {
    "collapsed": true
   },
   "outputs": [],
   "source": []
  }
 ],
 "metadata": {
  "kernelspec": {
   "display_name": "Python 3",
   "language": "python",
   "name": "python3"
  },
  "language_info": {
   "codemirror_mode": {
    "name": "ipython",
    "version": 3
   },
   "file_extension": ".py",
   "mimetype": "text/x-python",
   "name": "python",
   "nbconvert_exporter": "python",
   "pygments_lexer": "ipython3",
   "version": "3.4.3"
  }
 },
 "nbformat": 4,
 "nbformat_minor": 0
}

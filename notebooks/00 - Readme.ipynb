{
 "cells": [
  {
   "cell_type": "markdown",
   "metadata": {},
   "source": [
    "# Canvas Image Widget for IPython Notebook "
   ]
  },
  {
   "cell_type": "markdown",
   "metadata": {},
   "source": [
    "## Features\n",
    "\n",
    "- Accept image data from Numpy arrays or URLs.\n",
    "- Support Python callback functions for front-end mouse events.\n",
    "- Support Canvas affine transform operations (work in progress)\n",
    "\n",
    "\n",
    "## Installation\n",
    "\n",
    "This widget uses [jupyter-pip](https://github.com/jdfreder/jupyter-pip) which allows me to make this package pip installable!  `jupyter-pip` is specifically designed to solve the distribution problem for notebook extensions that have associated JavaScript.  `jupyter-pip` takes care of placing files in all the right places.  No extra action required by the casual user, just install like any other Python package:\n",
    "\n",
    "```bash\n",
    "pip install ipynb_widget_canvas\n",
    "```\n",
    "\n",
    "## Dependencies\n",
    "\n",
    "- `imageio`\n",
    "- `requests`\n",
    "- `numpy`\n",
    "- `ipython`\n",
    "\n",
    "The [`imageio`](http://imageio.github.io/) package is used to encode image data in the Python back-end prior to sending it to the browser front-end.  The `requests` package is used for fetching image data from remote URLs.\n",
    "\n",
    "Development was done with Python 3.4 and IPython 3.2.0."
   ]
  },
  {
   "cell_type": "markdown",
   "metadata": {},
   "source": [
    "# Example Widget Usage"
   ]
  },
  {
   "cell_type": "code",
   "execution_count": 1,
   "metadata": {
    "collapsed": false
   },
   "outputs": [
    {
     "name": "stdout",
     "output_type": "stream",
     "text": [
      "uint8\n",
      "(220, 320, 3)\n"
     ]
    }
   ],
   "source": [
    "# Setup.\n",
    "import IPython\n",
    "import imageio  # See imageio package details at pypi.python.org/pypi/imageio\n",
    "\n",
    "from widget_canvas import CanvasImage\n",
    "\n",
    "data_image = imageio.imread('images/Whippet.jpg')\n",
    "\n",
    "print(data_image.dtype)\n",
    "print(data_image.shape)"
   ]
  },
  {
   "cell_type": "markdown",
   "metadata": {},
   "source": [
    "## Display image widget\n",
    "\n",
    "Widget properties `width` and `height` allow for direct manipulation displayed image size, independent of source data size.\n"
   ]
  },
  {
   "cell_type": "code",
   "execution_count": 3,
   "metadata": {
    "collapsed": false
   },
   "outputs": [
    {
     "name": "stdout",
     "output_type": "stream",
     "text": [
      "Click: 105, 216\n",
      "Click: 262, 192\n",
      "Click: 141, 122\n",
      "Click:  49, 129\n"
     ]
    }
   ],
   "source": [
    "# Instantiate a widget and display it.\n",
    "wid_canvas = CanvasImage(data_image)\n",
    "\n",
    "wid_canvas"
   ]
  },
  {
   "cell_type": "code",
   "execution_count": 5,
   "metadata": {
    "collapsed": false
   },
   "outputs": [],
   "source": [
    "# Execute this cell a few time to make the image larger...\n",
    "wid_canvas.width *= 1.2\n",
    "wid_canvas.height *= 1.2"
   ]
  },
  {
   "cell_type": "markdown",
   "metadata": {},
   "source": [
    "## Mouse event handler"
   ]
  },
  {
   "cell_type": "code",
   "execution_count": 6,
   "metadata": {
    "collapsed": false,
    "scrolled": false
   },
   "outputs": [],
   "source": [
    "# Build an event handler function.\n",
    "def simple_handler(wid, info):\n",
    "    msg = 'Click: {:3d}, {:3d}'.format(info['canvasX'], info['canvasY'])\n",
    "    print(msg)\n",
    "\n",
    "    \n",
    "# Attach the handler to on_click events.\n",
    "wid_canvas.on_click(simple_handler)"
   ]
  },
  {
   "cell_type": "code",
   "execution_count": null,
   "metadata": {
    "collapsed": true
   },
   "outputs": [],
   "source": []
  }
 ],
 "metadata": {
  "kernelspec": {
   "display_name": "Python 3",
   "language": "python",
   "name": "python3"
  },
  "language_info": {
   "codemirror_mode": {
    "name": "ipython",
    "version": 3
   },
   "file_extension": ".py",
   "mimetype": "text/x-python",
   "name": "python",
   "nbconvert_exporter": "python",
   "pygments_lexer": "ipython3",
   "version": "3.4.3"
  }
 },
 "nbformat": 4,
 "nbformat_minor": 0
}

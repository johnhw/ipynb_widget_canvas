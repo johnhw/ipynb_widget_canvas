{
 "cells": [
  {
   "cell_type": "markdown",
   "metadata": {},
   "source": [
    "# Canvas Image Widget for IPython Notebook "
   ]
  },
  {
   "cell_type": "markdown",
   "metadata": {},
   "source": [
    "## Features\n",
    "\n",
    "- Accept image data from Numpy arrays or URLs.\n",
    "- Support Python callback functions for front-end mouse events.\n",
    "- Support Canvas affine transform operations (work in progress)\n",
    "- Widget properties `width` and `height` allow for direct manipulation displayed image size, independent of source data size.\n",
    "\n",
    "Development was done with Python 3.4 and IPython 3.2.2 and Chrome as my browser.\n",
    "\n",
    "## Installation\n",
    "\n",
    "This widget uses [jupyter-pip](https://github.com/jdfreder/jupyter-pip) which allows me to make this package pip installable!  `jupyter-pip` is specifically designed to solve the distribution problem for notebook extensions that have associated JavaScript.  `jupyter-pip` takes care of placing files in all the right places.  No extra action required by the casual user, just install like any other Python package:\n",
    "\n",
    "```bash\n",
    "pip install ipynb_widget_canvas\n",
    "```\n",
    "\n",
    "## Dependencies\n",
    "\n",
    "- `ipython`\n",
    "- `numpy`\n",
    "- `pillow`\n",
    "- `requests`\n",
    "\n",
    "The package [`pillow`](https://python-pillow.github.io/) is primarily used to compress and encode image data in the Python back-end prior to sending it to the browser front-end.  `pillow` is used secondarily to help with basic image file IO functionality. The [`requests`](http://www.python-requests.org/en/latest/) package is used for fetching image data from remote URLs."
   ]
  },
  {
   "cell_type": "markdown",
   "metadata": {},
   "source": [
    "# Example Widget Usage\n",
    "\n",
    "### Load the data"
   ]
  },
  {
   "cell_type": "code",
   "execution_count": 2,
   "metadata": {
    "collapsed": false,
    "scrolled": true
   },
   "outputs": [],
   "source": [
    "import IPython\n",
    "from widget_canvas import CanvasImage\n",
    "from widget_canvas.image import read\n",
    "\n",
    "data_image = read('images/Whippet.jpg')"
   ]
  },
  {
   "cell_type": "code",
   "execution_count": 3,
   "metadata": {
    "collapsed": false
   },
   "outputs": [
    {
     "data": {
      "text/plain": [
       "dtype('uint8')"
      ]
     },
     "execution_count": 3,
     "metadata": {},
     "output_type": "execute_result"
    }
   ],
   "source": [
    "data_image.dtype"
   ]
  },
  {
   "cell_type": "code",
   "execution_count": 4,
   "metadata": {
    "collapsed": false
   },
   "outputs": [
    {
     "data": {
      "text/plain": [
       "(220, 320, 3)"
      ]
     },
     "execution_count": 4,
     "metadata": {},
     "output_type": "execute_result"
    }
   ],
   "source": [
    "data_image.shape"
   ]
  },
  {
   "cell_type": "markdown",
   "metadata": {},
   "source": [
    "### Dispay the image"
   ]
  },
  {
   "cell_type": "code",
   "execution_count": 5,
   "metadata": {
    "collapsed": false,
    "scrolled": true
   },
   "outputs": [
    {
     "name": "stdout",
     "output_type": "stream",
     "text": [
      "Click: 190, 129\n",
      "Click: 123, 127\n"
     ]
    }
   ],
   "source": [
    "wid_canvas = CanvasImage(data_image)\n",
    "wid_canvas.display()\n",
    "\n",
    "wid_canvas.width *= 1.5\n",
    "wid_canvas.height *= 1.5\n",
    "\n",
    "wid_canvas.border_color = 'black'"
   ]
  },
  {
   "cell_type": "code",
   "execution_count": 6,
   "metadata": {
    "collapsed": false,
    "scrolled": false
   },
   "outputs": [],
   "source": [
    "# Build an event handler function.\n",
    "def simple_handler(wid, info):\n",
    "    msg = 'Click: {:3d}, {:3d}'.format(info['canvasX'], info['canvasY'])\n",
    "    print(msg)\n",
    "\n",
    "# Attach the handler to widget's `on_click` events.\n",
    "wid_canvas.on_mouse_click(simple_handler)"
   ]
  },
  {
   "cell_type": "markdown",
   "metadata": {},
   "source": [
    "### Try it out!\n",
    "\n",
    "Click on the image above and see your mouse X,Y information displayed."
   ]
  },
  {
   "cell_type": "code",
   "execution_count": null,
   "metadata": {
    "collapsed": true
   },
   "outputs": [],
   "source": []
  }
 ],
 "metadata": {
  "kernelspec": {
   "display_name": "Python 3",
   "language": "python",
   "name": "python3"
  },
  "language_info": {
   "codemirror_mode": {
    "name": "ipython",
    "version": 3
   },
   "file_extension": ".py",
   "mimetype": "text/x-python",
   "name": "python",
   "nbconvert_exporter": "python",
   "pygments_lexer": "ipython3",
   "version": "3.4.3"
  }
 },
 "nbformat": 4,
 "nbformat_minor": 0
}

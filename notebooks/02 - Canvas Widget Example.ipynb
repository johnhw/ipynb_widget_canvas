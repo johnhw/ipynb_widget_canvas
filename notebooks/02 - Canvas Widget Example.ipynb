{
 "cells": [
  {
   "cell_type": "markdown",
   "metadata": {},
   "source": [
    "# Canvas Widget Example"
   ]
  },
  {
   "cell_type": "code",
   "execution_count": 12,
   "metadata": {
    "collapsed": false,
    "scrolled": true
   },
   "outputs": [],
   "source": [
    "from __future__ import print_function, unicode_literals, division, absolute_import\n",
    "\n",
    "import IPython\n",
    "\n",
    "from widget_canvas import CanvasImage"
   ]
  },
  {
   "cell_type": "markdown",
   "metadata": {},
   "source": [
    "## Load some image data\n",
    "\n",
    "Load test data using my own image file reader helper function based on PIL/Pillow."
   ]
  },
  {
   "cell_type": "code",
   "execution_count": 13,
   "metadata": {
    "collapsed": false
   },
   "outputs": [
    {
     "data": {
      "text/plain": [
       "(220, 320, 3)"
      ]
     },
     "execution_count": 13,
     "metadata": {},
     "output_type": "execute_result"
    }
   ],
   "source": [
    "from widget_canvas.image import read\n",
    "\n",
    "data_image = read('images/Whippet.jpg')\n",
    "\n",
    "data_image.shape"
   ]
  },
  {
   "cell_type": "markdown",
   "metadata": {},
   "source": [
    "## My New Canvas Widget\n",
    "\n",
    "My new canvas widget is simpler to use than IPython's built-in image display widget since it takes a Numpy array as input.  Behind the scenes it takes care of compressing and encoding the data and then feeding it into the canvas element in a manner similar to the example just above."
   ]
  },
  {
   "cell_type": "code",
   "execution_count": 14,
   "metadata": {
    "collapsed": false
   },
   "outputs": [],
   "source": [
    "wid_canvas = CanvasImage(data_image)\n",
    "\n",
    "wid_canvas.border_color = 'black'\n",
    "wid_canvas.border_width = 2\n",
    "\n",
    "wid_canvas"
   ]
  },
  {
   "cell_type": "markdown",
   "metadata": {},
   "source": [
    "Changing the displayed image is as easy as setting the data property to a new Numpy array."
   ]
  },
  {
   "cell_type": "code",
   "execution_count": 15,
   "metadata": {
    "collapsed": false
   },
   "outputs": [],
   "source": [
    "data_image_2 = read('images/Doberman.jpg')\n",
    "\n",
    "wid_canvas.data = data_image_2"
   ]
  },
  {
   "cell_type": "markdown",
   "metadata": {},
   "source": [
    "### Mouse events"
   ]
  },
  {
   "cell_type": "code",
   "execution_count": 16,
   "metadata": {
    "collapsed": true
   },
   "outputs": [],
   "source": [
    "# Build an event handler function.\n",
    "def simple_handler(wid, info):\n",
    "    msg = 'Click: {:3d}, {:3d}'.format(info['canvasX'], info['canvasY'])\n",
    "    print(msg)\n",
    "\n",
    "# Attach the handler to widget's `on_click` events.\n",
    "wid_canvas.on_mouse_click(simple_handler)"
   ]
  },
  {
   "cell_type": "markdown",
   "metadata": {},
   "source": [
    "### Try it out!\n",
    "\n",
    "Click on the image above and see your mouse X,Y information displayed."
   ]
  },
  {
   "cell_type": "code",
   "execution_count": null,
   "metadata": {
    "collapsed": true
   },
   "outputs": [],
   "source": []
  }
 ],
 "metadata": {
  "kernelspec": {
   "display_name": "Python 3",
   "language": "python",
   "name": "python3"
  },
  "language_info": {
   "codemirror_mode": {
    "name": "ipython",
    "version": 3
   },
   "file_extension": ".py",
   "mimetype": "text/x-python",
   "name": "python",
   "nbconvert_exporter": "python",
   "pygments_lexer": "ipython3",
   "version": "3.5.0"
  }
 },
 "nbformat": 4,
 "nbformat_minor": 0
}

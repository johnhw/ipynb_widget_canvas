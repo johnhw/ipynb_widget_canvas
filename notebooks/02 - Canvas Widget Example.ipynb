{
 "cells": [
  {
   "cell_type": "markdown",
   "metadata": {},
   "source": [
    "# Canvas Widget Example"
   ]
  },
  {
   "cell_type": "code",
   "execution_count": 1,
   "metadata": {
    "collapsed": false,
    "scrolled": true
   },
   "outputs": [],
   "source": [
    "from __future__ import print_function, unicode_literals, division, absolute_import\n",
    "\n",
    "import imageio\n",
    "import IPython\n",
    "\n",
    "from widget_canvas import CanvasImage"
   ]
  },
  {
   "cell_type": "markdown",
   "metadata": {},
   "source": [
    "## Load some image data\n",
    "\n",
    "The [imageio package](https://github.com/imageio/imageio) is a great tool for reading/writing almost any kind of imagery, including video, volumetric data, and scientific formats."
   ]
  },
  {
   "cell_type": "code",
   "execution_count": 2,
   "metadata": {
    "collapsed": false
   },
   "outputs": [
    {
     "data": {
      "text/plain": [
       "(220, 320, 3)"
      ]
     },
     "execution_count": 2,
     "metadata": {},
     "output_type": "execute_result"
    }
   ],
   "source": [
    "data_image = imageio.imread('images/Whippet.jpg')\n",
    "\n",
    "data_image.shape"
   ]
  },
  {
   "cell_type": "markdown",
   "metadata": {},
   "source": [
    "## My New Canvas Widget\n",
    "\n",
    "My new canvas widget is simpler to use than IPython's built-in image display widget since it takes a Numpy array as input.  Behind the scenes it takes care of compressing and encoding the data and then feeding it into the canvas element in a manner similar to the example just above."
   ]
  },
  {
   "cell_type": "code",
   "execution_count": 3,
   "metadata": {
    "collapsed": false
   },
   "outputs": [],
   "source": [
    "wid_canvas = CanvasImage(data_image)\n",
    "\n",
    "wid_canvas.border_color = 'black'\n",
    "wid_canvas.border_width = 2\n",
    "\n",
    "wid_canvas"
   ]
  },
  {
   "cell_type": "markdown",
   "metadata": {},
   "source": [
    "Modifying the image data in place is as easy as with any other notebook widget."
   ]
  },
  {
   "cell_type": "code",
   "execution_count": 4,
   "metadata": {
    "collapsed": false
   },
   "outputs": [],
   "source": [
    "data_image_2 = imageio.imread('images/Doberman.jpg')\n",
    "\n",
    "wid_canvas.data = data_image_2"
   ]
  }
 ],
 "metadata": {
  "kernelspec": {
   "display_name": "Python 3",
   "language": "python",
   "name": "python3"
  },
  "language_info": {
   "codemirror_mode": {
    "name": "ipython",
    "version": 3
   },
   "file_extension": ".py",
   "mimetype": "text/x-python",
   "name": "python",
   "nbconvert_exporter": "python",
   "pygments_lexer": "ipython3",
   "version": "3.4.3"
  }
 },
 "nbformat": 4,
 "nbformat_minor": 0
}

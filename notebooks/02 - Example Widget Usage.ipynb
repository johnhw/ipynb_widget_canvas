{
 "cells": [
  {
   "cell_type": "markdown",
   "metadata": {},
   "source": [
    "# Example Widget Usage"
   ]
  },
  {
   "cell_type": "code",
   "execution_count": 1,
   "metadata": {
    "collapsed": false,
    "scrolled": true
   },
   "outputs": [],
   "source": [
    "from __future__ import print_function, unicode_literals, division, absolute_import\n",
    "\n",
    "from warnings import filterwarnings\n",
    "filterwarnings('ignore', module='IPython.html.widgets')\n",
    "\n",
    "import imageio\n",
    "import IPython\n",
    "\n",
    "from widget_canvas import widget_canvas"
   ]
  },
  {
   "cell_type": "code",
   "execution_count": 2,
   "metadata": {
    "collapsed": false
   },
   "outputs": [
    {
     "data": {
      "text/plain": [
       "dtype('uint8')"
      ]
     },
     "execution_count": 2,
     "metadata": {},
     "output_type": "execute_result"
    }
   ],
   "source": [
    "# Load some image data into Numpy arrays.\n",
    "data_image = imageio.imread('images/Whippet.jpg')\n",
    "\n",
    "data_image.dtype"
   ]
  },
  {
   "cell_type": "code",
   "execution_count": 3,
   "metadata": {
    "collapsed": false
   },
   "outputs": [
    {
     "data": {
      "text/plain": [
       "(220, 320, 3)"
      ]
     },
     "execution_count": 3,
     "metadata": {},
     "output_type": "execute_result"
    }
   ],
   "source": [
    "data_image.shape"
   ]
  },
  {
   "cell_type": "markdown",
   "metadata": {},
   "source": [
    "# My new Canvas-based Image Widget"
   ]
  },
  {
   "cell_type": "code",
   "execution_count": 4,
   "metadata": {
    "collapsed": false
   },
   "outputs": [],
   "source": [
    "wid_A = widget_canvas.CanvasImage(data_image)\n",
    "\n",
    "wid_A"
   ]
  },
  {
   "cell_type": "markdown",
   "metadata": {},
   "source": [
    "# Compare to IPython's built-in Image Widget\n",
    "\n",
    "The built-in widget accepts as input a string of byte data representing an already-compressed image.  In the example below image data is compressed using the awesome `imageio` Python [package](https://imageio.readthedocs.org/en/latest/)."
   ]
  },
  {
   "cell_type": "code",
   "execution_count": 5,
   "metadata": {
    "collapsed": false
   },
   "outputs": [
    {
     "data": {
      "text/plain": [
       "b'\\x89PNG\\r\\n\\x1a\\n\\x00\\x00\\x00\\rIHDR\\x00\\x00\\x01@\\x00\\x00\\x00\\xdc\\x08\\x02\\x00\\x00\\x00\\x8e!\\xefq\\x00\\x00\\x00\\tpHYs\\x00\\x00\\x0b\\x13\\x00\\x00\\x0b\\x13\\x01\\x00\\x9a\\x9c\\x18\\x00\\x00 \\x00IDATx\\xda\\xd4\\xbdY\\x93$\\xc9q&\\xa8\\x87\\x99\\xbbGDf\\x1d\\xdd\\xd5@\\xe3&\\xc0!\\x81!g8\\xe4\\xce>PH\\x19r\\x84?'"
      ]
     },
     "execution_count": 5,
     "metadata": {},
     "output_type": "execute_result"
    }
   ],
   "source": [
    "# Compress the image data.\n",
    "data_comp = imageio.imwrite(imageio.RETURN_BYTES, data_image, format='png')\n",
    "\n",
    "# Display first 100 bytes of compressed data.\n",
    "data_comp[:100]"
   ]
  },
  {
   "cell_type": "code",
   "execution_count": 6,
   "metadata": {
    "collapsed": true
   },
   "outputs": [],
   "source": [
    "# Built-in IPython image widget.\n",
    "wid_B = IPython.html.widgets.Image(value=data_comp)\n",
    "\n",
    "wid_B"
   ]
  },
  {
   "cell_type": "code",
   "execution_count": null,
   "metadata": {
    "collapsed": true
   },
   "outputs": [],
   "source": []
  }
 ],
 "metadata": {
  "kernelspec": {
   "display_name": "Python 3",
   "language": "python",
   "name": "python3"
  },
  "language_info": {
   "codemirror_mode": {
    "name": "ipython",
    "version": 3
   },
   "file_extension": ".py",
   "mimetype": "text/x-python",
   "name": "python",
   "nbconvert_exporter": "python",
   "pygments_lexer": "ipython3",
   "version": "3.4.3"
  }
 },
 "nbformat": 4,
 "nbformat_minor": 0
}

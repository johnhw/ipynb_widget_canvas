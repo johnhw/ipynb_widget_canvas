{
 "cells": [
  {
   "cell_type": "markdown",
   "metadata": {},
   "source": [
    "# Image Compression Performance\n",
    "\n",
    "Overall performance of my image display widget based on HTML `Canvas` element is very much dependent on choices made for compression and decompression.  It takes time to compress the image, transfer from back-end to front-end, then decompress and display.  I want to measure the round-trip times for this process with server and client both running on my laptop."
   ]
  },
  {
   "cell_type": "code",
   "execution_count": 3,
   "metadata": {
    "collapsed": false
   },
   "outputs": [],
   "source": [
    "from __future__ import print_function, unicode_literals, division, absolute_import\n",
    "\n",
    "import numpy as np\n",
    "import matplotlib.pyplot as plt\n",
    "%matplotlib inline\n",
    "\n",
    "import imageio\n",
    "import PIL.Image\n",
    "import IPython\n",
    "\n",
    "from tictoc import Timer\n",
    "\n",
    "from widget_canvas import widget_canvas"
   ]
  },
  {
   "cell_type": "markdown",
   "metadata": {},
   "source": [
    "## Helper Function"
   ]
  },
  {
   "cell_type": "code",
   "execution_count": 4,
   "metadata": {
    "collapsed": true
   },
   "outputs": [],
   "source": [
    "import PIL\n",
    "import io\n",
    "\n",
    "def comp_imageio(data, fmt, **kwargs):\n",
    "    \"\"\"\n",
    "    Helper function to compress data via imageio.\n",
    "    \"\"\"\n",
    "    data_comp = imageio.imwrite(imageio.RETURN_BYTES, data, format=fmt, **kwargs)\n",
    "\n",
    "    return data_comp\n",
    "\n",
    "\n",
    "def restore_imageio(data_comp):\n",
    "    \"\"\"\n",
    "    Decompress image from supplied byte data.\n",
    "    \"\"\"\n",
    "    return imageio.imread(data_comp)\n",
    "\n",
    "\n",
    "def comp_pillow(data, fmt, **kwargs):\n",
    "    \"\"\"\n",
    "    Helper function to compress image data via PIL/Pillow.\n",
    "    \n",
    "    Parameter options: http://pillow.readthedocs.org/handbook/image-file-formats.html\n",
    "    \"\"\"\n",
    "    # Image data wrapped by Image object.\n",
    "    img = PIL.Image.fromarray(data)\n",
    "\n",
    "    # Compress to buffer.\n",
    "    buffer = io.BytesIO()\n",
    "\n",
    "    img.save(buffer, format=fmt, **kwargs)\n",
    "    \n",
    "    data_comp = buffer.getvalue()\n",
    "\n",
    "    return data_comp\n",
    "\n",
    "\n",
    "def restore_pillow(data_comp):\n",
    "    \"\"\"\n",
    "    Decompress image from supplied byte data.\n",
    "    \"\"\"\n",
    "    buffer = io.BytesIO(data_comp)\n",
    "    img = PIL.Image.open(buffer)\n",
    "    \n",
    "    data = np.asarray(img)\n",
    "    \n",
    "    return data\n",
    "\n",
    "\n",
    "def time_compress(func, *args, **kwargs):\n",
    "    num = 50\n",
    "    time_best = np.inf\n",
    "    out_best = None\n",
    "    \n",
    "    for k in range(num):\n",
    "        with Timer(verbose=False) as timer:\n",
    "            out = func(*args, **kwargs)\n",
    "            \n",
    "        if timer.time < time_best:\n",
    "            time_best = timer.time\n",
    "            out_best = out\n",
    "    \n",
    "    time_ms = time_best * 1.e3\n",
    "    size_kb = len(out_best)/1024\n",
    "    \n",
    "    return time_ms, size_kb\n",
    "\n",
    "\n",
    "def error(img_a, img_b):\n",
    "    diff = img_a.astype(np.float) - img_b.astype(np.float)\n",
    "    \n",
    "    rms = np.mean(diff**2)**.5\n",
    "    \n",
    "    return rms"
   ]
  },
  {
   "cell_type": "code",
   "execution_count": 5,
   "metadata": {
    "collapsed": false
   },
   "outputs": [],
   "source": [
    "def _evaluate(fcomp, frestore, data, fmt, Q, **kwargs):\n",
    "        # Run time.\n",
    "        if Q: \n",
    "            t, s = time_compress(fcomp, data, fmt, quality=Q, **kwargs)\n",
    "\n",
    "            # RMS error\n",
    "            dcomp = fcomp(data, fmt, quality=Q, **kwargs)\n",
    "            drestore = frestore(dcomp)        \n",
    "            e = error(data, drestore)\n",
    "        else:\n",
    "            t, s = time_compress(fcomp, data, fmt, **kwargs)\n",
    "\n",
    "            # RMS error\n",
    "            dcomp = fcomp(data, fmt, **kwargs)\n",
    "            drestore = frestore(dcomp)        \n",
    "            e = error(data, drestore)\n",
    "\n",
    "        return t, s, e\n",
    "    \n",
    "    \n",
    "def evaluate(fcomp, frestore, data, fmt, qualities=[None], **kwargs):\n",
    "    \"\"\"\n",
    "    Time vs speed vs error\n",
    "    \"\"\"\n",
    "    times = []\n",
    "    sizes = []\n",
    "    errors = []\n",
    "    \n",
    "    for Q in qualities:\n",
    "        t, s, e = _evaluate(fcomp, frestore, data, fmt, Q, **kwargs)\n",
    "\n",
    "        times.append(t)\n",
    "        sizes.append(s)\n",
    "        errors.append(e)\n",
    "    \n",
    "    times = np.asarray(times)\n",
    "    sizes = np.asarray(sizes)\n",
    "    errors = np.asarray(errors)\n",
    "    \n",
    "    return times, sizes, errors"
   ]
  },
  {
   "cell_type": "markdown",
   "metadata": {},
   "source": [
    "# Prepare the Data"
   ]
  },
  {
   "cell_type": "code",
   "execution_count": 6,
   "metadata": {
    "collapsed": false
   },
   "outputs": [],
   "source": [
    "data_doberman = imageio.imread('images/Doberman.jpg')\n",
    "data_whippet = imageio.imread('images/Whippet.jpg')\n",
    "\n",
    "template = 'Format: {}\\nTime:  {:6.2f} ms\\nSize:  {:5.1f} KB'"
   ]
  },
  {
   "cell_type": "markdown",
   "metadata": {},
   "source": [
    "---\n",
    "\n",
    "## PNG"
   ]
  },
  {
   "cell_type": "code",
   "execution_count": 7,
   "metadata": {
    "collapsed": true
   },
   "outputs": [],
   "source": [
    "fmt = 'png'\n",
    "compress_level = 1"
   ]
  },
  {
   "cell_type": "code",
   "execution_count": 8,
   "metadata": {
    "collapsed": false
   },
   "outputs": [
    {
     "name": "stdout",
     "output_type": "stream",
     "text": [
      "Format: png\n",
      "Time:   25.01 ms\n",
      "Size:  131.4 KB\n"
     ]
    }
   ],
   "source": [
    "t, s = time_compress(comp_imageio, data_doberman, fmt)\n",
    "\n",
    "print(template.format(fmt, t, s))"
   ]
  },
  {
   "cell_type": "code",
   "execution_count": 9,
   "metadata": {
    "collapsed": false
   },
   "outputs": [
    {
     "name": "stdout",
     "output_type": "stream",
     "text": [
      "Format: png\n",
      "Time:    9.00 ms\n",
      "Size:  131.8 KB\n"
     ]
    }
   ],
   "source": [
    "t, s = time_compress(comp_pillow, data_doberman, fmt, compress_level=compress_level)\n",
    "\n",
    "print(template.format(fmt, t, s))"
   ]
  },
  {
   "cell_type": "markdown",
   "metadata": {},
   "source": [
    "---\n",
    "\n",
    "## JPEG\n",
    "\n",
    "http://imageio.readthedocs.org/en/latest/format_jpeg.html#jpeg\n",
    "\n",
    "http://pillow.readthedocs.org/handbook/image-file-formats.html#jpeg"
   ]
  },
  {
   "cell_type": "code",
   "execution_count": 10,
   "metadata": {
    "collapsed": true
   },
   "outputs": [],
   "source": [
    "fmt = 'jpeg'\n",
    "quality = 80"
   ]
  },
  {
   "cell_type": "code",
   "execution_count": 11,
   "metadata": {
    "collapsed": false
   },
   "outputs": [
    {
     "name": "stdout",
     "output_type": "stream",
     "text": [
      "Format: jpeg\n",
      "Time:    2.83 ms\n",
      "Size:   16.9 KB\n"
     ]
    }
   ],
   "source": [
    "t, s = time_compress(comp_imageio, data_doberman, fmt, quality=quality)\n",
    "\n",
    "print(template.format(fmt, t, s))"
   ]
  },
  {
   "cell_type": "code",
   "execution_count": 12,
   "metadata": {
    "collapsed": false
   },
   "outputs": [
    {
     "name": "stdout",
     "output_type": "stream",
     "text": [
      "Format: jpeg\n",
      "Time:    0.84 ms\n",
      "Size:   16.9 KB\n"
     ]
    }
   ],
   "source": [
    "t, s = time_compress(comp_pillow, data_doberman, fmt, quality=quality)\n",
    "\n",
    "print(template.format(fmt, t, s))"
   ]
  },
  {
   "cell_type": "markdown",
   "metadata": {},
   "source": [
    "## WEBP\n",
    "\n",
    "Support for WebP within ImageIO package is not that great. Specifically it does not expose the quality parameter when compressing an image.  PILLOW (PIL fork) on the other hand does expose this control.  Something to consider the next time I come back to this part of the project."
   ]
  },
  {
   "cell_type": "code",
   "execution_count": 13,
   "metadata": {
    "collapsed": true
   },
   "outputs": [],
   "source": [
    "fmt = 'webp'\n",
    "quality = 70"
   ]
  },
  {
   "cell_type": "code",
   "execution_count": 14,
   "metadata": {
    "collapsed": false
   },
   "outputs": [
    {
     "name": "stdout",
     "output_type": "stream",
     "text": [
      "Format: webp\n",
      "Time:   36.24 ms\n",
      "Size:   10.3 KB\n"
     ]
    }
   ],
   "source": [
    "t, s = time_compress(comp_imageio, data_doberman, fmt)\n",
    "\n",
    "print(template.format(fmt, t, s))"
   ]
  },
  {
   "cell_type": "code",
   "execution_count": 15,
   "metadata": {
    "collapsed": false
   },
   "outputs": [
    {
     "name": "stdout",
     "output_type": "stream",
     "text": [
      "Format: webp\n",
      "Time:   12.82 ms\n",
      "Size:   10.5 KB\n"
     ]
    }
   ],
   "source": [
    "t, s = time_compress(comp_pillow, data_doberman, fmt, quality=quality)\n",
    "\n",
    "print(template.format(fmt, t, s))"
   ]
  },
  {
   "cell_type": "markdown",
   "metadata": {},
   "source": [
    "---\n",
    "\n",
    "## Performance: Time vs. Speed vs. Error"
   ]
  },
  {
   "cell_type": "code",
   "execution_count": 16,
   "metadata": {
    "collapsed": true
   },
   "outputs": [],
   "source": [
    "qualities = [100, 98, 95, 90, 80, 70, 60, 50, 30, 10]\n",
    "\n",
    "results = {}\n",
    "results['qualities'] = qualities"
   ]
  },
  {
   "cell_type": "code",
   "execution_count": 20,
   "metadata": {
    "collapsed": false
   },
   "outputs": [],
   "source": [
    "package = 'pillow'\n",
    "results[package] = {}\n",
    "\n",
    "for fmt in ['webp', 'jpeg']:\n",
    "    t,s,e = evaluate(comp_pillow, restore_pillow, data_doberman, fmt, qualities)\n",
    "\n",
    "    results[package][fmt] = t,s,e"
   ]
  },
  {
   "cell_type": "code",
   "execution_count": 21,
   "metadata": {
    "collapsed": false
   },
   "outputs": [],
   "source": [
    "package = 'imageio'\n",
    "results[package] = {}\n",
    "\n",
    "fmt = 'jpeg'\n",
    "\n",
    "t,s,e = evaluate(comp_imageio, restore_imageio, data_doberman, fmt, qualities)\n",
    "\n",
    "results[package][fmt] = t,s,e\n",
    "\n",
    "\n",
    "fmt = 'webp'\n",
    "   \n",
    "t,s,e = evaluate(comp_imageio, restore_imageio, data_doberman, fmt)\n",
    "\n",
    "results[package][fmt] = t,s,e\n"
   ]
  },
  {
   "cell_type": "markdown",
   "metadata": {},
   "source": [
    "## Nice Plots"
   ]
  },
  {
   "cell_type": "code",
   "execution_count": 22,
   "metadata": {
    "collapsed": false
   },
   "outputs": [],
   "source": [
    "def plot_results(results, q, fmt, package, axs):\n",
    "\n",
    "    label = '{}:{}'.format(package, fmt)\n",
    "    t, s, e = results[package][fmt]\n",
    "\n",
    "    ax = axs[0, 0]\n",
    "    ax.plot(q, e, '-o', label=label)\n",
    "\n",
    "    ax = axs[0, 1]\n",
    "    ax.plot(s, e, '-o', label=label)\n",
    "\n",
    "    ax = axs[1, 0]\n",
    "    ax.semilogy(q, t, '-o', label=label)\n",
    "#     ax.plot(q, t, '-o', label=label)\n",
    "\n",
    "    ax = axs[1, 1]\n",
    "#     ax.plot(s, t, '-o', label=label)\n",
    "    ax.semilogy(s, t, '-o', label=label)\n",
    "    \n",
    "    \n",
    "def format_axes(axs):\n",
    "    ax = axs[0, 0]\n",
    "    ax.set_xlabel('Quality')\n",
    "    ax.set_ylabel('Error (counts)')\n",
    "    ax.set_xlim(0, 100)\n",
    "    ax.set_ylim(0, 13)\n",
    "\n",
    "    ax = axs[0, 1]\n",
    "    ax.set_xlabel('Size (KB)')\n",
    "    ax.set_ylabel('Error (counts)')\n",
    "    ax.set_ylim(0, 13)\n",
    "\n",
    "    ax = axs[1, 0]\n",
    "    ax.set_xlabel('Quality')\n",
    "    ax.set_ylabel('Time (ms)')\n",
    "    ax.set_xlim(0, 100)\n",
    "    ax.set_ylim(0.5, 20)\n",
    "\n",
    "    ax = axs[1, 1]\n",
    "    ax.set_xlabel('Size (KB)')\n",
    "    ax.set_ylabel('Time (ms)')\n",
    "    ax.set_ylim(0.5, 20)\n",
    "\n",
    "    for ax in axs.flatten():\n",
    "        ax.legend(loc=0)"
   ]
  },
  {
   "cell_type": "code",
   "execution_count": 23,
   "metadata": {
    "collapsed": false
   },
   "outputs": [
    {
     "data": {
      "image/png": "[encoded data removed]",
      "text/plain": [
       "<matplotlib.figure.Figure at 0x7f5180d820f0>"
      ]
     },
     "metadata": {},
     "output_type": "display_data"
    }
   ],
   "source": [
    "fig, axs = plt.subplots(nrows=2, ncols=2, figsize=(14, 12))\n",
    "\n",
    "package = 'imageio'\n",
    "fmt = 'jpeg'\n",
    "plot_results(results, qualities, fmt, package, axs)\n",
    "\n",
    "package = 'pillow'\n",
    "fmt = 'jpeg'\n",
    "plot_results(results, qualities, fmt, package, axs)\n",
    "\n",
    "package = 'pillow'\n",
    "fmt = 'webp'\n",
    "plot_results(results, qualities, fmt, package, axs)\n",
    "\n",
    "\n",
    "format_axes(axs)\n",
    "\n",
    "plt.tight_layout()"
   ]
  },
  {
   "cell_type": "code",
   "execution_count": null,
   "metadata": {
    "collapsed": true
   },
   "outputs": [],
   "source": []
  }
 ],
 "metadata": {
  "kernelspec": {
   "display_name": "Python 3",
   "language": "python",
   "name": "python3"
  },
  "language_info": {
   "codemirror_mode": {
    "name": "ipython",
    "version": 3
   },
   "file_extension": ".py",
   "mimetype": "text/x-python",
   "name": "python",
   "nbconvert_exporter": "python",
   "pygments_lexer": "ipython3",
   "version": "3.4.3"
  }
 },
 "nbformat": 4,
 "nbformat_minor": 0
}

{
 "cells": [
  {
   "cell_type": "markdown",
   "metadata": {},
   "source": [
    "# Canvas Coordinate Transforms"
   ]
  },
  {
   "cell_type": "markdown",
   "metadata": {},
   "source": [
    "## Notes and Links\n",
    "- http://www.whatwg.org/specs/web-apps/current-work/multipage/the-canvas-element.html#drawing-images\n",
    "- http://developers.whatwg.org/the-canvas-element.html#transformations\n",
    "- https://developer.mozilla.org/en-US/docs/Web/API/CanvasRenderingContext2D\n",
    "- https://developer.mozilla.org/en-US/docs/Web/Guide/HTML/Canvas_tutorial/Transformations\n",
    "- https://developer.mozilla.org/en-US/docs/Web/HTML/Canvas/Drawing_graphics_with_canvas\n",
    "- See the list here [whatwg](http://www.whatwg.org/specs/web-apps/current-work/multipage/the-canvas-element.html#drawing-images) for a description of what happens at each processing step.\n",
    "\n",
    "\n",
    "## Stuff To Do:\n",
    "- Incorporate Pan_Zoom_Rotate examples\n",
    "- Check for mouse leave/enter canvas for more robust drag event handling / responsiveness\n",
    "\n",
    "- Ideas for interactive drag & resize:\n",
    "    - Look into resizable canvas by click/dragging edge or corner, e.g. [canvas resize](http://www.html5canvastutorials.com/labs/html5-canvas-drag-and-drop-resize-and-invert-images)\n",
    "    - More ideas at [StackOverflow](http://stackoverflow.com/questions/1977741/resizable-canvas-jquery-ui)\n",
    "\n",
    "- Reduce latencies in mouse/transform responsiveness:\n",
    "    - Look for areas to eliminate redundancies\n",
    "    - Move more code from Python back-end to JavaScript front-end.  I suspect the major source of latency is the round-trip between back-end and front-end while responding to user input mouse events.\n",
    "    - The following bits of code will be useful when moving stuff to the front-end:\n",
    "        - Blog post: http://simonsarris.com/blog/471-a-transformation-class-for-canvas-to-keep-track-of-the-transformation-matrix\n",
    "        - Github repo: https://github.com/simonsarris/Canvas-tutorials/blob/master/transform.js\n",
    "        - Grab a `decompose()` function from here: https://github.com/paperjs/paper.js/blob/master/src/basic/Matrix.js\n",
    "        \n",
    "---"
   ]
  },
  {
   "cell_type": "markdown",
   "metadata": {},
   "source": [
    "## Load image data"
   ]
  },
  {
   "cell_type": "code",
   "execution_count": 1,
   "metadata": {
    "collapsed": false
   },
   "outputs": [
    {
     "data": {
      "application/javascript": [
       "require([\"widgets/js/widget\", \"widgets/js/manager\"], function(widget, manager){\n",
       "\n",
       "// define(function (require) {\n",
       "//     var widget = require('widgets/js/widget');\n",
       "\n",
       "    var CanvasImageView = widget.DOMWidgetView.extend({\n",
       "        render: function () {\n",
       "            // Backbone Model --> JavaScript View\n",
       "            // Render a widget's view instance to the DOM.\n",
       "\n",
       "            // This project's view is quite simple: just a single <canvas> element.\n",
       "            // http://stackoverflow.com/questions/3729034/javascript-html5-capture-keycode-and-write-to-canvas\n",
       "            this.setElement('<canvas />');\n",
       "\n",
       "            // Gather some handy references for the canvas and its context.\n",
       "            this.canvas = this.el\n",
       "            this.context = this.canvas.getContext('2d');\n",
       "\n",
       "            // Dedicated event handler(s) for special cases, e.g. changes to encoded image data\n",
       "            // http://backbonejs.org/#Events-on\n",
       "            this.model.on('change:_encoded', this.update_encoded, this);\n",
       "\n",
       "            // Internal image object serving to render new image src data.  This object will\n",
       "            // later be used as source data argument to the canvas' own `drawImage()` method.\n",
       "            this.imageWork = new Image();\n",
       "            var that = this\n",
       "            this.imageWork.onload = function () {\n",
       "                that.draw()\n",
       "            }\n",
       "\n",
       "            // Mouse event throttle\n",
       "            this._mouse_timestamp = 0\n",
       "            this._mouse_time_threshold = 50 // milliseconds\n",
       "\n",
       "            // Prevent mouse cursor from changing to text selection mode.\n",
       "            // http://stackoverflow.com/a/11805438/282840\n",
       "            // when-i-click-on-a-canvas-and-drag-my-mouse-the-cursor-changes-to-a-text-selecti\n",
       "            this.canvas.onmousedown = function (event) {\n",
       "                event.preventDefault();\n",
       "            };\n",
       "\n",
       "            // Prevent page from scrolling with mouse wheel events over canvas\n",
       "            this.canvas.onwheel = function (event) {\n",
       "                event.preventDefault();\n",
       "            };\n",
       "\n",
       "            // Prevent context menu popup from right-click on canvas\n",
       "            this.canvas.oncontextmenu = function (event) {\n",
       "                event.preventDefault();\n",
       "            };\n",
       "\n",
       "            this.update();\n",
       "            this.update_encoded();\n",
       "        },\n",
       "\n",
       "        update: function () {\n",
       "            // Python --> JavaScript (generic)\n",
       "            // Copy new value from Backbone model, apply to this View.\n",
       "            // This method handles updates for almost everything except a select few traitlets that\n",
       "            // have dedicated update functions.\n",
       "\n",
       "            // Currently canvas width and height are slaved (on the Pythn side) to image's\n",
       "            // inherent width and height.  Later this might be upgraded to support canvas' builtin\n",
       "            // affine transform support.\n",
       "\n",
       "            // Awesome article about resizing canvas and/or displayed element\n",
       "            // http://webglfundamentals.org/webgl/lessons/webgl-resizing-the-canvas.html\n",
       "\n",
       "            // Update canvas width and height.\n",
       "            if (this.model.get('width_canvas') !== undefined) {\n",
       "                this.canvas.width = this.model.get('width_canvas')\n",
       "            } else {\n",
       "                // https://developer.mozilla.org/en-US/docs/Web/API/Element/removeAttribute\n",
       "                this.canvas.removeAttribute('width');\n",
       "            }\n",
       "\n",
       "            if (this.model.get('height_canvas') !== undefined) {\n",
       "                this.canvas.height = this.model.get('height_canvas')\n",
       "            } else {\n",
       "                // https://developer.mozilla.org/en-US/docs/Web/API/Element/removeAttribute\n",
       "                this.canvas.removeAttribute('height');\n",
       "            }\n",
       "\n",
       "            // Update CSS display width and height\n",
       "            if (this.model.get('width') !== undefined) {\n",
       "                this.canvas.style.width = this.model.get('width') + 'px'\n",
       "            } else {\n",
       "                // https://developer.mozilla.org/en-US/docs/Web/API/Element/removeAttribute\n",
       "                this.canvas.style.removeAttribute('width');\n",
       "            }\n",
       "\n",
       "            if (this.model.get('height') !== undefined) {\n",
       "                this.canvas.style.height = this.model.get('height') + 'px'\n",
       "            } else {\n",
       "                // https://developer.mozilla.org/en-US/docs/Web/API/Element/removeAttribute\n",
       "                this.canvas.style.removeAttribute('height');\n",
       "            }\n",
       "\n",
       "            // Image rendering quality\n",
       "            // https://developer.mozilla.org/en/docs/Web/CSS/image-rendering\n",
       "            // auto, crisp-edges, pixelated\n",
       "            if (this.model.get('pixelated')) {\n",
       "                this.canvas.style.imageRendering = 'pixelated'\n",
       "            } else {\n",
       "                this.canvas.style.imageRendering = 'auto'\n",
       "            }\n",
       "\n",
       "            // Draw it!\n",
       "            this.draw()\n",
       "\n",
       "            return CanvasImageView.__super__.update.apply(this);\n",
       "        },\n",
       "\n",
       "        update_encoded: function () {\n",
       "            // Python --> JavaScript\n",
       "            var value = this.model.get('_encoded');\n",
       "            if (value != '') {\n",
       "\n",
       "                // Load encoded image data into worker image object.\n",
       "                this.imageWork.src = 'data:image/' + this.model.get('_format') + ';base64,' + value\n",
       "\n",
       "                // Event processing and image decoding continues inside imageWork's onload() event\n",
       "                // handler, which in turn calls this.draw(), which is defined just below..\n",
       "            }\n",
       "        },\n",
       "\n",
       "        remove: function () {\n",
       "            // Widget is about to be removed from the front end display.\n",
       "            // console.log('remove!');\n",
       "            // This is a potential place where I could add functionality to replace canvas with a\n",
       "            // static image. See matplotlib's nbagg for ideas:\n",
       "            // https://github.com/matplotlib/matplotlib/blob/master/lib/matplotlib/backends/web_backend/nbagg_mpl.js\n",
       "            CanvasImageView.__super__.remove.apply(this, arguments);\n",
       "        },\n",
       "\n",
       "        clear: function () {\n",
       "            // Clear the canvas while preserving current geometry state.\n",
       "            // http://stackoverflow.com/a/6722031/282840\n",
       "            this.context.save();\n",
       "\n",
       "            this.context.setTransform(1, 0, 0, 1, 0, 0);\n",
       "            this.context.clearRect(0, 0, this.canvas.width, this.canvas.height);\n",
       "\n",
       "            this.context.restore();\n",
       "        },\n",
       "\n",
       "        draw: function () {\n",
       "            // Draw image data from internal Image object to the Canvas element.\n",
       "            // http://www.w3.org/TR/2014/CR-2dcontext-20140821/#drawing-images-to-the-canvas\n",
       "\n",
       "            // Clear any prior image data.\n",
       "            this.clear();\n",
       "\n",
       "            // Update current transform information.\n",
       "            // -= NOT YET IMPLEMENTED =-\n",
       "\n",
       "            // Draw image to screen\n",
       "            this.context.drawImage(this.imageWork, 0, 0);\n",
       "        },\n",
       "\n",
       "        /////////////////////////////////////////\n",
       "        // JavaScript --> Python\n",
       "        // Tell Backbone how to respond to JavaScript-generated events\n",
       "        // Great reference: https://developer.mozilla.org/en-US/docs/Web/Reference/Events\n",
       "        events: {\n",
       "            mousemove: 'handle_mouse_move',\n",
       "            mouseup: 'handle_mouse_generic',\n",
       "            mousedown: 'handle_mouse_generic',\n",
       "            wheel: 'handle_mouse_generic',\n",
       "            click: 'handle_mouse_generic',\n",
       "            // mouseenter: 'XXX',  // don't worry about these events for now\n",
       "            // mouseleave: 'XXX',\n",
       "            // mouseout:   'XXX',\n",
       "            // mouseover:  'XXX',\n",
       "        },\n",
       "\n",
       "        _build_mouse_event: function (jev) {\n",
       "            // Build event data structure to be passed along to Python backend\n",
       "\n",
       "            // Mouse button events\n",
       "            // https://developer.mozilla.org/en-US/docs/Web/API/MouseEvent/buttons\n",
       "            //\n",
       "            // Canvas-local XY coordinates:\n",
       "            // http://stackoverflow.com/questions/17130395/canvas-html5-real-mouse-position\n",
       "            // https://developer.mozilla.org/en-US/docs/Web/API/Element.getBoundingClientRect\n",
       "            var rect = this.canvas.getBoundingClientRect();\n",
       "\n",
       "            // Convert event types to more practical values for use downstream with user's Python\n",
       "            // callback functions.\n",
       "            var js_to_py = {\n",
       "                'mousemove': 'move',\n",
       "                'mouseup': 'up',\n",
       "                'mousedown': 'down',\n",
       "                'click': 'click',\n",
       "                'wheel': 'wheel',\n",
       "            }\n",
       "\n",
       "            // Build the event\n",
       "            var ev = {\n",
       "                type: js_to_py[jev.originalEvent.type],\n",
       "                canvasX: parseInt(jev.originalEvent.clientX - rect.left),\n",
       "                canvasY: parseInt(jev.originalEvent.clientY - rect.top),\n",
       "                shiftKey: jev.originalEvent.shiftKey,\n",
       "                altKey: jev.originalEvent.altKey,\n",
       "                ctrlKey: jev.originalEvent.ctrlKey,\n",
       "                timeStamp: jev.originalEvent.timeStamp,\n",
       "                buttons: jev.originalEvent.buttons,\n",
       "            }\n",
       "\n",
       "            // Check for `wheel` event\n",
       "            // https://developer.mozilla.org/en-US/docs/Web/Reference/Events/wheel\n",
       "            if (jev.originalEvent.type == 'wheel') {\n",
       "                ev.deltaMode = jev.originalEvent.deltaMode\n",
       "                ev.deltaX = jev.originalEvent.deltaX\n",
       "                ev.deltaY = jev.originalEvent.deltaY\n",
       "                ev.deltaZ = jev.originalEvent.deltaZ\n",
       "            }\n",
       "\n",
       "            return ev\n",
       "        },\n",
       "\n",
       "        _check_mouse_throttle: function (jev) {\n",
       "            // Return true if enough time has passed\n",
       "            var delta = jev.originalEvent.timeStamp - this._mouse_timestamp\n",
       "            if (delta >= this._mouse_time_threshold) {\n",
       "                this._mouse_timestamp = jev.originalEvent.timeStamp\n",
       "                return true\n",
       "            } else {\n",
       "                return false\n",
       "            }\n",
       "        },\n",
       "\n",
       "        handle_mouse_generic: function (jev) {\n",
       "            // Generic mouse event handler\n",
       "            // https://developer.mozilla.org/en-US/docs/Web/Reference/Events\n",
       "\n",
       "            if (this.model.get('_mouse_active')) {\n",
       "                var ev = this._build_mouse_event(jev);\n",
       "                this.model.set('_mouse_event', ev);\n",
       "                this.touch(); // Must call after any modifications to Backbone Model data.\n",
       "            }\n",
       "        },\n",
       "\n",
       "        handle_mouse_move: function (jev) {\n",
       "            // Mouse motion event handler\n",
       "            if (this.model.get('_mouse_active')) {\n",
       "                if (this._check_mouse_throttle(jev)) {\n",
       "                    // This event appears to generate a lot of CPU usage.  Throttling is my\n",
       "                    // attempt to mitigate the issue.\n",
       "                    var ev = this._build_mouse_event(jev);\n",
       "                    this.model.set('_mouse_event', ev);\n",
       "                    this.touch(); // Must call after any modifications to Backbone Model data.\n",
       "                }\n",
       "            }\n",
       "        },\n",
       "    });\n",
       "\n",
       "    // Simple way to load JS stuff.\n",
       "    manager.WidgetManager.register_widget_view('CanvasImageView', CanvasImageView);\n",
       "\n",
       "    // // Official way to load/register JS stuff.\n",
       "    // return {\n",
       "    //     CanvasImageView: CanvasImageView,\n",
       "    // };\n",
       "});\n"
      ],
      "text/plain": [
       "<IPython.core.display.Javascript object>"
      ]
     },
     "metadata": {},
     "output_type": "display_data"
    }
   ],
   "source": [
    "from __future__ import print_function, unicode_literals, division, absolute_import\n",
    "\n",
    "from widget_canvas import CanvasImage\n",
    "from widget_canvas import image\n",
    "\n",
    "import toyplot as tp\n",
    "import IPython\n",
    "from ipywidgets import widgets"
   ]
  },
  {
   "cell_type": "code",
   "execution_count": 2,
   "metadata": {
    "collapsed": true
   },
   "outputs": [],
   "source": [
    "# Load two images.\n",
    "data_A = image.read('images/Whippet.jpg')\n",
    "data_B = image.read('images/Doberman.jpg')"
   ]
  },
  {
   "cell_type": "markdown",
   "metadata": {},
   "source": [
    "## Canvas 2D Image Transformations"
   ]
  },
  {
   "cell_type": "markdown",
   "metadata": {},
   "source": [
    "The `Canvas Element` does not do a good job of keeping track of its own transformation matrix.  Or at least the API does not make it easily retrievable once it's been set.  I wrote a Python helper class based on an earlier JavaScript implementation by Simon Sarris: [transform.js](https://github.com/simonsarris/Canvas-tutorials/blob/master/transform.js)."
   ]
  },
  {
   "cell_type": "markdown",
   "metadata": {},
   "source": [
    "Canvas Element and image transformations: \n",
    "- Great info about specifying the source rectangle, the destination rectangle, and how the transform is applied: [link](http://www.whatwg.org/specs/web-apps/current-work/multipage/the-canvas-element.html#drawing-images)\n",
    "\n",
    "- http://developers.whatwg.org/the-canvas-element.html#transformations\n",
    "- https://developer.mozilla.org/en-US/docs/Web/API/CanvasRenderingContext2D\n",
    "- https://developer.mozilla.org/en-US/docs/Web/Guide/HTML/Canvas_tutorial/Transformations\n",
    "- https://developer.mozilla.org/en-US/docs/Web/HTML/Canvas/Drawing_graphics_with_canvas"
   ]
  },
  {
   "cell_type": "markdown",
   "metadata": {},
   "source": [
    "## `transform.py`"
   ]
  },
  {
   "cell_type": "code",
   "execution_count": 3,
   "metadata": {
    "collapsed": false
   },
   "outputs": [
    {
     "ename": "ImportError",
     "evalue": "cannot import name 'transform'",
     "output_type": "error",
     "traceback": [
      "\u001b[1;31m---------------------------------------------------------------------------\u001b[0m",
      "\u001b[1;31mImportError\u001b[0m                               Traceback (most recent call last)",
      "\u001b[1;32m<ipython-input-3-fe0ba9c897c0>\u001b[0m in \u001b[0;36m<module>\u001b[1;34m()\u001b[0m\n\u001b[1;32m----> 1\u001b[1;33m \u001b[1;32mfrom\u001b[0m \u001b[0mwidget_canvas\u001b[0m \u001b[1;32mimport\u001b[0m \u001b[0mtransform\u001b[0m\u001b[1;33m\u001b[0m\u001b[0m\n\u001b[0m",
      "\u001b[1;31mImportError\u001b[0m: cannot import name 'transform'"
     ]
    }
   ],
   "source": [
    "from widget_canvas import transform"
   ]
  },
  {
   "cell_type": "code",
   "execution_count": null,
   "metadata": {
    "collapsed": false
   },
   "outputs": [],
   "source": [
    "T = transform.Transform()"
   ]
  },
  {
   "cell_type": "code",
   "execution_count": null,
   "metadata": {
    "collapsed": false
   },
   "outputs": [],
   "source": [
    "T.reset()"
   ]
  },
  {
   "cell_type": "code",
   "execution_count": null,
   "metadata": {
    "collapsed": false
   },
   "outputs": [],
   "source": [
    "G = T.translate((4,4)).rotate(45/180.*np.pi)"
   ]
  },
  {
   "cell_type": "code",
   "execution_count": null,
   "metadata": {
    "collapsed": false
   },
   "outputs": [],
   "source": []
  },
  {
   "cell_type": "code",
   "execution_count": null,
   "metadata": {
    "collapsed": false
   },
   "outputs": [],
   "source": [
    "G.invert()"
   ]
  },
  {
   "cell_type": "code",
   "execution_count": null,
   "metadata": {
    "collapsed": true
   },
   "outputs": [],
   "source": [
    "palette = tp.color.brewer('Set1', 3)"
   ]
  },
  {
   "cell_type": "code",
   "execution_count": null,
   "metadata": {
    "collapsed": true
   },
   "outputs": [],
   "source": [
    "points = [[0.0, 0.0],\n",
    "          [1.0, 0.1],\n",
    "          [2.0, 3.0],\n",
    "          [1.5, 2.0],\n",
    "          [1.0, 3.5]]\n",
    "\n",
    "points = np.asarray(points)"
   ]
  },
  {
   "cell_type": "code",
   "execution_count": null,
   "metadata": {
    "collapsed": false
   },
   "outputs": [],
   "source": [
    "IPython.display.display(palette)\n",
    "\n",
    "canvas = tp.Canvas(width=500, height=400)\n",
    "axes = canvas.axes()\n",
    "\n",
    "m = 'o'\n",
    "\n",
    "x = points[:, 0].tolist()\n",
    "y = points[:, 1].tolist()\n",
    "\n",
    "c = palette.color(0)\n",
    "mark = axes.scatterplot(x, y, marker=m, color=c, size=50)"
   ]
  },
  {
   "cell_type": "code",
   "execution_count": null,
   "metadata": {
    "collapsed": true
   },
   "outputs": [],
   "source": []
  },
  {
   "cell_type": "code",
   "execution_count": null,
   "metadata": {
    "collapsed": true
   },
   "outputs": [],
   "source": []
  },
  {
   "cell_type": "code",
   "execution_count": null,
   "metadata": {
    "collapsed": true
   },
   "outputs": [],
   "source": [
    "1/0"
   ]
  },
  {
   "cell_type": "code",
   "execution_count": null,
   "metadata": {
    "collapsed": false
   },
   "outputs": [],
   "source": [
    "import display_mouse_events\n",
    "\n",
    "wid_image = display_mouse_events.display(data_A)\n",
    "\n",
    "# Build a few helper widgets.\n",
    "wid_butt = IPython.html.widgets.ButtonWidget(description='Reset Transform')\n",
    "IPython.display.display(wid_butt)"
   ]
  },
  {
   "cell_type": "code",
   "execution_count": null,
   "metadata": {
    "collapsed": false
   },
   "outputs": [],
   "source": [
    "# Build event handler for the button I just added in the cell above.\n",
    "def handle_reset(widget_butt):\n",
    "    wid_image.transform.reset()\n",
    "\n",
    "# Attach event handler to the button.\n",
    "wid_butt.on_click(handle_reset)\n"
   ]
  },
  {
   "cell_type": "code",
   "execution_count": null,
   "metadata": {
    "collapsed": false
   },
   "outputs": [],
   "source": [
    "IPython.display.display(wid_image.transform)\n"
   ]
  },
  {
   "cell_type": "code",
   "execution_count": null,
   "metadata": {
    "collapsed": false
   },
   "outputs": [],
   "source": [
    "print(0)\n",
    "wid_image.transform.scale(1.2).scale(5).rotate(15)\n",
    "print(1)"
   ]
  },
  {
   "cell_type": "code",
   "execution_count": null,
   "metadata": {
    "collapsed": false
   },
   "outputs": [],
   "source": [
    "IPython.display.display(wid_image.transform)\n"
   ]
  },
  {
   "cell_type": "code",
   "execution_count": null,
   "metadata": {
    "collapsed": false
   },
   "outputs": [],
   "source": [
    "1/0\n"
   ]
  },
  {
   "cell_type": "code",
   "execution_count": null,
   "metadata": {
    "collapsed": false
   },
   "outputs": [],
   "source": [
    "import time\n",
    "\n",
    "T = canvas.transform.Transform() \n",
    "\n",
    "def update_transform(T):\n",
    "    wid_image._transform = T.values\n",
    "#     IPython.display.clear_output(True)\n",
    "#     IPython.display.display(T)\n",
    "    \n",
    "\n",
    "def handle_slide_scale(name_trait, value_old, value_new):\n",
    "    X, Y = wid_image.mouse_xy\n",
    "    \n",
    "    T.translate(-X, -Y)\n",
    "    T.scale(value_new/value_old)\n",
    "    T.translate(X, Y)\n",
    "\n",
    "    update_transform(T)\n",
    "    \n",
    "# def handle_A(wid):\n",
    "#     T.scale(1./1.1)\n",
    "#     update_transform(T)\n",
    "# def handle_B(wid):\n",
    "#     T.scale(1.1)\n",
    "#     update_transform(T)\n",
    "\n",
    "def handle_scroll(widget, ev):\n",
    "    tick = ev['deltaY']\n",
    "\n",
    "    factor = 1.1\n",
    "    \n",
    "    if tick == 0:\n",
    "#         raise Exception()\n",
    "#         print('tick == 0, do nothing')\n",
    "        return\n",
    "\n",
    "    if tick > 0:\n",
    "        scl = factor\n",
    "    else:\n",
    "        scl = 1./factor\n",
    "\n",
    "    px, py = ev['canvas_xy']\n",
    "\n",
    "    Q = T.copy()\n",
    "    Q.invert()\n",
    "    \n",
    "    px, py = Q.transform_point(px, py)\n",
    "    T.translate(px, py).scale(scl).translate(-px, -py)\n",
    "  \n",
    "    update_transform(T)\n",
    "\n",
    "    \n",
    "def handle_drag(widget, ev):\n",
    "    dx, dy = ev['drag_delta_xy']\n",
    "    \n",
    "#     D = T.copy()\n",
    "#     qx, qy = Q.invert().transform_point(dx, dy)\n",
    "#     qx, qy = T.transform_point(dx, dy)\n",
    "#     T.translate(dx, dy, update=True)  #.scale(scl).translate(px, py)\n",
    "\n",
    "    \n",
    "    Q = T.copy()\n",
    "    Q.invert()\n",
    "    \n",
    "    p0x, p0y = Q.m13, Q.m23  # Q.transform_point(0, 0)\n",
    "    pdx, pdy = Q.transform_point(dx, dy)\n",
    "#     print(dx, dy, px, py)\n",
    "    T.translate(pdx-p0x, pdy-p0y)\n",
    "\n",
    "    update_transform(T)\n",
    "    \n",
    "      \n",
    "# wid_slide.on_trait_change(handle_slide_scale, name=str('value'))\n",
    "# wid_butt_A.on_click(handle_A)\n",
    "\n",
    "wid_butt_C.on_click(handle_C)\n",
    "\n",
    "wid_image.on_mouse_wheel(handle_scroll)\n",
    "wid_image.on_mouse_drag(handle_drag)"
   ]
  },
  {
   "cell_type": "code",
   "execution_count": null,
   "metadata": {
    "collapsed": false
   },
   "outputs": [],
   "source": []
  }
 ],
 "metadata": {
  "kernelspec": {
   "display_name": "Python 3",
   "language": "python",
   "name": "python3"
  },
  "language_info": {
   "codemirror_mode": {
    "name": "ipython",
    "version": 3
   },
   "file_extension": ".py",
   "mimetype": "text/x-python",
   "name": "python",
   "nbconvert_exporter": "python",
   "pygments_lexer": "ipython3",
   "version": "3.5.0"
  }
 },
 "nbformat": 4,
 "nbformat_minor": 0
}

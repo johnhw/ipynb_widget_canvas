{
 "metadata": {
  "kernelspec": {
   "codemirror_mode": {
    "name": "python",
    "version": 2
   },
   "display_name": "Python 2",
   "language": "python",
   "name": "python2"
  },
  "name": "",
  "signature": "sha256:477fc9d6790c660656c70e5d6f97dd2eefa925ca455ef9ac508250ca11db7694"
 },
 "nbformat": 3,
 "nbformat_minor": 0,
 "worksheets": [
  {
   "cells": [
    {
     "cell_type": "heading",
     "level": 1,
     "metadata": {},
     "source": [
      "Canvas Widget for IPython Notebook"
     ]
    },
    {
     "cell_type": "code",
     "collapsed": false,
     "input": [
      "from __future__ import print_function, unicode_literals, division\n",
      "\n",
      "import time\n",
      "import IPython\n",
      "import widget_canvas as canvas"
     ],
     "language": "python",
     "metadata": {},
     "outputs": [],
     "prompt_number": 1
    },
    {
     "cell_type": "code",
     "collapsed": false,
     "input": [
      "# Set parameters, load data.\n",
      "data_doberman = canvas.image.read('images/Doberman.jpg')\n",
      "data_whippet = canvas.image.read('images/Whippet.jpg')\n",
      "data_cooper = canvas.image.read('images/IMG_20140417_065746~5b.jpg')\n",
      "\n",
      "print(data_whippet.shape)\n",
      "print(data_doberman.shape)\n",
      "print(data_cooper.shape)"
     ],
     "language": "python",
     "metadata": {},
     "outputs": [
      {
       "output_type": "stream",
       "stream": "stdout",
       "text": [
        "(220, 320, 3)\n",
        "(220, 320, 3)\n",
        "(450, 600, 3)\n"
       ]
      }
     ],
     "prompt_number": 2
    },
    {
     "cell_type": "heading",
     "level": 2,
     "metadata": {},
     "source": [
      "Display using builtin IPython Image Widget"
     ]
    },
    {
     "cell_type": "code",
     "collapsed": false,
     "input": [
      "import base64\n",
      "fmt = 'png'\n",
      "data_comp, fmt = canvas.image.compress(data_doberman, fmt=fmt)\n",
      "\n",
      "img = IPython.html.widgets.ImageWidget()\n",
      "img.value = data_comp\n",
      "\n",
      "img"
     ],
     "language": "python",
     "metadata": {},
     "outputs": [],
     "prompt_number": 3
    },
    {
     "cell_type": "heading",
     "level": 2,
     "metadata": {},
     "source": [
      "Display with Canvas Widget"
     ]
    },
    {
     "cell_type": "code",
     "collapsed": false,
     "input": [
      "# Make the widget and display it to the screen.\n",
      "wid = canvas.CanvasImageBase()"
     ],
     "language": "python",
     "metadata": {},
     "outputs": [],
     "prompt_number": 4
    },
    {
     "cell_type": "code",
     "collapsed": false,
     "input": [
      "wid"
     ],
     "language": "python",
     "metadata": {},
     "outputs": [],
     "prompt_number": 5
    },
    {
     "cell_type": "code",
     "collapsed": false,
     "input": [
      "wid.image = data_whippet\n",
      "\n",
      "wid.data_shape"
     ],
     "language": "python",
     "metadata": {},
     "outputs": [
      {
       "metadata": {},
       "output_type": "pyout",
       "prompt_number": 6,
       "text": [
        "(220, 320)"
       ]
      }
     ],
     "prompt_number": 6
    },
    {
     "cell_type": "code",
     "collapsed": false,
     "input": [
      "wid.image = data_cooper\n",
      "\n",
      "wid.data_shape"
     ],
     "language": "python",
     "metadata": {},
     "outputs": [
      {
       "metadata": {},
       "output_type": "pyout",
       "prompt_number": 10,
       "text": [
        "(450, 600)"
       ]
      }
     ],
     "prompt_number": 10
    },
    {
     "cell_type": "code",
     "collapsed": false,
     "input": [
      "wid.canvas_shape=120,100"
     ],
     "language": "python",
     "metadata": {},
     "outputs": [],
     "prompt_number": 12
    },
    {
     "cell_type": "code",
     "collapsed": false,
     "input": [],
     "language": "python",
     "metadata": {},
     "outputs": []
    }
   ],
   "metadata": {}
  }
 ]
}
{
 "metadata": {
  "kernelspec": {
   "codemirror_mode": {
    "name": "python",
    "version": 2
   },
   "display_name": "Python 2",
   "language": "python",
   "name": "python2"
  },
  "name": "",
  "signature": "sha256:d0c090a7673dea328d9e06a6023ceaab715bee884185540f52b33cce1370e534"
 },
 "nbformat": 3,
 "nbformat_minor": 0,
 "worksheets": [
  {
   "cells": [
    {
     "cell_type": "heading",
     "level": 1,
     "metadata": {},
     "source": [
      "Canvas Widget for IPython Notebook"
     ]
    },
    {
     "cell_type": "code",
     "collapsed": false,
     "input": [
      "from __future__ import print_function, unicode_literals, division\n",
      "\n",
      "import time\n",
      "import IPython\n",
      "import widget_canvas as canvas"
     ],
     "language": "python",
     "metadata": {},
     "outputs": [
      {
       "javascript": [
        "//============================================================================\n",
        "// CanvasWidget\n",
        "//============================================================================\n",
        "console.log('PRE AAA  widget_canvas.js');\n",
        "\n",
        "define([\n",
        "    \"static/widgets/js/manager\",\n",
        "    \"static/widgets/js/widget\",\n",
        "    // \"jquery\",\n",
        "], function (widgetmanager, widget) {\n",
        "\n",
        "    console.log('define widget_canvas.js');\n",
        "\n",
        "    // Define the widget's View.\n",
        "    var CanvasImageBaseView = widget.DOMWidgetView.extend({\n",
        "        initialize: function (options) {\n",
        "            console.log('initialize');\n",
        "\n",
        "            // Backbone Model --> My JavaScript View\n",
        "            this.model.on('change:data_encode', this.update_data_encode, this);\n",
        "            // this.model.on('change:width', this.update_width, this);\n",
        "            // this.model.on('change:height', this.update_height, this);\n",
        "            // this.model.on('change:_transform_values', this.update_transform, this);\n",
        "            // this.model.on('change:smoothing', this.update_smoothing, this);\n",
        "\n",
        "            // this.time_mouse = Date.now()\n",
        "            // this.time_mouse_threshold = 20 // miliseconds\n",
        "            CanvasImageView.__super__.initialize.apply(this, arguments);\n",
        "        },\n",
        "\n",
        "        render: function () {\n",
        "            // Render a widget's view instance to the DOM.\n",
        "            console.log('render');\n",
        "\n",
        "            // This project's view is quite simple: just a single <canvas> element.\n",
        "            // http://stackoverflow.com/questions/3729034/javascript-html5-capture-keycode-and-write-to-canvas\n",
        "            this.setElement('<canvas />');\n",
        "\n",
        "            // Gather some handy references for the canvas and its context.\n",
        "            this.canvas = this.el\n",
        "            this.context = this.canvas.getContext('2d');\n",
        "\n",
        "            // Internal image element serving to render new image src data.  This object will\n",
        "            // later be used as source data argument to the canvas' own `drawImage()` method.\n",
        "            this.image = new Image();\n",
        "\n",
        "            // Event handling for drawing new data to the canvas.\n",
        "            var that = this\n",
        "            var draw_onload = function () {\n",
        "                // console.log('draw_onload');\n",
        "                that.update_data_image();\n",
        "            }\n",
        "\n",
        "            this.image.onload = draw_onload\n",
        "\n",
        "            // Does any valid data exist in the system?  Copy data_b64 if it exists in model.\n",
        "            if (this.model.has('data_encode')) {\n",
        "                // console.log('render has b64');\n",
        "                if (this.model.get('data_encode') != '') {\n",
        "                    // console.log('render has OK data_encode');\n",
        "                    this.update_data_encode();\n",
        "                }\n",
        "            }\n",
        "\n",
        "            // I noticed problems if this update() function call was left out, e.g. second views of\n",
        "            // my model would not initially receive CSS style properties.\n",
        "            this.update();\n",
        "        },\n",
        "\n",
        "        update_data_encode: function () {\n",
        "            // Python --> JavaScript, copy new value from Backbone model, apply to this View.\n",
        "            console.log('update_data_encode');\n",
        "\n",
        "            this.image.src = this.model.get('data_encode');\n",
        "\n",
        "            // Event processing continues inside this.image's defined onload() event handler.\n",
        "        },\n",
        "\n",
        "        update_data_image: function () {\n",
        "            // Helper handler.\n",
        "            console.log('update_data_image');\n",
        "\n",
        "            this.set_width(this.image.width);\n",
        "            this.set_height(this.image.height);\n",
        "\n",
        "            this.draw();\n",
        "        },\n",
        "\n",
        "        update_width: function () {\n",
        "            // Python --> JavaScript\n",
        "            console.log('update_width');\n",
        "            this.set_width(this.model.get('width'));\n",
        "            this.draw();\n",
        "        },\n",
        "\n",
        "        update_height: function () {\n",
        "            // Python --> JavaScript\n",
        "            console.log('update_height');\n",
        "            this.set_height(this.model.get('height'));\n",
        "            this.draw();\n",
        "        },\n",
        "\n",
        "        set_width: function (value) {\n",
        "            console.log('set_width: ', value);\n",
        "\n",
        "            this.canvas.width = value\n",
        "            this.canvas.style.width = value + 'px'\n",
        "\n",
        "            this.model.set('width', value);\n",
        "            this.touch();\n",
        "        },\n",
        "\n",
        "        set_height: function (value) {\n",
        "            console.log('set_height: ', value);\n",
        "\n",
        "            this.canvas.height = value\n",
        "            this.canvas.style.height = value + 'px'\n",
        "\n",
        "            this.model.set('height', value);\n",
        "            this.touch()\n",
        "        },\n",
        "\n",
        "        clear: function () {\n",
        "            // Clear the canvas while preserving current state.\n",
        "            // http://stackoverflow.com/a/6722031/282840\n",
        "            console.log('clear: ', 0, 0, this.canvas.width, this.canvas.height);\n",
        "\n",
        "            this.context.save();\n",
        "\n",
        "            this.context.setTransform(1, 0, 0, 1, 0, 0);\n",
        "            this.context.clearRect(0, 0, this.canvas.width, this.canvas.height);\n",
        "\n",
        "            this.context.restore();\n",
        "        },\n",
        "\n",
        "        draw: function () {\n",
        "            // Draw image data from internal <img> to the <canvas>.\n",
        "            console.log('draw');\n",
        "\n",
        "            // Clear any prior image data.\n",
        "            this.clear();\n",
        "            this.set_smoothing(false);\n",
        "\n",
        "            // Draw image to screen.\n",
        "            this.context.drawImage(this.image, 0, 0);\n",
        "\n",
        "            // Must call this.touch() after any modifications to Backbone Model data.\n",
        "            // this.touch();\n",
        "        },\n",
        "    });\n",
        "    // Register View with widget manager.\n",
        "    console.log('register');\n",
        "    widgetmanager.WidgetManager.register_widget_model('CanvasImageBaseView', CanvasImageBaseView);\n",
        "    // widget.WidgetManager.register_widget_view('CanvasImageBaseView', CanvasImageBaseView);\n",
        "\n",
        "    var results = {\n",
        "        'CanvasImageBaseView': CanvasImageBaseView,\n",
        "        // 'CanvasImageView': CanvasImageView,\n",
        "    }\n",
        "\n",
        "    return results\n",
        "});\n"
       ],
       "metadata": {},
       "output_type": "display_data"
      }
     ],
     "prompt_number": 1
    },
    {
     "cell_type": "code",
     "collapsed": false,
     "input": [
      "# Set parameters, load data.\n",
      "data_doberman = canvas.image.read('images/Doberman.jpg')\n",
      "data_whippet = canvas.image.read('images/Whippet.jpg')"
     ],
     "language": "python",
     "metadata": {},
     "outputs": [],
     "prompt_number": 2
    },
    {
     "cell_type": "code",
     "collapsed": false,
     "input": [
      "img=IPython.html.widgets.Image()"
     ],
     "language": "python",
     "metadata": {},
     "outputs": [
      {
       "ename": "AttributeError",
       "evalue": "'module' object has no attribute 'Image'",
       "output_type": "pyerr",
       "traceback": [
        "\u001b[1;31m---------------------------------------------------------------------------\u001b[0m\n\u001b[1;31mAttributeError\u001b[0m                            Traceback (most recent call last)",
        "\u001b[1;32m<ipython-input-3-94bf480e12d7>\u001b[0m in \u001b[0;36m<module>\u001b[1;34m()\u001b[0m\n\u001b[1;32m----> 1\u001b[1;33m \u001b[0mimg\u001b[0m\u001b[1;33m=\u001b[0m\u001b[0mIPython\u001b[0m\u001b[1;33m.\u001b[0m\u001b[0mhtml\u001b[0m\u001b[1;33m.\u001b[0m\u001b[0mwidgets\u001b[0m\u001b[1;33m.\u001b[0m\u001b[0mImage\u001b[0m\u001b[1;33m(\u001b[0m\u001b[1;33m)\u001b[0m\u001b[1;33m\u001b[0m\u001b[0m\n\u001b[0m",
        "\u001b[1;31mAttributeError\u001b[0m: 'module' object has no attribute 'Image'"
       ]
      }
     ],
     "prompt_number": 3
    },
    {
     "cell_type": "code",
     "collapsed": false,
     "input": [
      "import base64\n",
      "fmt = 'png'\n",
      "data_comp, fmt = canvas.image.compress(data_doberman, fmt=fmt)"
     ],
     "language": "python",
     "metadata": {},
     "outputs": []
    },
    {
     "cell_type": "code",
     "collapsed": false,
     "input": [
      "img.value=data_comp"
     ],
     "language": "python",
     "metadata": {},
     "outputs": []
    },
    {
     "cell_type": "code",
     "collapsed": false,
     "input": [
      "img"
     ],
     "language": "python",
     "metadata": {},
     "outputs": []
    },
    {
     "cell_type": "code",
     "collapsed": false,
     "input": [
      "# Make the widget and display it to the screen.\n",
      "wid = canvas.ImageBase()\n"
     ],
     "language": "python",
     "metadata": {},
     "outputs": [],
     "prompt_number": 4
    },
    {
     "cell_type": "code",
     "collapsed": false,
     "input": [
      "wid.image = data_whippet"
     ],
     "language": "python",
     "metadata": {},
     "outputs": [],
     "prompt_number": 5
    },
    {
     "cell_type": "code",
     "collapsed": false,
     "input": [
      "print(wid.width, wid.height)"
     ],
     "language": "python",
     "metadata": {},
     "outputs": [
      {
       "output_type": "stream",
       "stream": "stdout",
       "text": [
        "0.0 0.0\n"
       ]
      }
     ],
     "prompt_number": 6
    },
    {
     "cell_type": "code",
     "collapsed": false,
     "input": [
      "wid"
     ],
     "language": "python",
     "metadata": {},
     "outputs": [],
     "prompt_number": 7
    },
    {
     "cell_type": "code",
     "collapsed": false,
     "input": [
      "1/0"
     ],
     "language": "python",
     "metadata": {},
     "outputs": []
    },
    {
     "cell_type": "markdown",
     "metadata": {},
     "source": [
      "## Decode compressed image\n",
      "\n",
      "- Decoder: https://github.com/notmasteryet/jpgjs\n",
      "- Encoder: https://code.google.com/p/as3corelib/source/browse/trunk/src/com/adobe/images/JPGEncoder.as\n",
      "- Combined: https://github.com/eugeneware/jpeg-js/blob/master/lib/decoder.js\n",
      "  \n",
      "  This package is apparently meant for Node.js.  It looks so simple, should work fine for browser??   Focus for now on just decoding.  Here is an example:\n",
      "  \n",
      "```js\n",
      "var jpegData = fs.readFileSync('grumpycat.jpg');\n",
      "var rawImageData = jpeg.decode(jpegData);\n",
      "```\n",
      "\n",
      "\n",
      "## Working with Blobs\n",
      "\n",
      "\n",
      "## Construct new, empty data array\n",
      "\n",
      "https://developer.mozilla.org/en-US/docs/Web/API/Uint8Array\n",
      "\n",
      "```js\n",
      "var num_pixels = num_lines * num_samples\n",
      "var a = new Uint8Array(num_pixels)\n",
      "```"
     ]
    },
    {
     "cell_type": "code",
     "collapsed": false,
     "input": [
      "%%javascript\n",
      "console.log('sdf')\n",
      "\n",
      "// File API: http://www.w3.org/TR/file-upload/\n",
      "// http://www.html5rocks.com/en/tutorials/file/dndfiles/\n",
      "\n",
      "// var fi = new File()\n",
      "\n",
      "var fileSelector = document.createElement('input');\n",
      " fileSelector.setAttribute('type', 'file');\n",
      "\n",
      " var selectDialogueLink = document.createElement('a');\n",
      " selectDialogueLink.setAttribute('href', '');\n",
      " selectDialogueLink.innerText = \"Select File\";\n",
      "\n",
      " selectDialogueLink.onclick = function () {\n",
      "      fileSelector.click();\n",
      "      return false;\n",
      " }\n",
      "\n",
      " document.body.appendChild(selectDialogueLink);\n"
     ],
     "language": "python",
     "metadata": {},
     "outputs": []
    }
   ],
   "metadata": {}
  }
 ]
}
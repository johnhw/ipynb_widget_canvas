{
 "metadata": {
  "name": "",
  "signature": "sha256:625eaafaa40e9c6a2063b836d3054622eb00aca5e3cad460209e7a9b69c80dbf"
 },
 "nbformat": 3,
 "nbformat_minor": 0,
 "worksheets": [
  {
   "cells": [
    {
     "cell_type": "heading",
     "level": 1,
     "metadata": {},
     "source": [
      "Canvas Widget for IPython Notebook"
     ]
    },
    {
     "cell_type": "code",
     "collapsed": false,
     "input": [
      "from __future__ import print_function, unicode_literals, division\n",
      "\n",
      "import time\n",
      "import IPython\n",
      "import widget_canvas as canvas"
     ],
     "language": "python",
     "metadata": {},
     "outputs": [],
     "prompt_number": 6
    },
    {
     "cell_type": "code",
     "collapsed": false,
     "input": [
      "# Set parameters, load data.\n",
      "data_doberman = canvas.image.read('images/Doberman.jpg')\n",
      "data_whippet = canvas.image.read('images/Whippet.jpg')"
     ],
     "language": "python",
     "metadata": {},
     "outputs": [],
     "prompt_number": 7
    },
    {
     "cell_type": "code",
     "collapsed": false,
     "input": [
      "# Make the widget and display it to the screen.\n",
      "wid = canvas.ImageWidget()\n",
      "\n",
      "wid.image = data_whippet\n",
      "wid.display()"
     ],
     "language": "python",
     "metadata": {},
     "outputs": [],
     "prompt_number": 8
    },
    {
     "cell_type": "code",
     "collapsed": false,
     "input": [
      "print(wid.width, wid.height)"
     ],
     "language": "python",
     "metadata": {},
     "outputs": [
      {
       "output_type": "stream",
       "stream": "stdout",
       "text": [
        "320.0 220.0\n"
       ]
      }
     ],
     "prompt_number": 11
    },
    {
     "cell_type": "code",
     "collapsed": false,
     "input": [
      "wid.image = data_doberman"
     ],
     "language": "python",
     "metadata": {},
     "outputs": [],
     "prompt_number": 10
    },
    {
     "cell_type": "markdown",
     "metadata": {},
     "source": [
      "## Decode compressed image\n",
      "\n",
      "- Decoder: https://github.com/notmasteryet/jpgjs\n",
      "- Encoder: https://code.google.com/p/as3corelib/source/browse/trunk/src/com/adobe/images/JPGEncoder.as\n",
      "- Combined: https://github.com/eugeneware/jpeg-js/blob/master/lib/decoder.js\n",
      "  \n",
      "  This package is apparently meant for Node.js.  It looks so simple, should work fine for browser??   Focus for now on just decoding.  Here is an example:\n",
      "  \n",
      "```js\n",
      "var jpegData = fs.readFileSync('grumpycat.jpg');\n",
      "var rawImageData = jpeg.decode(jpegData);\n",
      "```\n",
      "\n",
      "\n",
      "## Working with Blobs\n",
      "\n",
      "\n",
      "## Construct new, empty data array\n",
      "\n",
      "https://developer.mozilla.org/en-US/docs/Web/API/Uint8Array\n",
      "\n",
      "```js\n",
      "var num_pixels = num_lines * num_samples\n",
      "var a = new Uint8Array(num_pixels)\n",
      "```"
     ]
    },
    {
     "cell_type": "code",
     "collapsed": false,
     "input": [
      "%%javascript\n",
      "console.log('sdf')\n",
      "\n",
      "// File API: http://www.w3.org/TR/file-upload/\n",
      "// http://www.html5rocks.com/en/tutorials/file/dndfiles/\n",
      "\n",
      "// var fi = new File()\n",
      "\n",
      "var fileSelector = document.createElement('input');\n",
      " fileSelector.setAttribute('type', 'file');\n",
      "\n",
      " var selectDialogueLink = document.createElement('a');\n",
      " selectDialogueLink.setAttribute('href', '');\n",
      " selectDialogueLink.innerText = \"Select File\";\n",
      "\n",
      " selectDialogueLink.onclick = function () {\n",
      "      fileSelector.click();\n",
      "      return false;\n",
      " }\n",
      "\n",
      " document.body.appendChild(selectDialogueLink);\n"
     ],
     "language": "python",
     "metadata": {},
     "outputs": [
      {
       "javascript": [
        "console.log('sdf')\n",
        "\n",
        "\n",
        "// File API: http://www.w3.org/TR/file-upload/\n",
        "\n",
        "// http://www.html5rocks.com/en/tutorials/file/dndfiles/\n",
        "// var fi = new File()\n",
        "\n",
        "var fileSelector = document.createElement('input');\n",
        " fileSelector.setAttribute('type', 'file');\n",
        "\n",
        " var selectDialogueLink = document.createElement('a');\n",
        " selectDialogueLink.setAttribute('href', '');\n",
        " selectDialogueLink.innerText = \"Select File\";\n",
        "\n",
        " selectDialogueLink.onclick = function () {\n",
        "      fileSelector.click();\n",
        "      return false;\n",
        " }\n",
        "\n",
        " document.body.appendChild(selectDialogueLink);"
       ],
       "metadata": {},
       "output_type": "display_data",
       "text": [
        "<IPython.core.display.Javascript object>"
       ]
      }
     ],
     "prompt_number": 7
    }
   ],
   "metadata": {}
  }
 ]
}
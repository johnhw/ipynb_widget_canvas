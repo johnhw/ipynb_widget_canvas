{
 "metadata": {
  "kernelspec": {
   "codemirror_mode": {
    "name": "python",
    "version": 2
   },
   "display_name": "Python 2",
   "language": "python",
   "name": "python2"
  },
  "name": "",
  "signature": "sha256:ca19efb71d9a2662d9b894fb4c3681de6b62e8484fbd94f325213bc3cda4db34"
 },
 "nbformat": 3,
 "nbformat_minor": 0,
 "worksheets": [
  {
   "cells": [
    {
     "cell_type": "heading",
     "level": 1,
     "metadata": {},
     "source": [
      "Canvas Widget for IPython Notebook"
     ]
    },
    {
     "cell_type": "code",
     "collapsed": false,
     "input": [
      "from __future__ import print_function, unicode_literals, division\n",
      "\n",
      "import time\n",
      "import IPython\n",
      "import widget_canvas as canvas"
     ],
     "language": "python",
     "metadata": {},
     "outputs": [
      {
       "output_type": "stream",
       "stream": "stdout",
       "text": [
        "bootstrap: widget_canvas.js\n"
       ]
      },
      {
       "javascript": [
        "//============================================================================\n",
        "// CanvasWidget\n",
        "//============================================================================\n",
        "// console.log('module widget_canvas.js');\n",
        "\n",
        "require([\n",
        "    \"widgets/js/widget\",\n",
        "    \"jquery\",\n",
        "], function (WidgetManager, $) {\n",
        "\n",
        "    // console.log('define widget_canvas.js');\n",
        "\n",
        "    // Define the widget View.\n",
        "    var CanvasImageBaseView = IPython.DOMWidgetView.extend({\n",
        "        initialize: function (options) {\n",
        "            // console.log('initialize');\n",
        "\n",
        "            // Backbone Model --> My JavaScript View\n",
        "            this.model.on('change:data_encode', this.update_data_encode, this);\n",
        "            this.model.on('change:width', this.update_width, this);\n",
        "            this.model.on('change:height', this.update_height, this);\n",
        "            // this.model.on('change:_transform_values', this.update_transform, this);\n",
        "            // this.model.on('change:smoothing', this.update_smoothing, this);\n",
        "\n",
        "            // this.time_mouse = Date.now()\n",
        "            // this.time_mouse_threshold = 20 // miliseconds\n",
        "            CanvasImageBaseView.__super__.initialize.apply(this, arguments);\n",
        "        },\n",
        "\n",
        "        render: function () {\n",
        "            // Render a widget's view instance to the DOM.\n",
        "            // console.log('render');\n",
        "\n",
        "            // This project's view is quite simple: just a single <canvas> element.\n",
        "            // http://stackoverflow.com/questions/3729034/javascript-html5-capture-keycode-and-write-to-canvas\n",
        "            this.setElement('<canvas />');\n",
        "\n",
        "            // Gather some handy references for the canvas and its context.\n",
        "            this.canvas = this.el\n",
        "            this.context = this.canvas.getContext('2d');\n",
        "\n",
        "            // Internal image element serving to render new image src data.  This object will\n",
        "            // later be used as source data argument to the canvas' own `drawImage()` method.\n",
        "            this.image = new Image();\n",
        "\n",
        "            // Event handling for drawing new data to the canvas.\n",
        "            var that = this\n",
        "            var draw_onload = function () {\n",
        "                // console.log('draw_onload');\n",
        "                that.update_data_image();\n",
        "            }\n",
        "\n",
        "            this.image.onload = draw_onload\n",
        "\n",
        "            // Does any valid data exist in the system?  Copy data_b64 if it exists in model.\n",
        "            if (this.model.has('data_encode')) {\n",
        "                // console.log('render has b64');\n",
        "                if (this.model.get('data_encode') != '') {\n",
        "                    // console.log('render has OK data_encode');\n",
        "                    this.update_data_encode();\n",
        "                }\n",
        "            }\n",
        "\n",
        "            // I noticed problems if this update() function call was left out, e.g. second views of\n",
        "            // my model would not initially receive CSS style properties.\n",
        "            this.update();\n",
        "        },\n",
        "\n",
        "        update_data_encode: function () {\n",
        "            // Python --> JavaScript, copy new value from Backbone model, apply to this View.\n",
        "            // console.log('update_data_encode');\n",
        "\n",
        "            this.image.src = this.model.get('data_encode');\n",
        "\n",
        "            // Event processing continues inside this.image's onload() event handler defined\n",
        "            // earlier inside this.render().\n",
        "        },\n",
        "\n",
        "        update_data_image: function () {\n",
        "            // Helper handler.\n",
        "            // console.log('update_data_image');\n",
        "\n",
        "            this.set_width(this.image.width);\n",
        "            this.set_height(this.image.height);\n",
        "\n",
        "            this.draw();\n",
        "        },\n",
        "\n",
        "        update_width: function () {\n",
        "            // Python --> JavaScript\n",
        "            // console.log('update_width');\n",
        "            this.set_width(this.model.get('width'));\n",
        "            this.draw();\n",
        "        },\n",
        "\n",
        "        update_height: function () {\n",
        "            // Python --> JavaScript\n",
        "            // console.log('update_height');\n",
        "            this.set_height(this.model.get('height'));\n",
        "            this.draw();\n",
        "        },\n",
        "\n",
        "        set_width: function (value) {\n",
        "            // console.log('set_width: ', value);\n",
        "\n",
        "            this.canvas.width = value\n",
        "            this.canvas.style.width = value + 'px'\n",
        "\n",
        "            this.model.set('width', value);\n",
        "            this.touch();\n",
        "        },\n",
        "\n",
        "        set_height: function (value) {\n",
        "            // console.log('set_height: ', value);\n",
        "\n",
        "            this.canvas.height = value\n",
        "            this.canvas.style.height = value + 'px'\n",
        "\n",
        "            this.model.set('height', value);\n",
        "            this.touch()\n",
        "        },\n",
        "\n",
        "        clear: function () {\n",
        "            // Clear the canvas while preserving current state.\n",
        "            // http://stackoverflow.com/a/6722031/282840\n",
        "            // console.log('clear: ', 0, 0, this.canvas.width, this.canvas.height);\n",
        "\n",
        "            this.context.save();\n",
        "\n",
        "            this.context.setTransform(1, 0, 0, 1, 0, 0);\n",
        "            this.context.clearRect(0, 0, this.canvas.width, this.canvas.height);\n",
        "\n",
        "            this.context.restore();\n",
        "        },\n",
        "\n",
        "        draw: function () {\n",
        "            // Draw image data from internal <img> to the <canvas>.\n",
        "            // http://www.w3.org/TR/2014/CR-2dcontext-20140821/#drawing-images-to-the-canvas\n",
        "            // console.log('draw');\n",
        "\n",
        "            // Clear any prior image data.\n",
        "            this.clear();\n",
        "            // this.set_smoothing(false);\n",
        "\n",
        "            // Draw image to screen.\n",
        "            this.context.drawImage(this.image, 0, 0);\n",
        "\n",
        "            // Must call this.touch() after any modifications to Backbone Model data.\n",
        "            // this.touch();\n",
        "        },\n",
        "    });\n",
        "\n",
        "    // Define the widget View.\n",
        "    var CanvasImageFancyView = CanvasImageBaseView.extend({\n",
        "        initialize: function (options) {\n",
        "            console.log('initialize Fancy');\n",
        "\n",
        "            // Backbone Model --> My JavaScript View\n",
        "            // this.model.on('change:width', this.update_width, this);\n",
        "            // this.model.on('change:height', this.update_height, this);\n",
        "            // this.model.on('change:_transform_values', this.update_transform, this);\n",
        "            this.model.on('change:smoothing', this.update_smoothing, this);\n",
        "\n",
        "            CanvasImageFancyView.__super__.initialize.apply(this, arguments);\n",
        "        },\n",
        "\n",
        "        // render: function () {\n",
        "        //     // Render a widget's view instance to the DOM.\n",
        "        //     // console.log('render');\n",
        "\n",
        "        //     // This project's view is quite simple: just a single <canvas> element.\n",
        "        //     // http://stackoverflow.com/questions/3729034/javascript-html5-capture-keycode-and-write-to-canvas\n",
        "        //     this.setElement('<canvas />');\n",
        "\n",
        "        //     // Gather some handy references for the canvas and its context.\n",
        "        //     this.canvas = this.el\n",
        "        //     this.context = this.canvas.getContext('2d');\n",
        "\n",
        "        //     // Internal image element serving to render new image src data.  This object will\n",
        "        //     // later be used as source data argument to the canvas' own `drawImage()` method.\n",
        "        //     this.image = new Image();\n",
        "\n",
        "        //     // Event handling for drawing new data to the canvas.\n",
        "        //     var that = this\n",
        "        //     var draw_onload = function () {\n",
        "        //         // console.log('draw_onload');\n",
        "        //         that.update_data_image();\n",
        "        //     }\n",
        "\n",
        "        //     this.image.onload = draw_onload\n",
        "\n",
        "        //     // Does any valid data exist in the system?  Copy data_b64 if it exists in model.\n",
        "        //     if (this.model.has('data_encode')) {\n",
        "        //         // console.log('render has b64');\n",
        "        //         if (this.model.get('data_encode') != '') {\n",
        "        //             // console.log('render has OK data_encode');\n",
        "        //             this.update_data_encode();\n",
        "        //         }\n",
        "        //     }\n",
        "\n",
        "        //     // I noticed problems if this update() function call was left out, e.g. second views of\n",
        "        //     // my model would not initially receive CSS style properties.\n",
        "        //     this.update();\n",
        "        // },\n",
        "\n",
        "        update_smoothing: function () {\n",
        "            // Python --> JavaScript\n",
        "            console.log('update_smoothing');\n",
        "            this.set_smoothing(this.model.get('smoothing'));\n",
        "        },\n",
        "\n",
        "        set_smoothing: function (value) {\n",
        "            this.context.mozImageSmoothingEnabled = value\n",
        "            this.context.oImageSmoothingEnabled = value\n",
        "            this.context.webkitImageSmoothingEnabled = value\n",
        "            this.context.imageSmoothingEnabled = value\n",
        "        },\n",
        "\n",
        "    });\n",
        "\n",
        "    // Register Views with widget manager.\n",
        "\n",
        "    // Note: the method called below must be \"register_widget_view\", NOT \"register_widget_model\"!!\n",
        "    console.log('register views');\n",
        "    WidgetManager.register_widget_view('CanvasImageBaseView', CanvasImageBaseView);\n",
        "    WidgetManager.register_widget_view('CanvasImageFancyView', CanvasImageFancyView);\n",
        "});"
       ],
       "metadata": {},
       "output_type": "display_data"
      }
     ],
     "prompt_number": 1
    },
    {
     "cell_type": "code",
     "collapsed": false,
     "input": [
      "# Set parameters, load data.\n",
      "data_doberman = canvas.image.read('images/Doberman.jpg')\n",
      "data_whippet = canvas.image.read('images/Whippet.jpg')\n",
      "data_cooper = canvas.image.read('images/IMG_20140417_065746~5b.jpg')\n",
      "\n",
      "print(data_whippet.shape)\n",
      "print(data_doberman.shape)\n",
      "print(data_cooper.shape)"
     ],
     "language": "python",
     "metadata": {},
     "outputs": [
      {
       "output_type": "stream",
       "stream": "stdout",
       "text": [
        "(220, 320, 3)\n",
        "(220, 320, 3)\n",
        "(450, 600, 3)\n"
       ]
      }
     ],
     "prompt_number": 2
    },
    {
     "cell_type": "code",
     "collapsed": false,
     "input": [
      "a={k: k for k in range(10)}"
     ],
     "language": "python",
     "metadata": {},
     "outputs": [],
     "prompt_number": 3
    },
    {
     "cell_type": "code",
     "collapsed": false,
     "input": [
      "a"
     ],
     "language": "python",
     "metadata": {},
     "outputs": [
      {
       "metadata": {},
       "output_type": "pyout",
       "prompt_number": 4,
       "text": [
        "{0: 0, 1: 1, 2: 2, 3: 3, 4: 4, 5: 5, 6: 6, 7: 7, 8: 8, 9: 9}"
       ]
      }
     ],
     "prompt_number": 4
    },
    {
     "cell_type": "code",
     "collapsed": false,
     "input": [
      "# Make the widget and display it to the screen.\n",
      "wid = canvas.CanvasImageBase()"
     ],
     "language": "python",
     "metadata": {},
     "outputs": [],
     "prompt_number": 5
    },
    {
     "cell_type": "code",
     "collapsed": false,
     "input": [
      "wid"
     ],
     "language": "python",
     "metadata": {},
     "outputs": [],
     "prompt_number": 8
    },
    {
     "cell_type": "code",
     "collapsed": false,
     "input": [
      "wid.image = data_whippet\n",
      "\n",
      "wid.data_shape"
     ],
     "language": "python",
     "metadata": {},
     "outputs": [
      {
       "metadata": {},
       "output_type": "pyout",
       "prompt_number": 9,
       "text": [
        "(220, 320)"
       ]
      }
     ],
     "prompt_number": 9
    },
    {
     "cell_type": "code",
     "collapsed": false,
     "input": [
      "wid.image = data_cooper\n",
      "wid.data_shape"
     ],
     "language": "python",
     "metadata": {},
     "outputs": [
      {
       "metadata": {},
       "output_type": "pyout",
       "prompt_number": 10,
       "text": [
        "(450, 600)"
       ]
      }
     ],
     "prompt_number": 10
    },
    {
     "cell_type": "code",
     "collapsed": false,
     "input": [
      "data_cooper.shape"
     ],
     "language": "python",
     "metadata": {},
     "outputs": [
      {
       "metadata": {},
       "output_type": "pyout",
       "prompt_number": 14,
       "text": [
        "(450, 600, 3)"
       ]
      }
     ],
     "prompt_number": 14
    },
    {
     "cell_type": "code",
     "collapsed": false,
     "input": [
      "wid.width, wid.height"
     ],
     "language": "python",
     "metadata": {},
     "outputs": [
      {
       "metadata": {},
       "output_type": "pyout",
       "prompt_number": 12,
       "text": [
        "(320.0, 220.0)"
       ]
      }
     ],
     "prompt_number": 12
    },
    {
     "cell_type": "heading",
     "level": 2,
     "metadata": {},
     "source": [
      "Display using builtin IPython Image Widget"
     ]
    },
    {
     "cell_type": "code",
     "collapsed": false,
     "input": [
      "import base64\n",
      "fmt = 'png'\n",
      "data_comp, fmt = canvas.image.compress(data_doberman, fmt=fmt)\n",
      "\n",
      "img = IPython.html.widgets.ImageWidget()\n",
      "img.value = data_comp\n",
      "img"
     ],
     "language": "python",
     "metadata": {},
     "outputs": [],
     "prompt_number": 16
    }
   ],
   "metadata": {}
  }
 ]
}
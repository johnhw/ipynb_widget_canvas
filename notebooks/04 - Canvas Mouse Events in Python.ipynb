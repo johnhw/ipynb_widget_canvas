{
 "cells": [
  {
   "cell_type": "markdown",
   "metadata": {},
   "source": [
    "# Canvas Mouse Events in Python"
   ]
  },
  {
   "cell_type": "code",
   "execution_count": 1,
   "metadata": {
    "collapsed": false
   },
   "outputs": [],
   "source": [
    "from __future__ import print_function, unicode_literals, division, absolute_import\n",
    "\n",
    "import imageio\n",
    "import IPython\n",
    "\n",
    "from widget_canvas import CanvasImage\n",
    "\n",
    "from IPython.html import widgets"
   ]
  },
  {
   "cell_type": "markdown",
   "metadata": {},
   "source": [
    "## Load some data"
   ]
  },
  {
   "cell_type": "code",
   "execution_count": 2,
   "metadata": {
    "collapsed": true
   },
   "outputs": [],
   "source": [
    "image_A = imageio.imread('images/Whippet.jpg')\n",
    "image_B = imageio.imread('images/Doberman.jpg')"
   ]
  },
  {
   "cell_type": "markdown",
   "metadata": {},
   "source": [
    "## Simple Example"
   ]
  },
  {
   "cell_type": "code",
   "execution_count": 3,
   "metadata": {
    "collapsed": false,
    "scrolled": false
   },
   "outputs": [
    {
     "name": "stdout",
     "output_type": "stream",
     "text": [
      "{'altKey': False, 'canvasY': 22, 'timeStamp': 1436737703195, 'type': 'mousemove', 'buttons': 0, 'ctrlKey': False, 'shiftKey': False, 'canvasX': 309}\n",
      "{'altKey': False, 'canvasY': 72, 'timeStamp': 1436737703249, 'type': 'mousemove', 'buttons': 0, 'ctrlKey': False, 'shiftKey': False, 'canvasX': 232}\n",
      "{'altKey': False, 'canvasY': 94, 'timeStamp': 1436737703304, 'type': 'mousemove', 'buttons': 0, 'ctrlKey': False, 'shiftKey': False, 'canvasX': 190}\n",
      "{'altKey': False, 'canvasY': 98, 'timeStamp': 1436737703357, 'type': 'mousemove', 'buttons': 0, 'ctrlKey': False, 'shiftKey': False, 'canvasX': 182}\n",
      "{'altKey': False, 'canvasY': 99, 'timeStamp': 1436737703427, 'type': 'mousemove', 'buttons': 0, 'ctrlKey': False, 'shiftKey': False, 'canvasX': 180}\n",
      "{'altKey': False, 'canvasY': 99, 'timeStamp': 1436737704425, 'type': 'mousemove', 'buttons': 0, 'ctrlKey': False, 'shiftKey': False, 'canvasX': 180}\n",
      "{'altKey': False, 'canvasY': 99, 'timeStamp': 1436737704478, 'type': 'mousemove', 'buttons': 0, 'ctrlKey': False, 'shiftKey': False, 'canvasX': 180}\n",
      "{'altKey': False, 'canvasY': 99, 'timeStamp': 1436737704560, 'type': 'mousemove', 'buttons': 0, 'ctrlKey': False, 'shiftKey': False, 'canvasX': 180}\n",
      "{'altKey': False, 'canvasY': 99, 'timeStamp': 1436737704614, 'type': 'mousemove', 'buttons': 0, 'ctrlKey': False, 'shiftKey': False, 'canvasX': 180}\n",
      "{'deltaY': 53, 'canvasY': 99, 'timeStamp': 1436737704643, 'type': 'wheel', 'canvasX': 180, 'deltaZ': 0, 'buttons': 0, 'ctrlKey': False, 'deltaMode': 0, 'altKey': False, 'shiftKey': False, 'deltaX': 0}\n",
      "{'altKey': False, 'canvasY': 99, 'timeStamp': 1436737704667, 'type': 'mousemove', 'buttons': 0, 'ctrlKey': False, 'shiftKey': False, 'canvasX': 180}\n",
      "{'altKey': False, 'canvasY': 99, 'timeStamp': 1436737705226, 'type': 'mousemove', 'buttons': 0, 'ctrlKey': False, 'shiftKey': False, 'canvasX': 187}\n",
      "{'altKey': False, 'canvasY': 217, 'timeStamp': 1436737715742, 'type': 'mousemove', 'buttons': 0, 'ctrlKey': False, 'shiftKey': False, 'canvasX': 319}\n",
      "{'altKey': False, 'canvasY': 176, 'timeStamp': 1436737715795, 'type': 'mousemove', 'buttons': 0, 'ctrlKey': False, 'shiftKey': False, 'canvasX': 294}\n",
      "{'altKey': False, 'canvasY': 156, 'timeStamp': 1436737715845, 'type': 'mousemove', 'buttons': 0, 'ctrlKey': False, 'shiftKey': False, 'canvasX': 283}\n",
      "{'altKey': False, 'canvasY': 146, 'timeStamp': 1436737715901, 'type': 'mousemove', 'buttons': 0, 'ctrlKey': False, 'shiftKey': False, 'canvasX': 271}\n",
      "{'altKey': False, 'canvasY': 134, 'timeStamp': 1436737715955, 'type': 'mousemove', 'buttons': 0, 'ctrlKey': False, 'shiftKey': False, 'canvasX': 253}\n",
      "{'altKey': False, 'canvasY': 129, 'timeStamp': 1436737716013, 'type': 'mousemove', 'buttons': 0, 'ctrlKey': False, 'shiftKey': False, 'canvasX': 235}\n",
      "{'altKey': False, 'canvasY': 129, 'timeStamp': 1436737716067, 'type': 'mousemove', 'buttons': 0, 'ctrlKey': False, 'shiftKey': False, 'canvasX': 222}\n",
      "{'altKey': False, 'canvasY': 129, 'timeStamp': 1436737716121, 'type': 'mousemove', 'buttons': 0, 'ctrlKey': False, 'shiftKey': False, 'canvasX': 218}\n",
      "{'altKey': False, 'canvasY': 129, 'timeStamp': 1436737716712, 'type': 'mousemove', 'buttons': 0, 'ctrlKey': False, 'shiftKey': False, 'canvasX': 217}\n",
      "{'deltaY': 53, 'canvasY': 129, 'timeStamp': 1436737716737, 'type': 'wheel', 'canvasX': 217, 'deltaZ': 0, 'buttons': 0, 'ctrlKey': False, 'deltaMode': 0, 'altKey': False, 'shiftKey': False, 'deltaX': 0}\n",
      "{'altKey': False, 'canvasY': 129, 'timeStamp': 1436737716764, 'type': 'mousemove', 'buttons': 0, 'ctrlKey': False, 'shiftKey': False, 'canvasX': 217}\n",
      "{'deltaY': 53, 'canvasY': 129, 'timeStamp': 1436737716790, 'type': 'wheel', 'canvasX': 217, 'deltaZ': 0, 'buttons': 0, 'ctrlKey': False, 'deltaMode': 0, 'altKey': False, 'shiftKey': False, 'deltaX': 0}\n",
      "{'altKey': False, 'canvasY': 129, 'timeStamp': 1436737716819, 'type': 'mousemove', 'buttons': 0, 'ctrlKey': False, 'shiftKey': False, 'canvasX': 217}\n",
      "{'deltaY': 53, 'canvasY': 129, 'timeStamp': 1436737716820, 'type': 'wheel', 'canvasX': 217, 'deltaZ': 0, 'buttons': 0, 'ctrlKey': False, 'deltaMode': 0, 'altKey': False, 'shiftKey': False, 'deltaX': 0}\n",
      "{'altKey': False, 'canvasY': 129, 'timeStamp': 1436737716873, 'type': 'mousemove', 'buttons': 0, 'ctrlKey': False, 'shiftKey': False, 'canvasX': 217}\n",
      "{'deltaY': 53, 'canvasY': 129, 'timeStamp': 1436737716875, 'type': 'wheel', 'canvasX': 217, 'deltaZ': 0, 'buttons': 0, 'ctrlKey': False, 'deltaMode': 0, 'altKey': False, 'shiftKey': False, 'deltaX': 0}\n",
      "{'deltaY': 53, 'canvasY': 129, 'timeStamp': 1436737716900, 'type': 'wheel', 'canvasX': 217, 'deltaZ': 0, 'buttons': 0, 'ctrlKey': False, 'deltaMode': 0, 'altKey': False, 'shiftKey': False, 'deltaX': 0}\n",
      "{'altKey': False, 'canvasY': 129, 'timeStamp': 1436737716927, 'type': 'mousemove', 'buttons': 0, 'ctrlKey': False, 'shiftKey': False, 'canvasX': 217}\n",
      "{'deltaY': 53, 'canvasY': 129, 'timeStamp': 1436737716953, 'type': 'wheel', 'canvasX': 217, 'deltaZ': 0, 'buttons': 0, 'ctrlKey': False, 'deltaMode': 0, 'altKey': False, 'shiftKey': False, 'deltaX': 0}\n",
      "{'altKey': False, 'canvasY': 129, 'timeStamp': 1436737716979, 'type': 'mousemove', 'buttons': 0, 'ctrlKey': False, 'shiftKey': False, 'canvasX': 217}\n",
      "{'deltaY': 53, 'canvasY': 129, 'timeStamp': 1436737717008, 'type': 'wheel', 'canvasX': 217, 'deltaZ': 0, 'buttons': 0, 'ctrlKey': False, 'deltaMode': 0, 'altKey': False, 'shiftKey': False, 'deltaX': 0}\n",
      "{'altKey': False, 'canvasY': 129, 'timeStamp': 1436737717033, 'type': 'mousemove', 'buttons': 0, 'ctrlKey': False, 'shiftKey': False, 'canvasX': 217}\n",
      "{'altKey': False, 'canvasY': 129, 'timeStamp': 1436737717472, 'type': 'mousemove', 'buttons': 0, 'ctrlKey': False, 'shiftKey': False, 'canvasX': 217}\n",
      "{'deltaY': 53, 'canvasY': 129, 'timeStamp': 1436737717502, 'type': 'wheel', 'canvasX': 217, 'deltaZ': 0, 'buttons': 0, 'ctrlKey': False, 'deltaMode': 0, 'altKey': False, 'shiftKey': False, 'deltaX': 0}\n",
      "{'altKey': False, 'canvasY': 129, 'timeStamp': 1436737717526, 'type': 'mousemove', 'buttons': 0, 'ctrlKey': False, 'shiftKey': False, 'canvasX': 217}\n",
      "{'deltaY': 53, 'canvasY': 129, 'timeStamp': 1436737717527, 'type': 'wheel', 'canvasX': 217, 'deltaZ': 0, 'buttons': 0, 'ctrlKey': False, 'deltaMode': 0, 'altKey': False, 'shiftKey': False, 'deltaX': 0}\n",
      "{'deltaY': 53, 'canvasY': 129, 'timeStamp': 1436737717551, 'type': 'wheel', 'canvasX': 217, 'deltaZ': 0, 'buttons': 0, 'ctrlKey': False, 'deltaMode': 0, 'altKey': False, 'shiftKey': False, 'deltaX': 0}\n",
      "{'altKey': False, 'canvasY': 129, 'timeStamp': 1436737717578, 'type': 'mousemove', 'buttons': 0, 'ctrlKey': False, 'shiftKey': False, 'canvasX': 217}\n",
      "{'deltaY': 53, 'canvasY': 129, 'timeStamp': 1436737717579, 'type': 'wheel', 'canvasX': 217, 'deltaZ': 0, 'buttons': 0, 'ctrlKey': False, 'deltaMode': 0, 'altKey': False, 'shiftKey': False, 'deltaX': 0}\n",
      "{'altKey': False, 'canvasY': 129, 'timeStamp': 1436737717636, 'type': 'mousemove', 'buttons': 0, 'ctrlKey': False, 'shiftKey': False, 'canvasX': 217}\n",
      "{'deltaY': 0, 'canvasY': 129, 'timeStamp': 1436737717639, 'type': 'wheel', 'canvasX': 217, 'deltaZ': 0, 'buttons': 0, 'ctrlKey': False, 'deltaMode': 0, 'altKey': False, 'shiftKey': False, 'deltaX': 53}\n",
      "{'deltaY': 53, 'canvasY': 129, 'timeStamp': 1436737717645, 'type': 'wheel', 'canvasX': 217, 'deltaZ': 0, 'buttons': 0, 'ctrlKey': False, 'deltaMode': 0, 'altKey': False, 'shiftKey': False, 'deltaX': 0}\n",
      "{'deltaY': 53, 'canvasY': 129, 'timeStamp': 1436737717670, 'type': 'wheel', 'canvasX': 217, 'deltaZ': 0, 'buttons': 0, 'ctrlKey': False, 'deltaMode': 0, 'altKey': False, 'shiftKey': False, 'deltaX': 0}\n",
      "{'altKey': False, 'canvasY': 129, 'timeStamp': 1436737717689, 'type': 'mousemove', 'buttons': 0, 'ctrlKey': False, 'shiftKey': False, 'canvasX': 217}\n",
      "{'deltaY': 53, 'canvasY': 129, 'timeStamp': 1436737717691, 'type': 'wheel', 'canvasX': 217, 'deltaZ': 0, 'buttons': 0, 'ctrlKey': False, 'deltaMode': 0, 'altKey': False, 'shiftKey': False, 'deltaX': 0}\n",
      "{'altKey': False, 'canvasY': 129, 'timeStamp': 1436737717744, 'type': 'mousemove', 'buttons': 0, 'ctrlKey': False, 'shiftKey': False, 'canvasX': 217}\n",
      "{'deltaY': 53, 'canvasY': 129, 'timeStamp': 1436737717746, 'type': 'wheel', 'canvasX': 217, 'deltaZ': 0, 'buttons': 0, 'ctrlKey': False, 'deltaMode': 0, 'altKey': False, 'shiftKey': False, 'deltaX': 0}\n",
      "{'deltaY': 53, 'canvasY': 129, 'timeStamp': 1436737717770, 'type': 'wheel', 'canvasX': 217, 'deltaZ': 0, 'buttons': 0, 'ctrlKey': False, 'deltaMode': 0, 'altKey': False, 'shiftKey': False, 'deltaX': 0}\n",
      "{'altKey': False, 'canvasY': 129, 'timeStamp': 1436737717794, 'type': 'mousemove', 'buttons': 0, 'ctrlKey': False, 'shiftKey': False, 'canvasX': 217}\n",
      "{'altKey': False, 'canvasY': 129, 'timeStamp': 1436737718239, 'type': 'mousemove', 'buttons': 0, 'ctrlKey': False, 'shiftKey': False, 'canvasX': 217}\n",
      "{'deltaY': 53, 'canvasY': 129, 'timeStamp': 1436737718241, 'type': 'wheel', 'canvasX': 217, 'deltaZ': 0, 'buttons': 0, 'ctrlKey': False, 'deltaMode': 0, 'altKey': False, 'shiftKey': False, 'deltaX': 0}\n",
      "{'altKey': False, 'canvasY': 129, 'timeStamp': 1436737718293, 'type': 'mousemove', 'buttons': 0, 'ctrlKey': False, 'shiftKey': False, 'canvasX': 217}\n",
      "{'deltaY': 53, 'canvasY': 129, 'timeStamp': 1436737718294, 'type': 'wheel', 'canvasX': 217, 'deltaZ': 0, 'buttons': 0, 'ctrlKey': False, 'deltaMode': 0, 'altKey': False, 'shiftKey': False, 'deltaX': 0}\n",
      "{'deltaY': 53, 'canvasY': 129, 'timeStamp': 1436737718320, 'type': 'wheel', 'canvasX': 217, 'deltaZ': 0, 'buttons': 0, 'ctrlKey': False, 'deltaMode': 0, 'altKey': False, 'shiftKey': False, 'deltaX': 0}\n",
      "{'altKey': False, 'canvasY': 129, 'timeStamp': 1436737718344, 'type': 'mousemove', 'buttons': 0, 'ctrlKey': False, 'shiftKey': False, 'canvasX': 217}\n",
      "{'deltaY': 0, 'canvasY': 129, 'timeStamp': 1436737718345, 'type': 'wheel', 'canvasX': 217, 'deltaZ': 0, 'buttons': 0, 'ctrlKey': False, 'deltaMode': 0, 'altKey': False, 'shiftKey': False, 'deltaX': 53}\n",
      "{'deltaY': 53, 'canvasY': 129, 'timeStamp': 1436737718374, 'type': 'wheel', 'canvasX': 217, 'deltaZ': 0, 'buttons': 0, 'ctrlKey': False, 'deltaMode': 0, 'altKey': False, 'shiftKey': False, 'deltaX': 0}\n",
      "{'altKey': False, 'canvasY': 129, 'timeStamp': 1436737718400, 'type': 'mousemove', 'buttons': 0, 'ctrlKey': False, 'shiftKey': False, 'canvasX': 217}\n",
      "{'deltaY': 53, 'canvasY': 129, 'timeStamp': 1436737718402, 'type': 'wheel', 'canvasX': 217, 'deltaZ': 0, 'buttons': 0, 'ctrlKey': False, 'deltaMode': 0, 'altKey': False, 'shiftKey': False, 'deltaX': 0}\n",
      "{'deltaY': 53, 'canvasY': 129, 'timeStamp': 1436737718426, 'type': 'wheel', 'canvasX': 217, 'deltaZ': 0, 'buttons': 0, 'ctrlKey': False, 'deltaMode': 0, 'altKey': False, 'shiftKey': False, 'deltaX': 0}\n",
      "{'altKey': False, 'canvasY': 129, 'timeStamp': 1436737718453, 'type': 'mousemove', 'buttons': 0, 'ctrlKey': False, 'shiftKey': False, 'canvasX': 217}\n",
      "{'deltaY': 53, 'canvasY': 129, 'timeStamp': 1436737718454, 'type': 'wheel', 'canvasX': 217, 'deltaZ': 0, 'buttons': 0, 'ctrlKey': False, 'deltaMode': 0, 'altKey': False, 'shiftKey': False, 'deltaX': 0}\n",
      "{'altKey': False, 'canvasY': 129, 'timeStamp': 1436737718515, 'type': 'mousemove', 'buttons': 0, 'ctrlKey': False, 'shiftKey': False, 'canvasX': 217}\n",
      "{'deltaY': 53, 'canvasY': 129, 'timeStamp': 1436737718517, 'type': 'wheel', 'canvasX': 217, 'deltaZ': 0, 'buttons': 0, 'ctrlKey': False, 'deltaMode': 0, 'altKey': False, 'shiftKey': False, 'deltaX': 0}\n",
      "{'altKey': False, 'canvasY': 129, 'timeStamp': 1436737718834, 'type': 'mousemove', 'buttons': 0, 'ctrlKey': False, 'shiftKey': False, 'canvasX': 227}\n"
     ]
    }
   ],
   "source": [
    "# Build and display the widget.\n",
    "wid = CanvasImage(image_A)\n",
    "\n",
    "wid.display()\n",
    "\n",
    "# Build an event handler function.\n",
    "def simple_handler(wid, info):\n",
    "    print(info)\n",
    "    \n",
    "# Attach the handler to the widget's on_click events.\n",
    "# wid.on_click(simple_handler)\n",
    "wid.on_mouse_all(simple_handler)"
   ]
  },
  {
   "cell_type": "markdown",
   "metadata": {},
   "source": [
    "Click on the image above and notice the generated event information displayed to the cell's output area."
   ]
  },
  {
   "cell_type": "markdown",
   "metadata": {},
   "source": [
    "## More Complicated Example"
   ]
  },
  {
   "cell_type": "code",
   "execution_count": 16,
   "metadata": {
    "collapsed": false
   },
   "outputs": [],
   "source": [
    "# Build image widget\n",
    "wid_image = CanvasImage(image_A)\n",
    "\n",
    "# Adjust borders\n",
    "wid_image.border_color = 'black'\n",
    "wid_image.border_width = 1\n",
    "\n",
    "# Build info display widgets\n",
    "wid_t = widgets.Text(description='Event', width=120)\n",
    "wid_xy = widgets.Text(description='X, Y', width=100)\n",
    "wid_m = widgets.IntText(description='Moves')\n",
    "wid_c = widgets.IntText(description='Clicks')\n",
    "wid_b = widgets.IntText(description='Buttons')\n",
    "wid_k = widgets.Text(description='Key')\n",
    "\n",
    "wid_info = widgets.VBox((wid_t, wid_xy, wid_m, wid_c, wid_b, wid_k))\n",
    "\n",
    "# Adjust the fonts\n",
    "for w in wid_info.children:\n",
    "    w.font_family = 'monospace'\n",
    "    w.font_size = 14\n",
    "    \n",
    "# Group the parts inside flexboxes\n",
    "wid_outer = widgets.HBox((wid_image, wid_info))"
   ]
  },
  {
   "cell_type": "code",
   "execution_count": 17,
   "metadata": {
    "collapsed": true
   },
   "outputs": [],
   "source": [
    "# Define and attach event handlers\n",
    "def handle_all(wid, info):\n",
    "    wid_t.value = info['type']\n",
    "    wid_b.value = info['buttons']\n",
    "\n",
    "    xy = '{:3d}, {:3d}'.format(info['canvasX'], info['canvasY'])\n",
    "    wid_xy.value = xy\n",
    "    \n",
    "    text_k = []\n",
    "    if info['ctrlKey']:\n",
    "        text_k.append('ctrl')\n",
    "    if info['shiftKey']:\n",
    "        text_k.append('shift')\n",
    "    if info['altKey']:\n",
    "        text_k.append('alt')\n",
    "    text_k = ', '.join(text_k)\n",
    "                    \n",
    "    wid_k.value = text_k\n",
    "                \n",
    "                \n",
    "def handle_move(wid, info):\n",
    "    wid_m.value += 1\n",
    "\n",
    "def handle_up(wid, info):\n",
    "    wid_image.data = image_A\n",
    "\n",
    "def handle_down(wid, info):\n",
    "    wid_image.data = image_B    \n",
    "    \n",
    "def handle_click(wid, info):\n",
    "    wid_c.value += 1\n",
    "\n",
    "# def handle_wheel(wid, info):\n",
    "#     print(info)\n",
    "\n",
    "wid_image.on_mouse_all(handle_all)\n",
    "wid_image.on_mouse_move(handle_move)\n",
    "wid_image.on_mouse_up(handle_up)\n",
    "wid_image.on_mouse_down(handle_down)\n",
    "wid_image.on_click(handle_click)\n",
    "# wid_image.on_wheel(handle_wheel)"
   ]
  },
  {
   "cell_type": "code",
   "execution_count": 18,
   "metadata": {
    "collapsed": false,
    "scrolled": true
   },
   "outputs": [],
   "source": [
    "# Display the compound widget.\n",
    "wid_outer"
   ]
  },
  {
   "cell_type": "code",
   "execution_count": null,
   "metadata": {
    "collapsed": true
   },
   "outputs": [],
   "source": []
  }
 ],
 "metadata": {
  "kernelspec": {
   "display_name": "Python 3",
   "language": "python",
   "name": "python3"
  },
  "language_info": {
   "codemirror_mode": {
    "name": "ipython",
    "version": 3
   },
   "file_extension": ".py",
   "mimetype": "text/x-python",
   "name": "python",
   "nbconvert_exporter": "python",
   "pygments_lexer": "ipython3",
   "version": "3.4.3"
  }
 },
 "nbformat": 4,
 "nbformat_minor": 0
}

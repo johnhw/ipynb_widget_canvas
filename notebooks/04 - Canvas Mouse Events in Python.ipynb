{
 "cells": [
  {
   "cell_type": "markdown",
   "metadata": {},
   "source": [
    "# Canvas Mouse Events in Python"
   ]
  },
  {
   "cell_type": "code",
   "execution_count": 1,
   "metadata": {
    "collapsed": false
   },
   "outputs": [],
   "source": [
    "from __future__ import print_function, unicode_literals, division, absolute_import\n",
    "\n",
    "import imageio\n",
    "import IPython\n",
    "\n",
    "from widget_canvas import CanvasImage\n",
    "\n",
    "from IPython.html import widgets"
   ]
  },
  {
   "cell_type": "markdown",
   "metadata": {},
   "source": [
    "## Load some data"
   ]
  },
  {
   "cell_type": "code",
   "execution_count": 2,
   "metadata": {
    "collapsed": true
   },
   "outputs": [],
   "source": [
    "image_A = imageio.imread('images/Whippet.jpg')\n",
    "image_B = imageio.imread('images/Doberman.jpg')"
   ]
  },
  {
   "cell_type": "markdown",
   "metadata": {},
   "source": [
    "## Simple Example"
   ]
  },
  {
   "cell_type": "code",
   "execution_count": 12,
   "metadata": {
    "collapsed": false,
    "scrolled": false
   },
   "outputs": [
    {
     "name": "stdout",
     "output_type": "stream",
     "text": [
      "{'timeStamp': 1439156459983, 'shiftKey': False, 'ctrlKey': False, 'canvasY': 5, 'altKey': False, 'canvasX': 82, 'type': 'mousemove', 'buttons': 0}\n",
      "{'timeStamp': 1439156460039, 'shiftKey': False, 'ctrlKey': False, 'canvasY': 35, 'altKey': False, 'canvasX': 80, 'type': 'mousemove', 'buttons': 0}\n",
      "{'timeStamp': 1439156460159, 'shiftKey': False, 'ctrlKey': False, 'canvasY': 36, 'altKey': False, 'canvasX': 77, 'type': 'mousedown', 'buttons': 2}\n",
      "{'timeStamp': 1439156460168, 'shiftKey': False, 'ctrlKey': False, 'canvasY': 36, 'altKey': False, 'canvasX': 76, 'type': 'mousemove', 'buttons': 2}\n",
      "{'timeStamp': 1439156460311, 'shiftKey': False, 'ctrlKey': False, 'canvasY': 36, 'altKey': False, 'canvasX': 77, 'type': 'mousemove', 'buttons': 2}\n",
      "{'timeStamp': 1439156460367, 'shiftKey': False, 'ctrlKey': False, 'canvasY': 48, 'altKey': False, 'canvasX': 83, 'type': 'mousemove', 'buttons': 2}\n",
      "{'timeStamp': 1439156460420, 'shiftKey': False, 'ctrlKey': False, 'canvasY': 72, 'altKey': False, 'canvasX': 94, 'type': 'mousemove', 'buttons': 2}\n",
      "{'timeStamp': 1439156460471, 'shiftKey': False, 'ctrlKey': False, 'canvasY': 99, 'altKey': False, 'canvasX': 116, 'type': 'mousemove', 'buttons': 2}\n",
      "{'timeStamp': 1439156460527, 'shiftKey': False, 'ctrlKey': False, 'canvasY': 119, 'altKey': False, 'canvasX': 138, 'type': 'mousemove', 'buttons': 2}\n",
      "{'timeStamp': 1439156460583, 'shiftKey': False, 'ctrlKey': False, 'canvasY': 134, 'altKey': False, 'canvasX': 149, 'type': 'mousemove', 'buttons': 2}\n",
      "{'timeStamp': 1439156460639, 'shiftKey': False, 'ctrlKey': False, 'canvasY': 137, 'altKey': False, 'canvasX': 152, 'type': 'mousemove', 'buttons': 2}\n",
      "{'timeStamp': 1439156460695, 'shiftKey': False, 'ctrlKey': False, 'canvasY': 130, 'altKey': False, 'canvasX': 152, 'type': 'mousemove', 'buttons': 2}\n",
      "{'timeStamp': 1439156460719, 'shiftKey': False, 'ctrlKey': False, 'canvasY': 126, 'altKey': False, 'canvasX': 152, 'type': 'mouseup', 'buttons': 0}\n",
      "{'timeStamp': 1439156460751, 'shiftKey': False, 'ctrlKey': False, 'canvasY': 121, 'altKey': False, 'canvasX': 152, 'type': 'mousemove', 'buttons': 0}\n",
      "{'timeStamp': 1439156460807, 'shiftKey': False, 'ctrlKey': False, 'canvasY': 109, 'altKey': False, 'canvasX': 153, 'type': 'mousemove', 'buttons': 0}\n",
      "{'timeStamp': 1439156460863, 'shiftKey': False, 'ctrlKey': False, 'canvasY': 97, 'altKey': False, 'canvasX': 187, 'type': 'mousemove', 'buttons': 0}\n",
      "{'timeStamp': 1439156510563, 'shiftKey': False, 'ctrlKey': False, 'canvasY': 80, 'altKey': False, 'canvasX': 278, 'type': 'mousemove', 'buttons': 0}\n",
      "{'timeStamp': 1439156510613, 'shiftKey': False, 'ctrlKey': False, 'canvasY': 185, 'altKey': False, 'canvasX': 144, 'type': 'mousemove', 'buttons': 0}\n"
     ]
    }
   ],
   "source": [
    "# Build and display the widget.\n",
    "wid = CanvasImage(image_A)\n",
    "\n",
    "wid.display()\n",
    "\n",
    "# Build an event handler function.\n",
    "def simple_handler(wid, info):\n",
    "    print(info)\n",
    "    \n",
    "# Attach the handler to the widget's on_click events.\n",
    "# wid.on_click(simple_handler)\n",
    "wid.on_mouse_all(simple_handler)"
   ]
  },
  {
   "cell_type": "markdown",
   "metadata": {},
   "source": [
    "Click on the image above and notice the generated event information displayed to the cell's output area."
   ]
  },
  {
   "cell_type": "markdown",
   "metadata": {},
   "source": [
    "## More Complicated Example"
   ]
  },
  {
   "cell_type": "code",
   "execution_count": 5,
   "metadata": {
    "collapsed": false
   },
   "outputs": [],
   "source": [
    "# Build image widget\n",
    "wid_image = CanvasImage(image_A)\n",
    "\n",
    "# Adjust borders\n",
    "wid_image.border_color = 'black'\n",
    "wid_image.border_width = 1\n",
    "\n",
    "# Build info display widgets\n",
    "wid_t = widgets.Text(description='Event', width=120)\n",
    "wid_xy = widgets.Text(description='X, Y', width=100)\n",
    "wid_m = widgets.IntText(description='Moves')\n",
    "wid_c = widgets.IntText(description='Clicks')\n",
    "wid_wx = widgets.IntText(description='Wheel X')\n",
    "wid_wy = widgets.IntText(description='Wheel Y')\n",
    "wid_b = widgets.IntText(description='Buttons')\n",
    "wid_k = widgets.Text(description='Key')\n",
    "\n",
    "wid_info = widgets.VBox((wid_t, wid_xy, wid_m, wid_c, wid_wx, wid_wy, wid_b, wid_k))\n",
    "\n",
    "# Adjust the fonts\n",
    "for w in wid_info.children:\n",
    "    w.font_family = 'monospace'\n",
    "    w.font_size = 14\n",
    "    \n",
    "# Group the parts inside flexboxes\n",
    "wid_compound = widgets.HBox((wid_image, wid_info))"
   ]
  },
  {
   "cell_type": "code",
   "execution_count": 6,
   "metadata": {
    "collapsed": true
   },
   "outputs": [],
   "source": [
    "# Define event handlers\n",
    "def handle_all(wid, info):\n",
    "    wid_t.value = info['type']\n",
    "    wid_b.value = info['buttons']\n",
    "\n",
    "    xy = '{:3d}, {:3d}'.format(info['canvasX'], info['canvasY'])\n",
    "    wid_xy.value = xy\n",
    "    \n",
    "    text_k = []\n",
    "    if info['ctrlKey']:\n",
    "        text_k.append('ctrl')\n",
    "    if info['shiftKey']:\n",
    "        text_k.append('shift')\n",
    "    if info['altKey']:\n",
    "        text_k.append('alt')\n",
    "    text_k = ', '.join(text_k)\n",
    "                    \n",
    "    wid_k.value = text_k\n",
    "                \n",
    "                \n",
    "def handle_move(wid, info):\n",
    "    wid_m.value += 1\n",
    "\n",
    "def handle_up(wid, info):\n",
    "    wid_image.data = image_A\n",
    "\n",
    "def handle_down(wid, info):\n",
    "    wid_image.data = image_B    \n",
    "    \n",
    "def handle_click(wid, info):\n",
    "    wid_c.value += 1\n",
    "\n",
    "def handle_wheel(wid, info):\n",
    "    wid_wx.value += info['deltaX']\n",
    "    wid_wy.value += info['deltaY']\n",
    "\n",
    "# Attach event handlers to canvas widget\n",
    "wid_image.on_mouse_all(handle_all)\n",
    "wid_image.on_mouse_move(handle_move)\n",
    "wid_image.on_mouse_up(handle_up)\n",
    "wid_image.on_mouse_down(handle_down)\n",
    "wid_image.on_click(handle_click)\n",
    "wid_image.on_wheel(handle_wheel)"
   ]
  },
  {
   "cell_type": "code",
   "execution_count": 7,
   "metadata": {
    "collapsed": false,
    "scrolled": true
   },
   "outputs": [],
   "source": [
    "# Display the compound widget.\n",
    "wid_compound"
   ]
  }
 ],
 "metadata": {
  "kernelspec": {
   "display_name": "Python 3",
   "language": "python",
   "name": "python3"
  },
  "language_info": {
   "codemirror_mode": {
    "name": "ipython",
    "version": 3
   },
   "file_extension": ".py",
   "mimetype": "text/x-python",
   "name": "python",
   "nbconvert_exporter": "python",
   "pygments_lexer": "ipython3",
   "version": "3.4.3"
  }
 },
 "nbformat": 4,
 "nbformat_minor": 0
}

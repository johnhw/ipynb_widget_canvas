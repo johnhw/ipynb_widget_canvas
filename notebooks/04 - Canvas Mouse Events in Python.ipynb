{
 "cells": [
  {
   "cell_type": "markdown",
   "metadata": {},
   "source": [
    "# Canvas Mouse Events in Python"
   ]
  },
  {
   "cell_type": "code",
   "execution_count": 1,
   "metadata": {
    "collapsed": false
   },
   "outputs": [],
   "source": [
    "from __future__ import print_function, unicode_literals, division, absolute_import\n",
    "\n",
    "import imageio\n",
    "import IPython\n",
    "\n",
    "from widget_canvas import CanvasImage\n",
    "\n",
    "from IPython.html import widgets"
   ]
  },
  {
   "cell_type": "markdown",
   "metadata": {},
   "source": [
    "## Load some data"
   ]
  },
  {
   "cell_type": "code",
   "execution_count": 2,
   "metadata": {
    "collapsed": true
   },
   "outputs": [],
   "source": [
    "image_A = imageio.imread('images/Whippet.jpg')\n",
    "image_B = imageio.imread('images/Doberman.jpg')"
   ]
  },
  {
   "cell_type": "markdown",
   "metadata": {},
   "source": [
    "## Simple Example"
   ]
  },
  {
   "cell_type": "code",
   "execution_count": 3,
   "metadata": {
    "collapsed": false,
    "scrolled": true
   },
   "outputs": [
    {
     "name": "stdout",
     "output_type": "stream",
     "text": [
      "{'ctrlKey': False, 'shiftKey': False, 'type': 'mousemove', 'altKey': False, 'canvasY': 112, 'canvasX': 316, 'timeStamp': 1436725039099}\n",
      "{'ctrlKey': False, 'shiftKey': False, 'type': 'mousemove', 'altKey': False, 'canvasY': 99, 'canvasX': 251, 'timeStamp': 1436725039155}\n",
      "{'ctrlKey': False, 'shiftKey': False, 'type': 'mousemove', 'altKey': False, 'canvasY': 99, 'canvasX': 233, 'timeStamp': 1436725039211}\n",
      "{'ctrlKey': False, 'shiftKey': False, 'type': 'mousemove', 'altKey': False, 'canvasY': 100, 'canvasX': 223, 'timeStamp': 1436725039266}\n",
      "{'ctrlKey': False, 'shiftKey': False, 'type': 'mousemove', 'altKey': False, 'canvasY': 104, 'canvasX': 207, 'timeStamp': 1436725039322}\n",
      "{'ctrlKey': False, 'shiftKey': False, 'type': 'mousemove', 'altKey': False, 'canvasY': 107, 'canvasX': 195, 'timeStamp': 1436725039373}\n",
      "{'ctrlKey': False, 'shiftKey': False, 'type': 'mousemove', 'altKey': False, 'canvasY': 107, 'canvasX': 193, 'timeStamp': 1436725039586}\n",
      "{'ctrlKey': False, 'shiftKey': False, 'type': 'mousemove', 'altKey': False, 'canvasY': 106, 'canvasX': 195, 'timeStamp': 1436725039675}\n",
      "{'ctrlKey': False, 'shiftKey': False, 'type': 'mousemove', 'altKey': False, 'canvasY': 106, 'canvasX': 195, 'timeStamp': 1436725039867}\n",
      "{'ctrlKey': False, 'shiftKey': False, 'type': 'wheel', 'altKey': False, 'canvasY': 106, 'canvasX': 195, 'timeStamp': 1436725039868}\n",
      "{'ctrlKey': False, 'shiftKey': False, 'type': 'mousemove', 'altKey': False, 'canvasY': 106, 'canvasX': 195, 'timeStamp': 1436725039921}\n",
      "{'ctrlKey': False, 'shiftKey': False, 'type': 'wheel', 'altKey': False, 'canvasY': 106, 'canvasX': 195, 'timeStamp': 1436725039923}\n",
      "{'ctrlKey': False, 'shiftKey': False, 'type': 'mousemove', 'altKey': False, 'canvasY': 106, 'canvasX': 195, 'timeStamp': 1436725040011}\n",
      "{'ctrlKey': False, 'shiftKey': False, 'type': 'wheel', 'altKey': False, 'canvasY': 106, 'canvasX': 195, 'timeStamp': 1436725040012}\n",
      "{'ctrlKey': False, 'shiftKey': False, 'type': 'mousemove', 'altKey': False, 'canvasY': 106, 'canvasX': 195, 'timeStamp': 1436725040324}\n",
      "{'ctrlKey': False, 'shiftKey': False, 'type': 'wheel', 'altKey': False, 'canvasY': 106, 'canvasX': 195, 'timeStamp': 1436725040326}\n",
      "{'ctrlKey': False, 'shiftKey': False, 'type': 'wheel', 'altKey': False, 'canvasY': 106, 'canvasX': 195, 'timeStamp': 1436725040357}\n",
      "{'ctrlKey': False, 'shiftKey': False, 'type': 'mousemove', 'altKey': False, 'canvasY': 106, 'canvasX': 195, 'timeStamp': 1436725040395}\n",
      "{'ctrlKey': False, 'shiftKey': False, 'type': 'wheel', 'altKey': False, 'canvasY': 106, 'canvasX': 195, 'timeStamp': 1436725040396}\n",
      "{'ctrlKey': False, 'shiftKey': False, 'type': 'mousemove', 'altKey': False, 'canvasY': 106, 'canvasX': 195, 'timeStamp': 1436725040452}\n",
      "{'ctrlKey': False, 'shiftKey': False, 'type': 'wheel', 'altKey': False, 'canvasY': 106, 'canvasX': 195, 'timeStamp': 1436725040454}\n",
      "{'ctrlKey': False, 'shiftKey': False, 'type': 'mousemove', 'altKey': False, 'canvasY': 106, 'canvasX': 196, 'timeStamp': 1436725040523}\n",
      "{'ctrlKey': False, 'shiftKey': False, 'type': 'mousemove', 'altKey': False, 'canvasY': 104, 'canvasX': 198, 'timeStamp': 1436725040603}\n",
      "{'ctrlKey': False, 'shiftKey': False, 'type': 'mousemove', 'altKey': False, 'canvasY': 103, 'canvasX': 198, 'timeStamp': 1436725040699}\n",
      "{'ctrlKey': False, 'shiftKey': False, 'type': 'wheel', 'altKey': False, 'canvasY': 103, 'canvasX': 198, 'timeStamp': 1436725040700}\n",
      "{'ctrlKey': False, 'shiftKey': False, 'type': 'wheel', 'altKey': False, 'canvasY': 103, 'canvasX': 198, 'timeStamp': 1436725040716}\n",
      "{'ctrlKey': False, 'shiftKey': False, 'type': 'wheel', 'altKey': False, 'canvasY': 103, 'canvasX': 198, 'timeStamp': 1436725040733}\n",
      "{'ctrlKey': False, 'shiftKey': False, 'type': 'mousemove', 'altKey': False, 'canvasY': 103, 'canvasX': 198, 'timeStamp': 1436725040756}\n",
      "{'ctrlKey': False, 'shiftKey': False, 'type': 'wheel', 'altKey': False, 'canvasY': 103, 'canvasX': 198, 'timeStamp': 1436725040757}\n",
      "{'ctrlKey': False, 'shiftKey': False, 'type': 'wheel', 'altKey': False, 'canvasY': 103, 'canvasX': 198, 'timeStamp': 1436725040789}\n",
      "{'ctrlKey': False, 'shiftKey': False, 'type': 'mousemove', 'altKey': False, 'canvasY': 102, 'canvasX': 198, 'timeStamp': 1436725040882}\n",
      "{'ctrlKey': False, 'shiftKey': False, 'type': 'mousemove', 'altKey': False, 'canvasY': 100, 'canvasX': 199, 'timeStamp': 1436725040946}\n",
      "{'ctrlKey': False, 'shiftKey': False, 'type': 'mousemove', 'altKey': False, 'canvasY': 99, 'canvasX': 200, 'timeStamp': 1436725041002}\n",
      "{'ctrlKey': False, 'shiftKey': False, 'type': 'wheel', 'altKey': False, 'canvasY': 99, 'canvasX': 200, 'timeStamp': 1436725041043}\n",
      "{'ctrlKey': False, 'shiftKey': False, 'type': 'mousemove', 'altKey': False, 'canvasY': 99, 'canvasX': 200, 'timeStamp': 1436725041059}\n",
      "{'ctrlKey': False, 'shiftKey': False, 'type': 'wheel', 'altKey': False, 'canvasY': 99, 'canvasX': 200, 'timeStamp': 1436725041060}\n",
      "{'ctrlKey': False, 'shiftKey': False, 'type': 'wheel', 'altKey': False, 'canvasY': 99, 'canvasX': 200, 'timeStamp': 1436725041083}\n",
      "{'ctrlKey': False, 'shiftKey': False, 'type': 'mousemove', 'altKey': False, 'canvasY': 99, 'canvasX': 200, 'timeStamp': 1436725041115}\n",
      "{'ctrlKey': False, 'shiftKey': False, 'type': 'wheel', 'altKey': False, 'canvasY': 99, 'canvasX': 200, 'timeStamp': 1436725041116}\n",
      "{'ctrlKey': False, 'shiftKey': False, 'type': 'mousemove', 'altKey': False, 'canvasY': 97, 'canvasX': 201, 'timeStamp': 1436725041167}\n",
      "{'ctrlKey': False, 'shiftKey': False, 'type': 'mousemove', 'altKey': False, 'canvasY': 89, 'canvasX': 202, 'timeStamp': 1436725041220}\n",
      "{'ctrlKey': False, 'shiftKey': False, 'type': 'mousemove', 'altKey': False, 'canvasY': 76, 'canvasX': 202, 'timeStamp': 1436725041274}\n",
      "{'ctrlKey': False, 'shiftKey': False, 'type': 'mousemove', 'altKey': False, 'canvasY': 67, 'canvasX': 199, 'timeStamp': 1436725041331}\n",
      "{'ctrlKey': False, 'shiftKey': False, 'type': 'mousemove', 'altKey': False, 'canvasY': 66, 'canvasX': 206, 'timeStamp': 1436725041381}\n",
      "{'ctrlKey': False, 'shiftKey': False, 'type': 'mousemove', 'altKey': False, 'canvasY': 105, 'canvasX': 318, 'timeStamp': 1436725050330}\n",
      "{'ctrlKey': False, 'shiftKey': False, 'type': 'mousemove', 'altKey': False, 'canvasY': 101, 'canvasX': 304, 'timeStamp': 1436725050386}\n",
      "{'ctrlKey': False, 'shiftKey': False, 'type': 'mousemove', 'altKey': False, 'canvasY': 99, 'canvasX': 297, 'timeStamp': 1436725050486}\n",
      "{'ctrlKey': False, 'shiftKey': False, 'type': 'mousemove', 'altKey': False, 'canvasY': 98, 'canvasX': 288, 'timeStamp': 1436725050538}\n",
      "{'ctrlKey': False, 'shiftKey': False, 'type': 'mousemove', 'altKey': False, 'canvasY': 98, 'canvasX': 279, 'timeStamp': 1436725050607}\n",
      "{'ctrlKey': False, 'shiftKey': False, 'type': 'mousemove', 'altKey': False, 'canvasY': 98, 'canvasX': 268, 'timeStamp': 1436725050658}\n",
      "{'ctrlKey': False, 'shiftKey': False, 'type': 'mousemove', 'altKey': False, 'canvasY': 98, 'canvasX': 265, 'timeStamp': 1436725051066}\n",
      "{'ctrlKey': False, 'shiftKey': False, 'type': 'wheel', 'altKey': False, 'canvasY': 98, 'canvasX': 265, 'timeStamp': 1436725051067}\n",
      "{'ctrlKey': False, 'shiftKey': False, 'type': 'mousemove', 'altKey': False, 'canvasY': 98, 'canvasX': 265, 'timeStamp': 1436725051154}\n",
      "{'ctrlKey': False, 'shiftKey': False, 'type': 'wheel', 'altKey': False, 'canvasY': 98, 'canvasX': 265, 'timeStamp': 1436725051156}\n",
      "{'ctrlKey': False, 'shiftKey': False, 'type': 'wheel', 'altKey': False, 'canvasY': 98, 'canvasX': 265, 'timeStamp': 1436725051194}\n",
      "{'ctrlKey': False, 'shiftKey': False, 'type': 'mousemove', 'altKey': False, 'canvasY': 98, 'canvasX': 265, 'timeStamp': 1436725051251}\n",
      "{'ctrlKey': False, 'shiftKey': False, 'type': 'wheel', 'altKey': False, 'canvasY': 98, 'canvasX': 265, 'timeStamp': 1436725051252}\n",
      "{'ctrlKey': False, 'shiftKey': False, 'type': 'mousemove', 'altKey': False, 'canvasY': 98, 'canvasX': 265, 'timeStamp': 1436725051302}\n",
      "{'ctrlKey': False, 'shiftKey': False, 'type': 'wheel', 'altKey': False, 'canvasY': 98, 'canvasX': 265, 'timeStamp': 1436725051304}\n",
      "{'ctrlKey': False, 'shiftKey': False, 'type': 'wheel', 'altKey': False, 'canvasY': 98, 'canvasX': 265, 'timeStamp': 1436725051339}\n",
      "{'ctrlKey': False, 'shiftKey': False, 'type': 'mousemove', 'altKey': False, 'canvasY': 98, 'canvasX': 265, 'timeStamp': 1436725051388}\n",
      "{'ctrlKey': False, 'shiftKey': False, 'type': 'wheel', 'altKey': False, 'canvasY': 98, 'canvasX': 265, 'timeStamp': 1436725051389}\n",
      "{'ctrlKey': False, 'shiftKey': False, 'type': 'mousemove', 'altKey': False, 'canvasY': 98, 'canvasX': 265, 'timeStamp': 1436725051522}\n",
      "{'ctrlKey': False, 'shiftKey': False, 'type': 'wheel', 'altKey': False, 'canvasY': 98, 'canvasX': 265, 'timeStamp': 1436725051524}\n",
      "{'ctrlKey': False, 'shiftKey': False, 'type': 'wheel', 'altKey': False, 'canvasY': 98, 'canvasX': 265, 'timeStamp': 1436725051548}\n",
      "{'ctrlKey': False, 'shiftKey': False, 'type': 'wheel', 'altKey': False, 'canvasY': 99, 'canvasX': 265, 'timeStamp': 1436725051564}\n",
      "{'ctrlKey': False, 'shiftKey': False, 'type': 'mousemove', 'altKey': False, 'canvasY': 99, 'canvasX': 265, 'timeStamp': 1436725051580}\n",
      "{'ctrlKey': False, 'shiftKey': False, 'type': 'wheel', 'altKey': False, 'canvasY': 99, 'canvasX': 265, 'timeStamp': 1436725051581}\n",
      "{'ctrlKey': False, 'shiftKey': False, 'type': 'wheel', 'altKey': False, 'canvasY': 99, 'canvasX': 265, 'timeStamp': 1436725051597}\n",
      "{'ctrlKey': False, 'shiftKey': False, 'type': 'wheel', 'altKey': False, 'canvasY': 99, 'canvasX': 265, 'timeStamp': 1436725051616}\n",
      "{'ctrlKey': False, 'shiftKey': False, 'type': 'mousemove', 'altKey': False, 'canvasY': 100, 'canvasX': 265, 'timeStamp': 1436725051651}\n",
      "{'ctrlKey': False, 'shiftKey': False, 'type': 'wheel', 'altKey': False, 'canvasY': 100, 'canvasX': 265, 'timeStamp': 1436725051652}\n",
      "{'ctrlKey': False, 'shiftKey': False, 'type': 'mousemove', 'altKey': False, 'canvasY': 102, 'canvasX': 266, 'timeStamp': 1436725051703}\n",
      "{'ctrlKey': False, 'shiftKey': False, 'type': 'mousemove', 'altKey': False, 'canvasY': 103, 'canvasX': 266, 'timeStamp': 1436725051922}\n",
      "{'ctrlKey': False, 'shiftKey': False, 'type': 'wheel', 'altKey': False, 'canvasY': 103, 'canvasX': 266, 'timeStamp': 1436725051923}\n",
      "{'ctrlKey': False, 'shiftKey': False, 'type': 'wheel', 'altKey': False, 'canvasY': 103, 'canvasX': 266, 'timeStamp': 1436725051943}\n",
      "{'ctrlKey': False, 'shiftKey': False, 'type': 'wheel', 'altKey': False, 'canvasY': 103, 'canvasX': 266, 'timeStamp': 1436725051956}\n",
      "{'ctrlKey': False, 'shiftKey': False, 'type': 'wheel', 'altKey': False, 'canvasY': 103, 'canvasX': 266, 'timeStamp': 1436725051966}\n",
      "{'ctrlKey': False, 'shiftKey': False, 'type': 'wheel', 'altKey': False, 'canvasY': 104, 'canvasX': 266, 'timeStamp': 1436725051982}\n",
      "{'ctrlKey': False, 'shiftKey': False, 'type': 'wheel', 'altKey': False, 'canvasY': 104, 'canvasX': 266, 'timeStamp': 1436725052012}\n",
      "{'ctrlKey': False, 'shiftKey': False, 'type': 'mousemove', 'altKey': False, 'canvasY': 104, 'canvasX': 267, 'timeStamp': 1436725054098}\n",
      "{'ctrlKey': False, 'shiftKey': False, 'type': 'mousemove', 'altKey': False, 'canvasY': 105, 'canvasX': 271, 'timeStamp': 1436725054170}\n",
      "{'ctrlKey': False, 'shiftKey': False, 'type': 'mousemove', 'altKey': False, 'canvasY': 106, 'canvasX': 272, 'timeStamp': 1436725054234}\n",
      "{'ctrlKey': False, 'shiftKey': False, 'type': 'mousemove', 'altKey': False, 'canvasY': 212, 'canvasX': 318, 'timeStamp': 1436725074672}\n",
      "{'ctrlKey': False, 'shiftKey': False, 'type': 'mousemove', 'altKey': False, 'canvasY': 0, 'canvasX': 290, 'timeStamp': 1436731801675}\n",
      "{'ctrlKey': False, 'shiftKey': False, 'type': 'mousemove', 'altKey': False, 'canvasY': 33, 'canvasX': 264, 'timeStamp': 1436731801731}\n",
      "{'ctrlKey': False, 'shiftKey': False, 'type': 'mousemove', 'altKey': False, 'canvasY': 59, 'canvasX': 267, 'timeStamp': 1436731801787}\n",
      "{'ctrlKey': False, 'shiftKey': False, 'type': 'mousemove', 'altKey': False, 'canvasY': 64, 'canvasX': 263, 'timeStamp': 1436731801837}\n",
      "{'ctrlKey': False, 'shiftKey': False, 'type': 'mousemove', 'altKey': False, 'canvasY': 63, 'canvasX': 236, 'timeStamp': 1436731801888}\n",
      "{'ctrlKey': False, 'shiftKey': False, 'type': 'mousemove', 'altKey': False, 'canvasY': 47, 'canvasX': 162, 'timeStamp': 1436731801940}\n",
      "{'ctrlKey': False, 'shiftKey': False, 'type': 'mousemove', 'altKey': False, 'canvasY': 41, 'canvasX': 91, 'timeStamp': 1436731801992}\n",
      "{'ctrlKey': False, 'shiftKey': False, 'type': 'mousemove', 'altKey': False, 'canvasY': 41, 'canvasX': 2, 'timeStamp': 1436731802045}\n"
     ]
    }
   ],
   "source": [
    "# Build and display the widget.\n",
    "wid = CanvasImage(image_A)\n",
    "\n",
    "wid.display()\n",
    "\n",
    "# Build an event handler function.\n",
    "def simple_handler(wid, info):\n",
    "    print(info)\n",
    "    \n",
    "# Attach the handler to the widget's on_click events.\n",
    "# wid.on_click(simple_handler)\n",
    "wid.on_mouse_all(simple_handler)"
   ]
  },
  {
   "cell_type": "markdown",
   "metadata": {},
   "source": [
    "Click on the image above and notice the generated event information displayed to the cell's output area."
   ]
  },
  {
   "cell_type": "markdown",
   "metadata": {},
   "source": [
    "## More Complicated Example"
   ]
  },
  {
   "cell_type": "code",
   "execution_count": 4,
   "metadata": {
    "collapsed": false
   },
   "outputs": [],
   "source": [
    "# Build image widget\n",
    "wid_image = CanvasImage(image_A)\n",
    "\n",
    "# Adjust borders\n",
    "wid_image.border_color = 'black'\n",
    "wid_image.border_width = 1\n",
    "\n",
    "# Build info display widgets\n",
    "wid_t = widgets.Text(description='Event', width=120)\n",
    "wid_x = widgets.IntText(description='X')\n",
    "wid_y = widgets.IntText(description='Y')\n",
    "wid_m = widgets.IntText(description='Moves')\n",
    "wid_c = widgets.IntText(description='Clicks')\n",
    "wid_k = widgets.Text(description='Key')\n",
    "\n",
    "wid_info = widgets.VBox((wid_t, wid_x, wid_y, wid_m, wid_c, wid_k))\n",
    "\n",
    "# Adjust the fonts\n",
    "for w in wid_info.children:\n",
    "    w.font_family = 'monospace'\n",
    "    w.font_size = 14\n",
    "    \n",
    "# Group the parts inside flexboxes\n",
    "wid_outer = widgets.HBox((wid_image, wid_info))"
   ]
  },
  {
   "cell_type": "code",
   "execution_count": 5,
   "metadata": {
    "collapsed": false,
    "scrolled": true
   },
   "outputs": [],
   "source": [
    "# Display widget.\n",
    "wid_outer"
   ]
  },
  {
   "cell_type": "code",
   "execution_count": 12,
   "metadata": {
    "collapsed": false
   },
   "outputs": [
    {
     "data": {
      "text/plain": [
       "220"
      ]
     },
     "execution_count": 12,
     "metadata": {},
     "output_type": "execute_result"
    }
   ],
   "source": [
    "wid_image.height"
   ]
  },
  {
   "cell_type": "code",
   "execution_count": 16,
   "metadata": {
    "collapsed": true
   },
   "outputs": [],
   "source": [
    "# Define and attach event handlers\n",
    "def handle_all(wid, info):\n",
    "    wid_t.value = info['type']\n",
    "    wid_x.value = info['canvasX']\n",
    "    wid_y.value = info['canvasY']\n",
    "    \n",
    "    text_k = []\n",
    "    if info['ctrlKey']:\n",
    "        text_k.append('ctrl')\n",
    "    if info['shiftKey']:\n",
    "        text_k.append('shift')\n",
    "    if info['altKey']:\n",
    "        text_k.append('alt')\n",
    "    text_k = ', '.join(text_k)\n",
    "                    \n",
    "    wid_k.value = text_k\n",
    "                \n",
    "                \n",
    "def handle_move(wid, info):\n",
    "    wid_m.value += 1\n",
    "\n",
    "def handle_up(wid, info):\n",
    "    wid_image.data = image_A\n",
    "\n",
    "def handle_down(wid, info):\n",
    "    wid_image.data = image_B    \n",
    "    \n",
    "def handle_click(wid, info):\n",
    "    wid_c.value += 1\n",
    "\n",
    "# def handle_wheel(wid, info):\n",
    "#     print(info)\n",
    "\n",
    "wid_image.on_mouse_all(handle_all)\n",
    "wid_image.on_mouse_move(handle_move)\n",
    "wid_image.on_mouse_up(handle_up)\n",
    "wid_image.on_mouse_down(handle_down)\n",
    "wid_image.on_click(handle_click)\n",
    "# wid_image.on_wheel(handle_wheel)"
   ]
  },
  {
   "cell_type": "code",
   "execution_count": null,
   "metadata": {
    "collapsed": false
   },
   "outputs": [],
   "source": []
  }
 ],
 "metadata": {
  "kernelspec": {
   "display_name": "Python 3",
   "language": "python",
   "name": "python3"
  },
  "language_info": {
   "codemirror_mode": {
    "name": "ipython",
    "version": 3
   },
   "file_extension": ".py",
   "mimetype": "text/x-python",
   "name": "python",
   "nbconvert_exporter": "python",
   "pygments_lexer": "ipython3",
   "version": "3.4.3"
  }
 },
 "nbformat": 4,
 "nbformat_minor": 0
}

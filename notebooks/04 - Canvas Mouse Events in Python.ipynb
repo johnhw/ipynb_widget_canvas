{
 "cells": [
  {
   "cell_type": "markdown",
   "metadata": {},
   "source": [
    "# Canvas Mouse Events in Python"
   ]
  },
  {
   "cell_type": "code",
   "execution_count": 202,
   "metadata": {
    "collapsed": false
   },
   "outputs": [],
   "source": [
    "from __future__ import print_function, unicode_literals, division, absolute_import\n",
    "\n",
    "import imageio\n",
    "import IPython\n",
    "from IPython.html import widgets\n",
    "\n",
    "from widget_canvas import widget_canvas"
   ]
  },
  {
   "cell_type": "markdown",
   "metadata": {},
   "source": [
    "## Load some data"
   ]
  },
  {
   "cell_type": "code",
   "execution_count": 203,
   "metadata": {
    "collapsed": true
   },
   "outputs": [],
   "source": [
    "image_A = imageio.imread('images/Whippet.jpg')\n",
    "image_B = imageio.imread('images/Doberman.jpg')"
   ]
  },
  {
   "cell_type": "markdown",
   "metadata": {},
   "source": [
    "## Simple Example"
   ]
  },
  {
   "cell_type": "code",
   "execution_count": 204,
   "metadata": {
    "collapsed": false
   },
   "outputs": [],
   "source": [
    "# Build and display the widget.\n",
    "wid = widget_canvas.CanvasImage(image_A)\n",
    "\n",
    "wid.display()\n",
    "\n",
    "# Build an event handler function.\n",
    "def simple_handler(wid, info):\n",
    "    print(info)\n",
    "    \n",
    "# Attach the handler to the widget's on_click events.\n",
    "wid.on_click(simple_handler)"
   ]
  },
  {
   "cell_type": "markdown",
   "metadata": {},
   "source": [
    "Click on the image above and notice the generated event information displayed to the cell's output area."
   ]
  },
  {
   "cell_type": "markdown",
   "metadata": {},
   "source": [
    "## More Complicated Example"
   ]
  },
  {
   "cell_type": "code",
   "execution_count": 205,
   "metadata": {
    "collapsed": false
   },
   "outputs": [],
   "source": [
    "# Build image widget\n",
    "wid_image = widget_canvas.CanvasImage(image_A)\n",
    "\n",
    "# Adjust borders\n",
    "wid_image.border_color = 'black'\n",
    "wid_image.border_width = 1\n",
    "\n",
    "# Build info display widgets\n",
    "wid_t = widgets.Text(description='Event', width=120)\n",
    "wid_x = widgets.IntText(description='X')\n",
    "wid_y = widgets.IntText(description='Y')\n",
    "wid_m = widgets.IntText(description='Moves')\n",
    "wid_c = widgets.IntText(description='Clicks')\n",
    "\n",
    "wid_info = widgets.VBox((wid_t, wid_x, wid_y, wid_m, wid_c))\n",
    "\n",
    "# Adjust the fonts\n",
    "for w in wid_info.children:\n",
    "    w.font_family = 'monospace'\n",
    "    w.font_size = 14\n",
    "    \n",
    "# Group the parts inside flexboxes\n",
    "wid_outer = widgets.HBox((wid_image, wid_info))"
   ]
  },
  {
   "cell_type": "code",
   "execution_count": 206,
   "metadata": {
    "collapsed": false,
    "scrolled": true
   },
   "outputs": [],
   "source": [
    "wid_outer"
   ]
  },
  {
   "cell_type": "code",
   "execution_count": 207,
   "metadata": {
    "collapsed": true
   },
   "outputs": [],
   "source": [
    "# Define and attach event handlers\n",
    "def handle_all(wid, info):\n",
    "    wid_t.value = info['type']\n",
    "    wid_x.value = info['canvasX']\n",
    "    wid_y.value = info['canvasY']\n",
    "    \n",
    "def handle_move(wid, info):\n",
    "    wid_m.value += 1\n",
    "\n",
    "def handle_up(wid, info):\n",
    "    wid_image.data = image_A\n",
    "\n",
    "def handle_down(wid, info):\n",
    "    wid_image.data = image_B    \n",
    "    \n",
    "def handle_click(wid, info):\n",
    "    wid_c.value += 1\n",
    "\n",
    "# def handle_wheel(wid, info):\n",
    "#     print(info)\n",
    "\n",
    "wid_image.on_mouse_all(handle_all)\n",
    "wid_image.on_mouse_move(handle_move)\n",
    "wid_image.on_mouse_up(handle_up)\n",
    "wid_image.on_mouse_down(handle_down)\n",
    "wid_image.on_click(handle_click)\n",
    "# wid_image.on_wheel(handle_wheel)"
   ]
  },
  {
   "cell_type": "code",
   "execution_count": null,
   "metadata": {
    "collapsed": false
   },
   "outputs": [],
   "source": []
  }
 ],
 "metadata": {
  "kernelspec": {
   "display_name": "Python 3",
   "language": "python",
   "name": "python3"
  },
  "language_info": {
   "codemirror_mode": {
    "name": "ipython",
    "version": 3
   },
   "file_extension": ".py",
   "mimetype": "text/x-python",
   "name": "python",
   "nbconvert_exporter": "python",
   "pygments_lexer": "ipython3",
   "version": "3.4.3"
  }
 },
 "nbformat": 4,
 "nbformat_minor": 0
}

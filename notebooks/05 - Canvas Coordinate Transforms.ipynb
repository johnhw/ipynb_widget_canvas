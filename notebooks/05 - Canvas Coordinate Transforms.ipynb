{
 "cells": [
  {
   "cell_type": "markdown",
   "metadata": {},
   "source": [
    "# Canvas Coordinate Transforms"
   ]
  },
  {
   "cell_type": "markdown",
   "metadata": {},
   "source": [
    "## Notes and Links\n",
    "- http://www.whatwg.org/specs/web-apps/current-work/multipage/the-canvas-element.html#drawing-images\n",
    "- http://developers.whatwg.org/the-canvas-element.html#transformations\n",
    "- https://developer.mozilla.org/en-US/docs/Web/API/CanvasRenderingContext2D\n",
    "- https://developer.mozilla.org/en-US/docs/Web/Guide/HTML/Canvas_tutorial/Transformations\n",
    "- https://developer.mozilla.org/en-US/docs/Web/HTML/Canvas/Drawing_graphics_with_canvas\n",
    "- See the list here [whatwg](http://www.whatwg.org/specs/web-apps/current-work/multipage/the-canvas-element.html#drawing-images) for a description of what happens at each processing step.\n",
    "\n",
    "\n",
    "## To Do:\n",
    "- Review and test updates to Transform callback function.\n",
    "- Incorporate Pan_Zoom_Rotate examples.\n",
    "- Support changing `imageSmoothing` option on canvas.\n",
    "- Transfer prototype Notebook code for handling/generating Transform events into a proper Python module.  Place into own module, or perhaps inside of existing Transform.py.\n",
    "\n",
    "- Check for mouse leave/enter canvas for more robust drag event handling / responsiveness\n",
    "\n",
    "- Ideas for interactive drag & resize:\n",
    "    - Look into resizable canvas by click/dragging edge or corner\n",
    "    - [canvas resize](http://www.html5canvastutorials.com/labs/html5-canvas-drag-and-drop-resize-and-invert-images)\n",
    "    - Possible ideas at [StackOverflow](http://stackoverflow.com/questions/1977741/resizable-canvas-jquery-ui)\n",
    "\n",
    "\n",
    "## To Do Later:\n",
    "\n",
    "- Reduce latencies in mouse/transform responsiveness:\n",
    "    - Look for areas to eliminate redundancies.\n",
    "    - Move more code from Python back-end to JavaScript front-end.  I suspect the major source of latency is the round-trip between back-end and front-end while responding to user input mouse events.\n",
    "    - The following bits of code will be useful when moving stsuff to the front-end:\n",
    "        - Blog post: http://simonsarris.com/blog/471-a-transformation-class-for-canvas-to-keep-track-of-the-transformation-matrix\n",
    "        - Github repo: https://github.com/simonsarris/Canvas-tutorials/blob/master/transform.js\n",
    "        - Grab a `decompose()` function from here: https://github.com/paperjs/paper.js/blob/master/src/basic/Matrix.js\n",
    "\n",
    "## Done:\n",
    "- Transform to be implemented in parts.  Six-element vector of the numbers making up the transform matrix will be basic data synced between front- and bak-ends.- Examples maniplating image with transforms\n",
    "- Example with dispaying mouse motion & click event info via Text Widget\n",
    "- Initialize Python class, with or without an image.\n",
    "- CSS border properties managed through `DOMWidget`'s methods `get_css()` and `set_css()`.\n",
    "- Image is class property, src is the traitlet synchronized\n",
    "- Canvas events propagated to Python side:\n",
    "    - Capture mouse wheel/scroll [events](http://stackoverflow.com/questions/10313142/javascript-capture-mouse-wheel-event-and-do-not-scroll-the-page)\n",
    "    - mouse click and motion handling: [example code](http://stackoverflow.com/questions/10001283/html5-canvas-how-to-handle-mousedown-mouseup-mouseclick)\n",
    "\n",
    "    - mouse coordinate [awesome example](http://www.html5canvastutorials.com/advanced/html5-canvas-mouse-coordinates/)\n",
    "- All mouse events are to carry similar information.\n",
    "- Receive mouse event on Python side.\n",
    "- Interpret mouse down/up as click event on Python side.  May require explicitly registering event handler in Python.\n",
    "- Demonstrate syncing Python dicts <--> JavaScript object literals via Dict traitlet.\n"
   ]
  },
  {
   "cell_type": "markdown",
   "metadata": {},
   "source": [
    "## Load image data"
   ]
  },
  {
   "cell_type": "code",
   "execution_count": 1,
   "metadata": {
    "collapsed": false
   },
   "outputs": [],
   "source": [
    "from __future__ import print_function, unicode_literals, division, absolute_import\n",
    "\n",
    "from widget_canvas import CanvasImage\n",
    "from widget_canvas import image\n",
    "\n",
    "import toyplot as tp\n",
    "import IPython\n",
    "from IPython.html import widgets"
   ]
  },
  {
   "cell_type": "code",
   "execution_count": 2,
   "metadata": {
    "collapsed": true
   },
   "outputs": [],
   "source": [
    "# Load two images.\n",
    "data_A = image.read('images/Whippet.jpg')\n",
    "data_B = image.read('images/Doberman.jpg')"
   ]
  },
  {
   "cell_type": "markdown",
   "metadata": {},
   "source": [
    "## Canvas 2D Image Transformations"
   ]
  },
  {
   "cell_type": "markdown",
   "metadata": {},
   "source": [
    "The `Canvas Element` does not do a good job of keeping track of its own transformation matrix.  Or at least the API does not make it easily retrievable once it's been set.  I wrote a Python helper class based on an earlier JavaScript implementation by Simon Sarris: [transform.js](https://github.com/simonsarris/Canvas-tutorials/blob/master/transform.js)."
   ]
  },
  {
   "cell_type": "markdown",
   "metadata": {},
   "source": [
    "Canvas Element and image transformations: \n",
    "- Great info about specifying the source rectangle, the destination rectangle, and how the transform is applied: [link](http://www.whatwg.org/specs/web-apps/current-work/multipage/the-canvas-element.html#drawing-images)\n",
    "\n",
    "- http://developers.whatwg.org/the-canvas-element.html#transformations\n",
    "- https://developer.mozilla.org/en-US/docs/Web/API/CanvasRenderingContext2D\n",
    "- https://developer.mozilla.org/en-US/docs/Web/Guide/HTML/Canvas_tutorial/Transformations\n",
    "- https://developer.mozilla.org/en-US/docs/Web/HTML/Canvas/Drawing_graphics_with_canvas"
   ]
  },
  {
   "cell_type": "markdown",
   "metadata": {},
   "source": [
    "## `transform.py`"
   ]
  },
  {
   "cell_type": "code",
   "execution_count": 3,
   "metadata": {
    "collapsed": false
   },
   "outputs": [],
   "source": [
    "from widget_canvas import transform"
   ]
  },
  {
   "cell_type": "code",
   "execution_count": 4,
   "metadata": {
    "collapsed": false
   },
   "outputs": [],
   "source": [
    "T = transform.Transform()"
   ]
  },
  {
   "cell_type": "code",
   "execution_count": 5,
   "metadata": {
    "collapsed": false
   },
   "outputs": [],
   "source": [
    "T.reset()"
   ]
  },
  {
   "cell_type": "code",
   "execution_count": 6,
   "metadata": {
    "collapsed": false
   },
   "outputs": [],
   "source": [
    "G = T.translate((4,4)).rotate(45/180.*np.pi)"
   ]
  },
  {
   "cell_type": "code",
   "execution_count": null,
   "metadata": {
    "collapsed": false
   },
   "outputs": [],
   "source": []
  },
  {
   "cell_type": "code",
   "execution_count": 7,
   "metadata": {
    "collapsed": false
   },
   "outputs": [
    {
     "data": {
      "text/latex": [
       "\n",
       "                \\begin{equation*}\n",
       "                M = \\begin{vmatrix}   0.71 &   0.71 &  -4.00 \\\\\n",
       "                                        -0.71 &   0.71 &  -4.00 \\\\\n",
       "                                         0.00 &   0.00 &   1.00 \\end{vmatrix}\n",
       "                \\end{equation*}\n",
       "                "
      ],
      "text/plain": [
       "  0.71   0.71  -4.00\n",
       " -0.71   0.71  -4.00\n",
       "  0.00   0.00   1.00"
      ]
     },
     "execution_count": 7,
     "metadata": {},
     "output_type": "execute_result"
    }
   ],
   "source": [
    "G.invert()"
   ]
  },
  {
   "cell_type": "code",
   "execution_count": 8,
   "metadata": {
    "collapsed": true
   },
   "outputs": [],
   "source": [
    "palette = tp.color.brewer('Set1', 3)"
   ]
  },
  {
   "cell_type": "code",
   "execution_count": 20,
   "metadata": {
    "collapsed": true
   },
   "outputs": [],
   "source": [
    "points = [[0.0, 0.0],\n",
    "          [1.0, 0.1],\n",
    "          [2.0, 3.0],\n",
    "          [1.5, 2.0],\n",
    "          [1.0, 3.5]]\n",
    "\n",
    "points = np.asarray(points)"
   ]
  },
  {
   "cell_type": "code",
   "execution_count": 22,
   "metadata": {
    "collapsed": false
   },
   "outputs": [
    {
     "data": {
      "text/html": [
       "<div class=\"toyplot-color-Palette\" style=\"overflow:hidden; height:auto\"><div style=\"float:left;width:20px;height:20px;background-color:rgba(89.4%,10.2%,11%,1)\"></div><div style=\"float:left;width:20px;height:20px;background-color:rgba(21.6%,49.4%,72.2%,1)\"></div><div style=\"float:left;width:20px;height:20px;background-color:rgba(30.2%,68.6%,29%,1)\"></div></div>"
      ],
      "text/plain": [
       "<toyplot.color.Palette at 0x7f127fdb0898>"
      ]
     },
     "metadata": {},
     "output_type": "display_data"
    },
    {
     "data": {
      "text/html": [
       "<div align=\"center\" class=\"toyplot\" id=\"t86a37cc237884699bccd02c0d1068d62\"><svg height=\"400.0px\" id=\"t9e8566fc7e0d467ca4a94703195ce4ee\" preserveAspectRatio=\"xMidyMid meet\" style=\"background-color:transparent;fill:rgb(16.1%,15.3%,14.1%);fill-opacity:1.0;font-family:helvetica;font-size:12px;opacity:1.0;stroke:rgb(16.1%,15.3%,14.1%);stroke-opacity:1.0;stroke-width:1.0\" viewBox=\"0 0 500.0 400.0\" width=\"500.0px\" xmlns=\"http://www.w3.org/2000/svg\" xmlns:toyplot=\"http://www.sandia.gov/toyplot\"><g class=\"toyplot-axes-Cartesian\" id=\"t18a71c97c24b4a94b35b1c9b5adc3d7c\"><clipPath id=\"tb2727c6f17ae43f4817423da5e492e30\"><rect height=\"300.0\" width=\"400.0\" x=\"50.0\" y=\"50.0\"></rect></clipPath><g class=\"toyplot-coordinate-events\" clip-path=\"url(#tb2727c6f17ae43f4817423da5e492e30)\" style=\"cursor:crosshair\"><rect height=\"300.0\" style=\"pointer-events:all;visibility:hidden\" width=\"400.0\" x=\"50.0\" y=\"50.0\"></rect><g class=\"toyplot-mark-Scatterplot\" id=\"t30fd49fbb83340ea9e7d4a70a9ce89c8\" style=\"stroke:none\"><g class=\"toyplot-Series\"><g class=\"toyplot-Datum\" style=\"fill:rgb(89.4%,10.2%,11%);fill-opacity:1.0;opacity:1.0;stroke:rgb(89.4%,10.2%,11%);stroke-opacity:1.0\"><circle cx=\"60.0\" cy=\"340.0\" r=\"3.5355339059327378\"></circle></g><g class=\"toyplot-Datum\" style=\"fill:rgb(89.4%,10.2%,11%);fill-opacity:1.0;opacity:1.0;stroke:rgb(89.4%,10.2%,11%);stroke-opacity:1.0\"><circle cx=\"250.0\" cy=\"332.0\" r=\"3.5355339059327378\"></circle></g><g class=\"toyplot-Datum\" style=\"fill:rgb(89.4%,10.2%,11%);fill-opacity:1.0;opacity:1.0;stroke:rgb(89.4%,10.2%,11%);stroke-opacity:1.0\"><circle cx=\"440.0\" cy=\"100.00000000000001\" r=\"3.5355339059327378\"></circle></g><g class=\"toyplot-Datum\" style=\"fill:rgb(89.4%,10.2%,11%);fill-opacity:1.0;opacity:1.0;stroke:rgb(89.4%,10.2%,11%);stroke-opacity:1.0\"><circle cx=\"345.0\" cy=\"180.0\" r=\"3.5355339059327378\"></circle></g><g class=\"toyplot-Datum\" style=\"fill:rgb(89.4%,10.2%,11%);fill-opacity:1.0;opacity:1.0;stroke:rgb(89.4%,10.2%,11%);stroke-opacity:1.0\"><circle cx=\"250.0\" cy=\"60.0\" r=\"3.5355339059327378\"></circle></g></g></g></g><g class=\"toyplot-coordinates\" style=\"visibility:hidden\"><rect height=\"14.0\" style=\"fill:rgb(100%,100%,100%);fill-opacity:1.0;opacity:0.75;stroke:none\" width=\"90.0\" x=\"350.0\" y=\"60.0\"></rect><text style=\"alignment-baseline:middle;font-size:10px;font-weight:normal;stroke:none;text-anchor:middle\" x=\"395.0\" y=\"67.0\"></text></g><line style=\"\" x1=\"60.0\" x2=\"440.0\" y1=\"350.0\" y2=\"350.0\"></line><g><text style=\"alignment-baseline:middle;baseline-shift:-80%;font-size:10px;font-weight:normal;stroke:none;text-anchor:middle\" x=\"60.0\" y=\"350.0\">0.0</text><text style=\"alignment-baseline:middle;baseline-shift:-80%;font-size:10px;font-weight:normal;stroke:none;text-anchor:middle\" x=\"155.0\" y=\"350.0\">0.5</text><text style=\"alignment-baseline:middle;baseline-shift:-80%;font-size:10px;font-weight:normal;stroke:none;text-anchor:middle\" x=\"250.0\" y=\"350.0\">1.0</text><text style=\"alignment-baseline:middle;baseline-shift:-80%;font-size:10px;font-weight:normal;stroke:none;text-anchor:middle\" x=\"345.0\" y=\"350.0\">1.5</text><text style=\"alignment-baseline:middle;baseline-shift:-80%;font-size:10px;font-weight:normal;stroke:none;text-anchor:middle\" x=\"440.0\" y=\"350.0\">2.0</text></g><line style=\"\" x1=\"50.0\" x2=\"50.0\" y1=\"60.0\" y2=\"340.0\"></line><g><text style=\"alignment-baseline:middle;baseline-shift:80%;font-size:10px;font-weight:normal;stroke:none;text-anchor:middle\" transform=\"rotate(-90, 50.0, 340.0)\" x=\"50.0\" y=\"340.0\">0</text><text style=\"alignment-baseline:middle;baseline-shift:80%;font-size:10px;font-weight:normal;stroke:none;text-anchor:middle\" transform=\"rotate(-90, 50.0, 260.0)\" x=\"50.0\" y=\"260.0\">1</text><text style=\"alignment-baseline:middle;baseline-shift:80%;font-size:10px;font-weight:normal;stroke:none;text-anchor:middle\" transform=\"rotate(-90, 50.0, 180.0)\" x=\"50.0\" y=\"180.0\">2</text><text style=\"alignment-baseline:middle;baseline-shift:80%;font-size:10px;font-weight:normal;stroke:none;text-anchor:middle\" transform=\"rotate(-90, 50.0, 100.00000000000001)\" x=\"50.0\" y=\"100.00000000000001\">3</text></g></g></svg><div class=\"toyplot-controls\"><ul class=\"toyplot-mark-popup\" onmouseleave=\"this.style.visibility='hidden'\" style=\"background:rgba(0%,0%,0%,0.75);border:0;border-radius:6px;color:white;cursor:default;list-style:none;margin:0;padding:5px;position:fixed;visibility:hidden\"><li class=\"toyplot-mark-popup-title\" style=\"color:lightgray;cursor:default;padding:5px;list-style:none;margin:0;\"></li><li class=\"toyplot-mark-popup-save-csv\" onmouseout=\"this.style.color='white';this.style.background='steelblue'\" onmouseover=\"this.style.color='steelblue';this.style.background='white'\" style=\"border-radius:3px;padding:5px;list-style:none;margin:0;\">Save as .csv</li></ul><script>\n",
       "(function()\n",
       "{\n",
       "  if(window.CSS !== undefined && window.CSS.supports !== undefined)\n",
       "  {\n",
       "    if(!window.CSS.supports(\"alignment-baseline\", \"middle\"))\n",
       "    {\n",
       "      var re = /\\s*alignment-baseline\\s*:\\s*([^;\\s]*)\\s*/;\n",
       "      var text = document.querySelectorAll(\"#t86a37cc237884699bccd02c0d1068d62 text\");\n",
       "      for(var i = 0; i != text.length; ++i)\n",
       "      {\n",
       "        var match = re.exec(text[i].attributes.style.value);\n",
       "        if(match)\n",
       "        {\n",
       "          if(match[1] == \"middle\")\n",
       "          {\n",
       "            var style = getComputedStyle(text[i]);\n",
       "            var font_size = style.fontSize.substr(0, style.fontSize.length - 2);\n",
       "            var dy = text[i].dy.baseVal.length ? text[i].dy.baseVal[0].value : 0;\n",
       "            dy += 0.4 * font_size;\n",
       "            text[i].setAttribute(\"dy\", dy);\n",
       "          }\n",
       "        }\n",
       "      }\n",
       "    }\n",
       "    if(!window.CSS.supports(\"baseline-shift\", \"0\"))\n",
       "    {\n",
       "      var re = /\\s*baseline-shift\\s*:\\s*([^;\\s]*)\\s*/;\n",
       "      var text = document.querySelectorAll(\"#t86a37cc237884699bccd02c0d1068d62 text\");\n",
       "      for(var i = 0; i != text.length; ++i)\n",
       "      {\n",
       "        var match = re.exec(text[i].attributes.style.value);\n",
       "        if(match)\n",
       "        {\n",
       "          var style = getComputedStyle(text[i]);\n",
       "          var font_size = style.fontSize.substr(0, style.fontSize.length - 2);\n",
       "          var percent = 0.01 * match[1].substr(0, match[1].length-1);\n",
       "          var dy = text[i].dy.baseVal.length ? text[i].dy.baseVal[0].value : 0;\n",
       "          dy -= percent * font_size\n",
       "          text[i].setAttribute(\"dy\", dy);\n",
       "        }\n",
       "      }\n",
       "    }\n",
       "  }\n",
       "})();\n",
       "</script><script>\n",
       "(function()\n",
       "{\n",
       "  var data_tables = [{\"data\": [[0.0, 1.0, 2.0, 1.5, 1.0], [0.0, 0.1, 3.0, 2.0, 3.5]], \"names\": [\"x\", \"y0\"], \"filename\": \"toyplot\", \"title\": \"Scatterplot Data\", \"id\": \"t30fd49fbb83340ea9e7d4a70a9ce89c8\"}];\n",
       "\n",
       "  function save_csv(data_table)\n",
       "  {\n",
       "    var uri = \"data:text/csv;charset=utf-8,\";\n",
       "    uri += data_table.names.join(\",\") + \"\\n\";\n",
       "    for(var i = 0; i != data_table.data[0].length; ++i)\n",
       "    {\n",
       "      for(var j = 0; j != data_table.data.length; ++j)\n",
       "      {\n",
       "        if(j)\n",
       "          uri += \",\";\n",
       "        uri += data_table.data[j][i];\n",
       "      }\n",
       "      uri += \"\\n\";\n",
       "    }\n",
       "    uri = encodeURI(uri);\n",
       "\n",
       "    var link = document.createElement(\"a\");\n",
       "    if(typeof link.download != \"undefined\")\n",
       "    {\n",
       "      link.href = uri;\n",
       "      link.style = \"visibility:hidden\";\n",
       "      link.download = data_table.filename + \".csv\";\n",
       "\n",
       "      document.body.appendChild(link);\n",
       "      link.click();\n",
       "      document.body.removeChild(link);\n",
       "    }\n",
       "    else\n",
       "    {\n",
       "      window.open(uri);\n",
       "    }\n",
       "  }\n",
       "\n",
       "  function open_popup(data_table)\n",
       "  {\n",
       "    return function(e)\n",
       "    {\n",
       "      var popup = document.querySelector(\"#t86a37cc237884699bccd02c0d1068d62 .toyplot-mark-popup\");\n",
       "      popup.querySelector(\".toyplot-mark-popup-title\").innerHTML = data_table.title;\n",
       "      popup.querySelector(\".toyplot-mark-popup-save-csv\").onclick = function() { popup.style.visibility = \"hidden\"; save_csv(data_table); }\n",
       "      popup.style.left = (e.clientX - 50) + \"px\";\n",
       "      popup.style.top = (e.clientY - 20) + \"px\";\n",
       "      popup.style.visibility = \"visible\";\n",
       "      e.stopPropagation();\n",
       "      e.preventDefault();\n",
       "    }\n",
       "\n",
       "  }\n",
       "\n",
       "  for(var i = 0; i != data_tables.length; ++i)\n",
       "  {\n",
       "    var data_table = data_tables[i];\n",
       "    var event_target = document.querySelector(\"#\" + data_table.id);\n",
       "    event_target.oncontextmenu = open_popup(data_table);\n",
       "  }\n",
       "})();\n",
       "</script><script>\n",
       "(function()\n",
       "{\n",
       "  var axes = {\"t18a71c97c24b4a94b35b1c9b5adc3d7c\": {\"x\": [{\"domain\": {\"bounds\": {\"max\": Infinity, \"min\": -Infinity}, \"max\": 2.0, \"min\": 0.0}, \"range\": {\"bounds\": {\"max\": Infinity, \"min\": -Infinity}, \"max\": 440.0, \"min\": 60.0}, \"scale\": \"linear\"}], \"y\": [{\"domain\": {\"bounds\": {\"max\": Infinity, \"min\": -Infinity}, \"max\": 3.5, \"min\": 0.0}, \"range\": {\"bounds\": {\"max\": -Infinity, \"min\": Infinity}, \"max\": 60.0, \"min\": 340.0}, \"scale\": \"linear\"}]}};\n",
       "\n",
       "  function sign(x)\n",
       "  {\n",
       "    return x < 0 ? -1 : x > 0 ? 1 : 0;\n",
       "  }\n",
       "\n",
       "  function _mix(a, b, amount)\n",
       "  {\n",
       "    return ((1.0 - amount) * a) + (amount * b);\n",
       "  }\n",
       "\n",
       "  function _log(x, base)\n",
       "  {\n",
       "    return Math.log(Math.abs(x)) / Math.log(base);\n",
       "  }\n",
       "\n",
       "  function _in_range(a, x, b)\n",
       "  {\n",
       "    var left = Math.min(a, b);\n",
       "    var right = Math.max(a, b);\n",
       "    return left <= x && x <= right;\n",
       "  }\n",
       "\n",
       "  function to_domain(projection, range)\n",
       "  {\n",
       "    for(var i = 0; i != projection.length; ++i)\n",
       "    {\n",
       "      var segment = projection[i];\n",
       "      if(_in_range(segment.range.bounds.min, range, segment.range.bounds.max))\n",
       "      {\n",
       "        if(segment.scale == \"linear\")\n",
       "        {\n",
       "          var amount = (range - segment.range.min) / (segment.range.max - segment.range.min);\n",
       "          return _mix(segment.domain.min, segment.domain.max, amount)\n",
       "        }\n",
       "        else if(segment.scale[0] == \"log\")\n",
       "        {\n",
       "          var amount = (range - segment.range.min) / (segment.range.max - segment.range.min);\n",
       "          var base = segment.scale[1];\n",
       "          return sign(segment.domain.min) * Math.pow(base, _mix(_log(segment.domain.min, base), _log(segment.domain.max, base), amount));\n",
       "        }\n",
       "      }\n",
       "    }\n",
       "  }\n",
       "\n",
       "  // Compute mouse coordinates relative to a DOM object, with thanks to d3js.org, where this code originated.\n",
       "  function d3_mousePoint(container, e)\n",
       "  {\n",
       "    if (e.changedTouches) e = e.changedTouches[0];\n",
       "    var svg = container.ownerSVGElement || container;\n",
       "    if (svg.createSVGPoint) {\n",
       "      var point = svg.createSVGPoint();\n",
       "      point.x = e.clientX, point.y = e.clientY;\n",
       "      point = point.matrixTransform(container.getScreenCTM().inverse());\n",
       "      return [point.x, point.y];\n",
       "    }\n",
       "    var rect = container.getBoundingClientRect();\n",
       "    return [e.clientX - rect.left - container.clientLeft, e.clientY - rect.top - container.clientTop];\n",
       "  };\n",
       "\n",
       "  function display_coordinates(e)\n",
       "  {\n",
       "    var dom_axes = e.currentTarget.parentElement;\n",
       "    var data = axes[dom_axes.id];\n",
       "\n",
       "    point = d3_mousePoint(e.target, e);\n",
       "    var x = Number(to_domain(data[\"x\"], point[0])).toFixed(2);\n",
       "    var y = Number(to_domain(data[\"y\"], point[1])).toFixed(2);\n",
       "\n",
       "    var coordinates = dom_axes.querySelectorAll(\".toyplot-coordinates\");\n",
       "    for(var i = 0; i != coordinates.length; ++i)\n",
       "    {\n",
       "      coordinates[i].style.visibility = \"visible\";\n",
       "      coordinates[i].querySelector(\"text\").textContent = \"x=\" + x + \" y=\" + y;\n",
       "    }\n",
       "  }\n",
       "\n",
       "  function clear_coordinates(e)\n",
       "  {\n",
       "    var dom_axes = e.currentTarget.parentElement;\n",
       "    var coordinates = dom_axes.querySelectorAll(\".toyplot-coordinates\");\n",
       "    for(var i = 0; i != coordinates.length; ++i)\n",
       "      coordinates[i].style.visibility = \"hidden\";\n",
       "  }\n",
       "\n",
       "  for(var axes_id in axes)\n",
       "  {\n",
       "    var event_target = document.querySelector(\"#\" + axes_id + \" .toyplot-coordinate-events\");\n",
       "    event_target.onmousemove = display_coordinates;\n",
       "    event_target.onmouseout = clear_coordinates;\n",
       "  }\n",
       "})();\n",
       "</script></div></div>"
      ],
      "text/plain": [
       "<toyplot.canvas.Canvas at 0x7f127dcf9f60>"
      ]
     },
     "metadata": {},
     "output_type": "display_data"
    }
   ],
   "source": [
    "IPython.display.display(palette)\n",
    "\n",
    "canvas = tp.Canvas(width=500, height=400)\n",
    "axes = canvas.axes()\n",
    "\n",
    "m = 'o'\n",
    "\n",
    "x = points[:, 0].tolist()\n",
    "y = points[:, 1].tolist()\n",
    "\n",
    "c = palette.color(0)\n",
    "mark = axes.scatterplot(x, y, marker=m, color=c, size=50)"
   ]
  },
  {
   "cell_type": "code",
   "execution_count": null,
   "metadata": {
    "collapsed": true
   },
   "outputs": [],
   "source": []
  },
  {
   "cell_type": "code",
   "execution_count": null,
   "metadata": {
    "collapsed": true
   },
   "outputs": [],
   "source": []
  },
  {
   "cell_type": "code",
   "execution_count": null,
   "metadata": {
    "collapsed": true
   },
   "outputs": [],
   "source": [
    "1/0"
   ]
  },
  {
   "cell_type": "code",
   "execution_count": 3,
   "metadata": {
    "collapsed": false
   },
   "outputs": [
    {
     "ename": "ImportError",
     "evalue": "No module named 'display_mouse_events'",
     "output_type": "error",
     "traceback": [
      "\u001b[1;31m---------------------------------------------------------------------------\u001b[0m",
      "\u001b[1;31mImportError\u001b[0m                               Traceback (most recent call last)",
      "\u001b[1;32m<ipython-input-3-286b772943c8>\u001b[0m in \u001b[0;36m<module>\u001b[1;34m()\u001b[0m\n\u001b[1;32m----> 1\u001b[1;33m \u001b[1;32mimport\u001b[0m \u001b[0mdisplay_mouse_events\u001b[0m\u001b[1;33m\u001b[0m\u001b[0m\n\u001b[0m\u001b[0;32m      2\u001b[0m \u001b[1;33m\u001b[0m\u001b[0m\n\u001b[0;32m      3\u001b[0m \u001b[0mwid_image\u001b[0m \u001b[1;33m=\u001b[0m \u001b[0mdisplay_mouse_events\u001b[0m\u001b[1;33m.\u001b[0m\u001b[0mdisplay\u001b[0m\u001b[1;33m(\u001b[0m\u001b[0mdata_A\u001b[0m\u001b[1;33m)\u001b[0m\u001b[1;33m\u001b[0m\u001b[0m\n\u001b[0;32m      4\u001b[0m \u001b[1;33m\u001b[0m\u001b[0m\n\u001b[0;32m      5\u001b[0m \u001b[1;31m# Build a few helper widgets.\u001b[0m\u001b[1;33m\u001b[0m\u001b[1;33m\u001b[0m\u001b[0m\n",
      "\u001b[1;31mImportError\u001b[0m: No module named 'display_mouse_events'"
     ]
    }
   ],
   "source": [
    "import display_mouse_events\n",
    "\n",
    "wid_image = display_mouse_events.display(data_A)\n",
    "\n",
    "# Build a few helper widgets.\n",
    "wid_butt = IPython.html.widgets.ButtonWidget(description='Reset Transform')\n",
    "IPython.display.display(wid_butt)"
   ]
  },
  {
   "cell_type": "code",
   "execution_count": 3,
   "metadata": {
    "collapsed": false
   },
   "outputs": [],
   "source": [
    "# Build event handler for the button I just added in the cell above.\n",
    "def handle_reset(widget_butt):\n",
    "    wid_image.transform.reset()\n",
    "\n",
    "# Attach event handler to the button.\n",
    "wid_butt.on_click(handle_reset)\n"
   ]
  },
  {
   "cell_type": "code",
   "execution_count": 4,
   "metadata": {
    "collapsed": false
   },
   "outputs": [
    {
     "name": "stdout",
     "output_type": "stream",
     "text": [
      "get\n"
     ]
    },
    {
     "data": {
      "text/latex": [
       "\n",
       "                \\begin{equation*}\n",
       "                M = \\begin{vmatrix}   1.000 &   0.000 &   0.000 \\\\\n",
       "                                         0.000 &   1.000 &   0.000 \\end{vmatrix}\n",
       "                \\end{equation*}\n",
       "                "
      ],
      "text/plain": [
       "  1.00   0.00   0.00\n",
       "  0.00   1.00   0.00"
      ]
     },
     "metadata": {},
     "output_type": "display_data"
    }
   ],
   "source": [
    "IPython.display.display(wid_image.transform)\n"
   ]
  },
  {
   "cell_type": "code",
   "execution_count": 5,
   "metadata": {
    "collapsed": false
   },
   "outputs": [
    {
     "name": "stdout",
     "output_type": "stream",
     "text": [
      "0\n",
      "get\n",
      "s\n",
      "s\n",
      "r\n",
      "1\n"
     ]
    }
   ],
   "source": [
    "print(0)\n",
    "wid_image.transform.scale(1.2).scale(5).rotate(15)\n",
    "print(1)"
   ]
  },
  {
   "cell_type": "code",
   "execution_count": 6,
   "metadata": {
    "collapsed": false
   },
   "outputs": [
    {
     "name": "stdout",
     "output_type": "stream",
     "text": [
      "get\n"
     ]
    },
    {
     "data": {
      "text/latex": [
       "\n",
       "                \\begin{equation*}\n",
       "                M = \\begin{vmatrix}  -4.558 &   3.902 &   0.000 \\\\\n",
       "                                        -3.902 &  -4.558 &   0.000 \\end{vmatrix}\n",
       "                \\end{equation*}\n",
       "                "
      ],
      "text/plain": [
       " -4.56   3.90   0.00\n",
       " -3.90  -4.56   0.00"
      ]
     },
     "metadata": {},
     "output_type": "display_data"
    }
   ],
   "source": [
    "IPython.display.display(wid_image.transform)\n"
   ]
  },
  {
   "cell_type": "code",
   "execution_count": 17,
   "metadata": {
    "collapsed": false
   },
   "outputs": [
    {
     "ename": "ZeroDivisionError",
     "evalue": "division by zero",
     "output_type": "error",
     "traceback": [
      "\u001b[1;31m---------------------------------------------------------------------------\u001b[0m",
      "\u001b[1;31mZeroDivisionError\u001b[0m                         Traceback (most recent call last)",
      "\u001b[1;32m<ipython-input-17-05c9758a9c21>\u001b[0m in \u001b[0;36m<module>\u001b[1;34m()\u001b[0m\n\u001b[1;32m----> 1\u001b[1;33m \u001b[1;36m1\u001b[0m\u001b[1;33m/\u001b[0m\u001b[1;36m0\u001b[0m\u001b[1;33m\u001b[0m\u001b[0m\n\u001b[0m",
      "\u001b[1;31mZeroDivisionError\u001b[0m: division by zero"
     ]
    }
   ],
   "source": [
    "1/0\n"
   ]
  },
  {
   "cell_type": "code",
   "execution_count": null,
   "metadata": {
    "collapsed": false
   },
   "outputs": [],
   "source": [
    "import time\n",
    "\n",
    "T = canvas.transform.Transform() \n",
    "\n",
    "def update_transform(T):\n",
    "    wid_image._transform = T.values\n",
    "#     IPython.display.clear_output(True)\n",
    "#     IPython.display.display(T)\n",
    "    \n",
    "\n",
    "def handle_slide_scale(name_trait, value_old, value_new):\n",
    "    X, Y = wid_image.mouse_xy\n",
    "    \n",
    "    T.translate(-X, -Y)\n",
    "    T.scale(value_new/value_old)\n",
    "    T.translate(X, Y)\n",
    "\n",
    "    update_transform(T)\n",
    "    \n",
    "# def handle_A(wid):\n",
    "#     T.scale(1./1.1)\n",
    "#     update_transform(T)\n",
    "# def handle_B(wid):\n",
    "#     T.scale(1.1)\n",
    "#     update_transform(T)\n",
    "\n",
    "def handle_scroll(widget, ev):\n",
    "    tick = ev['deltaY']\n",
    "\n",
    "    factor = 1.1\n",
    "    \n",
    "    if tick == 0:\n",
    "#         raise Exception()\n",
    "#         print('tick == 0, do nothing')\n",
    "        return\n",
    "\n",
    "    if tick > 0:\n",
    "        scl = factor\n",
    "    else:\n",
    "        scl = 1./factor\n",
    "\n",
    "    px, py = ev['canvas_xy']\n",
    "\n",
    "    Q = T.copy()\n",
    "    Q.invert()\n",
    "    \n",
    "    px, py = Q.transform_point(px, py)\n",
    "    T.translate(px, py).scale(scl).translate(-px, -py)\n",
    "  \n",
    "    update_transform(T)\n",
    "\n",
    "    \n",
    "def handle_drag(widget, ev):\n",
    "    dx, dy = ev['drag_delta_xy']\n",
    "    \n",
    "#     D = T.copy()\n",
    "#     qx, qy = Q.invert().transform_point(dx, dy)\n",
    "#     qx, qy = T.transform_point(dx, dy)\n",
    "#     T.translate(dx, dy, update=True)  #.scale(scl).translate(px, py)\n",
    "\n",
    "    \n",
    "    Q = T.copy()\n",
    "    Q.invert()\n",
    "    \n",
    "    p0x, p0y = Q.m13, Q.m23  # Q.transform_point(0, 0)\n",
    "    pdx, pdy = Q.transform_point(dx, dy)\n",
    "#     print(dx, dy, px, py)\n",
    "    T.translate(pdx-p0x, pdy-p0y)\n",
    "\n",
    "    update_transform(T)\n",
    "    \n",
    "      \n",
    "# wid_slide.on_trait_change(handle_slide_scale, name=str('value'))\n",
    "# wid_butt_A.on_click(handle_A)\n",
    "\n",
    "wid_butt_C.on_click(handle_C)\n",
    "\n",
    "wid_image.on_mouse_wheel(handle_scroll)\n",
    "wid_image.on_mouse_drag(handle_drag)"
   ]
  },
  {
   "cell_type": "code",
   "execution_count": null,
   "metadata": {
    "collapsed": false
   },
   "outputs": [],
   "source": []
  }
 ],
 "metadata": {
  "kernelspec": {
   "display_name": "Python 3",
   "language": "python",
   "name": "python3"
  },
  "language_info": {
   "codemirror_mode": {
    "name": "ipython",
    "version": 3
   },
   "file_extension": ".py",
   "mimetype": "text/x-python",
   "name": "python",
   "nbconvert_exporter": "python",
   "pygments_lexer": "ipython3",
   "version": "3.4.3"
  }
 },
 "nbformat": 4,
 "nbformat_minor": 0
}

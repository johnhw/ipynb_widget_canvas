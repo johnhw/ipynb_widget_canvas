{
 "metadata": {
  "name": "",
  "signature": "sha256:d40a3d14142e6a700d66101faf4cccfb867af8901199c0e0203ec6a48111711f"
 },
 "nbformat": 3,
 "nbformat_minor": 0,
 "worksheets": [
  {
   "cells": [
    {
     "cell_type": "heading",
     "level": 1,
     "metadata": {},
     "source": [
      "Canvas Image Widget for IPython Notebook"
     ]
    },
    {
     "cell_type": "markdown",
     "metadata": {},
     "source": [
      "## To Do:\n",
      "- Canvas events propagated to Python side:\n",
      "    - Capture mouse wheel/scroll [events](http://stackoverflow.com/questions/10313142/javascript-capture-mouse-wheel-event-and-do-not-scroll-the-page)\n",
      "- Implement image transforms: Traitlets, JS handlers, Python handlers\n",
      "    - Update transform wrt/ scroll, drag, ctrl-scroll\n",
      "- Build better example that incorporates built-in widgets for buttons, sliders, and number display\n",
      "- Look into resizable canvas by click/dragging edge or corner.  Possible ideas at [StackOverflow](http://stackoverflow.com/questions/1977741/resizable-canvas-jquery-ui)\n",
      "- Example with dispaying mouse motion & click event info via Text Widget\n",
      "- Example maniplating image with transforms\n",
      "- Build draft version of my Quiver app.\n",
      "\n",
      "## Done:\n",
      "- Initialize Python class, with or without an image.\n",
      "- CSS border properties managed through `DOMWidget`'s methods `get_css()` and `set_css()`.\n",
      "- Image is class property, src is the traitlet synchronized\n",
      "- Canvas events propagated to Python side:\n",
      "    - mouse click and motion handling: [example code](http://stackoverflow.com/questions/10001283/html5-canvas-how-to-handle-mousedown-mouseup-mouseclick#)\n",
      "    - mouse coordinate [awesome example](http://www.html5canvastutorials.com/advanced/html5-canvas-mouse-coordinates/)\n",
      "- All mouse events are to carry similar information.\n",
      "- Receive mouse event on Python side.\n",
      "- Interpret mouse down/up as click event on Python side.  May require explicitly registering event handler in Python.\n",
      "- Demonstrate syncing Python dicts <--> JavaScript object literals via Dict traitlet.\n"
     ]
    },
    {
     "cell_type": "markdown",
     "metadata": {},
     "source": [
      "---"
     ]
    },
    {
     "cell_type": "code",
     "collapsed": false,
     "input": [
      "from __future__ import print_function, unicode_literals, division"
     ],
     "language": "python",
     "metadata": {},
     "outputs": [],
     "prompt_number": 1
    },
    {
     "cell_type": "code",
     "collapsed": false,
     "input": [
      "import IPython\n",
      "import widget_canvas as canvas"
     ],
     "language": "python",
     "metadata": {},
     "outputs": [
      {
       "javascript": [
        "//============================================================================\n",
        "// CanvasWidget\n",
        "//============================================================================\n",
        "\n",
        "require([\"widgets/js/widget\"], function (WidgetManager) {\n",
        "\n",
        "    // console.log('require widget_canvas.js');\n",
        "\n",
        "    // Define the widget's View.\n",
        "    var CanvasView = IPython.DOMWidgetView.extend({\n",
        "        initialize: function (options) {\n",
        "            // console.log('initialize');\n",
        "\n",
        "            // Backbone model --> JavaScript\n",
        "            this.model.on('change:src', this.update_src, this);\n",
        "            // this.model.on('change:_height', this.update_height, this);\n",
        "            // this.model.on('change:_width', this.update_width, this);\n",
        "            CanvasView.__super__.initialize.apply(this, arguments);\n",
        "        },\n",
        "\n",
        "        render: function () {\n",
        "            // Render a widget's view instance to the DOM.\n",
        "            // console.log('render');\n",
        "\n",
        "            // This project's view is quite simple: just a single <canvas> element.\n",
        "            this.setElement('<canvas />');\n",
        "\n",
        "            // Gather some handy references for the canvas and its context.\n",
        "            this.canvas = this.el\n",
        "            this.context = this.canvas.getContext('2d');\n",
        "\n",
        "            // Internal image element serving to render new image src data.  This object will later\n",
        "            // be used as source data argument to the canvas' own `drawImage()` method.\n",
        "            this.image = new Image();\n",
        "\n",
        "            // Event handle for loading new data into the image element.\n",
        "            var that = this\n",
        "            var draw_image_onload = function () {\n",
        "                that.draw(that.image);\n",
        "            }\n",
        "\n",
        "            this.image.onload = draw_image_onload\n",
        "\n",
        "            // Draw content to the canvas if valid image data exists in the Backbone model.\n",
        "            if (this.model.has('src')) {\n",
        "                if (this.model.get('src') != '') {\n",
        "                    this.update_src();\n",
        "                }\n",
        "            }\n",
        "\n",
        "            // I noticed problems if this update() function call was left out, e.g. second views of\n",
        "            // my model would not initially receive CSS style properties.\n",
        "            this.update();\n",
        "        },\n",
        "\n",
        "        //         update: function() {\n",
        "        //             // Python --> JavaScript\n",
        "        //             console.log('update');\n",
        "        //             //\n",
        "        //             // This method is called automatically for all traitlet 'change' events.  This\n",
        "        //             // was configured via the builtin widget.js from the method WidgetView.initialize()\n",
        "        //             // and again in DOMWidgetView() with code similar to the following:\n",
        "        //             //\n",
        "        //             // this.model.on('change', this.update, this);\n",
        "        //             //\n",
        "        //             // I'm using separate event handlers for each major part of my model and not\n",
        "        //             // relying upon this single all-encompassing event handler.\n",
        "        //             //\n",
        "        //             return CanvasView.__super__.update.apply(this);\n",
        "        //             },\n",
        "        // update_width: function (call_draw) {\n",
        "        //     // Python --> JavaScript\n",
        "        //     // console.log('update_width');\n",
        "        //     // Default parameter value.\n",
        "        //     call_draw = typeof call_draw !== 'undefined' ? call_draw : true\n",
        "        //     var value = this.model.get('_width');\n",
        "        //     if (value == 0) {\n",
        "        //         value = this.image.width\n",
        "        //     }\n",
        "        //     this.canvas.width = value\n",
        "        //     this.canvas.style.width = value + 'px'\n",
        "        //     // Changing width or height automatically clears the display so we need to redraw it.\n",
        "        //     if (call_draw) this.draw_image();\n",
        "        // },\n",
        "        // update_height: function (call_draw) {\n",
        "        //     // Python --> JavaScript\n",
        "        //     // console.log('update_height');\n",
        "        //     call_draw = typeof call_draw !== 'undefined' ? call_draw : true\n",
        "        //     var value = this.model.get('_height');\n",
        "        //     if (value == 0) {\n",
        "        //         value = this.image.height\n",
        "        //     }\n",
        "        //     this.canvas.height = value\n",
        "        //     this.canvas.style.height = value + 'px'\n",
        "        //     // Changing width or height atomatically clears the display so we need to redraw it.\n",
        "        //     if (call_draw) this.draw_image();\n",
        "        // },\n",
        "\n",
        "        update_src: function () {\n",
        "            // Python --> JavaScript\n",
        "            // console.log('update_src');\n",
        "\n",
        "            // call_draw = typeof call_draw !== 'undefined' ? call_draw : true\n",
        "\n",
        "            // Copy image src from Backbone model to internal <img> element.\n",
        "            this.image.src = this.model.get('src');\n",
        "        },\n",
        "\n",
        "        draw: function (image, xfrm) {\n",
        "            // Draw image data from internal <img> to the <canvas>.\n",
        "            // console.log('draw');\n",
        "\n",
        "            var value\n",
        "            value = image.height\n",
        "            this.canvas.height = value\n",
        "            this.canvas.style.height = value + 'px'\n",
        "            this.model.set('_height', value);\n",
        "\n",
        "            value = image.width\n",
        "            this.canvas.width = value\n",
        "            this.canvas.style.width = value + 'px'\n",
        "            this.model.set('_width', value);\n",
        "\n",
        "            // Draw image to screen and apply transform.\n",
        "            this.context.drawImage(image, 0, 0);\n",
        "\n",
        "            // Must call this.touch() after any modifications to Backbone Model data.\n",
        "            this.touch();\n",
        "        },\n",
        "\n",
        "        /////////////////////////////////////////////\n",
        "        // JavaScript --> Python\n",
        "        // Tell Backbone how to respond to JavaScript-generated events.\n",
        "        //\n",
        "        // Great reference for JavaScript events:\n",
        "        // https://developer.mozilla.org/en-US/docs/Web/Reference/Events\n",
        "        events: { //'click': 'handle_click',\n",
        "            'mousemove': 'handle_mouse',\n",
        "            'mouseup': 'handle_mouse',\n",
        "            'mousedown': 'handle_mouse',\n",
        "            //                  'mouseenter': 'handle_mouse',  // don't worry about these other mouse\n",
        "            //                  'mouseleave': 'handle_mouse',  // events for now.\n",
        "            //                  'mouseout':   'handle_mouse',\n",
        "            //                  'mouseover':  'handle_mouse',\n",
        "        },\n",
        "\n",
        "        // Extract information about a mouse event.\n",
        "        // https://developer.mozilla.org/en-US/docs/Web/Reference/Events/mousemove\n",
        "        _build_mouse_info: function (ev) {\n",
        "            // http://stackoverflow.com/questions/17130395/canvas-html5-real-mouse-position\n",
        "            // https://developer.mozilla.org/en-US/docs/Web/API/Element.getBoundingClientRect\n",
        "            var rect = this.canvas.getBoundingClientRect();\n",
        "            var x = ev.clientX - rect.left\n",
        "            var y = ev.clientY - rect.top\n",
        "\n",
        "            var info = {\n",
        "                canvasX: x,\n",
        "                canvasY: y,\n",
        "            }\n",
        "\n",
        "            // Copy select system mouse event attributes over to this application's mouse event\n",
        "            // structure.\n",
        "            var attributes = ['type', 'timeStamp', 'button',\n",
        "                'ctrlKey', 'altKey', 'shiftKey', 'metaKey',\n",
        "                'clientX', 'clientY',\n",
        "            ]\n",
        "\n",
        "            var key, ix\n",
        "            for (ix in attributes) {\n",
        "                key = attributes[ix]\n",
        "                info[key] = ev[key]\n",
        "            }\n",
        "\n",
        "            return info\n",
        "        },\n",
        "\n",
        "        // Handle a mouse event.\n",
        "        handle_mouse: function (ev) {\n",
        "            // Event handler responding to mouse motion and button clicks.\n",
        "            var info = this._build_mouse_info(ev)\n",
        "            this.model.set('_mouse', info);\n",
        "\n",
        "            // Must call this.touch() after any modifications to Backbone Model data.\n",
        "            this.touch();\n",
        "        },\n",
        "\n",
        "    });\n",
        "\n",
        "    // Register View with widget manager.\n",
        "    // console.log('register');\n",
        "    WidgetManager.register_widget_view('CanvasView', CanvasView);\n",
        "});\n"
       ],
       "metadata": {},
       "output_type": "display_data"
      }
     ],
     "prompt_number": 2
    },
    {
     "cell_type": "heading",
     "level": 2,
     "metadata": {},
     "source": [
      "Easy Mouse Event Handlers"
     ]
    },
    {
     "cell_type": "markdown",
     "metadata": {},
     "source": [
      "While I haven't yet added support for drawing fancy lines, I did include support for responding to mouse events: motion, clicks, and drags.  In the next few cells I'll use a few built-in IPython widgets to demonstrate how easy it is to work with mouse events.   "
     ]
    },
    {
     "cell_type": "markdown",
     "metadata": {},
     "source": [
      "Load image data and create the display widget."
     ]
    },
    {
     "cell_type": "code",
     "collapsed": false,
     "input": [
      "data_A = canvas.image.read('images/Whippet.jpg')\n",
      "data_B = canvas.image.read('images/Doberman.jpg')\n",
      "\n",
      "wid_image = canvas.ImageWidget(data_A)\n",
      "wid_image.set_css('border', 'solid 1px black')"
     ],
     "language": "python",
     "metadata": {},
     "outputs": [],
     "prompt_number": 110
    },
    {
     "cell_type": "markdown",
     "metadata": {},
     "source": [
      "Prepare a few helper display widgets."
     ]
    },
    {
     "cell_type": "code",
     "collapsed": false,
     "input": [
      "def set_css_recursive(widget, style):\n",
      "    if isinstance(widget, IPython.html.widgets.ContainerWidget):\n",
      "        for w in widget.children:\n",
      "            set_css_recursive(w, style)\n",
      "    else:\n",
      "        widget.set_css(style)"
     ],
     "language": "python",
     "metadata": {},
     "outputs": [],
     "prompt_number": 111
    },
    {
     "cell_type": "code",
     "collapsed": false,
     "input": [
      "\n",
      "# All event information.\n",
      "wid_event_text = IPython.html.widgets.TextareaWidget(description='Event')\n",
      "wid_event_text.set_css({'width': '600px', 'height': '60px'})\n",
      "\n",
      "# Text displays for X and Y cursor coordinates.\n",
      "wid_XY = IPython.html.widgets.LatexWidget(value='XY:')\n",
      "wid_XY.set_css({'width': '30px'})\n",
      "\n",
      "# wid_clicky = IPython.html.widgets.TextWidget(description='Click')\n",
      "# wid_clicky.set_css({'width': '250px'})\n",
      "\n",
      "\n",
      "# wid_helpers = container = \n",
      "\n",
      "# container.children=[wid_X, wid_Y]\n",
      "# container.remove_class('vbox')\n",
      "# container.add_class('hbox')\n",
      "\n",
      "wid_move = IPython.html.widgets.LatexWidget(value='Move')\n",
      "wid_drag = IPython.html.widgets.LatexWidget(value='Drag')\n",
      "wid_click = IPython.html.widgets.LatexWidget(value='Click')\n",
      "\n",
      "# Assemble containers.\n",
      "container_info = IPython.html.widgets.ContainerWidget(children=[wid_XY, wid_move, wid_drag, wid_click])\n",
      "container_info.set_css({'margin-left': '25px'})\n",
      "\n",
      "container_main = IPython.html.widgets.ContainerWidget(children=[wid_image, container_info])\n",
      "\n",
      "set_css_recursive(container_main, {'font-family': 'monospace'})"
     ],
     "language": "python",
     "metadata": {},
     "outputs": [],
     "prompt_number": 166
    },
    {
     "cell_type": "heading",
     "level": 2,
     "metadata": {},
     "source": [
      "Display all the widget parts"
     ]
    },
    {
     "cell_type": "code",
     "collapsed": false,
     "input": [
      "IPython.display.display(container_main)\n",
      "\n",
      "# Change containers from `vbox` to `hbox` style as needed.\n",
      "container_XY.remove_class('vbox')\n",
      "container_XY.add_class('hbox')\n",
      "\n",
      "container_main.remove_class('vbox')\n",
      "container_main.add_class('hbox')\n"
     ],
     "language": "python",
     "metadata": {},
     "outputs": [],
     "prompt_number": 167
    },
    {
     "cell_type": "markdown",
     "metadata": {},
     "source": [
      "Now I define a few of my own Python event handlers and connect them to respond to mouse events in the dog image above."
     ]
    },
    {
     "cell_type": "code",
     "collapsed": false,
     "input": [
      "c = 'label label-success'\n",
      "wid_drag.add_class(c)\n",
      "\n",
      "\n",
      "# <span class=\"label label-primary\">Primary</span>\n",
      "# <span class=\"label label-success\">Success</span>\n",
      "# <span class=\"label label-info\">Info</span>\n",
      "# <span class=\"label label-warning\">Warning</span>\n",
      "# <span class=\"label label-danger\">Dan\n",
      "\n"
     ],
     "language": "python",
     "metadata": {},
     "outputs": [],
     "prompt_number": 90
    },
    {
     "cell_type": "code",
     "collapsed": false,
     "input": [
      "wid_drag.remove_class(c)"
     ],
     "language": "python",
     "metadata": {},
     "outputs": [],
     "prompt_number": 89
    },
    {
     "cell_type": "code",
     "collapsed": false,
     "input": [
      "wid_drag.class_print_help()"
     ],
     "language": "python",
     "metadata": {},
     "outputs": [
      {
       "output_type": "stream",
       "stream": "stdout",
       "text": [
        "LatexWidget options\n",
        "-------------------\n"
       ]
      }
     ],
     "prompt_number": 67
    },
    {
     "cell_type": "code",
     "collapsed": false,
     "input": [
      "# Python event handlers.\n",
      "def respond_to_event(ev):\n",
      "    wid_X.value = ev['canvasX']\n",
      "    wid_Y.value = ev['canvasY']\n",
      "    wid_event_text.value = str(ev)\n",
      "\n",
      "def respond_to_motion(ev):\n",
      "    wid_move.value = ev['type']\n",
      "    \n",
      "def respond_to_clicks(ev):\n",
      "    wid_click.value = ev['type']\n",
      "    \n",
      "# Assign this event handler function to two separate event types.    \n",
      "wid_image.on_mouse_move(respond_to_event)\n",
      "wid_image.on_mouse_move(respond_to_motion)\n",
      "\n",
      "wid_image.on_mouse_drag(respond_to_event)\n",
      "wid_image.on_mouse_drag(respond_to_motion)\n",
      "\n",
      "wid_image.on_mouse_click(respond_to_event)\n",
      "wid_image.on_mouse_click(respond_to_clicks)\n"
     ],
     "language": "python",
     "metadata": {},
     "outputs": [],
     "prompt_number": 7
    },
    {
     "cell_type": "code",
     "collapsed": false,
     "input": [
      "wid_tog.value='mousedrag'"
     ],
     "language": "python",
     "metadata": {},
     "outputs": [],
     "prompt_number": 164
    },
    {
     "cell_type": "code",
     "collapsed": false,
     "input": [
      "f = '../grey-wolf.jpg'\n",
      "data, meta = data_io.read(f)\n",
      "\n",
      "img_1 = data[:300]\n",
      "img_2 = data[300:]\n",
      "\n",
      "# wid_canvas = CanvasImageWidget(img_1)\n",
      "wid_image = CanvasImageWidget()\n",
      "wid_image.image = img_1\n",
      "wid_image.set_css('border', 'solid 1px black')\n",
      "\n",
      "\n"
     ],
     "language": "python",
     "metadata": {},
     "outputs": [
      {
       "output_type": "stream",
       "stream": "stdout",
       "text": [
        "{'clientX': 605, 'clientY': 372, 'metaKey': False, 'shiftKey': False, 'button': 0, 'altKey': False, 'canvasY': 114.40625, 'canvasX': 311.3125, 'ctrlKey': False, 'type': 'mouseup', 'timeStamp': 1401338556605}\n"
       ]
      },
      {
       "output_type": "stream",
       "stream": "stdout",
       "text": [
        "{'clientX': 696, 'clientY': 408, 'metaKey': False, 'shiftKey': False, 'button': 0, 'altKey': False, 'canvasY': 150.40625, 'canvasX': 402.3125, 'ctrlKey': False, 'type': 'mouseup', 'timeStamp': 1401338561624}\n"
       ]
      },
      {
       "output_type": "stream",
       "stream": "stdout",
       "text": [
        "{'clientX': 721, 'clientY': 502, 'metaKey': False, 'shiftKey': False, 'button': 0, 'altKey': False, 'canvasY': 244.40625, 'canvasX': 427.3125, 'ctrlKey': False, 'type': 'mouseup', 'timeStamp': 1401338582019}\n"
       ]
      },
      {
       "output_type": "stream",
       "stream": "stdout",
       "text": [
        "{'clientX': 746, 'clientY': 522, 'metaKey': False, 'shiftKey': False, 'button': 0, 'altKey': False, 'canvasY': 264.40625, 'canvasX': 452.3125, 'ctrlKey': False, 'type': 'mouseup', 'timeStamp': 1401338583358}\n"
       ]
      }
     ],
     "prompt_number": 25
    },
    {
     "cell_type": "heading",
     "level": 2,
     "metadata": {},
     "source": [
      "Play with Button Widget"
     ]
    },
    {
     "cell_type": "code",
     "collapsed": false,
     "input": [
      "import IPython\n",
      "import IPython.html.widgets\n",
      "\n",
      "# Instantiate a widget object.\n",
      "wid_butt = IPython.html.widgets.ButtonWidget(description='click me!')\n"
     ],
     "language": "python",
     "metadata": {},
     "outputs": [],
     "prompt_number": 14
    },
    {
     "cell_type": "code",
     "collapsed": false,
     "input": [
      "# Python callback for widget's click event.\n",
      "def clicker(wid):\n",
      "    wid.description += 'A'\n",
      "    \n",
      "# Attach the callback.\n",
      "wid_butt.on_click(clicker)\n",
      "\n",
      "# Display widget.\n",
      "wid_butt"
     ],
     "language": "python",
     "metadata": {},
     "outputs": [],
     "prompt_number": 15
    }
   ],
   "metadata": {}
  }
 ]
}
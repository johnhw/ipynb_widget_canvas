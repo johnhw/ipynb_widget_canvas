{
 "metadata": {
  "name": "",
  "signature": "sha256:49aad1b2f814e7f3dcae9ad3b6384f2d7b2e7698e06a761d928fb5d8376ef3a4"
 },
 "nbformat": 3,
 "nbformat_minor": 0,
 "worksheets": [
  {
   "cells": [
    {
     "cell_type": "heading",
     "level": 1,
     "metadata": {},
     "source": [
      "Canvas Image Widget for IPython Notebook"
     ]
    },
    {
     "cell_type": "markdown",
     "metadata": {},
     "source": [
      "## To Do:\n",
      "- Implement image transforms: Traitlets, JS handlers, Python handlers\n",
      "    - Update transform wrt/ scroll, drag, ctrl-scroll\n",
      "- Build better example that incorporates built-in widgets for buttons, sliders, and number display\n",
      "- Look into resizable canvas by click/dragging edge or corner.  Possible ideas at [StackOverflow](http://stackoverflow.com/questions/1977741/resizable-canvas-jquery-ui)\n",
      "- Example with dispaying mouse motion & click event info via Text Widget\n",
      "- Example maniplating image with transforms\n",
      "- Build draft version of my Quiver app.\n",
      "\n",
      "## Done:\n",
      "- Initialize Python class, with or without an image.\n",
      "- CSS border properties managed through `DOMWidget`'s methods `get_css()` and `set_css()`.\n",
      "- Image is class property, src is the traitlet synchronized\n",
      "- Canvas events propagated to Python side:\n",
      "    - Capture mouse wheel/scroll [events](http://stackoverflow.com/questions/10313142/javascript-capture-mouse-wheel-event-and-do-not-scroll-the-page)\n",
      "    - mouse click and motion handling: [example code](http://stackoverflow.com/questions/10001283/html5-canvas-how-to-handle-mousedown-mouseup-mouseclick#)\n",
      "    - mouse coordinate [awesome example](http://www.html5canvastutorials.com/advanced/html5-canvas-mouse-coordinates/)\n",
      "- All mouse events are to carry similar information.\n",
      "- Receive mouse event on Python side.\n",
      "- Interpret mouse down/up as click event on Python side.  May require explicitly registering event handler in Python.\n",
      "- Demonstrate syncing Python dicts <--> JavaScript object literals via Dict traitlet.\n"
     ]
    },
    {
     "cell_type": "markdown",
     "metadata": {},
     "source": [
      "---"
     ]
    },
    {
     "cell_type": "heading",
     "level": 1,
     "metadata": {},
     "source": [
      "Easy Mouse Event Handlers"
     ]
    },
    {
     "cell_type": "markdown",
     "metadata": {},
     "source": [
      "While I haven't yet added support for drawing fancy lines, I did include support for responding to mouse events: motion, clicks, and drags.  In the next few cells I'll use a few built-in IPython widgets to demonstrate how easy it is to work with mouse events.   "
     ]
    },
    {
     "cell_type": "heading",
     "level": 2,
     "metadata": {},
     "source": [
      "Load image data"
     ]
    },
    {
     "cell_type": "code",
     "collapsed": false,
     "input": [
      "from __future__ import print_function, unicode_literals, division\n",
      "import IPython\n",
      "from IPython.html.widgets import HTMLWidget, LatexWidget, TextareaWidget, ContainerWidget\n",
      "import widget_canvas as canvas\n",
      "\n",
      "data_A = canvas.image.read('images/Whippet.jpg')\n",
      "data_B = canvas.image.read('images/Doberman.jpg')"
     ],
     "language": "python",
     "metadata": {},
     "outputs": [],
     "prompt_number": 42
    },
    {
     "cell_type": "heading",
     "level": 2,
     "metadata": {},
     "source": [
      "Make some widgets"
     ]
    },
    {
     "cell_type": "markdown",
     "metadata": {},
     "source": [
      "Create a canvas image widget using one of the images from above.  I'm going to display it here, but the real fun happens a few cells below.  I still need to create a bunch of helper widgets and define a few event handler functions."
     ]
    },
    {
     "cell_type": "code",
     "collapsed": false,
     "input": [
      "wid_image = canvas.ImageWidget(data_A)\n",
      "wid_image.set_css('border', 'solid 1px black')\n",
      "\n",
      "wid_image.display()"
     ],
     "language": "python",
     "metadata": {},
     "outputs": [],
     "prompt_number": 43
    },
    {
     "cell_type": "markdown",
     "metadata": {},
     "source": [
      "Make a few additional widgets to help display mouse event information.  These will all be displayed together down below."
     ]
    },
    {
     "cell_type": "code",
     "collapsed": false,
     "input": [
      "# Mouse X & Y canvas coordinates.\n",
      "wid_move_XY = HTMLWidget(value='XY:')\n",
      "wid_move_XY.set_css({'width': '250px', 'margin-left': '10px', 'font-family': 'monospace'})\n",
      "\n",
      "wid_drag_XY = HTMLWidget(value='XY:')\n",
      "wid_drag_XY.set_css({'width': '250px', 'margin-left': '10px', 'font-family': 'monospace'})\n",
      "\n",
      "# Status indicators.\n",
      "wid_move = HTMLWidget(value='Move')\n",
      "wid_move.set_css({'width': '35px'})\n",
      "\n",
      "wid_drag = HTMLWidget(value='Drag')\n",
      "wid_drag.set_css({'width': '35px'})\n",
      "\n",
      "wid_down_up = HTMLWidget(value='Button: Up')\n",
      "wid_down_up.set_css({'width': '100px'})\n",
      "\n",
      "wid_click = HTMLWidget(value='Click')\n",
      "\n",
      "wid_scroll = HTMLWidget(value='Scroll')\n",
      "\n",
      "# Event information.\n",
      "wid_event_text = TextareaWidget()\n",
      "wid_event_text.set_css({'width': '500', 'height': '130', 'font-family': 'monospace'})\n",
      "\n",
      "# Assemble containers.\n",
      "container_move = ContainerWidget(children=[wid_move, wid_move_XY])\n",
      "container_drag = ContainerWidget(children=[wid_drag, wid_drag_XY])\n",
      "\n",
      "container_info = ContainerWidget(children=[container_move, container_drag, wid_down_up, wid_click, \n",
      "                                           wid_scroll, wid_event_text])\n",
      "container_info.set_css({'margin-left': '10px'})\n",
      "\n",
      "container_main = ContainerWidget(children=[wid_image, container_info])"
     ],
     "language": "python",
     "metadata": {},
     "outputs": [],
     "prompt_number": 44
    },
    {
     "cell_type": "heading",
     "level": 2,
     "metadata": {},
     "source": [
      "Define and attach Python event handlers"
     ]
    },
    {
     "cell_type": "markdown",
     "metadata": {},
     "source": [
      "Define a few Python event handlers and connect them to the canvas widget so they can update the display in response to mouse events."
     ]
    },
    {
     "cell_type": "code",
     "collapsed": false,
     "input": [
      "# http://getbootstrap.com/components/#labels\n",
      "style_A = 'label label-default'\n",
      "style_B = 'label label-primary'\n",
      "style_C = 'label label-success'\n",
      "style_D = 'label label-info'\n",
      "style_E = 'label label-warning'\n",
      "style_F = 'label label-danger'\n",
      "\n",
      "# Handlers.\n",
      "def handle_event(ev):\n",
      "    \"\"\"Generic event handler.\"\"\"\n",
      "    wid_event_text.value = 'Event:\\n{}'.format(ev)\n",
      "\n",
      "def handle_motion(ev):\n",
      "    wid_move.value = '<b>Move</b>'\n",
      "    X = ev['canvasX']\n",
      "    Y = ev['canvasY']\n",
      "    wid_move_XY.value = 'XY: {:04.0f}, {:04.0f}'.format(X, Y)\n",
      "\n",
      "    wid_drag.value = 'Drag'\n",
      "    wid_drag_XY.value = 'XY:'\n",
      "\n",
      "    \n",
      "def handle_drag(ev):\n",
      "    wid_move.value = 'Move'\n",
      "    wid_drag.value = '<b>Drag</b>'\n",
      "    X = ev['dragX']\n",
      "    Y = ev['dragY']\n",
      "    \n",
      "    wid_drag_XY.value = 'XY: {:04.0f}, {:04.0f}'.format(X, Y)\n",
      "    wid_move_XY.value = 'XY:'\n",
      "    \n",
      "def handle_down(ev):\n",
      "    wid_down_up.value = 'Button: Down'\n",
      "    \n",
      "def handle_up(ev):\n",
      "    wid_down_up.value = 'Button: Up'\n",
      "\n",
      "    \n",
      "_click_classes = [style_E, style_F]\n",
      "ix = [0]\n",
      "\n",
      "def handle_click(ev):\n",
      "    wid_click.remove_class(_click_classes[ix[0]])\n",
      "\n",
      "    ix[0] = (ix[0] + 1) % 2\n",
      "    wid_click.add_class(_click_classes[ix[0]])\n",
      "\n",
      "    \n",
      "_scroll_classes = [style_B, style_C]\n",
      "iw = [0]\n",
      "def handle_scroll(ev):\n",
      "    wid_scroll.remove_class(_scroll_classes[iw[0]])\n",
      "\n",
      "    iw[0] = (iw[0] + 1) % 2\n",
      "    wid_scroll.add_class(_scroll_classes[iw[0]])\n",
      "\n",
      "# Assign handlers for individual event types.\n",
      "wid_image.on_mouse_move(handle_motion)\n",
      "wid_image.on_mouse_move(handle_event)\n",
      "\n",
      "wid_image.on_mouse_drag(handle_drag)\n",
      "wid_image.on_mouse_drag(handle_event)\n",
      "\n",
      "wid_image.on_mouse_down(handle_down)\n",
      "wid_image.on_mouse_down(handle_event)\n",
      "\n",
      "wid_image.on_mouse_up(handle_up)\n",
      "wid_image.on_mouse_up(handle_event)\n",
      "\n",
      "wid_image.on_mouse_click(handle_click)\n",
      "wid_image.on_mouse_click(handle_event)\n",
      "\n",
      "wid_image.on_mouse_wheel(handle_scroll)\n",
      "wid_image.on_mouse_wheel(handle_event)"
     ],
     "language": "python",
     "metadata": {},
     "outputs": [],
     "prompt_number": 45
    },
    {
     "cell_type": "markdown",
     "metadata": {},
     "source": [
      "Helper display function that also updates specified widgets from `vbox` to `hbox` style."
     ]
    },
    {
     "cell_type": "code",
     "collapsed": false,
     "input": [
      "def display_my_widgets(widget, mod_hbox):\n",
      "    IPython.display.display(widget)\n",
      "    \n",
      "    wid_click.add_class(_click_classes[ix[0]])\n",
      "\n",
      "    for w in mod_hbox:\n",
      "        w.remove_class('vbox')\n",
      "        w.add_class('hbox')"
     ],
     "language": "python",
     "metadata": {},
     "outputs": [],
     "prompt_number": 46
    },
    {
     "cell_type": "heading",
     "level": 2,
     "metadata": {},
     "source": [
      "Display everything"
     ]
    },
    {
     "cell_type": "code",
     "collapsed": false,
     "input": [
      "# List of widgets to be set to `hbox` style.\n",
      "mod_hbox = [container_main, container_move, container_drag]\n",
      "\n",
      "# Display!\n",
      "display_my_widgets(container_main, mod_hbox)"
     ],
     "language": "python",
     "metadata": {},
     "outputs": [],
     "prompt_number": 47
    },
    {
     "cell_type": "code",
     "collapsed": false,
     "input": [
      "1/0"
     ],
     "language": "python",
     "metadata": {},
     "outputs": [
      {
       "ename": "ZeroDivisionError",
       "evalue": "division by zero",
       "output_type": "pyerr",
       "traceback": [
        "\u001b[1;31m---------------------------------------------------------------------------\u001b[0m\n\u001b[1;31mZeroDivisionError\u001b[0m                         Traceback (most recent call last)",
        "\u001b[1;32m<ipython-input-48-05c9758a9c21>\u001b[0m in \u001b[0;36m<module>\u001b[1;34m()\u001b[0m\n\u001b[1;32m----> 1\u001b[1;33m \u001b[1;36m1\u001b[0m\u001b[1;33m/\u001b[0m\u001b[1;36m0\u001b[0m\u001b[1;33m\u001b[0m\u001b[0m\n\u001b[0m",
        "\u001b[1;31mZeroDivisionError\u001b[0m: division by zero"
       ]
      }
     ],
     "prompt_number": 48
    },
    {
     "cell_type": "heading",
     "level": 2,
     "metadata": {},
     "source": [
      "Play with Button Widget"
     ]
    },
    {
     "cell_type": "code",
     "collapsed": false,
     "input": [
      "import IPython\n",
      "import IPython.html.widgets\n",
      "\n",
      "# Instantiate a widget object.\n",
      "wid_butt = IPython.html.widgets.ButtonWidget(description='click me!')\n"
     ],
     "language": "python",
     "metadata": {},
     "outputs": []
    }
   ],
   "metadata": {}
  }
 ]
}
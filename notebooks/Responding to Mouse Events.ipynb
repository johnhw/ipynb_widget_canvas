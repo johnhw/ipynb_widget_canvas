{
 "metadata": {
  "name": "",
  "signature": "sha256:95d3e1cafca8e8eeb9659ba2e057bc571070a0812edebebd7e6fb5eb1aac9313"
 },
 "nbformat": 3,
 "nbformat_minor": 0,
 "worksheets": [
  {
   "cells": [
    {
     "cell_type": "heading",
     "level": 1,
     "metadata": {},
     "source": [
      "Canvas Image Widget for IPython Notebook"
     ]
    },
    {
     "cell_type": "markdown",
     "metadata": {},
     "source": [
      "## To Do:\n",
      "- Canvas events propagated to Python side:\n",
      "    - Capture mouse wheel/scroll [events](http://stackoverflow.com/questions/10313142/javascript-capture-mouse-wheel-event-and-do-not-scroll-the-page)\n",
      "- Implement image transforms: Traitlets, JS handlers, Python handlers\n",
      "    - Update transform wrt/ scroll, drag, ctrl-scroll\n",
      "- Build better example that incorporates built-in widgets for buttons, sliders, and number display\n",
      "- Look into resizable canvas by click/dragging edge or corner.  Possible ideas at [StackOverflow](http://stackoverflow.com/questions/1977741/resizable-canvas-jquery-ui)\n",
      "- Example with dispaying mouse motion & click event info via Text Widget\n",
      "- Example maniplating image with transforms\n",
      "- Build draft version of my Quiver app.\n",
      "\n",
      "## Done:\n",
      "- Initialize Python class, with or without an image.\n",
      "- CSS border properties managed through `DOMWidget`'s methods `get_css()` and `set_css()`.\n",
      "- Image is class property, src is the traitlet synchronized\n",
      "- Canvas events propagated to Python side:\n",
      "    - mouse click and motion handling: [example code](http://stackoverflow.com/questions/10001283/html5-canvas-how-to-handle-mousedown-mouseup-mouseclick#)\n",
      "    - mouse coordinate [awesome example](http://www.html5canvastutorials.com/advanced/html5-canvas-mouse-coordinates/)\n",
      "- All mouse events are to carry similar information.\n",
      "- Receive mouse event on Python side.\n",
      "- Interpret mouse down/up as click event on Python side.  May require explicitly registering event handler in Python.\n",
      "- Demonstrate syncing Python dicts <--> JavaScript object literals via Dict traitlet.\n"
     ]
    },
    {
     "cell_type": "markdown",
     "metadata": {},
     "source": [
      "---"
     ]
    },
    {
     "cell_type": "heading",
     "level": 1,
     "metadata": {},
     "source": [
      "Easy Mouse Event Handlers"
     ]
    },
    {
     "cell_type": "markdown",
     "metadata": {},
     "source": [
      "While I haven't yet added support for drawing fancy lines, I did include support for responding to mouse events: motion, clicks, and drags.  In the next few cells I'll use a few built-in IPython widgets to demonstrate how easy it is to work with mouse events.   "
     ]
    },
    {
     "cell_type": "heading",
     "level": 2,
     "metadata": {},
     "source": [
      "Load image data"
     ]
    },
    {
     "cell_type": "code",
     "collapsed": false,
     "input": [
      "from __future__ import print_function, unicode_literals, division\n",
      "import IPython\n",
      "from IPython.html.widgets import LatexWidget, TextareaWidget, ContainerWidget\n",
      "import widget_canvas as canvas\n",
      "\n",
      "data_A = canvas.image.read('images/Whippet.jpg')\n",
      "data_B = canvas.image.read('images/Doberman.jpg')"
     ],
     "language": "python",
     "metadata": {},
     "outputs": [
      {
       "javascript": [
        "//============================================================================\n",
        "// CanvasWidget\n",
        "//============================================================================\n",
        "\n",
        "require([\"widgets/js/widget\"], function (WidgetManager) {\n",
        "\n",
        "    // console.log('require widget_canvas.js');\n",
        "\n",
        "    // Define the widget's View.\n",
        "    var CanvasView = IPython.DOMWidgetView.extend({\n",
        "        initialize: function (options) {\n",
        "            // console.log('initialize');\n",
        "\n",
        "            // Backbone model --> JavaScript\n",
        "            this.model.on('change:src', this.update_src, this);\n",
        "            // this.model.on('change:_height', this.update_height, this);\n",
        "            // this.model.on('change:_width', this.update_width, this);\n",
        "            CanvasView.__super__.initialize.apply(this, arguments);\n",
        "        },\n",
        "\n",
        "        render: function () {\n",
        "            // Render a widget's view instance to the DOM.\n",
        "            // console.log('render');\n",
        "\n",
        "            // This project's view is quite simple: just a single <canvas> element.\n",
        "            // http://stackoverflow.com/questions/3729034/javascript-html5-capture-keycode-and-write-to-canvas\n",
        "            this.setElement('<canvas tabindex=\"1\" />');\n",
        "\n",
        "            // Gather some handy references for the canvas and its context.\n",
        "            this.canvas = this.el\n",
        "            this.context = this.canvas.getContext('2d');\n",
        "\n",
        "            // Internal image element serving to render new image src data.  This object will later\n",
        "            // be used as source data argument to the canvas' own `drawImage()` method.\n",
        "            this.image = new Image();\n",
        "\n",
        "            // Event handle for loading new data into the image element.\n",
        "            var that = this\n",
        "            var draw_image_onload = function () {\n",
        "                that.draw(that.image);\n",
        "            }\n",
        "\n",
        "            this.image.onload = draw_image_onload\n",
        "\n",
        "            // Draw content to the canvas if valid image data exists in the Backbone model.\n",
        "            if (this.model.has('src')) {\n",
        "                if (this.model.get('src') != '') {\n",
        "                    this.update_src();\n",
        "                }\n",
        "            }\n",
        "\n",
        "            // I noticed problems if this update() function call was left out, e.g. second views of\n",
        "            // my model would not initially receive CSS style properties.\n",
        "            this.update();\n",
        "        },\n",
        "\n",
        "        //         update: function() {\n",
        "        //             // Python --> JavaScript\n",
        "        //             console.log('update');\n",
        "        //             //\n",
        "        //             // This method is called automatically for all traitlet 'change' events.  This\n",
        "        //             // was configured via the builtin widget.js from the method WidgetView.initialize()\n",
        "        //             // and again in DOMWidgetView() with code similar to the following:\n",
        "        //             //\n",
        "        //             // this.model.on('change', this.update, this);\n",
        "        //             //\n",
        "        //             // I'm using separate event handlers for each major part of my model and not\n",
        "        //             // relying upon this single all-encompassing event handler.\n",
        "        //             //\n",
        "        //             return CanvasView.__super__.update.apply(this);\n",
        "        //             },\n",
        "        // update_width: function (call_draw) {\n",
        "        //     // Python --> JavaScript\n",
        "        //     // console.log('update_width');\n",
        "        //     // Default parameter value.\n",
        "        //     call_draw = typeof call_draw !== 'undefined' ? call_draw : true\n",
        "        //     var value = this.model.get('_width');\n",
        "        //     if (value == 0) {\n",
        "        //         value = this.image.width\n",
        "        //     }\n",
        "        //     this.canvas.width = value\n",
        "        //     this.canvas.style.width = value + 'px'\n",
        "        //     // Changing width or height automatically clears the display so we need to redraw it.\n",
        "        //     if (call_draw) this.draw_image();\n",
        "        // },\n",
        "        // update_height: function (call_draw) {\n",
        "        //     // Python --> JavaScript\n",
        "        //     // console.log('update_height');\n",
        "        //     call_draw = typeof call_draw !== 'undefined' ? call_draw : true\n",
        "        //     var value = this.model.get('_height');\n",
        "        //     if (value == 0) {\n",
        "        //         value = this.image.height\n",
        "        //     }\n",
        "        //     this.canvas.height = value\n",
        "        //     this.canvas.style.height = value + 'px'\n",
        "        //     // Changing width or height atomatically clears the display so we need to redraw it.\n",
        "        //     if (call_draw) this.draw_image();\n",
        "        // },\n",
        "\n",
        "        update_src: function () {\n",
        "            // Python --> JavaScript\n",
        "            // console.log('update_src');\n",
        "\n",
        "            // call_draw = typeof call_draw !== 'undefined' ? call_draw : true\n",
        "\n",
        "            // Copy image src from Backbone model to internal <img> element.\n",
        "            this.image.src = this.model.get('src');\n",
        "        },\n",
        "\n",
        "        draw: function (image, xfrm) {\n",
        "            // Draw image data from internal <img> to the <canvas>.\n",
        "            // console.log('draw');\n",
        "\n",
        "            var value\n",
        "            value = image.height\n",
        "            this.canvas.height = value\n",
        "            this.canvas.style.height = value + 'px'\n",
        "            this.model.set('_height', value);\n",
        "\n",
        "            value = image.width\n",
        "            this.canvas.width = value\n",
        "            this.canvas.style.width = value + 'px'\n",
        "            this.model.set('_width', value);\n",
        "\n",
        "            // Draw image to screen and apply transform.\n",
        "            this.context.drawImage(image, 0, 0);\n",
        "\n",
        "            // Must call this.touch() after any modifications to Backbone Model data.\n",
        "            this.touch();\n",
        "        },\n",
        "\n",
        "        /////////////////////////////////////////////\n",
        "        // JavaScript --> Python\n",
        "        // Tell Backbone how to respond to JavaScript-generated events.\n",
        "        //\n",
        "        // Great reference for JavaScript events:\n",
        "        // https://developer.mozilla.org/en-US/docs/Web/Reference/Events\n",
        "        events: {\n",
        "            'mousemove': 'handle_mouse',\n",
        "            'mouseup': 'handle_mouse',\n",
        "            'mousedown': 'handle_mouse',\n",
        "            //  'click':      'handle_click',\n",
        "            //  'mouseenter': 'handle_mouse',  // don't worry about these other mouse\n",
        "            //  'mouseleave': 'handle_mouse',  // events for now.\n",
        "            //  'mouseout':   'handle_mouse',\n",
        "            //  'mouseover':  'handle_mouse',\n",
        "        },\n",
        "\n",
        "        // Extract information about a mouse event.\n",
        "        // https://developer.mozilla.org/en-US/docs/Web/Reference/Events/mousemove\n",
        "        _build_mouse_info: function (ev) {\n",
        "            // http://stackoverflow.com/questions/17130395/canvas-html5-real-mouse-position\n",
        "            // https://developer.mozilla.org/en-US/docs/Web/API/Element.getBoundingClientRect\n",
        "            var rect = this.canvas.getBoundingClientRect();\n",
        "            var x = parseInt(ev.clientX - rect.left);\n",
        "            var y = parseInt(ev.clientY - rect.top);\n",
        "\n",
        "            var info = {\n",
        "                canvasX: x,\n",
        "                canvasY: y,\n",
        "            }\n",
        "\n",
        "            // Copy select system mouse event attributes over to this application's mouse event\n",
        "            // structure.\n",
        "            var attributes = ['type', 'timeStamp', 'button',\n",
        "                'ctrlKey', 'altKey', 'shiftKey', 'metaKey',\n",
        "                'clientX', 'clientY',\n",
        "            ]\n",
        "\n",
        "            var key, ix\n",
        "            for (ix in attributes) {\n",
        "                key = attributes[ix]\n",
        "                info[key] = ev[key]\n",
        "            }\n",
        "\n",
        "            return info\n",
        "        },\n",
        "\n",
        "        // Handle a mouse event.\n",
        "        handle_mouse: function (ev) {\n",
        "            // Event handler responding to mouse motion and button clicks.\n",
        "            // console.log(ev);\n",
        "\n",
        "            var info = this._build_mouse_info(ev)\n",
        "            this.model.set('_mouse', info);\n",
        "\n",
        "            // Must call this.touch() after any modifications to Backbone Model data.\n",
        "            this.touch();\n",
        "        },\n",
        "\n",
        "        // Handle keyboard event.\n",
        "        // http://stackoverflow.com/questions/3729034/javascript-html5-capture-keycode-and-write-to-canvas\n",
        "        handle_keypress: function (ev) {\n",
        "            console.log(ev);\n",
        "            this.model.set('_key', ev);\n",
        "\n",
        "            // Must call this.touch() after any modifications to Backbone Model data.\n",
        "            this.touch();\n",
        "        }\n",
        "    });\n",
        "\n",
        "    // Register View with widget manager.\n",
        "    // console.log('register');\n",
        "    WidgetManager.register_widget_view('CanvasView', CanvasView);\n",
        "});\n"
       ],
       "metadata": {},
       "output_type": "display_data"
      }
     ],
     "prompt_number": 1
    },
    {
     "cell_type": "heading",
     "level": 2,
     "metadata": {},
     "source": [
      "Make some widgets"
     ]
    },
    {
     "cell_type": "markdown",
     "metadata": {},
     "source": [
      "Create a canvas image widget using one of the images from above.  I'm going to display it here, but the real fun happens a few cells below.  I still need to create a bunch of helper widgets and define a few event handler functions."
     ]
    },
    {
     "cell_type": "code",
     "collapsed": false,
     "input": [
      "wid_image = canvas.ImageWidget(data_A)\n",
      "wid_image.set_css('border', 'solid 1px black')\n",
      "\n",
      "wid_image.display()"
     ],
     "language": "python",
     "metadata": {},
     "outputs": [],
     "prompt_number": 2
    },
    {
     "cell_type": "markdown",
     "metadata": {},
     "source": [
      "Make a few additional widgets to help display mouse event information.  These will all be displayed together down below."
     ]
    },
    {
     "cell_type": "code",
     "collapsed": false,
     "input": [
      "# Event text.\n",
      "wid_event_text = TextareaWidget(description='Event')\n",
      "wid_event_text.set_css({'width': '600px', 'height': '60px'})\n",
      "\n",
      "# X and Y cursor coordinates.\n",
      "wid_move_XY = LatexWidget(value='XY:')\n",
      "wid_move_XY.set_css({'width': '250px', 'margin-left': '10px', 'font-family': 'monospace'})\n",
      "\n",
      "wid_drag_XY = LatexWidget(value='XY:')\n",
      "wid_drag_XY.set_css({'width': '250px', 'margin-left': '10px', 'font-family': 'monospace'})\n",
      "\n",
      "# Status indicators.\n",
      "wid_move = LatexWidget(value='Move')\n",
      "wid_move.set_css({'width': '30px'})\n",
      "\n",
      "wid_drag = LatexWidget(value='Drag')\n",
      "wid_drag.set_css({'width': '30px'})\n",
      "\n",
      "wid_down_up = LatexWidget(value='Button: Up')\n",
      "wid_down_up.set_css({'width': '100px'})\n",
      "\n",
      "wid_key = LatexWidget(value='Key:')\n",
      "wid_key.set_css({'width': '100px'})\n",
      "\n",
      "# Event information.\n",
      "wid_event_text = TextareaWidget()\n",
      "wid_event_text.set_css({'width': '630', 'height': '90', 'font-family': 'monospace'})\n",
      "\n",
      "# Assemble containers.\n",
      "container_move = ContainerWidget(children=[wid_move, wid_move_XY])\n",
      "container_drag = ContainerWidget(children=[wid_drag, wid_drag_XY])\n",
      "\n",
      "container_info = ContainerWidget(children=[container_move, container_drag, wid_down_up, wid_key, wid_event_text])\n",
      "container_info.set_css({'margin-left': '10px'})\n",
      "\n",
      "container_main = ContainerWidget(children=[wid_image, container_info])"
     ],
     "language": "python",
     "metadata": {},
     "outputs": [],
     "prompt_number": 3
    },
    {
     "cell_type": "heading",
     "level": 2,
     "metadata": {},
     "source": [
      "Define and attach Python event handlers"
     ]
    },
    {
     "cell_type": "markdown",
     "metadata": {},
     "source": [
      "Define a few Python event handlers and connect them to the canvas widget so they can update the display in response to mouse events.  \n",
      "See Bootstrap old docs for details: http://getbootstrap.com/2.3.2/base-css.html"
     ]
    },
    {
     "cell_type": "code",
     "collapsed": false,
     "input": [
      "# style_A = 'label label-primary'\n",
      "# style_B = 'label label-success'\n",
      "# style_C = 'label label-info'\n",
      "# style_D = 'label label-warning'\n",
      "# style_E = 'label label-danger'\n",
      "\n",
      "def handle_event(ev):\n",
      "    \"\"\"Generic event handler.\"\"\"\n",
      "    wid_event_text.value = 'Event:\\n{}'.format(ev)\n",
      "\n",
      "def handle_motion(ev):\n",
      "    X = ev['canvasX']\n",
      "    Y = ev['canvasY']\n",
      "    wid_move_XY.value = 'XY: {:04.0f}, {:04.0f}'.format(X, Y)\n",
      "    \n",
      "def handle_drag(ev):\n",
      "    X = ev['dragX']\n",
      "    Y = ev['dragY']\n",
      "    wid_drag_XY.value = 'XY: {:04.0f}, {:04.0f}'.format(X, Y)\n",
      "    \n",
      "def handle_down(ev):\n",
      "    wid_down_up.value = 'Button: Down'\n",
      "    \n",
      "def handle_up(ev):\n",
      "    wid_down_up.value = 'Button: Up'\n",
      "    wid_drag_XY.value = 'XY:'\n",
      "    \n",
      "def handle_click(ev):\n",
      "    pass\n",
      "#     wid_click.value = ev['type']\n",
      "    \n",
      "\n",
      "# Assign handler for \"all\" events.\n",
      "wid_image.on_mouse_move(handle_event)\n",
      "wid_image.on_mouse_drag(handle_event)\n",
      "wid_image.on_mouse_down(handle_event)\n",
      "wid_image.on_mouse_up(handle_event)\n",
      "wid_image.on_mouse_click(handle_event)\n",
      "\n",
      "# Assign handlers for individual event types.\n",
      "wid_image.on_mouse_move(handle_motion)\n",
      "wid_image.on_mouse_drag(handle_drag)\n",
      "wid_image.on_mouse_down(handle_down)\n",
      "wid_image.on_mouse_up(handle_up)\n",
      "wid_image.on_mouse_click(handle_click)\n",
      "\n",
      "# List of widgets to be set to `hbox` style.\n",
      "mod_hbox = [container_main, container_move, container_drag]"
     ],
     "language": "python",
     "metadata": {},
     "outputs": [],
     "prompt_number": 4
    },
    {
     "cell_type": "heading",
     "level": 2,
     "metadata": {},
     "source": [
      "Display all the widget parts"
     ]
    },
    {
     "cell_type": "markdown",
     "metadata": {},
     "source": [
      "Helper display function that also updates specified widgets from `vbox` to `hbox` style."
     ]
    },
    {
     "cell_type": "code",
     "collapsed": false,
     "input": [
      "def display_my_widgets(widget, mod_hbox):\n",
      "    IPython.display.display(widget)\n",
      "    \n",
      "    for w in mod_hbox:\n",
      "        w.remove_class('vbox')\n",
      "        w.add_class('hbox')"
     ],
     "language": "python",
     "metadata": {},
     "outputs": [],
     "prompt_number": 5
    },
    {
     "cell_type": "heading",
     "level": 2,
     "metadata": {},
     "source": [
      "Display everything"
     ]
    },
    {
     "cell_type": "code",
     "collapsed": false,
     "input": [
      "display_my_widgets(container_main, mod_hbox)"
     ],
     "language": "python",
     "metadata": {},
     "outputs": [],
     "prompt_number": 6
    },
    {
     "cell_type": "code",
     "collapsed": false,
     "input": [
      "1/0"
     ],
     "language": "python",
     "metadata": {},
     "outputs": [
      {
       "ename": "ZeroDivisionError",
       "evalue": "division by zero",
       "output_type": "pyerr",
       "traceback": [
        "\u001b[1;31m---------------------------------------------------------------------------\u001b[0m\n\u001b[1;31mZeroDivisionError\u001b[0m                         Traceback (most recent call last)",
        "\u001b[1;32m<ipython-input-7-05c9758a9c21>\u001b[0m in \u001b[0;36m<module>\u001b[1;34m()\u001b[0m\n\u001b[1;32m----> 1\u001b[1;33m \u001b[1;36m1\u001b[0m\u001b[1;33m/\u001b[0m\u001b[1;36m0\u001b[0m\u001b[1;33m\u001b[0m\u001b[0m\n\u001b[0m",
        "\u001b[1;31mZeroDivisionError\u001b[0m: division by zero"
       ]
      }
     ],
     "prompt_number": 7
    },
    {
     "cell_type": "heading",
     "level": 2,
     "metadata": {},
     "source": [
      "Play with Button Widget"
     ]
    },
    {
     "cell_type": "code",
     "collapsed": false,
     "input": [
      "import IPython\n",
      "import IPython.html.widgets\n",
      "\n",
      "# Instantiate a widget object.\n",
      "wid_butt = IPython.html.widgets.ButtonWidget(description='click me!')\n"
     ],
     "language": "python",
     "metadata": {},
     "outputs": []
    }
   ],
   "metadata": {}
  }
 ]
}
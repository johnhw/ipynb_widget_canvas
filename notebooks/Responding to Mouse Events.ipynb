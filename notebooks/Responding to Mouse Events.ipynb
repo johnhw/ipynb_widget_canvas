{
 "metadata": {
  "name": "",
  "signature": "sha256:e28aca4535d9676565891f27bc0e2c33b2b0d1eb0b39e5070736871346188ccf"
 },
 "nbformat": 3,
 "nbformat_minor": 0,
 "worksheets": [
  {
   "cells": [
    {
     "cell_type": "heading",
     "level": 1,
     "metadata": {},
     "source": [
      "Canvas Image Widget for IPython Notebook"
     ]
    },
    {
     "cell_type": "markdown",
     "metadata": {},
     "source": [
      "## To Do:\n",
      "- Canvas events propagated to Python side:\n",
      "    - Capture mouse wheel/scroll [events](http://stackoverflow.com/questions/10313142/javascript-capture-mouse-wheel-event-and-do-not-scroll-the-page)\n",
      "- Implement image transforms: Traitlets, JS handlers, Python handlers\n",
      "    - Update transform wrt/ scroll, drag, ctrl-scroll\n",
      "- Build better example that incorporates built-in widgets for buttons, sliders, and number display\n",
      "- Look into resizable canvas by click/dragging edge or corner.  Possible ideas at [StackOverflow](http://stackoverflow.com/questions/1977741/resizable-canvas-jquery-ui)\n",
      "- Example with dispaying mouse motion & click event info via Text Widget\n",
      "- Example maniplating image with transforms\n",
      "- Build draft version of my Quiver app.\n",
      "\n",
      "## Done:\n",
      "- Initialize Python class, with or without an image.\n",
      "- CSS border properties managed through `DOMWidget`'s methods `get_css()` and `set_css()`.\n",
      "- Image is class property, src is the traitlet synchronized\n",
      "- Canvas events propagated to Python side:\n",
      "    - mouse click and motion handling: [example code](http://stackoverflow.com/questions/10001283/html5-canvas-how-to-handle-mousedown-mouseup-mouseclick#)\n",
      "    - mouse coordinate [awesome example](http://www.html5canvastutorials.com/advanced/html5-canvas-mouse-coordinates/)\n",
      "- All mouse events are to carry similar information.\n",
      "- Receive mouse event on Python side.\n",
      "- Interpret mouse down/up as click event on Python side.  May require explicitly registering event handler in Python.\n",
      "- Demonstrate syncing Python dicts <--> JavaScript object literals via Dict traitlet.\n"
     ]
    },
    {
     "cell_type": "markdown",
     "metadata": {},
     "source": [
      "---"
     ]
    },
    {
     "cell_type": "code",
     "collapsed": false,
     "input": [
      "from __future__ import print_function, unicode_literals, division"
     ],
     "language": "python",
     "metadata": {},
     "outputs": [],
     "prompt_number": 52
    },
    {
     "cell_type": "code",
     "collapsed": false,
     "input": [
      "import IPython\n",
      "import widget_canvas as canvas\n",
      "\n",
      "from IPython.html.widgets import LatexWidget, TextareaWidget, ContainerWidget"
     ],
     "language": "python",
     "metadata": {},
     "outputs": [],
     "prompt_number": 53
    },
    {
     "cell_type": "heading",
     "level": 2,
     "metadata": {},
     "source": [
      "Easy Mouse Event Handlers"
     ]
    },
    {
     "cell_type": "markdown",
     "metadata": {},
     "source": [
      "While I haven't yet added support for drawing fancy lines, I did include support for responding to mouse events: motion, clicks, and drags.  In the next few cells I'll use a few built-in IPython widgets to demonstrate how easy it is to work with mouse events.   "
     ]
    },
    {
     "cell_type": "markdown",
     "metadata": {},
     "source": [
      "Load image data and create the canvas image display widget."
     ]
    },
    {
     "cell_type": "code",
     "collapsed": false,
     "input": [
      "data_A = canvas.image.read('images/Whippet.jpg')\n",
      "data_B = canvas.image.read('images/Doberman.jpg')\n",
      "\n",
      "wid_image = canvas.ImageWidget(data_A)\n",
      "wid_image.set_css('border', 'solid 1px black')"
     ],
     "language": "python",
     "metadata": {},
     "outputs": [],
     "prompt_number": 54
    },
    {
     "cell_type": "code",
     "collapsed": false,
     "input": [
      "# def set_css_recursive(widget, style):\n",
      "#     if isinstance(widget, ContainerWidget):\n",
      "#         for w in widget.children:\n",
      "#             set_css_recursive(w, style)\n",
      "#     else:\n",
      "#         widget.set_css(style)"
     ],
     "language": "python",
     "metadata": {},
     "outputs": [],
     "prompt_number": 55
    },
    {
     "cell_type": "markdown",
     "metadata": {},
     "source": [
      "Prepare a few helper functions and additional information display widgets."
     ]
    },
    {
     "cell_type": "code",
     "collapsed": false,
     "input": [
      "# Event information.\n",
      "wid_event_text = TextareaWidget(description='Event')\n",
      "wid_event_text.set_css({'width': '600px', 'height': '60px'})\n",
      "\n",
      "# X and Y cursor coordinates.\n",
      "wid_move_XY = LatexWidget(value='XY:')\n",
      "wid_move_XY.set_css({'width': '30px', 'margin-left': '5px', 'font-family': 'monospace'})\n",
      "\n",
      "wid_drag_XY = LatexWidget(value='XY:')\n",
      "wid_drag_XY.set_css({'width': '30px', 'margin-left': '5px', 'font-family': 'monospace'})\n",
      "\n",
      "# Status indicators.\n",
      "wid_move = LatexWidget(value='Move')\n",
      "wid_move.set_css({'font-family': 'monospace'})\n",
      "\n",
      "wid_drag = LatexWidget(value='Drag')\n",
      "wid_drag.set_css({'font-family': 'monospace'})\n",
      "\n",
      "# Event information.\n",
      "wid_event_text = TextareaWidget()\n",
      "wid_event_text.set_css({'width': '400', 'height': '80', 'font-family': 'monospace'})\n",
      "\n",
      "# Assemble containers.\n",
      "container_move = ContainerWidget(children=[wid_move, wid_move_XY])\n",
      "container_drag = ContainerWidget(children=[wid_drag, wid_drag_XY])\n",
      "\n",
      "container_info = ContainerWidget(children=[container_move, container_drag, wid_event_text])\n",
      "container_info.set_css({'margin-left': '10px'})\n",
      "\n",
      "container_main = ContainerWidget(children=[wid_image, container_info])"
     ],
     "language": "python",
     "metadata": {},
     "outputs": [],
     "prompt_number": 85
    },
    {
     "cell_type": "heading",
     "level": 2,
     "metadata": {},
     "source": [
      "Define and attach Python event handlers"
     ]
    },
    {
     "cell_type": "markdown",
     "metadata": {},
     "source": [
      "Define a few Python event handlers and connect them to the canvas widget so they can update the display in response to mouse events.\n",
      "\n",
      "See Bootstrap old docs for details: http://getbootstrap.com/2.3.2/base-css.html"
     ]
    },
    {
     "cell_type": "code",
     "collapsed": false,
     "input": [
      "style_A = 'label label-primary'\n",
      "style_B = 'label label-success'\n",
      "style_C = 'label label-info'\n",
      "style_D = 'label label-warning'\n",
      "style_E = 'label label-danger'\n",
      "\n",
      "def handle_event(ev):\n",
      "    \"\"\"Generic event handler.\"\"\"\n",
      "    wid_event_text.value = str(ev)\n",
      "\n",
      "def handle_motion(ev):\n",
      "    wid_move.remove_class('vbox')\n",
      "    wid.add_class('hbox')\n",
      "    \n",
      "    \n",
      "    value = ev['type']\n",
      "    \n",
      "def handle_drag(ev):\n",
      "    wid_drag.value = ev['type']\n",
      "    \n",
      "def handle_click(ev):\n",
      "    wid_click.value = ev['type']\n",
      "    \n",
      "\n",
      "# Assign this event handler function to two separate event types.    \n",
      "wid_image.on_mouse_move(handle_event)\n",
      "wid_image.on_mouse_drag(handle_event)\n",
      "wid_image.on_mouse_click(handle_event)\n",
      "\n",
      "# wid_image.on_mouse_move(respond_to_event)\n",
      "# wid_image.on_mouse_move(respond_to_motion)\n",
      "\n",
      "# wid_image.on_mouse_drag(respond_to_event)\n",
      "# wid_image.on_mouse_drag(respond_to_motion)\n",
      "\n",
      "# wid_image.on_mouse_click(respond_to_event)\n",
      "# wid_image.on_mouse_click(respond_to_clicks)\n"
     ],
     "language": "python",
     "metadata": {},
     "outputs": [],
     "prompt_number": 86
    },
    {
     "cell_type": "heading",
     "level": 2,
     "metadata": {},
     "source": [
      "Display all the widget parts"
     ]
    },
    {
     "cell_type": "code",
     "collapsed": false,
     "input": [
      "IPython.display.display(container_main)"
     ],
     "language": "python",
     "metadata": {},
     "outputs": [],
     "prompt_number": 87
    },
    {
     "cell_type": "markdown",
     "metadata": {},
     "source": [
      "## Update class styles\n",
      "Widget classs values can only be set after the widget has been displayed to the screen."
     ]
    },
    {
     "cell_type": "code",
     "collapsed": false,
     "input": [
      "# Change container(s) widgets from `vbox` to `hbox` style as needed.\n",
      "for wid in [container_move, container_drag, container_main]:\n",
      "    wid.remove_class('vbox')\n",
      "    wid.add_class('hbox')"
     ],
     "language": "python",
     "metadata": {},
     "outputs": [],
     "prompt_number": 88
    },
    {
     "cell_type": "code",
     "collapsed": false,
     "input": [
      "1/0"
     ],
     "language": "python",
     "metadata": {},
     "outputs": [
      {
       "ename": "ZeroDivisionError",
       "evalue": "division by zero",
       "output_type": "pyerr",
       "traceback": [
        "\u001b[1;31m---------------------------------------------------------------------------\u001b[0m\n\u001b[1;31mZeroDivisionError\u001b[0m                         Traceback (most recent call last)",
        "\u001b[1;32m<ipython-input-89-05c9758a9c21>\u001b[0m in \u001b[0;36m<module>\u001b[1;34m()\u001b[0m\n\u001b[1;32m----> 1\u001b[1;33m \u001b[1;36m1\u001b[0m\u001b[1;33m/\u001b[0m\u001b[1;36m0\u001b[0m\u001b[1;33m\u001b[0m\u001b[0m\n\u001b[0m",
        "\u001b[1;31mZeroDivisionError\u001b[0m: division by zero"
       ]
      }
     ],
     "prompt_number": 89
    },
    {
     "cell_type": "markdown",
     "metadata": {},
     "source": []
    },
    {
     "cell_type": "markdown",
     "metadata": {},
     "source": []
    },
    {
     "cell_type": "heading",
     "level": 2,
     "metadata": {},
     "source": [
      "Play with Button Widget"
     ]
    },
    {
     "cell_type": "code",
     "collapsed": false,
     "input": [
      "import IPython\n",
      "import IPython.html.widgets\n",
      "\n",
      "# Instantiate a widget object.\n",
      "wid_butt = IPython.html.widgets.ButtonWidget(description='click me!')\n"
     ],
     "language": "python",
     "metadata": {},
     "outputs": []
    },
    {
     "cell_type": "code",
     "collapsed": false,
     "input": [
      "# Python callback for widget's click event.\n",
      "def clicker(wid):\n",
      "    wid.description += 'A'\n",
      "    \n",
      "# Attach the callback.\n",
      "wid_butt.on_click(clicker)\n",
      "\n",
      "# Display widget.\n",
      "wid_butt"
     ],
     "language": "python",
     "metadata": {},
     "outputs": []
    }
   ],
   "metadata": {}
  }
 ]
}
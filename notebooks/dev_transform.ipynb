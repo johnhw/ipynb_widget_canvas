{
 "metadata": {
  "name": "",
  "signature": "sha256:cd3fe5656d58d1c8e2628e83572c0861847f3830776a6c0a4b1f0f19868a647c"
 },
 "nbformat": 3,
 "nbformat_minor": 0,
 "worksheets": [
  {
   "cells": [
    {
     "cell_type": "code",
     "collapsed": false,
     "input": [
      "from __future__ import division, print_function, unicode_literals\n",
      "\n",
      "%matplotlib inline\n",
      "\n",
      "import matplotlib.pyplot as plt\n",
      "import numpy as np\n",
      "\n",
      "import scipy as sp\n",
      "import scipy.linalg\n",
      "\n",
      "import widget_canvas\n",
      "\n",
      "from widget_canvas import transform_2D\n",
      "from widget_canvas import decompose"
     ],
     "language": "python",
     "metadata": {},
     "outputs": [
      {
       "javascript": [
        "//============================================================================\n",
        "// CanvasWidget\n",
        "//============================================================================\n",
        "\n",
        "require([\"widgets/js/widget\"], function (WidgetManager) {\n",
        "\n",
        "    // console.log('require widget_canvas.js');\n",
        "\n",
        "    // Define the widget's View.\n",
        "    var CanvasImageView = IPython.DOMWidgetView.extend({\n",
        "        initialize: function (options) {\n",
        "            // console.log('initialize');\n",
        "\n",
        "            // Backbone Model --> My JavaScript View\n",
        "            this.model.on('change:data_encode', this.update_data_encode, this);\n",
        "            // this.model.on('change:width', this.update_width, this);\n",
        "            // this.model.on('change:height', this.update_height, this);\n",
        "            this.model.on('change:_transform_values', this.update_transform, this);\n",
        "            this.model.on('change:smoothing', this.update_smoothing, this);\n",
        "\n",
        "            // this.time_mouse = Date.now()\n",
        "            // this.time_mouse_threshold = 20 // miliseconds\n",
        "            CanvasImageView.__super__.initialize.apply(this, arguments);\n",
        "        },\n",
        "\n",
        "        render: function () {\n",
        "            // Render a widget's view instance to the DOM.\n",
        "            // console.log('render');\n",
        "\n",
        "            // This project's view is quite simple: just a single <canvas> element.\n",
        "            // http://stackoverflow.com/questions/3729034/javascript-html5-capture-keycode-and-write-to-canvas\n",
        "            this.setElement('<canvas />');\n",
        "\n",
        "            // Gather some handy references for the canvas and its context.\n",
        "            this.canvas = this.el\n",
        "            this.context = this.canvas.getContext('2d');\n",
        "\n",
        "            // Prevent text selection cursor on canvas when click dragging.\n",
        "            // http://stackoverflow.com/questions/11805318/when-i-click-on-a-canvas-and-drag-my-mouse-the-cursor-changes-to-a-text-selecti\n",
        "            this.canvas.onmousedown = function (event) {\n",
        "                event.preventDefault();\n",
        "            }\n",
        "\n",
        "            // Prevent page from scrolling with mouse wheel events over canvas.\n",
        "            this.canvas.onwheel = function (event) {\n",
        "                event.preventDefault();\n",
        "            }\n",
        "\n",
        "            // Internal image element serving to render new image src data.  This object will\n",
        "            // later be used as source data argument to the canvas' own `drawImage()` method.\n",
        "            this.image = new Image();\n",
        "\n",
        "            // Event handling for drawing new data to the canvas.\n",
        "            var that = this\n",
        "            var draw_onload = function () {\n",
        "                // console.log('draw_onload');\n",
        "                that.update_data_image();\n",
        "            }\n",
        "\n",
        "            this.image.onload = draw_onload\n",
        "\n",
        "            // Does any valid data exist in the system?  Copy data_b64 if it exists in model.\n",
        "            if (this.model.has('data_encode')) {\n",
        "                // console.log('render has b64');\n",
        "                if (this.model.get('data_encode') != '') {\n",
        "                    // console.log('render has OK data_encode');\n",
        "                    this.update_data_encode();\n",
        "                }\n",
        "            }\n",
        "\n",
        "            // I noticed problems if this update() function call was left out, e.g. second views of\n",
        "            // my model would not initially receive CSS style properties.\n",
        "            this.update();\n",
        "        },\n",
        "\n",
        "        // update_fmt: function () {\n",
        "        //     // Python --> JavaScript\n",
        "        //     console.log('update_fmt: ' + this.model.get('fmt'));\n",
        "        // },\n",
        "        update_data_encode: function () {\n",
        "            // Python --> JavaScript, copy new value from Backbone model, apply to this View.\n",
        "            // console.log('update_data_encode');\n",
        "\n",
        "            this.image.src = this.model.get('data_encode');\n",
        "\n",
        "            // Event processing continues inside this.image's defined onload() event handler.\n",
        "        },\n",
        "\n",
        "        update_data_image: function () {\n",
        "            // Helper handler.\n",
        "            // console.log('update_data_image');\n",
        "\n",
        "            this.set_width(this.image.width);\n",
        "            this.set_height(this.image.height);\n",
        "\n",
        "            this.draw();\n",
        "        },\n",
        "\n",
        "        update_width: function () {\n",
        "            // Python --> JavaScript\n",
        "            // console.log('update_width');\n",
        "            this.set_width(this.model.get('width'));\n",
        "            this.draw();\n",
        "        },\n",
        "        update_height: function () {\n",
        "            // Python --> JavaScript\n",
        "            // console.log('update_height');\n",
        "            this.set_height(this.model.get('height'));\n",
        "            this.draw();\n",
        "        },\n",
        "\n",
        "        set_width: function (value) {\n",
        "            // console.log('set_width: ', value);\n",
        "\n",
        "            this.canvas.width = value\n",
        "            this.canvas.style.width = value + 'px'\n",
        "\n",
        "            this.model.set('width', value);\n",
        "            this.touch();\n",
        "        },\n",
        "        set_height: function (value) {\n",
        "            // console.log('set_height: ', value);\n",
        "\n",
        "            this.canvas.height = value\n",
        "            this.canvas.style.height = value + 'px'\n",
        "\n",
        "            this.model.set('height', value);\n",
        "            this.touch()\n",
        "        },\n",
        "\n",
        "        update_smoothing: function () {\n",
        "            // Python --> JavaScript\n",
        "            // console.log('update_smoothing');\n",
        "            this.set_smoothing(this.model.get('smoothing'));\n",
        "        },\n",
        "\n",
        "        set_smoothing: function (value) {\n",
        "            this.context.mozImageSmoothingEnabled = value\n",
        "            this.context.oImageSmoothingEnabled = value\n",
        "            this.context.webkitImageSmoothingEnabled = value\n",
        "            this.context.imageSmoothingEnabled = value\n",
        "        },\n",
        "\n",
        "        update_transform: function () {\n",
        "            // Python --> JavaScript\n",
        "            // console.log('update_transform');\n",
        "            // console.log(this.model);\n",
        "            // console.log(this.model.msg_buffer);\n",
        "            // console.log(this.model.pending_msgs);\n",
        "\n",
        "            // Apply new transformation.\n",
        "            // http://www.whatwg.org/specs/web-apps/current-work/multipage/the-canvas-element.html#transformations\n",
        "            // https://developer.mozilla.org/en-US/docs/Web/Guide/HTML/Canvas_tutorial/Transformations\n",
        "            var M = this.model.get('_transform_values');\n",
        "            //  M =                   m11,  m12,  m21,  m22,  m13,  m23\n",
        "            this.context.setTransform(M[0], M[1], M[2], M[3], M[4], M[5]);\n",
        "\n",
        "            // var m11, m12, m21, m22, m13, m23;\n",
        "            // m11 = M[0]\n",
        "            // m12 = M[1]\n",
        "            // m21 = M[2]\n",
        "            // m22 = M[3]\n",
        "            // m13 = M[4]\n",
        "            // m23 = M[5]\n",
        "\n",
        "            // console.log(m11, m12, m21, m22, m13, m23);\n",
        "            // console.log(this.context);\n",
        "            // this.context.setTransform(m11, m12, m21, m22, m13, m23);\n",
        "\n",
        "            this.draw();\n",
        "\n",
        "            // Must call this.touch() after any modifications to Backbone Model data.\n",
        "            // this.touch();\n",
        "        },\n",
        "\n",
        "        clear: function () {\n",
        "            // Clear the canvas while preserving current state.\n",
        "            // http://stackoverflow.com/a/6722031/282840\n",
        "            // console.log('clear: ', 0, 0, this.canvas.width, this.canvas.height);\n",
        "\n",
        "            this.context.save();\n",
        "\n",
        "            this.context.setTransform(1, 0, 0, 1, 0, 0);\n",
        "            this.context.clearRect(0, 0, this.canvas.width, this.canvas.height);\n",
        "\n",
        "            this.context.restore();\n",
        "        },\n",
        "\n",
        "        draw: function () {\n",
        "            // Draw image data from internal <img> to the <canvas>.\n",
        "            // console.log('draw');\n",
        "\n",
        "            // Clear any prior image data.\n",
        "            this.clear();\n",
        "            this.set_smoothing(false);\n",
        "\n",
        "            // Draw image to screen.\n",
        "            this.context.drawImage(this.image, 0, 0);\n",
        "\n",
        "            // Must call this.touch() after any modifications to Backbone Model data.\n",
        "            // this.touch();\n",
        "        },\n",
        "\n",
        "        /////////////////////////////////////////////\n",
        "        // JavaScript --> Python\n",
        "        // Tell Backbone how to respond to JavaScript-generated events.\n",
        "        //\n",
        "        // Great reference for JavaScript events:\n",
        "        // https://developer.mozilla.org/en-US/docs/Web/Reference/Events\n",
        "        events: {\n",
        "            'mousemove': 'handle_mouse',\n",
        "            'mouseup': 'handle_mouse',\n",
        "            'mousedown': 'handle_mouse',\n",
        "            'wheel': 'handle_mouse',\n",
        "            //  'click':      'handle_click',\n",
        "            //  'mouseenter': 'handle_mouse',  // don't worry about these other mouse\n",
        "            //  'mouseleave': 'handle_mouse',  // events for now.\n",
        "            //  'mouseout':   'handle_mouse',\n",
        "            //  'mouseover':  'handle_mouse',\n",
        "        },\n",
        "\n",
        "        // Extract information about a mouse event.\n",
        "        // https://developer.mozilla.org/en-US/docs/Web/Reference/Events/mousemove\n",
        "        _build_mouse_info: function (ev) {\n",
        "            // http://stackoverflow.com/questions/17130395/canvas-html5-real-mouse-position\n",
        "            // https://developer.mozilla.org/en-US/docs/Web/API/Element.getBoundingClientRect\n",
        "            var rect = this.canvas.getBoundingClientRect();\n",
        "            var x = parseInt(ev.clientX - rect.left);\n",
        "            var y = parseInt(ev.clientY - rect.top);\n",
        "\n",
        "            var info = {\n",
        "                canvasX: x,\n",
        "                canvasY: y,\n",
        "            }\n",
        "\n",
        "            // Copy select system mouse event attributes over to this application's mouse event\n",
        "            // structure.\n",
        "            var attr_basic = ['type', 'timeStamp', 'button',\n",
        "                'ctrlKey', 'altKey', 'shiftKey', 'metaKey',\n",
        "                'clientX', 'clientY'\n",
        "            ]\n",
        "            var key, ix\n",
        "            for (ix in attr_basic) {\n",
        "                key = attr_basic[ix]\n",
        "                info[key] = ev[key]\n",
        "            }\n",
        "\n",
        "            // Check for `wheel` event.\n",
        "            // https://developer.mozilla.org/en-US/docs/Web/Reference/Events/wheel\n",
        "            var attr_wheel = ['deltaMode', 'deltaX', 'deltaY', 'deltaZ']\n",
        "            if (info['type'] == 'wheel') {\n",
        "                for (ix in attr_wheel) {\n",
        "                    key = attr_wheel[ix]\n",
        "                    info[key] = ev[key]\n",
        "                }\n",
        "            }\n",
        "\n",
        "            return info\n",
        "        },\n",
        "\n",
        "        // Handle a mouse event.\n",
        "        handle_mouse: function (jev) {\n",
        "            var ev = jev.originalEvent\n",
        "                // Event handler responding to mouse motion and button clicks.\n",
        "                // console.log(ev);\n",
        "\n",
        "            // Rate limit for motion events.\n",
        "            // if (ev['type'] == 'mousemove') {\n",
        "            //     var time_now = Date.now()\n",
        "            //     var time_delta = time_now - this.time_mouse\n",
        "            //     if (time_delta < this.time_mouse_threshold) {\n",
        "            //         return\n",
        "            //     } else {\n",
        "            //         this.time_mouse = time_now\n",
        "            //     }\n",
        "            // }\n",
        "\n",
        "            var info = this._build_mouse_info(ev)\n",
        "            this.model.set('_mouse', info);\n",
        "\n",
        "            // Must call this.touch() after any modifications to Backbone Model data.\n",
        "            this.touch();\n",
        "        },\n",
        "\n",
        "        // // Handle mouse wheel scroll event.\n",
        "        // handle_wheel: function (jev) {\n",
        "        //     var ev = jev.originalEvent\n",
        "        //     console.log(ev);\n",
        "        //     console.log(ev.clientX);\n",
        "        //     // this.model.set('_key', ev);\n",
        "        //     // Must call this.touch() after any modifications to Backbone Model data.\n",
        "        //     this.touch();\n",
        "        // },\n",
        "        // Handle keyboard event.\n",
        "        // http://stackoverflow.com/questions/3729034/javascript-html5-capture-keycode-and-write-to-canvas\n",
        "        // handle_keypress: function (ev) {\n",
        "        //     console.log(ev);\n",
        "        //     this.model.set('_key', ev);\n",
        "        //     // Must call this.touch() after any modifications to Backbone Model data.\n",
        "        //     this.touch();\n",
        "        // }\n",
        "\n",
        "    });\n",
        "\n",
        "    // Register View with widget manager.\n",
        "    // console.log('register');\n",
        "    WidgetManager.register_widget_view('CanvasImageView', CanvasImageView);\n",
        "});\n"
       ],
       "metadata": {},
       "output_type": "display_data"
      }
     ],
     "prompt_number": 1
    },
    {
     "cell_type": "heading",
     "level": 2,
     "metadata": {},
     "source": [
      "Data setup"
     ]
    },
    {
     "cell_type": "code",
     "collapsed": false,
     "input": [
      "# A set of data points.\n",
      "N = 8*4\n",
      "Rs = [0.6, 1.6]\n",
      "\n",
      "points = []\n",
      "for a in np.linspace(0, 360, N, endpoint=False):\n",
      "    for r in Rs:\n",
      "        x = np.cos(np.deg2rad(a)) * r\n",
      "        y = np.sin(np.deg2rad(a)) * r\n",
      "        \n",
      "        points.append([x, y])\n",
      "\n",
      "points.extend([[0.0, 0.0],\n",
      "               [0.0, 0.1],\n",
      "               [0.0,-0.1],\n",
      "               [0.1, 0.0],\n",
      "               [-0.1, 0.0]])\n",
      "\n",
      "points.extend([[0.8, 0.0],\n",
      "               [1.0, 0.0],\n",
      "               [1.2, 0.0],\n",
      "               [1.4, 0.0],\n",
      "               [1.8, 0.0],\n",
      "               [2.0, 0.0],\n",
      "               [2.0, 0.1]])\n",
      "\n",
      "points.extend([[0.0, 0.8],\n",
      "               [0.0, 1.0],\n",
      "               [0.0, 1.2],\n",
      "               [0.0, 1.4],\n",
      "               [0.0, 1.8],\n",
      "               [0.0, 2.0],\n",
      "               [0.1, 2.0]])\n",
      "\n",
      "\n",
      "points = np.asarray(points)\n",
      "\n",
      "avg_x, avg_y = np.mean(points, axis=0)\n",
      "\n",
      "# Display parameters.\n",
      "edge = 'black'\n",
      "alpha = 0.65"
     ],
     "language": "python",
     "metadata": {},
     "outputs": [],
     "prompt_number": 2
    },
    {
     "cell_type": "code",
     "collapsed": false,
     "input": [
      "# Build transforms.\n",
      "\n",
      "# Rotate.\n",
      "r_angle = np.deg2rad(45.)\n",
      "H_rotate0 = transform_2D.rotate(r_angle)\n",
      "\n",
      "# Scale.\n",
      "scale = 2., 0.5\n",
      "H_scale0 = transform_2D.scale(scale)\n",
      "\n",
      "# Offset.\n",
      "offset = -.5, .1\n",
      "H_translate0 = transform_2D.offset(offset)\n",
      "\n",
      "# Shear.\n",
      "shear_x0 = 1.\n",
      "shear_y0 = 0.2\n",
      "\n",
      "H_shear0 = transform_2D.shear(shear_x0, shear_y0)\n",
      "\n",
      "# Perspective.\n",
      "pa = 0.2\n",
      "pb = 0.4\n",
      "H_perspective0 = transform_2D.perspective(pa, pb)\n",
      "\n",
      "# Chain.\n",
      "H0 = transform_2D.chain(H_translate0, H_shear0, H_rotate0, H_scale0, H_perspective0)\n",
      "\n",
      "print(H0)"
     ],
     "language": "python",
     "metadata": {},
     "outputs": [
      {
       "output_type": "stream",
       "stream": "stdout",
       "text": [
        "[[ 3.01126984 -0.27071068 -0.5       ]\n",
        " [ 1.71705627  0.32284271  0.1       ]\n",
        " [ 0.2         0.4         1.        ]]\n"
       ]
      }
     ],
     "prompt_number": 3
    },
    {
     "cell_type": "code",
     "collapsed": false,
     "input": [
      "# Display.\n",
      "points_out = transform_2D.apply(H0, points)\n",
      "\n",
      "# Display.\n",
      "fig, ax1 = plt.subplots(figsize=(6, 6))\n",
      "wid = 3\n",
      "ms = 5\n",
      "\n",
      "# Original points.\n",
      "for x, y in points:\n",
      "    ax1.plot(x, y, marker='o', markeredgecolor=edge, markerfacecolor='green', markersize=ms, alpha=alpha)\n",
      "\n",
      "# Transformed points.\n",
      "for x, y in points_out:\n",
      "    ax1.plot(x, y, marker='o', markeredgecolor=edge, markerfacecolor='red', markersize=ms, alpha=alpha)\n",
      "   \n",
      "ax1.set_aspect('equal')\n",
      "ax1.hlines(0, -10, 10, linewidth=0.2)\n",
      "ax1.vlines(0, -10, 10, linewidth=0.2)\n",
      "ax1.set_xlim(-wid, wid)\n",
      "ax1.set_ylim(-wid, wid)\n",
      "\n",
      "plt.tight_layout()"
     ],
     "language": "python",
     "metadata": {},
     "outputs": [
      {
       "metadata": {},
       "output_type": "display_data",
       "png": "[encoded data removed]",
       "text": [
        "<matplotlib.figure.Figure at 0xe74a8d0>"
       ]
      }
     ],
     "prompt_number": 4
    },
    {
     "cell_type": "heading",
     "level": 2,
     "metadata": {},
     "source": [
      "Play with SymPy"
     ]
    },
    {
     "cell_type": "markdown",
     "metadata": {},
     "source": [
      "http://docs.sympy.org/dev/tutorial/solvers.html"
     ]
    },
    {
     "cell_type": "code",
     "collapsed": false,
     "input": [
      "import IPython\n",
      "import sympy as sm\n",
      "from sympy.utilities.lambdify import lambdastr\n",
      "\n",
      "sm.init_printing(use_latex='mathjax')\n",
      "\n",
      "#######################################\n",
      "\n",
      "def rotation(theta):\n",
      "\n",
      "    H = sm.Matrix([[sm.cos(theta), -sm.sin(theta), 0],\n",
      "                   [sm.sin(theta),  sm.cos(theta), 0],\n",
      "                   [0, 0, 1]])   \n",
      "    return H\n"
     ],
     "language": "python",
     "metadata": {},
     "outputs": [],
     "prompt_number": 5
    },
    {
     "cell_type": "heading",
     "level": 2,
     "metadata": {},
     "source": [
      "Component Transforms"
     ]
    },
    {
     "cell_type": "code",
     "collapsed": false,
     "input": [
      "# Translation\n",
      "shift_x, shift_y = sm.symbols('d_x d_y')\n",
      "\n",
      "H_translate = sm.Matrix([[1, 0, shift_x],\n",
      "                         [0, 1, shift_y],\n",
      "                         [0, 0, 1]])\n",
      "\n",
      "# Shear\n",
      "shear_x, shear_y = sm.symbols('s_x s_y')\n",
      "\n",
      "H_sx = sm.Matrix([[1, shear_x, 0],\n",
      "                  [0, 1, 0],\n",
      "                  [0, 0, 1]])\n",
      "\n",
      "H_sy = sm.Matrix([[1, 0, 0],\n",
      "                  [shear_y, 1, 0],\n",
      "                  [0, 0, 1]])\n",
      "\n",
      "H_shear = H_sx # * H_sy\n",
      "\n",
      "# Rotation\n",
      "theta = sm.symbols('theta_r')\n",
      "H_rotate = rotation(theta)\n",
      "\n",
      "# Scale\n",
      "scale_x, scale_y = sm.symbols('c_x c_y')\n",
      "\n",
      "H_scale = sm.Matrix([[scale_x, 0, 0],\n",
      "                     [0, scale_y, 0],\n",
      "                     [0, 0, 1]])\n",
      "\n",
      "# Perspective\n",
      "tilt_x, tilt_y = sm.symbols('p_x p_y')\n",
      "\n",
      "H_perspective = sm.Matrix([[1, 0, 0],\n",
      "                           [0, 1, 0],\n",
      "                           [tilt_x, tilt_y, 1]])\n",
      "\n",
      "########\n",
      "\n",
      "# Variables for \"observed\" data transform\n",
      "h11, h12, h13, h21, h22, h23, h31, h32, h33 = sm.symbols('h11, h12, h13, h21, h22, h23, h31, h32, h33')\n",
      "\n",
      "H_data = sm.Matrix([[h11, h12, h13],\n",
      "                    [h21, h22, h23],\n",
      "                    [h31, h32, h33]])"
     ],
     "language": "python",
     "metadata": {},
     "outputs": [],
     "prompt_number": 15
    },
    {
     "cell_type": "code",
     "collapsed": false,
     "input": [
      "# Display\n",
      "print('\\nTranslation:')\n",
      "IPython.display.display(H_translate)\n",
      "\n",
      "print('\\nScale:')\n",
      "IPython.display.display(H_scale)\n",
      "\n",
      "print('\\nRotation:')\n",
      "IPython.display.display(H_rotate)\n",
      "\n",
      "print('\\nShear:')\n",
      "IPython.display.display(H_shear)\n",
      "\n",
      "print('\\nPerspective:')\n",
      "IPython.display.display(H_perspective)"
     ],
     "language": "python",
     "metadata": {},
     "outputs": [
      {
       "output_type": "stream",
       "stream": "stdout",
       "text": [
        "\n",
        "Translation:\n"
       ]
      },
      {
       "latex": [
        "$$\\left[\\begin{matrix}1 & 0 & d_{x}\\\\0 & 1 & d_{y}\\\\0 & 0 & 1\\end{matrix}\\right]$$"
       ],
       "metadata": {},
       "output_type": "display_data",
       "text": [
        "\u23a11  0  d\u2093 \u23a4\n",
        "\u23a2         \u23a5\n",
        "\u23a20  1  d_y\u23a5\n",
        "\u23a2         \u23a5\n",
        "\u23a30  0   1 \u23a6"
       ]
      },
      {
       "output_type": "stream",
       "stream": "stdout",
       "text": [
        "\n",
        "Scale:\n"
       ]
      },
      {
       "latex": [
        "$$\\left[\\begin{matrix}c_{x} & 0 & 0\\\\0 & c_{y} & 0\\\\0 & 0 & 1\\end{matrix}\\right]$$"
       ],
       "metadata": {},
       "output_type": "display_data",
       "text": [
        "\u23a1c\u2093   0   0\u23a4\n",
        "\u23a2          \u23a5\n",
        "\u23a20   c_y  0\u23a5\n",
        "\u23a2          \u23a5\n",
        "\u23a30    0   1\u23a6"
       ]
      },
      {
       "output_type": "stream",
       "stream": "stdout",
       "text": [
        "\n",
        "Rotation:\n"
       ]
      },
      {
       "latex": [
        "$$\\left[\\begin{matrix}\\cos{\\left (\\theta_{r} \\right )} & - \\sin{\\left (\\theta_{r} \\right )} & 0\\\\\\sin{\\left (\\theta_{r} \\right )} & \\cos{\\left (\\theta_{r} \\right )} & 0\\\\0 & 0 & 1\\end{matrix}\\right]$$"
       ],
       "metadata": {},
       "output_type": "display_data",
       "text": [
        "\u23a1cos(\u03b8\u1d63)  -sin(\u03b8\u1d63)  0\u23a4\n",
        "\u23a2                    \u23a5\n",
        "\u23a2sin(\u03b8\u1d63)  cos(\u03b8\u1d63)   0\u23a5\n",
        "\u23a2                    \u23a5\n",
        "\u23a3   0        0      1\u23a6"
       ]
      },
      {
       "output_type": "stream",
       "stream": "stdout",
       "text": [
        "\n",
        "Shear:\n"
       ]
      },
      {
       "latex": [
        "$$\\left[\\begin{matrix}1 & s_{x} & 0\\\\0 & 1 & 0\\\\0 & 0 & 1\\end{matrix}\\right]$$"
       ],
       "metadata": {},
       "output_type": "display_data",
       "text": [
        "\u23a11  s\u2093  0\u23a4\n",
        "\u23a2        \u23a5\n",
        "\u23a20  1   0\u23a5\n",
        "\u23a2        \u23a5\n",
        "\u23a30  0   1\u23a6"
       ]
      },
      {
       "output_type": "stream",
       "stream": "stdout",
       "text": [
        "\n",
        "Perspective:\n"
       ]
      },
      {
       "latex": [
        "$$\\left[\\begin{matrix}1 & 0 & 0\\\\0 & 1 & 0\\\\p_{x} & p_{y} & 1\\end{matrix}\\right]$$"
       ],
       "metadata": {},
       "output_type": "display_data",
       "text": [
        "\u23a11    0   0\u23a4\n",
        "\u23a2          \u23a5\n",
        "\u23a20    1   0\u23a5\n",
        "\u23a2          \u23a5\n",
        "\u23a3p\u2093  p_y  1\u23a6"
       ]
      }
     ],
     "prompt_number": 16
    },
    {
     "cell_type": "code",
     "collapsed": false,
     "input": [
      "# Model scenario\n",
      "H_model = H_translate * H_shear * H_rotate * H_scale * H_perspective\n",
      "# H_model =  H_shear * H_scale\n",
      "\n",
      "equations = [sm.Eq(H_model, H_data)]\n",
      "\n",
      "for e in equations:\n",
      "    IPython.display.display(e)"
     ],
     "language": "python",
     "metadata": {},
     "outputs": [
      {
       "latex": [
        "$$\\left[\\begin{matrix}c_{x} \\left(s_{x} \\sin{\\left (\\theta_{r} \\right )} + \\cos{\\left (\\theta_{r} \\right )}\\right) + d_{x} p_{x} & c_{y} \\left(s_{x} \\cos{\\left (\\theta_{r} \\right )} - \\sin{\\left (\\theta_{r} \\right )}\\right) + d_{x} p_{y} & d_{x}\\\\c_{x} \\sin{\\left (\\theta_{r} \\right )} + d_{y} p_{x} & c_{y} \\cos{\\left (\\theta_{r} \\right )} + d_{y} p_{y} & d_{y}\\\\p_{x} & p_{y} & 1\\end{matrix}\\right] = \\left[\\begin{matrix}h_{11} & h_{12} & h_{13}\\\\h_{21} & h_{22} & h_{23}\\\\h_{31} & h_{32} & h_{33}\\end{matrix}\\right]$$"
       ],
       "metadata": {},
       "output_type": "display_data",
       "text": [
        "\u23a1c\u2093\u22c5(s\u2093\u22c5sin(\u03b8\u1d63) + cos(\u03b8\u1d63)) + d\u2093\u22c5p\u2093  c_y\u22c5(s\u2093\u22c5cos(\u03b8\u1d63) - sin(\u03b8\u1d63)) + d\u2093\u22c5p_y  d\u2093 \u23a4 \n",
        "\u23a2                                                                           \u23a5 \n",
        "\u23a2       c\u2093\u22c5sin(\u03b8\u1d63) + d_y\u22c5p\u2093                c_y\u22c5cos(\u03b8\u1d63) + d_y\u22c5p_y         d_y\u23a5 \n",
        "\u23a2                                                                           \u23a5 \n",
        "\u23a3               p\u2093                                  p_y                   1 \u23a6 \n",
        "\n",
        "= \u23a1h\u2081\u2081  h\u2081\u2082  h\u2081\u2083\u23a4\n",
        "  \u23a2             \u23a5\n",
        "  \u23a2h\u2082\u2081  h\u2082\u2082  h\u2082\u2083\u23a5\n",
        "  \u23a2             \u23a5\n",
        "  \u23a3h\u2083\u2081  h\u2083\u2082  h\u2083\u2083\u23a6"
       ]
      }
     ],
     "prompt_number": 35
    },
    {
     "cell_type": "code",
     "collapsed": false,
     "input": [
      "Check this out!!!\n",
      "\n",
      "\n",
      "http://math.stackexchange.com/questions/78137/decomposition-of-a-nonsquare-affine-matrix\n",
      "    "
     ],
     "language": "python",
     "metadata": {},
     "outputs": []
    },
    {
     "cell_type": "code",
     "collapsed": false,
     "input": [
      "# Analytical solution.\n",
      "results = sm.solve(equations,\n",
      "                   shift_x, shift_y,\n",
      "                   shear_x,\n",
      "                   theta,\n",
      "                   scale_x, scale_y, \n",
      "                   tilt_x, tilt_y,\n",
      "                   dict=True)  # , manual=True)\n",
      "\n",
      "# Subsitutions for \"observed\" data.\n",
      "substitutions = {h11: H0[0, 0], h12: H0[0, 1], h13: H0[0, 2],\n",
      "                 h21: H0[1, 0], h22: H0[1, 1], h23: H0[1, 2],\n",
      "                 h31: H0[2, 0], h32: H0[2, 1], h33: H0[2, 2]}\n",
      "\n",
      "print()\n",
      "print(H0)"
     ],
     "language": "python",
     "metadata": {},
     "outputs": [
      {
       "ename": "KeyboardInterrupt",
       "evalue": "",
       "output_type": "pyerr",
       "traceback": [
        "\u001b[1;31m---------------------------------------------------------------------------\u001b[0m\n\u001b[1;31mKeyboardInterrupt\u001b[0m                         Traceback (most recent call last)",
        "\u001b[1;32m<ipython-input-36-ab15c34ad008>\u001b[0m in \u001b[0;36m<module>\u001b[1;34m()\u001b[0m\n\u001b[0;32m      6\u001b[0m                    \u001b[0mscale_x\u001b[0m\u001b[1;33m,\u001b[0m \u001b[0mscale_y\u001b[0m\u001b[1;33m,\u001b[0m\u001b[1;33m\u001b[0m\u001b[0m\n\u001b[0;32m      7\u001b[0m                    \u001b[0mtilt_x\u001b[0m\u001b[1;33m,\u001b[0m \u001b[0mtilt_y\u001b[0m\u001b[1;33m,\u001b[0m\u001b[1;33m\u001b[0m\u001b[0m\n\u001b[1;32m----> 8\u001b[1;33m                    dict=True)  # , manual=True)\n\u001b[0m\u001b[0;32m      9\u001b[0m \u001b[1;33m\u001b[0m\u001b[0m\n\u001b[0;32m     10\u001b[0m \u001b[1;31m# Subsitutions for \"observed\" data.\u001b[0m\u001b[1;33m\u001b[0m\u001b[1;33m\u001b[0m\u001b[0m\n",
        "\u001b[1;32mc:\\Users\\pvvilleneuve\\AppData\\Local\\Continuum\\Anaconda\\lib\\site-packages\\sympy\\solvers\\solvers.pyc\u001b[0m in \u001b[0;36msolve\u001b[1;34m(f, *symbols, **flags)\u001b[0m\n\u001b[0;32m    901\u001b[0m         \u001b[0msolution\u001b[0m \u001b[1;33m=\u001b[0m \u001b[0m_solve\u001b[0m\u001b[1;33m(\u001b[0m\u001b[0mf\u001b[0m\u001b[1;33m[\u001b[0m\u001b[1;36m0\u001b[0m\u001b[1;33m]\u001b[0m\u001b[1;33m,\u001b[0m \u001b[1;33m*\u001b[0m\u001b[0msymbols\u001b[0m\u001b[1;33m,\u001b[0m \u001b[1;33m**\u001b[0m\u001b[0mflags\u001b[0m\u001b[1;33m)\u001b[0m\u001b[1;33m\u001b[0m\u001b[0m\n\u001b[0;32m    902\u001b[0m     \u001b[1;32melse\u001b[0m\u001b[1;33m:\u001b[0m\u001b[1;33m\u001b[0m\u001b[0m\n\u001b[1;32m--> 903\u001b[1;33m         \u001b[0msolution\u001b[0m \u001b[1;33m=\u001b[0m \u001b[0m_solve_system\u001b[0m\u001b[1;33m(\u001b[0m\u001b[0mf\u001b[0m\u001b[1;33m,\u001b[0m \u001b[0msymbols\u001b[0m\u001b[1;33m,\u001b[0m \u001b[1;33m**\u001b[0m\u001b[0mflags\u001b[0m\u001b[1;33m)\u001b[0m\u001b[1;33m\u001b[0m\u001b[0m\n\u001b[0m\u001b[0;32m    904\u001b[0m \u001b[1;33m\u001b[0m\u001b[0m\n\u001b[0;32m    905\u001b[0m     \u001b[1;31m#\u001b[0m\u001b[1;33m\u001b[0m\u001b[1;33m\u001b[0m\u001b[0m\n",
        "\u001b[1;32mc:\\Users\\pvvilleneuve\\AppData\\Local\\Continuum\\Anaconda\\lib\\site-packages\\sympy\\solvers\\solvers.pyc\u001b[0m in \u001b[0;36m_solve_system\u001b[1;34m(exprs, symbols, **flags)\u001b[0m\n\u001b[0;32m   1580\u001b[0m                 \u001b[1;32mfor\u001b[0m \u001b[0ms\u001b[0m \u001b[1;32min\u001b[0m \u001b[0mok_syms\u001b[0m\u001b[1;33m:\u001b[0m\u001b[1;33m\u001b[0m\u001b[0m\n\u001b[0;32m   1581\u001b[0m                     \u001b[1;32mtry\u001b[0m\u001b[1;33m:\u001b[0m\u001b[1;33m\u001b[0m\u001b[0m\n\u001b[1;32m-> 1582\u001b[1;33m                         \u001b[0msoln\u001b[0m \u001b[1;33m=\u001b[0m \u001b[0m_solve\u001b[0m\u001b[1;33m(\u001b[0m\u001b[0meq2\u001b[0m\u001b[1;33m,\u001b[0m \u001b[0ms\u001b[0m\u001b[1;33m,\u001b[0m \u001b[1;33m**\u001b[0m\u001b[0mflags\u001b[0m\u001b[1;33m)\u001b[0m\u001b[1;33m\u001b[0m\u001b[0m\n\u001b[0m\u001b[0;32m   1583\u001b[0m                     \u001b[1;32mexcept\u001b[0m \u001b[0mNotImplementedError\u001b[0m\u001b[1;33m:\u001b[0m\u001b[1;33m\u001b[0m\u001b[0m\n\u001b[0;32m   1584\u001b[0m                         \u001b[1;32mcontinue\u001b[0m\u001b[1;33m\u001b[0m\u001b[0m\n",
        "\u001b[1;32mc:\\Users\\pvvilleneuve\\AppData\\Local\\Continuum\\Anaconda\\lib\\site-packages\\sympy\\solvers\\solvers.pyc\u001b[0m in \u001b[0;36m_solve\u001b[1;34m(f, *symbols, **flags)\u001b[0m\n\u001b[0;32m   1287\u001b[0m                         \u001b[0mnewf\u001b[0m \u001b[1;33m=\u001b[0m \u001b[0mTR1\u001b[0m\u001b[1;33m(\u001b[0m\u001b[0mf_num\u001b[0m\u001b[1;33m)\u001b[0m\u001b[1;33m.\u001b[0m\u001b[0mrewrite\u001b[0m\u001b[1;33m(\u001b[0m\u001b[0mtan\u001b[0m\u001b[1;33m)\u001b[0m\u001b[1;33m\u001b[0m\u001b[0m\n\u001b[0;32m   1288\u001b[0m                         \u001b[1;32mif\u001b[0m \u001b[0mnewf\u001b[0m \u001b[1;33m!=\u001b[0m \u001b[0mf_num\u001b[0m\u001b[1;33m:\u001b[0m\u001b[1;33m\u001b[0m\u001b[0m\n\u001b[1;32m-> 1289\u001b[1;33m                             \u001b[1;32mreturn\u001b[0m \u001b[0m_solve\u001b[0m\u001b[1;33m(\u001b[0m\u001b[0mnewf\u001b[0m\u001b[1;33m,\u001b[0m \u001b[0msymbol\u001b[0m\u001b[1;33m,\u001b[0m \u001b[1;33m**\u001b[0m\u001b[0mflags\u001b[0m\u001b[1;33m)\u001b[0m\u001b[1;33m\u001b[0m\u001b[0m\n\u001b[0m\u001b[0;32m   1290\u001b[0m \u001b[1;33m\u001b[0m\u001b[0m\n\u001b[0;32m   1291\u001b[0m                     \u001b[1;31m# just a simple case - see if replacement of single function\u001b[0m\u001b[1;33m\u001b[0m\u001b[1;33m\u001b[0m\u001b[0m\n",
        "\u001b[1;32mc:\\Users\\pvvilleneuve\\AppData\\Local\\Continuum\\Anaconda\\lib\\site-packages\\sympy\\solvers\\solvers.pyc\u001b[0m in \u001b[0;36m_solve\u001b[1;34m(f, *symbols, **flags)\u001b[0m\n\u001b[0;32m   1372\u001b[0m                         \u001b[0mpoly\u001b[0m \u001b[1;33m=\u001b[0m \u001b[0mPoly\u001b[0m\u001b[1;33m(\u001b[0m\u001b[0mpoly\u001b[0m\u001b[1;33m.\u001b[0m\u001b[0mas_expr\u001b[0m\u001b[1;33m(\u001b[0m\u001b[1;33m)\u001b[0m\u001b[1;33m,\u001b[0m \u001b[0mpoly\u001b[0m\u001b[1;33m.\u001b[0m\u001b[0mgen\u001b[0m\u001b[1;33m,\u001b[0m \u001b[0mcomposite\u001b[0m\u001b[1;33m=\u001b[0m\u001b[0mTrue\u001b[0m\u001b[1;33m)\u001b[0m\u001b[1;33m\u001b[0m\u001b[0m\n\u001b[0;32m   1373\u001b[0m                         soln = list(roots(poly, cubics=True, quartics=True,\n\u001b[1;32m-> 1374\u001b[1;33m                                                              quintics=True).keys())\n\u001b[0m\u001b[0;32m   1375\u001b[0m \u001b[1;33m\u001b[0m\u001b[0m\n\u001b[0;32m   1376\u001b[0m                         \u001b[1;32mif\u001b[0m \u001b[0mlen\u001b[0m\u001b[1;33m(\u001b[0m\u001b[0msoln\u001b[0m\u001b[1;33m)\u001b[0m \u001b[1;33m<\u001b[0m \u001b[0mdeg\u001b[0m\u001b[1;33m:\u001b[0m\u001b[1;33m\u001b[0m\u001b[0m\n",
        "\u001b[1;32mc:\\Users\\pvvilleneuve\\AppData\\Local\\Continuum\\Anaconda\\lib\\site-packages\\sympy\\polys\\polyroots.pyc\u001b[0m in \u001b[0;36mroots\u001b[1;34m(f, *gens, **flags)\u001b[0m\n\u001b[0;32m    882\u001b[0m                                 \u001b[0m_update_dict\u001b[0m\u001b[1;33m(\u001b[0m\u001b[0mresult\u001b[0m\u001b[1;33m,\u001b[0m \u001b[0mroot\u001b[0m\u001b[1;33m,\u001b[0m \u001b[1;36m1\u001b[0m\u001b[1;33m)\u001b[0m\u001b[1;33m\u001b[0m\u001b[0m\n\u001b[0;32m    883\u001b[0m                 \u001b[1;32melse\u001b[0m\u001b[1;33m:\u001b[0m\u001b[1;33m\u001b[0m\u001b[0m\n\u001b[1;32m--> 884\u001b[1;33m                     \u001b[1;32mfor\u001b[0m \u001b[0mroot\u001b[0m \u001b[1;32min\u001b[0m \u001b[0m_try_decompose\u001b[0m\u001b[1;33m(\u001b[0m\u001b[0mf\u001b[0m\u001b[1;33m)\u001b[0m\u001b[1;33m:\u001b[0m\u001b[1;33m\u001b[0m\u001b[0m\n\u001b[0m\u001b[0;32m    885\u001b[0m                         \u001b[0m_update_dict\u001b[0m\u001b[1;33m(\u001b[0m\u001b[0mresult\u001b[0m\u001b[1;33m,\u001b[0m \u001b[0mroot\u001b[0m\u001b[1;33m,\u001b[0m \u001b[1;36m1\u001b[0m\u001b[1;33m)\u001b[0m\u001b[1;33m\u001b[0m\u001b[0m\n\u001b[0;32m    886\u001b[0m             \u001b[1;32melse\u001b[0m\u001b[1;33m:\u001b[0m\u001b[1;33m\u001b[0m\u001b[0m\n",
        "\u001b[1;32mc:\\Users\\pvvilleneuve\\AppData\\Local\\Continuum\\Anaconda\\lib\\site-packages\\sympy\\polys\\polyroots.pyc\u001b[0m in \u001b[0;36m_try_decompose\u001b[1;34m(f)\u001b[0m\n\u001b[0;32m    785\u001b[0m         \u001b[0mfactors\u001b[0m\u001b[1;33m,\u001b[0m \u001b[0mroots\u001b[0m \u001b[1;33m=\u001b[0m \u001b[0mf\u001b[0m\u001b[1;33m.\u001b[0m\u001b[0mdecompose\u001b[0m\u001b[1;33m(\u001b[0m\u001b[1;33m)\u001b[0m\u001b[1;33m,\u001b[0m \u001b[1;33m[\u001b[0m\u001b[1;33m]\u001b[0m\u001b[1;33m\u001b[0m\u001b[0m\n\u001b[0;32m    786\u001b[0m \u001b[1;33m\u001b[0m\u001b[0m\n\u001b[1;32m--> 787\u001b[1;33m         \u001b[1;32mfor\u001b[0m \u001b[0mroot\u001b[0m \u001b[1;32min\u001b[0m \u001b[0m_try_heuristics\u001b[0m\u001b[1;33m(\u001b[0m\u001b[0mfactors\u001b[0m\u001b[1;33m[\u001b[0m\u001b[1;36m0\u001b[0m\u001b[1;33m]\u001b[0m\u001b[1;33m)\u001b[0m\u001b[1;33m:\u001b[0m\u001b[1;33m\u001b[0m\u001b[0m\n\u001b[0m\u001b[0;32m    788\u001b[0m             \u001b[0mroots\u001b[0m\u001b[1;33m.\u001b[0m\u001b[0mappend\u001b[0m\u001b[1;33m(\u001b[0m\u001b[0mroot\u001b[0m\u001b[1;33m)\u001b[0m\u001b[1;33m\u001b[0m\u001b[0m\n\u001b[0;32m    789\u001b[0m \u001b[1;33m\u001b[0m\u001b[0m\n",
        "\u001b[1;32mc:\\Users\\pvvilleneuve\\AppData\\Local\\Continuum\\Anaconda\\lib\\site-packages\\sympy\\polys\\polyroots.pyc\u001b[0m in \u001b[0;36m_try_heuristics\u001b[1;34m(f)\u001b[0m\n\u001b[0;32m    831\u001b[0m             \u001b[0mresult\u001b[0m \u001b[1;33m+=\u001b[0m \u001b[0mroots_cubic\u001b[0m\u001b[1;33m(\u001b[0m\u001b[0mf\u001b[0m\u001b[1;33m)\u001b[0m\u001b[1;33m\u001b[0m\u001b[0m\n\u001b[0;32m    832\u001b[0m         \u001b[1;32melif\u001b[0m \u001b[0mn\u001b[0m \u001b[1;33m==\u001b[0m \u001b[1;36m4\u001b[0m \u001b[1;32mand\u001b[0m \u001b[0mquartics\u001b[0m\u001b[1;33m:\u001b[0m\u001b[1;33m\u001b[0m\u001b[0m\n\u001b[1;32m--> 833\u001b[1;33m             \u001b[0mresult\u001b[0m \u001b[1;33m+=\u001b[0m \u001b[0mroots_quartic\u001b[0m\u001b[1;33m(\u001b[0m\u001b[0mf\u001b[0m\u001b[1;33m)\u001b[0m\u001b[1;33m\u001b[0m\u001b[0m\n\u001b[0m\u001b[0;32m    834\u001b[0m         \u001b[1;32melif\u001b[0m \u001b[0mn\u001b[0m \u001b[1;33m==\u001b[0m \u001b[1;36m5\u001b[0m \u001b[1;32mand\u001b[0m \u001b[0mquintics\u001b[0m\u001b[1;33m:\u001b[0m\u001b[1;33m\u001b[0m\u001b[0m\n\u001b[0;32m    835\u001b[0m             \u001b[0mresult\u001b[0m \u001b[1;33m+=\u001b[0m \u001b[0mroots_quintic\u001b[0m\u001b[1;33m(\u001b[0m\u001b[0mf\u001b[0m\u001b[1;33m)\u001b[0m\u001b[1;33m\u001b[0m\u001b[0m\n",
        "\u001b[1;32mc:\\Users\\pvvilleneuve\\AppData\\Local\\Continuum\\Anaconda\\lib\\site-packages\\sympy\\polys\\polyroots.pyc\u001b[0m in \u001b[0;36mroots_quartic\u001b[1;34m(f)\u001b[0m\n\u001b[0;32m    273\u001b[0m         \u001b[1;32melse\u001b[0m\u001b[1;33m:\u001b[0m\u001b[1;33m\u001b[0m\u001b[0m\n\u001b[0;32m    274\u001b[0m             \u001b[1;31m# Descartes-Euler method, see [7]\u001b[0m\u001b[1;33m\u001b[0m\u001b[1;33m\u001b[0m\u001b[0m\n\u001b[1;32m--> 275\u001b[1;33m             \u001b[0msols\u001b[0m \u001b[1;33m=\u001b[0m \u001b[0m_roots_quartic_euler\u001b[0m\u001b[1;33m(\u001b[0m\u001b[0me\u001b[0m\u001b[1;33m,\u001b[0m \u001b[0mf\u001b[0m\u001b[1;33m,\u001b[0m \u001b[0mg\u001b[0m\u001b[1;33m,\u001b[0m \u001b[0maon4\u001b[0m\u001b[1;33m)\u001b[0m\u001b[1;33m\u001b[0m\u001b[0m\n\u001b[0m\u001b[0;32m    276\u001b[0m             \u001b[1;32mif\u001b[0m \u001b[0msols\u001b[0m\u001b[1;33m:\u001b[0m\u001b[1;33m\u001b[0m\u001b[0m\n\u001b[0;32m    277\u001b[0m                 \u001b[1;32mreturn\u001b[0m \u001b[0msols\u001b[0m\u001b[1;33m\u001b[0m\u001b[0m\n",
        "\u001b[1;32mc:\\Users\\pvvilleneuve\\AppData\\Local\\Continuum\\Anaconda\\lib\\site-packages\\sympy\\polys\\polyroots.pyc\u001b[0m in \u001b[0;36m_roots_quartic_euler\u001b[1;34m(p, q, r, a)\u001b[0m\n\u001b[0;32m    180\u001b[0m     \u001b[0mx\u001b[0m \u001b[1;33m=\u001b[0m \u001b[0mSymbol\u001b[0m\u001b[1;33m(\u001b[0m\u001b[1;34m'x'\u001b[0m\u001b[1;33m)\u001b[0m\u001b[1;33m\u001b[0m\u001b[0m\n\u001b[0;32m    181\u001b[0m     \u001b[0meq\u001b[0m \u001b[1;33m=\u001b[0m \u001b[1;36m64\u001b[0m\u001b[1;33m*\u001b[0m\u001b[0mx\u001b[0m\u001b[1;33m**\u001b[0m\u001b[1;36m3\u001b[0m \u001b[1;33m+\u001b[0m \u001b[1;36m32\u001b[0m\u001b[1;33m*\u001b[0m\u001b[0mp\u001b[0m\u001b[1;33m*\u001b[0m\u001b[0mx\u001b[0m\u001b[1;33m**\u001b[0m\u001b[1;36m2\u001b[0m \u001b[1;33m+\u001b[0m \u001b[1;33m(\u001b[0m\u001b[1;36m4\u001b[0m\u001b[1;33m*\u001b[0m\u001b[0mp\u001b[0m\u001b[1;33m**\u001b[0m\u001b[1;36m2\u001b[0m \u001b[1;33m-\u001b[0m \u001b[1;36m16\u001b[0m\u001b[1;33m*\u001b[0m\u001b[0mr\u001b[0m\u001b[1;33m)\u001b[0m\u001b[1;33m*\u001b[0m\u001b[0mx\u001b[0m \u001b[1;33m-\u001b[0m \u001b[0mq\u001b[0m\u001b[1;33m**\u001b[0m\u001b[1;36m2\u001b[0m\u001b[1;33m\u001b[0m\u001b[0m\n\u001b[1;32m--> 182\u001b[1;33m     \u001b[0mxsols\u001b[0m \u001b[1;33m=\u001b[0m \u001b[0mlist\u001b[0m\u001b[1;33m(\u001b[0m\u001b[0mroots\u001b[0m\u001b[1;33m(\u001b[0m\u001b[0mPoly\u001b[0m\u001b[1;33m(\u001b[0m\u001b[0meq\u001b[0m\u001b[1;33m,\u001b[0m \u001b[0mx\u001b[0m\u001b[1;33m)\u001b[0m\u001b[1;33m,\u001b[0m \u001b[0mcubics\u001b[0m\u001b[1;33m=\u001b[0m\u001b[0mFalse\u001b[0m\u001b[1;33m)\u001b[0m\u001b[1;33m.\u001b[0m\u001b[0mkeys\u001b[0m\u001b[1;33m(\u001b[0m\u001b[1;33m)\u001b[0m\u001b[1;33m)\u001b[0m\u001b[1;33m\u001b[0m\u001b[0m\n\u001b[0m\u001b[0;32m    183\u001b[0m     \u001b[0mxsols\u001b[0m \u001b[1;33m=\u001b[0m \u001b[1;33m[\u001b[0m\u001b[0msol\u001b[0m \u001b[1;32mfor\u001b[0m \u001b[0msol\u001b[0m \u001b[1;32min\u001b[0m \u001b[0mxsols\u001b[0m \u001b[1;32mif\u001b[0m \u001b[0msol\u001b[0m\u001b[1;33m.\u001b[0m\u001b[0mis_rational\u001b[0m\u001b[1;33m]\u001b[0m\u001b[1;33m\u001b[0m\u001b[0m\n\u001b[0;32m    184\u001b[0m     \u001b[1;32mif\u001b[0m \u001b[1;32mnot\u001b[0m \u001b[0mxsols\u001b[0m\u001b[1;33m:\u001b[0m\u001b[1;33m\u001b[0m\u001b[0m\n",
        "\u001b[1;32mc:\\Users\\pvvilleneuve\\AppData\\Local\\Continuum\\Anaconda\\lib\\site-packages\\sympy\\polys\\polytools.pyc\u001b[0m in \u001b[0;36m__new__\u001b[1;34m(cls, rep, *gens, **args)\u001b[0m\n\u001b[0;32m     85\u001b[0m                 \u001b[1;32mreturn\u001b[0m \u001b[0mcls\u001b[0m\u001b[1;33m.\u001b[0m\u001b[0m_from_poly\u001b[0m\u001b[1;33m(\u001b[0m\u001b[0mrep\u001b[0m\u001b[1;33m,\u001b[0m \u001b[0mopt\u001b[0m\u001b[1;33m)\u001b[0m\u001b[1;33m\u001b[0m\u001b[0m\n\u001b[0;32m     86\u001b[0m             \u001b[1;32melse\u001b[0m\u001b[1;33m:\u001b[0m\u001b[1;33m\u001b[0m\u001b[0m\n\u001b[1;32m---> 87\u001b[1;33m                 \u001b[1;32mreturn\u001b[0m \u001b[0mcls\u001b[0m\u001b[1;33m.\u001b[0m\u001b[0m_from_expr\u001b[0m\u001b[1;33m(\u001b[0m\u001b[0mrep\u001b[0m\u001b[1;33m,\u001b[0m \u001b[0mopt\u001b[0m\u001b[1;33m)\u001b[0m\u001b[1;33m\u001b[0m\u001b[0m\n\u001b[0m\u001b[0;32m     88\u001b[0m \u001b[1;33m\u001b[0m\u001b[0m\n\u001b[0;32m     89\u001b[0m     \u001b[1;33m@\u001b[0m\u001b[0mclassmethod\u001b[0m\u001b[1;33m\u001b[0m\u001b[0m\n",
        "\u001b[1;32mc:\\Users\\pvvilleneuve\\AppData\\Local\\Continuum\\Anaconda\\lib\\site-packages\\sympy\\polys\\polytools.pyc\u001b[0m in \u001b[0;36m_from_expr\u001b[1;34m(cls, rep, opt)\u001b[0m\n\u001b[0;32m    196\u001b[0m         \u001b[1;34m\"\"\"Construct a polynomial from an expression. \"\"\"\u001b[0m\u001b[1;33m\u001b[0m\u001b[0m\n\u001b[0;32m    197\u001b[0m         \u001b[0mrep\u001b[0m\u001b[1;33m,\u001b[0m \u001b[0mopt\u001b[0m \u001b[1;33m=\u001b[0m \u001b[0m_dict_from_expr\u001b[0m\u001b[1;33m(\u001b[0m\u001b[0mrep\u001b[0m\u001b[1;33m,\u001b[0m \u001b[0mopt\u001b[0m\u001b[1;33m)\u001b[0m\u001b[1;33m\u001b[0m\u001b[0m\n\u001b[1;32m--> 198\u001b[1;33m         \u001b[1;32mreturn\u001b[0m \u001b[0mcls\u001b[0m\u001b[1;33m.\u001b[0m\u001b[0m_from_dict\u001b[0m\u001b[1;33m(\u001b[0m\u001b[0mrep\u001b[0m\u001b[1;33m,\u001b[0m \u001b[0mopt\u001b[0m\u001b[1;33m)\u001b[0m\u001b[1;33m\u001b[0m\u001b[0m\n\u001b[0m\u001b[0;32m    199\u001b[0m \u001b[1;33m\u001b[0m\u001b[0m\n\u001b[0;32m    200\u001b[0m     \u001b[1;32mdef\u001b[0m \u001b[0m_hashable_content\u001b[0m\u001b[1;33m(\u001b[0m\u001b[0mself\u001b[0m\u001b[1;33m)\u001b[0m\u001b[1;33m:\u001b[0m\u001b[1;33m\u001b[0m\u001b[0m\n",
        "\u001b[1;32mc:\\Users\\pvvilleneuve\\AppData\\Local\\Continuum\\Anaconda\\lib\\site-packages\\sympy\\polys\\polytools.pyc\u001b[0m in \u001b[0;36m_from_dict\u001b[1;34m(cls, rep, opt)\u001b[0m\n\u001b[0;32m    140\u001b[0m \u001b[1;33m\u001b[0m\u001b[0m\n\u001b[0;32m    141\u001b[0m         \u001b[1;32mif\u001b[0m \u001b[0mdomain\u001b[0m \u001b[1;32mis\u001b[0m \u001b[0mNone\u001b[0m\u001b[1;33m:\u001b[0m\u001b[1;33m\u001b[0m\u001b[0m\n\u001b[1;32m--> 142\u001b[1;33m             \u001b[0mdomain\u001b[0m\u001b[1;33m,\u001b[0m \u001b[0mrep\u001b[0m \u001b[1;33m=\u001b[0m \u001b[0mconstruct_domain\u001b[0m\u001b[1;33m(\u001b[0m\u001b[0mrep\u001b[0m\u001b[1;33m,\u001b[0m \u001b[0mopt\u001b[0m\u001b[1;33m=\u001b[0m\u001b[0mopt\u001b[0m\u001b[1;33m)\u001b[0m\u001b[1;33m\u001b[0m\u001b[0m\n\u001b[0m\u001b[0;32m    143\u001b[0m         \u001b[1;32melse\u001b[0m\u001b[1;33m:\u001b[0m\u001b[1;33m\u001b[0m\u001b[0m\n\u001b[0;32m    144\u001b[0m             \u001b[1;32mfor\u001b[0m \u001b[0mmonom\u001b[0m\u001b[1;33m,\u001b[0m \u001b[0mcoeff\u001b[0m \u001b[1;32min\u001b[0m \u001b[0mrep\u001b[0m\u001b[1;33m.\u001b[0m\u001b[0mitems\u001b[0m\u001b[1;33m(\u001b[0m\u001b[1;33m)\u001b[0m\u001b[1;33m:\u001b[0m\u001b[1;33m\u001b[0m\u001b[0m\n",
        "\u001b[1;32mc:\\Users\\pvvilleneuve\\AppData\\Local\\Continuum\\Anaconda\\lib\\site-packages\\sympy\\polys\\constructor.pyc\u001b[0m in \u001b[0;36mconstruct_domain\u001b[1;34m(obj, **args)\u001b[0m\n\u001b[0;32m    244\u001b[0m             \u001b[0mresult\u001b[0m \u001b[1;33m=\u001b[0m \u001b[0mNone\u001b[0m\u001b[1;33m\u001b[0m\u001b[0m\n\u001b[0;32m    245\u001b[0m         \u001b[1;32melse\u001b[0m\u001b[1;33m:\u001b[0m\u001b[1;33m\u001b[0m\u001b[0m\n\u001b[1;32m--> 246\u001b[1;33m             \u001b[0mresult\u001b[0m \u001b[1;33m=\u001b[0m \u001b[0m_construct_composite\u001b[0m\u001b[1;33m(\u001b[0m\u001b[0mcoeffs\u001b[0m\u001b[1;33m,\u001b[0m \u001b[0mopt\u001b[0m\u001b[1;33m)\u001b[0m\u001b[1;33m\u001b[0m\u001b[0m\n\u001b[0m\u001b[0;32m    247\u001b[0m \u001b[1;33m\u001b[0m\u001b[0m\n\u001b[0;32m    248\u001b[0m         \u001b[1;32mif\u001b[0m \u001b[0mresult\u001b[0m \u001b[1;32mis\u001b[0m \u001b[1;32mnot\u001b[0m \u001b[0mNone\u001b[0m\u001b[1;33m:\u001b[0m\u001b[1;33m\u001b[0m\u001b[0m\n",
        "\u001b[1;32mc:\\Users\\pvvilleneuve\\AppData\\Local\\Continuum\\Anaconda\\lib\\site-packages\\sympy\\polys\\constructor.pyc\u001b[0m in \u001b[0;36m_construct_composite\u001b[1;34m(coeffs, opt)\u001b[0m\n\u001b[0;32m    201\u001b[0m                 \u001b[0mdenom\u001b[0m\u001b[1;33m[\u001b[0m\u001b[0mmonom\u001b[0m\u001b[1;33m]\u001b[0m \u001b[1;33m=\u001b[0m \u001b[0mground\u001b[0m\u001b[1;33m.\u001b[0m\u001b[0mfrom_sympy\u001b[0m\u001b[1;33m(\u001b[0m\u001b[0mcoeff\u001b[0m\u001b[1;33m)\u001b[0m\u001b[1;33m\u001b[0m\u001b[0m\n\u001b[0;32m    202\u001b[0m \u001b[1;33m\u001b[0m\u001b[0m\n\u001b[1;32m--> 203\u001b[1;33m             \u001b[0mresult\u001b[0m\u001b[1;33m.\u001b[0m\u001b[0mappend\u001b[0m\u001b[1;33m(\u001b[0m\u001b[0mdomain\u001b[0m\u001b[1;33m(\u001b[0m\u001b[1;33m(\u001b[0m\u001b[0mnumer\u001b[0m\u001b[1;33m,\u001b[0m \u001b[0mdenom\u001b[0m\u001b[1;33m)\u001b[0m\u001b[1;33m)\u001b[0m\u001b[1;33m)\u001b[0m\u001b[1;33m\u001b[0m\u001b[0m\n\u001b[0m\u001b[0;32m    204\u001b[0m \u001b[1;33m\u001b[0m\u001b[0m\n\u001b[0;32m    205\u001b[0m     \u001b[1;32mreturn\u001b[0m \u001b[0mdomain\u001b[0m\u001b[1;33m,\u001b[0m \u001b[0mresult\u001b[0m\u001b[1;33m\u001b[0m\u001b[0m\n",
        "\u001b[1;32mc:\\Users\\pvvilleneuve\\AppData\\Local\\Continuum\\Anaconda\\lib\\site-packages\\sympy\\polys\\domains\\domain.pyc\u001b[0m in \u001b[0;36m__call__\u001b[1;34m(self, *args)\u001b[0m\n\u001b[0;32m     70\u001b[0m     \u001b[1;32mdef\u001b[0m \u001b[0m__call__\u001b[0m\u001b[1;33m(\u001b[0m\u001b[0mself\u001b[0m\u001b[1;33m,\u001b[0m \u001b[1;33m*\u001b[0m\u001b[0margs\u001b[0m\u001b[1;33m)\u001b[0m\u001b[1;33m:\u001b[0m\u001b[1;33m\u001b[0m\u001b[0m\n\u001b[0;32m     71\u001b[0m         \u001b[1;34m\"\"\"Construct an element of ``self`` domain from ``args``. \"\"\"\u001b[0m\u001b[1;33m\u001b[0m\u001b[0m\n\u001b[1;32m---> 72\u001b[1;33m         \u001b[1;32mreturn\u001b[0m \u001b[0mself\u001b[0m\u001b[1;33m.\u001b[0m\u001b[0mnew\u001b[0m\u001b[1;33m(\u001b[0m\u001b[1;33m*\u001b[0m\u001b[0margs\u001b[0m\u001b[1;33m)\u001b[0m\u001b[1;33m\u001b[0m\u001b[0m\n\u001b[0m\u001b[0;32m     73\u001b[0m \u001b[1;33m\u001b[0m\u001b[0m\n\u001b[0;32m     74\u001b[0m     \u001b[1;32mdef\u001b[0m \u001b[0mnormal\u001b[0m\u001b[1;33m(\u001b[0m\u001b[0mself\u001b[0m\u001b[1;33m,\u001b[0m \u001b[1;33m*\u001b[0m\u001b[0margs\u001b[0m\u001b[1;33m)\u001b[0m\u001b[1;33m:\u001b[0m\u001b[1;33m\u001b[0m\u001b[0m\n",
        "\u001b[1;32mc:\\Users\\pvvilleneuve\\AppData\\Local\\Continuum\\Anaconda\\lib\\site-packages\\sympy\\polys\\domains\\fractionfield.pyc\u001b[0m in \u001b[0;36mnew\u001b[1;34m(self, element)\u001b[0m\n\u001b[0;32m     38\u001b[0m \u001b[1;33m\u001b[0m\u001b[0m\n\u001b[0;32m     39\u001b[0m     \u001b[1;32mdef\u001b[0m \u001b[0mnew\u001b[0m\u001b[1;33m(\u001b[0m\u001b[0mself\u001b[0m\u001b[1;33m,\u001b[0m \u001b[0melement\u001b[0m\u001b[1;33m)\u001b[0m\u001b[1;33m:\u001b[0m\u001b[1;33m\u001b[0m\u001b[0m\n\u001b[1;32m---> 40\u001b[1;33m         \u001b[1;32mreturn\u001b[0m \u001b[0mself\u001b[0m\u001b[1;33m.\u001b[0m\u001b[0mfield\u001b[0m\u001b[1;33m.\u001b[0m\u001b[0mfield_new\u001b[0m\u001b[1;33m(\u001b[0m\u001b[0melement\u001b[0m\u001b[1;33m)\u001b[0m\u001b[1;33m\u001b[0m\u001b[0m\n\u001b[0m\u001b[0;32m     41\u001b[0m \u001b[1;33m\u001b[0m\u001b[0m\n\u001b[0;32m     42\u001b[0m     \u001b[1;33m@\u001b[0m\u001b[0mproperty\u001b[0m\u001b[1;33m\u001b[0m\u001b[0m\n",
        "\u001b[1;32mc:\\Users\\pvvilleneuve\\AppData\\Local\\Continuum\\Anaconda\\lib\\site-packages\\sympy\\polys\\fields.pyc\u001b[0m in \u001b[0;36mfield_new\u001b[1;34m(self, element)\u001b[0m\n\u001b[0;32m    140\u001b[0m         \u001b[1;32melif\u001b[0m \u001b[0misinstance\u001b[0m\u001b[1;33m(\u001b[0m\u001b[0melement\u001b[0m\u001b[1;33m,\u001b[0m \u001b[0mtuple\u001b[0m\u001b[1;33m)\u001b[0m \u001b[1;32mand\u001b[0m \u001b[0mlen\u001b[0m\u001b[1;33m(\u001b[0m\u001b[0melement\u001b[0m\u001b[1;33m)\u001b[0m \u001b[1;33m==\u001b[0m \u001b[1;36m2\u001b[0m\u001b[1;33m:\u001b[0m\u001b[1;33m\u001b[0m\u001b[0m\n\u001b[0;32m    141\u001b[0m             \u001b[0mnumer\u001b[0m\u001b[1;33m,\u001b[0m \u001b[0mdenom\u001b[0m \u001b[1;33m=\u001b[0m \u001b[0mlist\u001b[0m\u001b[1;33m(\u001b[0m\u001b[0mmap\u001b[0m\u001b[1;33m(\u001b[0m\u001b[0mself\u001b[0m\u001b[1;33m.\u001b[0m\u001b[0mring\u001b[0m\u001b[1;33m.\u001b[0m\u001b[0mring_new\u001b[0m\u001b[1;33m,\u001b[0m \u001b[0melement\u001b[0m\u001b[1;33m)\u001b[0m\u001b[1;33m)\u001b[0m\u001b[1;33m\u001b[0m\u001b[0m\n\u001b[1;32m--> 142\u001b[1;33m             \u001b[1;32mreturn\u001b[0m \u001b[0mself\u001b[0m\u001b[1;33m.\u001b[0m\u001b[0mnew\u001b[0m\u001b[1;33m(\u001b[0m\u001b[0mnumer\u001b[0m\u001b[1;33m,\u001b[0m \u001b[0mdenom\u001b[0m\u001b[1;33m)\u001b[0m\u001b[1;33m\u001b[0m\u001b[0m\n\u001b[0m\u001b[0;32m    143\u001b[0m         \u001b[1;32melif\u001b[0m \u001b[0misinstance\u001b[0m\u001b[1;33m(\u001b[0m\u001b[0melement\u001b[0m\u001b[1;33m,\u001b[0m \u001b[0mstring_types\u001b[0m\u001b[1;33m)\u001b[0m\u001b[1;33m:\u001b[0m\u001b[1;33m\u001b[0m\u001b[0m\n\u001b[0;32m    144\u001b[0m             \u001b[1;32mraise\u001b[0m \u001b[0mNotImplementedError\u001b[0m\u001b[1;33m(\u001b[0m\u001b[1;34m\"parsing\"\u001b[0m\u001b[1;33m)\u001b[0m\u001b[1;33m\u001b[0m\u001b[0m\n",
        "\u001b[1;32mc:\\Users\\pvvilleneuve\\AppData\\Local\\Continuum\\Anaconda\\lib\\site-packages\\sympy\\polys\\fields.pyc\u001b[0m in \u001b[0;36mnew\u001b[1;34m(self, numer, denom)\u001b[0m\n\u001b[0;32m    105\u001b[0m     \u001b[1;32mdef\u001b[0m \u001b[0mnew\u001b[0m\u001b[1;33m(\u001b[0m\u001b[0mself\u001b[0m\u001b[1;33m,\u001b[0m \u001b[0mnumer\u001b[0m\u001b[1;33m,\u001b[0m \u001b[0mdenom\u001b[0m\u001b[1;33m=\u001b[0m\u001b[0mNone\u001b[0m\u001b[1;33m)\u001b[0m\u001b[1;33m:\u001b[0m\u001b[1;33m\u001b[0m\u001b[0m\n\u001b[0;32m    106\u001b[0m         \u001b[1;32mif\u001b[0m \u001b[0mdenom\u001b[0m \u001b[1;32mis\u001b[0m \u001b[0mNone\u001b[0m\u001b[1;33m:\u001b[0m \u001b[0mdenom\u001b[0m \u001b[1;33m=\u001b[0m \u001b[0mself\u001b[0m\u001b[1;33m.\u001b[0m\u001b[0mring\u001b[0m\u001b[1;33m.\u001b[0m\u001b[0mone\u001b[0m\u001b[1;33m\u001b[0m\u001b[0m\n\u001b[1;32m--> 107\u001b[1;33m         \u001b[0mnumer\u001b[0m\u001b[1;33m,\u001b[0m \u001b[0mdenom\u001b[0m \u001b[1;33m=\u001b[0m \u001b[0mnumer\u001b[0m\u001b[1;33m.\u001b[0m\u001b[0mcancel\u001b[0m\u001b[1;33m(\u001b[0m\u001b[0mdenom\u001b[0m\u001b[1;33m)\u001b[0m\u001b[1;33m\u001b[0m\u001b[0m\n\u001b[0m\u001b[0;32m    108\u001b[0m         \u001b[1;32mreturn\u001b[0m \u001b[0mself\u001b[0m\u001b[1;33m.\u001b[0m\u001b[0mraw_new\u001b[0m\u001b[1;33m(\u001b[0m\u001b[0mnumer\u001b[0m\u001b[1;33m,\u001b[0m \u001b[0mdenom\u001b[0m\u001b[1;33m)\u001b[0m\u001b[1;33m\u001b[0m\u001b[0m\n\u001b[0;32m    109\u001b[0m \u001b[1;33m\u001b[0m\u001b[0m\n",
        "\u001b[1;32mc:\\Users\\pvvilleneuve\\AppData\\Local\\Continuum\\Anaconda\\lib\\site-packages\\sympy\\polys\\rings.pyc\u001b[0m in \u001b[0;36mcancel\u001b[1;34m(f, g)\u001b[0m\n\u001b[0;32m   2121\u001b[0m \u001b[1;33m\u001b[0m\u001b[0m\n\u001b[0;32m   2122\u001b[0m         \u001b[1;32mif\u001b[0m \u001b[1;32mnot\u001b[0m \u001b[1;33m(\u001b[0m\u001b[0mdomain\u001b[0m\u001b[1;33m.\u001b[0m\u001b[0mhas_Field\u001b[0m \u001b[1;32mand\u001b[0m \u001b[0mdomain\u001b[0m\u001b[1;33m.\u001b[0m\u001b[0mhas_assoc_Ring\u001b[0m\u001b[1;33m)\u001b[0m\u001b[1;33m:\u001b[0m\u001b[1;33m\u001b[0m\u001b[0m\n\u001b[1;32m-> 2123\u001b[1;33m             \u001b[0m_\u001b[0m\u001b[1;33m,\u001b[0m \u001b[0mp\u001b[0m\u001b[1;33m,\u001b[0m \u001b[0mq\u001b[0m \u001b[1;33m=\u001b[0m \u001b[0mf\u001b[0m\u001b[1;33m.\u001b[0m\u001b[0mcofactors\u001b[0m\u001b[1;33m(\u001b[0m\u001b[0mg\u001b[0m\u001b[1;33m)\u001b[0m\u001b[1;33m\u001b[0m\u001b[0m\n\u001b[0m\u001b[0;32m   2124\u001b[0m \u001b[1;33m\u001b[0m\u001b[0m\n\u001b[0;32m   2125\u001b[0m             \u001b[1;32mif\u001b[0m \u001b[0mq\u001b[0m\u001b[1;33m.\u001b[0m\u001b[0mis_negative\u001b[0m\u001b[1;33m:\u001b[0m\u001b[1;33m\u001b[0m\u001b[0m\n",
        "\u001b[1;32mc:\\Users\\pvvilleneuve\\AppData\\Local\\Continuum\\Anaconda\\lib\\site-packages\\sympy\\polys\\rings.pyc\u001b[0m in \u001b[0;36mcofactors\u001b[1;34m(f, g)\u001b[0m\n\u001b[0;32m   2040\u001b[0m \u001b[1;33m\u001b[0m\u001b[0m\n\u001b[0;32m   2041\u001b[0m         \u001b[0mJ\u001b[0m\u001b[1;33m,\u001b[0m \u001b[1;33m(\u001b[0m\u001b[0mf\u001b[0m\u001b[1;33m,\u001b[0m \u001b[0mg\u001b[0m\u001b[1;33m)\u001b[0m \u001b[1;33m=\u001b[0m \u001b[0mf\u001b[0m\u001b[1;33m.\u001b[0m\u001b[0mdeflate\u001b[0m\u001b[1;33m(\u001b[0m\u001b[0mg\u001b[0m\u001b[1;33m)\u001b[0m\u001b[1;33m\u001b[0m\u001b[0m\n\u001b[1;32m-> 2042\u001b[1;33m         \u001b[0mh\u001b[0m\u001b[1;33m,\u001b[0m \u001b[0mcff\u001b[0m\u001b[1;33m,\u001b[0m \u001b[0mcfg\u001b[0m \u001b[1;33m=\u001b[0m \u001b[0mf\u001b[0m\u001b[1;33m.\u001b[0m\u001b[0m_gcd\u001b[0m\u001b[1;33m(\u001b[0m\u001b[0mg\u001b[0m\u001b[1;33m)\u001b[0m\u001b[1;33m\u001b[0m\u001b[0m\n\u001b[0m\u001b[0;32m   2043\u001b[0m \u001b[1;33m\u001b[0m\u001b[0m\n\u001b[0;32m   2044\u001b[0m         \u001b[1;32mreturn\u001b[0m \u001b[1;33m(\u001b[0m\u001b[0mh\u001b[0m\u001b[1;33m.\u001b[0m\u001b[0minflate\u001b[0m\u001b[1;33m(\u001b[0m\u001b[0mJ\u001b[0m\u001b[1;33m)\u001b[0m\u001b[1;33m,\u001b[0m \u001b[0mcff\u001b[0m\u001b[1;33m.\u001b[0m\u001b[0minflate\u001b[0m\u001b[1;33m(\u001b[0m\u001b[0mJ\u001b[0m\u001b[1;33m)\u001b[0m\u001b[1;33m,\u001b[0m \u001b[0mcfg\u001b[0m\u001b[1;33m.\u001b[0m\u001b[0minflate\u001b[0m\u001b[1;33m(\u001b[0m\u001b[0mJ\u001b[0m\u001b[1;33m)\u001b[0m\u001b[1;33m)\u001b[0m\u001b[1;33m\u001b[0m\u001b[0m\n",
        "\u001b[1;32mc:\\Users\\pvvilleneuve\\AppData\\Local\\Continuum\\Anaconda\\lib\\site-packages\\sympy\\polys\\rings.pyc\u001b[0m in \u001b[0;36m_gcd\u001b[1;34m(f, g)\u001b[0m\n\u001b[0;32m   2073\u001b[0m             \u001b[1;32mreturn\u001b[0m \u001b[0mf\u001b[0m\u001b[1;33m.\u001b[0m\u001b[0m_gcd_QQ\u001b[0m\u001b[1;33m(\u001b[0m\u001b[0mg\u001b[0m\u001b[1;33m)\u001b[0m\u001b[1;33m\u001b[0m\u001b[0m\n\u001b[0;32m   2074\u001b[0m         \u001b[1;32melif\u001b[0m \u001b[0mring\u001b[0m\u001b[1;33m.\u001b[0m\u001b[0mdomain\u001b[0m\u001b[1;33m.\u001b[0m\u001b[0mis_ZZ\u001b[0m\u001b[1;33m:\u001b[0m\u001b[1;33m\u001b[0m\u001b[0m\n\u001b[1;32m-> 2075\u001b[1;33m             \u001b[1;32mreturn\u001b[0m \u001b[0mf\u001b[0m\u001b[1;33m.\u001b[0m\u001b[0m_gcd_ZZ\u001b[0m\u001b[1;33m(\u001b[0m\u001b[0mg\u001b[0m\u001b[1;33m)\u001b[0m\u001b[1;33m\u001b[0m\u001b[0m\n\u001b[0m\u001b[0;32m   2076\u001b[0m         \u001b[1;32melse\u001b[0m\u001b[1;33m:\u001b[0m \u001b[1;31m# TODO: don't use dense representation (port PRS algorithms)\u001b[0m\u001b[1;33m\u001b[0m\u001b[0m\n\u001b[0;32m   2077\u001b[0m             \u001b[1;32mreturn\u001b[0m \u001b[0mring\u001b[0m\u001b[1;33m.\u001b[0m\u001b[0mdmp_inner_gcd\u001b[0m\u001b[1;33m(\u001b[0m\u001b[0mf\u001b[0m\u001b[1;33m,\u001b[0m \u001b[0mg\u001b[0m\u001b[1;33m)\u001b[0m\u001b[1;33m\u001b[0m\u001b[0m\n",
        "\u001b[1;32mc:\\Users\\pvvilleneuve\\AppData\\Local\\Continuum\\Anaconda\\lib\\site-packages\\sympy\\polys\\rings.pyc\u001b[0m in \u001b[0;36m_gcd_ZZ\u001b[1;34m(f, g)\u001b[0m\n\u001b[0;32m   2078\u001b[0m \u001b[1;33m\u001b[0m\u001b[0m\n\u001b[0;32m   2079\u001b[0m     \u001b[1;32mdef\u001b[0m \u001b[0m_gcd_ZZ\u001b[0m\u001b[1;33m(\u001b[0m\u001b[0mf\u001b[0m\u001b[1;33m,\u001b[0m \u001b[0mg\u001b[0m\u001b[1;33m)\u001b[0m\u001b[1;33m:\u001b[0m\u001b[1;33m\u001b[0m\u001b[0m\n\u001b[1;32m-> 2080\u001b[1;33m         \u001b[1;32mreturn\u001b[0m \u001b[0mheugcd\u001b[0m\u001b[1;33m(\u001b[0m\u001b[0mf\u001b[0m\u001b[1;33m,\u001b[0m \u001b[0mg\u001b[0m\u001b[1;33m)\u001b[0m\u001b[1;33m\u001b[0m\u001b[0m\n\u001b[0m\u001b[0;32m   2081\u001b[0m \u001b[1;33m\u001b[0m\u001b[0m\n\u001b[0;32m   2082\u001b[0m     \u001b[1;32mdef\u001b[0m \u001b[0m_gcd_QQ\u001b[0m\u001b[1;33m(\u001b[0m\u001b[0mf\u001b[0m\u001b[1;33m,\u001b[0m \u001b[0mg\u001b[0m\u001b[1;33m)\u001b[0m\u001b[1;33m:\u001b[0m\u001b[1;33m\u001b[0m\u001b[0m\n",
        "\u001b[1;32mc:\\Users\\pvvilleneuve\\AppData\\Local\\Continuum\\Anaconda\\lib\\site-packages\\sympy\\polys\\heuristicgcd.pyc\u001b[0m in \u001b[0;36mheugcd\u001b[1;34m(f, g)\u001b[0m\n\u001b[0;32m     79\u001b[0m                 \u001b[0mh\u001b[0m\u001b[1;33m,\u001b[0m \u001b[0mcff\u001b[0m\u001b[1;33m,\u001b[0m \u001b[0mcfg\u001b[0m \u001b[1;33m=\u001b[0m \u001b[0mdomain\u001b[0m\u001b[1;33m.\u001b[0m\u001b[0mcofactors\u001b[0m\u001b[1;33m(\u001b[0m\u001b[0mff\u001b[0m\u001b[1;33m,\u001b[0m \u001b[0mgg\u001b[0m\u001b[1;33m)\u001b[0m\u001b[1;33m\u001b[0m\u001b[0m\n\u001b[0;32m     80\u001b[0m             \u001b[1;32melse\u001b[0m\u001b[1;33m:\u001b[0m\u001b[1;33m\u001b[0m\u001b[0m\n\u001b[1;32m---> 81\u001b[1;33m                 \u001b[0mh\u001b[0m\u001b[1;33m,\u001b[0m \u001b[0mcff\u001b[0m\u001b[1;33m,\u001b[0m \u001b[0mcfg\u001b[0m \u001b[1;33m=\u001b[0m \u001b[0mheugcd\u001b[0m\u001b[1;33m(\u001b[0m\u001b[0mff\u001b[0m\u001b[1;33m,\u001b[0m \u001b[0mgg\u001b[0m\u001b[1;33m)\u001b[0m\u001b[1;33m\u001b[0m\u001b[0m\n\u001b[0m\u001b[0;32m     82\u001b[0m \u001b[1;33m\u001b[0m\u001b[0m\n\u001b[0;32m     83\u001b[0m             \u001b[0mh\u001b[0m \u001b[1;33m=\u001b[0m \u001b[0m_gcd_interpolate\u001b[0m\u001b[1;33m(\u001b[0m\u001b[0mh\u001b[0m\u001b[1;33m,\u001b[0m \u001b[0mx\u001b[0m\u001b[1;33m,\u001b[0m \u001b[0mring\u001b[0m\u001b[1;33m)\u001b[0m\u001b[1;33m\u001b[0m\u001b[0m\n",
        "\u001b[1;32mc:\\Users\\pvvilleneuve\\AppData\\Local\\Continuum\\Anaconda\\lib\\site-packages\\sympy\\polys\\heuristicgcd.pyc\u001b[0m in \u001b[0;36mheugcd\u001b[1;34m(f, g)\u001b[0m\n\u001b[0;32m     79\u001b[0m                 \u001b[0mh\u001b[0m\u001b[1;33m,\u001b[0m \u001b[0mcff\u001b[0m\u001b[1;33m,\u001b[0m \u001b[0mcfg\u001b[0m \u001b[1;33m=\u001b[0m \u001b[0mdomain\u001b[0m\u001b[1;33m.\u001b[0m\u001b[0mcofactors\u001b[0m\u001b[1;33m(\u001b[0m\u001b[0mff\u001b[0m\u001b[1;33m,\u001b[0m \u001b[0mgg\u001b[0m\u001b[1;33m)\u001b[0m\u001b[1;33m\u001b[0m\u001b[0m\n\u001b[0;32m     80\u001b[0m             \u001b[1;32melse\u001b[0m\u001b[1;33m:\u001b[0m\u001b[1;33m\u001b[0m\u001b[0m\n\u001b[1;32m---> 81\u001b[1;33m                 \u001b[0mh\u001b[0m\u001b[1;33m,\u001b[0m \u001b[0mcff\u001b[0m\u001b[1;33m,\u001b[0m \u001b[0mcfg\u001b[0m \u001b[1;33m=\u001b[0m \u001b[0mheugcd\u001b[0m\u001b[1;33m(\u001b[0m\u001b[0mff\u001b[0m\u001b[1;33m,\u001b[0m \u001b[0mgg\u001b[0m\u001b[1;33m)\u001b[0m\u001b[1;33m\u001b[0m\u001b[0m\n\u001b[0m\u001b[0;32m     82\u001b[0m \u001b[1;33m\u001b[0m\u001b[0m\n\u001b[0;32m     83\u001b[0m             \u001b[0mh\u001b[0m \u001b[1;33m=\u001b[0m \u001b[0m_gcd_interpolate\u001b[0m\u001b[1;33m(\u001b[0m\u001b[0mh\u001b[0m\u001b[1;33m,\u001b[0m \u001b[0mx\u001b[0m\u001b[1;33m,\u001b[0m \u001b[0mring\u001b[0m\u001b[1;33m)\u001b[0m\u001b[1;33m\u001b[0m\u001b[0m\n",
        "\u001b[1;32mc:\\Users\\pvvilleneuve\\AppData\\Local\\Continuum\\Anaconda\\lib\\site-packages\\sympy\\polys\\heuristicgcd.pyc\u001b[0m in \u001b[0;36mheugcd\u001b[1;34m(f, g)\u001b[0m\n\u001b[0;32m     79\u001b[0m                 \u001b[0mh\u001b[0m\u001b[1;33m,\u001b[0m \u001b[0mcff\u001b[0m\u001b[1;33m,\u001b[0m \u001b[0mcfg\u001b[0m \u001b[1;33m=\u001b[0m \u001b[0mdomain\u001b[0m\u001b[1;33m.\u001b[0m\u001b[0mcofactors\u001b[0m\u001b[1;33m(\u001b[0m\u001b[0mff\u001b[0m\u001b[1;33m,\u001b[0m \u001b[0mgg\u001b[0m\u001b[1;33m)\u001b[0m\u001b[1;33m\u001b[0m\u001b[0m\n\u001b[0;32m     80\u001b[0m             \u001b[1;32melse\u001b[0m\u001b[1;33m:\u001b[0m\u001b[1;33m\u001b[0m\u001b[0m\n\u001b[1;32m---> 81\u001b[1;33m                 \u001b[0mh\u001b[0m\u001b[1;33m,\u001b[0m \u001b[0mcff\u001b[0m\u001b[1;33m,\u001b[0m \u001b[0mcfg\u001b[0m \u001b[1;33m=\u001b[0m \u001b[0mheugcd\u001b[0m\u001b[1;33m(\u001b[0m\u001b[0mff\u001b[0m\u001b[1;33m,\u001b[0m \u001b[0mgg\u001b[0m\u001b[1;33m)\u001b[0m\u001b[1;33m\u001b[0m\u001b[0m\n\u001b[0m\u001b[0;32m     82\u001b[0m \u001b[1;33m\u001b[0m\u001b[0m\n\u001b[0;32m     83\u001b[0m             \u001b[0mh\u001b[0m \u001b[1;33m=\u001b[0m \u001b[0m_gcd_interpolate\u001b[0m\u001b[1;33m(\u001b[0m\u001b[0mh\u001b[0m\u001b[1;33m,\u001b[0m \u001b[0mx\u001b[0m\u001b[1;33m,\u001b[0m \u001b[0mring\u001b[0m\u001b[1;33m)\u001b[0m\u001b[1;33m\u001b[0m\u001b[0m\n",
        "\u001b[1;32mc:\\Users\\pvvilleneuve\\AppData\\Local\\Continuum\\Anaconda\\lib\\site-packages\\sympy\\polys\\heuristicgcd.pyc\u001b[0m in \u001b[0;36mheugcd\u001b[1;34m(f, g)\u001b[0m\n\u001b[0;32m     79\u001b[0m                 \u001b[0mh\u001b[0m\u001b[1;33m,\u001b[0m \u001b[0mcff\u001b[0m\u001b[1;33m,\u001b[0m \u001b[0mcfg\u001b[0m \u001b[1;33m=\u001b[0m \u001b[0mdomain\u001b[0m\u001b[1;33m.\u001b[0m\u001b[0mcofactors\u001b[0m\u001b[1;33m(\u001b[0m\u001b[0mff\u001b[0m\u001b[1;33m,\u001b[0m \u001b[0mgg\u001b[0m\u001b[1;33m)\u001b[0m\u001b[1;33m\u001b[0m\u001b[0m\n\u001b[0;32m     80\u001b[0m             \u001b[1;32melse\u001b[0m\u001b[1;33m:\u001b[0m\u001b[1;33m\u001b[0m\u001b[0m\n\u001b[1;32m---> 81\u001b[1;33m                 \u001b[0mh\u001b[0m\u001b[1;33m,\u001b[0m \u001b[0mcff\u001b[0m\u001b[1;33m,\u001b[0m \u001b[0mcfg\u001b[0m \u001b[1;33m=\u001b[0m \u001b[0mheugcd\u001b[0m\u001b[1;33m(\u001b[0m\u001b[0mff\u001b[0m\u001b[1;33m,\u001b[0m \u001b[0mgg\u001b[0m\u001b[1;33m)\u001b[0m\u001b[1;33m\u001b[0m\u001b[0m\n\u001b[0m\u001b[0;32m     82\u001b[0m \u001b[1;33m\u001b[0m\u001b[0m\n\u001b[0;32m     83\u001b[0m             \u001b[0mh\u001b[0m \u001b[1;33m=\u001b[0m \u001b[0m_gcd_interpolate\u001b[0m\u001b[1;33m(\u001b[0m\u001b[0mh\u001b[0m\u001b[1;33m,\u001b[0m \u001b[0mx\u001b[0m\u001b[1;33m,\u001b[0m \u001b[0mring\u001b[0m\u001b[1;33m)\u001b[0m\u001b[1;33m\u001b[0m\u001b[0m\n",
        "\u001b[1;32mc:\\Users\\pvvilleneuve\\AppData\\Local\\Continuum\\Anaconda\\lib\\site-packages\\sympy\\polys\\heuristicgcd.pyc\u001b[0m in \u001b[0;36mheugcd\u001b[1;34m(f, g)\u001b[0m\n\u001b[0;32m     79\u001b[0m                 \u001b[0mh\u001b[0m\u001b[1;33m,\u001b[0m \u001b[0mcff\u001b[0m\u001b[1;33m,\u001b[0m \u001b[0mcfg\u001b[0m \u001b[1;33m=\u001b[0m \u001b[0mdomain\u001b[0m\u001b[1;33m.\u001b[0m\u001b[0mcofactors\u001b[0m\u001b[1;33m(\u001b[0m\u001b[0mff\u001b[0m\u001b[1;33m,\u001b[0m \u001b[0mgg\u001b[0m\u001b[1;33m)\u001b[0m\u001b[1;33m\u001b[0m\u001b[0m\n\u001b[0;32m     80\u001b[0m             \u001b[1;32melse\u001b[0m\u001b[1;33m:\u001b[0m\u001b[1;33m\u001b[0m\u001b[0m\n\u001b[1;32m---> 81\u001b[1;33m                 \u001b[0mh\u001b[0m\u001b[1;33m,\u001b[0m \u001b[0mcff\u001b[0m\u001b[1;33m,\u001b[0m \u001b[0mcfg\u001b[0m \u001b[1;33m=\u001b[0m \u001b[0mheugcd\u001b[0m\u001b[1;33m(\u001b[0m\u001b[0mff\u001b[0m\u001b[1;33m,\u001b[0m \u001b[0mgg\u001b[0m\u001b[1;33m)\u001b[0m\u001b[1;33m\u001b[0m\u001b[0m\n\u001b[0m\u001b[0;32m     82\u001b[0m \u001b[1;33m\u001b[0m\u001b[0m\n\u001b[0;32m     83\u001b[0m             \u001b[0mh\u001b[0m \u001b[1;33m=\u001b[0m \u001b[0m_gcd_interpolate\u001b[0m\u001b[1;33m(\u001b[0m\u001b[0mh\u001b[0m\u001b[1;33m,\u001b[0m \u001b[0mx\u001b[0m\u001b[1;33m,\u001b[0m \u001b[0mring\u001b[0m\u001b[1;33m)\u001b[0m\u001b[1;33m\u001b[0m\u001b[0m\n",
        "\u001b[1;32mc:\\Users\\pvvilleneuve\\AppData\\Local\\Continuum\\Anaconda\\lib\\site-packages\\sympy\\polys\\heuristicgcd.pyc\u001b[0m in \u001b[0;36mheugcd\u001b[1;34m(f, g)\u001b[0m\n\u001b[0;32m     79\u001b[0m                 \u001b[0mh\u001b[0m\u001b[1;33m,\u001b[0m \u001b[0mcff\u001b[0m\u001b[1;33m,\u001b[0m \u001b[0mcfg\u001b[0m \u001b[1;33m=\u001b[0m \u001b[0mdomain\u001b[0m\u001b[1;33m.\u001b[0m\u001b[0mcofactors\u001b[0m\u001b[1;33m(\u001b[0m\u001b[0mff\u001b[0m\u001b[1;33m,\u001b[0m \u001b[0mgg\u001b[0m\u001b[1;33m)\u001b[0m\u001b[1;33m\u001b[0m\u001b[0m\n\u001b[0;32m     80\u001b[0m             \u001b[1;32melse\u001b[0m\u001b[1;33m:\u001b[0m\u001b[1;33m\u001b[0m\u001b[0m\n\u001b[1;32m---> 81\u001b[1;33m                 \u001b[0mh\u001b[0m\u001b[1;33m,\u001b[0m \u001b[0mcff\u001b[0m\u001b[1;33m,\u001b[0m \u001b[0mcfg\u001b[0m \u001b[1;33m=\u001b[0m \u001b[0mheugcd\u001b[0m\u001b[1;33m(\u001b[0m\u001b[0mff\u001b[0m\u001b[1;33m,\u001b[0m \u001b[0mgg\u001b[0m\u001b[1;33m)\u001b[0m\u001b[1;33m\u001b[0m\u001b[0m\n\u001b[0m\u001b[0;32m     82\u001b[0m \u001b[1;33m\u001b[0m\u001b[0m\n\u001b[0;32m     83\u001b[0m             \u001b[0mh\u001b[0m \u001b[1;33m=\u001b[0m \u001b[0m_gcd_interpolate\u001b[0m\u001b[1;33m(\u001b[0m\u001b[0mh\u001b[0m\u001b[1;33m,\u001b[0m \u001b[0mx\u001b[0m\u001b[1;33m,\u001b[0m \u001b[0mring\u001b[0m\u001b[1;33m)\u001b[0m\u001b[1;33m\u001b[0m\u001b[0m\n",
        "\u001b[1;32mc:\\Users\\pvvilleneuve\\AppData\\Local\\Continuum\\Anaconda\\lib\\site-packages\\sympy\\polys\\heuristicgcd.pyc\u001b[0m in \u001b[0;36mheugcd\u001b[1;34m(f, g)\u001b[0m\n\u001b[0;32m     79\u001b[0m                 \u001b[0mh\u001b[0m\u001b[1;33m,\u001b[0m \u001b[0mcff\u001b[0m\u001b[1;33m,\u001b[0m \u001b[0mcfg\u001b[0m \u001b[1;33m=\u001b[0m \u001b[0mdomain\u001b[0m\u001b[1;33m.\u001b[0m\u001b[0mcofactors\u001b[0m\u001b[1;33m(\u001b[0m\u001b[0mff\u001b[0m\u001b[1;33m,\u001b[0m \u001b[0mgg\u001b[0m\u001b[1;33m)\u001b[0m\u001b[1;33m\u001b[0m\u001b[0m\n\u001b[0;32m     80\u001b[0m             \u001b[1;32melse\u001b[0m\u001b[1;33m:\u001b[0m\u001b[1;33m\u001b[0m\u001b[0m\n\u001b[1;32m---> 81\u001b[1;33m                 \u001b[0mh\u001b[0m\u001b[1;33m,\u001b[0m \u001b[0mcff\u001b[0m\u001b[1;33m,\u001b[0m \u001b[0mcfg\u001b[0m \u001b[1;33m=\u001b[0m \u001b[0mheugcd\u001b[0m\u001b[1;33m(\u001b[0m\u001b[0mff\u001b[0m\u001b[1;33m,\u001b[0m \u001b[0mgg\u001b[0m\u001b[1;33m)\u001b[0m\u001b[1;33m\u001b[0m\u001b[0m\n\u001b[0m\u001b[0;32m     82\u001b[0m \u001b[1;33m\u001b[0m\u001b[0m\n\u001b[0;32m     83\u001b[0m             \u001b[0mh\u001b[0m \u001b[1;33m=\u001b[0m \u001b[0m_gcd_interpolate\u001b[0m\u001b[1;33m(\u001b[0m\u001b[0mh\u001b[0m\u001b[1;33m,\u001b[0m \u001b[0mx\u001b[0m\u001b[1;33m,\u001b[0m \u001b[0mring\u001b[0m\u001b[1;33m)\u001b[0m\u001b[1;33m\u001b[0m\u001b[0m\n",
        "\u001b[1;32mc:\\Users\\pvvilleneuve\\AppData\\Local\\Continuum\\Anaconda\\lib\\site-packages\\sympy\\polys\\heuristicgcd.pyc\u001b[0m in \u001b[0;36mheugcd\u001b[1;34m(f, g)\u001b[0m\n\u001b[0;32m     77\u001b[0m         \u001b[1;32mif\u001b[0m \u001b[0mff\u001b[0m \u001b[1;32mand\u001b[0m \u001b[0mgg\u001b[0m\u001b[1;33m:\u001b[0m\u001b[1;33m\u001b[0m\u001b[0m\n\u001b[0;32m     78\u001b[0m             \u001b[1;32mif\u001b[0m \u001b[0mring\u001b[0m\u001b[1;33m.\u001b[0m\u001b[0mngens\u001b[0m \u001b[1;33m==\u001b[0m \u001b[1;36m1\u001b[0m\u001b[1;33m:\u001b[0m\u001b[1;33m\u001b[0m\u001b[0m\n\u001b[1;32m---> 79\u001b[1;33m                 \u001b[0mh\u001b[0m\u001b[1;33m,\u001b[0m \u001b[0mcff\u001b[0m\u001b[1;33m,\u001b[0m \u001b[0mcfg\u001b[0m \u001b[1;33m=\u001b[0m \u001b[0mdomain\u001b[0m\u001b[1;33m.\u001b[0m\u001b[0mcofactors\u001b[0m\u001b[1;33m(\u001b[0m\u001b[0mff\u001b[0m\u001b[1;33m,\u001b[0m \u001b[0mgg\u001b[0m\u001b[1;33m)\u001b[0m\u001b[1;33m\u001b[0m\u001b[0m\n\u001b[0m\u001b[0;32m     80\u001b[0m             \u001b[1;32melse\u001b[0m\u001b[1;33m:\u001b[0m\u001b[1;33m\u001b[0m\u001b[0m\n\u001b[0;32m     81\u001b[0m                 \u001b[0mh\u001b[0m\u001b[1;33m,\u001b[0m \u001b[0mcff\u001b[0m\u001b[1;33m,\u001b[0m \u001b[0mcfg\u001b[0m \u001b[1;33m=\u001b[0m \u001b[0mheugcd\u001b[0m\u001b[1;33m(\u001b[0m\u001b[0mff\u001b[0m\u001b[1;33m,\u001b[0m \u001b[0mgg\u001b[0m\u001b[1;33m)\u001b[0m\u001b[1;33m\u001b[0m\u001b[0m\n",
        "\u001b[1;32mc:\\Users\\pvvilleneuve\\AppData\\Local\\Continuum\\Anaconda\\lib\\site-packages\\sympy\\polys\\domains\\domain.pyc\u001b[0m in \u001b[0;36mcofactors\u001b[1;34m(self, a, b)\u001b[0m\n\u001b[0;32m    484\u001b[0m     \u001b[1;32mdef\u001b[0m \u001b[0mcofactors\u001b[0m\u001b[1;33m(\u001b[0m\u001b[0mself\u001b[0m\u001b[1;33m,\u001b[0m \u001b[0ma\u001b[0m\u001b[1;33m,\u001b[0m \u001b[0mb\u001b[0m\u001b[1;33m)\u001b[0m\u001b[1;33m:\u001b[0m\u001b[1;33m\u001b[0m\u001b[0m\n\u001b[0;32m    485\u001b[0m         \u001b[1;34m\"\"\"Returns GCD and cofactors of ``a`` and ``b``. \"\"\"\u001b[0m\u001b[1;33m\u001b[0m\u001b[0m\n\u001b[1;32m--> 486\u001b[1;33m         \u001b[0mgcd\u001b[0m \u001b[1;33m=\u001b[0m \u001b[0mself\u001b[0m\u001b[1;33m.\u001b[0m\u001b[0mgcd\u001b[0m\u001b[1;33m(\u001b[0m\u001b[0ma\u001b[0m\u001b[1;33m,\u001b[0m \u001b[0mb\u001b[0m\u001b[1;33m)\u001b[0m\u001b[1;33m\u001b[0m\u001b[0m\n\u001b[0m\u001b[0;32m    487\u001b[0m         \u001b[0mcfa\u001b[0m \u001b[1;33m=\u001b[0m \u001b[0mself\u001b[0m\u001b[1;33m.\u001b[0m\u001b[0mquo\u001b[0m\u001b[1;33m(\u001b[0m\u001b[0ma\u001b[0m\u001b[1;33m,\u001b[0m \u001b[0mgcd\u001b[0m\u001b[1;33m)\u001b[0m\u001b[1;33m\u001b[0m\u001b[0m\n\u001b[0;32m    488\u001b[0m         \u001b[0mcfb\u001b[0m \u001b[1;33m=\u001b[0m \u001b[0mself\u001b[0m\u001b[1;33m.\u001b[0m\u001b[0mquo\u001b[0m\u001b[1;33m(\u001b[0m\u001b[0mb\u001b[0m\u001b[1;33m,\u001b[0m \u001b[0mgcd\u001b[0m\u001b[1;33m)\u001b[0m\u001b[1;33m\u001b[0m\u001b[0m\n",
        "\u001b[1;32mc:\\Users\\pvvilleneuve\\AppData\\Local\\Continuum\\Anaconda\\lib\\site-packages\\sympy\\polys\\domains\\pythonintegerring.pyc\u001b[0m in \u001b[0;36mgcd\u001b[1;34m(self, a, b)\u001b[0m\n\u001b[0;32m     76\u001b[0m     \u001b[1;32mdef\u001b[0m \u001b[0mgcd\u001b[0m\u001b[1;33m(\u001b[0m\u001b[0mself\u001b[0m\u001b[1;33m,\u001b[0m \u001b[0ma\u001b[0m\u001b[1;33m,\u001b[0m \u001b[0mb\u001b[0m\u001b[1;33m)\u001b[0m\u001b[1;33m:\u001b[0m\u001b[1;33m\u001b[0m\u001b[0m\n\u001b[0;32m     77\u001b[0m         \u001b[1;34m\"\"\"Compute GCD of ``a`` and ``b``. \"\"\"\u001b[0m\u001b[1;33m\u001b[0m\u001b[0m\n\u001b[1;32m---> 78\u001b[1;33m         \u001b[1;32mreturn\u001b[0m \u001b[0mpython_gcd\u001b[0m\u001b[1;33m(\u001b[0m\u001b[0ma\u001b[0m\u001b[1;33m,\u001b[0m \u001b[0mb\u001b[0m\u001b[1;33m)\u001b[0m\u001b[1;33m\u001b[0m\u001b[0m\n\u001b[0m\u001b[0;32m     79\u001b[0m \u001b[1;33m\u001b[0m\u001b[0m\n\u001b[0;32m     80\u001b[0m     \u001b[1;32mdef\u001b[0m \u001b[0mlcm\u001b[0m\u001b[1;33m(\u001b[0m\u001b[0mself\u001b[0m\u001b[1;33m,\u001b[0m \u001b[0ma\u001b[0m\u001b[1;33m,\u001b[0m \u001b[0mb\u001b[0m\u001b[1;33m)\u001b[0m\u001b[1;33m:\u001b[0m\u001b[1;33m\u001b[0m\u001b[0m\n",
        "\u001b[1;32mc:\\Users\\pvvilleneuve\\AppData\\Local\\Continuum\\Anaconda\\lib\\site-packages\\sympy\\core\\numbers.pyc\u001b[0m in \u001b[0;36migcd\u001b[1;34m(*args)\u001b[0m\n\u001b[0;32m    127\u001b[0m \u001b[1;33m\u001b[0m\u001b[0m\n\u001b[0;32m    128\u001b[0m                 \u001b[1;32mwhile\u001b[0m \u001b[0mb\u001b[0m\u001b[1;33m:\u001b[0m\u001b[1;33m\u001b[0m\u001b[0m\n\u001b[1;32m--> 129\u001b[1;33m                     \u001b[0ma\u001b[0m\u001b[1;33m,\u001b[0m \u001b[0mb\u001b[0m \u001b[1;33m=\u001b[0m \u001b[0mb\u001b[0m\u001b[1;33m,\u001b[0m \u001b[0ma\u001b[0m \u001b[1;33m%\u001b[0m \u001b[0mb\u001b[0m\u001b[1;33m\u001b[0m\u001b[0m\n\u001b[0m\u001b[0;32m    130\u001b[0m             \u001b[1;32melse\u001b[0m\u001b[1;33m:\u001b[0m\u001b[1;33m\u001b[0m\u001b[0m\n\u001b[0;32m    131\u001b[0m                 \u001b[0ma\u001b[0m \u001b[1;33m=\u001b[0m \u001b[0mabs\u001b[0m\u001b[1;33m(\u001b[0m\u001b[0ma\u001b[0m \u001b[1;32mor\u001b[0m \u001b[0mb\u001b[0m\u001b[1;33m)\u001b[0m\u001b[1;33m\u001b[0m\u001b[0m\n",
        "\u001b[1;31mKeyboardInterrupt\u001b[0m: "
       ]
      }
     ],
     "prompt_number": 36
    },
    {
     "cell_type": "heading",
     "level": 2,
     "metadata": {},
     "source": [
      "Parameter Solutions"
     ]
    },
    {
     "cell_type": "code",
     "collapsed": false,
     "input": [
      "# Translation\n",
      "params = [shift_x, shift_y]\n",
      "\n",
      "truth = offset\n",
      "\n",
      "for p, t in zip(params, truth):\n",
      "    print('-----')\n",
      "    \n",
      "    for r in results:\n",
      "        expr = r[p]\n",
      "        expr_str = lambdastr(None, expr)\n",
      "\n",
      "        out = expr.evalf(subs=substitutions)    \n",
      "\n",
      "        template = '{} = {} = {:.2f} \\\\ =? \\\\ \\\\ {:.2f}'\n",
      "        m = IPython.display.Math(template.format(sm.latex(p), sm.latex(expr), float(out), t))\n",
      "        IPython.display.display(m)"
     ],
     "language": "python",
     "metadata": {},
     "outputs": [
      {
       "output_type": "stream",
       "stream": "stdout",
       "text": [
        "-----\n"
       ]
      },
      {
       "ename": "KeyError",
       "evalue": "d_x",
       "output_type": "pyerr",
       "traceback": [
        "\u001b[1;31m---------------------------------------------------------------------------\u001b[0m\n\u001b[1;31mKeyError\u001b[0m                                  Traceback (most recent call last)",
        "\u001b[1;32m<ipython-input-34-3d8d7a2f7d03>\u001b[0m in \u001b[0;36m<module>\u001b[1;34m()\u001b[0m\n\u001b[0;32m      8\u001b[0m \u001b[1;33m\u001b[0m\u001b[0m\n\u001b[0;32m      9\u001b[0m     \u001b[1;32mfor\u001b[0m \u001b[0mr\u001b[0m \u001b[1;32min\u001b[0m \u001b[0mresults\u001b[0m\u001b[1;33m:\u001b[0m\u001b[1;33m\u001b[0m\u001b[0m\n\u001b[1;32m---> 10\u001b[1;33m         \u001b[0mexpr\u001b[0m \u001b[1;33m=\u001b[0m \u001b[0mr\u001b[0m\u001b[1;33m[\u001b[0m\u001b[0mp\u001b[0m\u001b[1;33m]\u001b[0m\u001b[1;33m\u001b[0m\u001b[0m\n\u001b[0m\u001b[0;32m     11\u001b[0m         \u001b[0mexpr_str\u001b[0m \u001b[1;33m=\u001b[0m \u001b[0mlambdastr\u001b[0m\u001b[1;33m(\u001b[0m\u001b[0mNone\u001b[0m\u001b[1;33m,\u001b[0m \u001b[0mexpr\u001b[0m\u001b[1;33m)\u001b[0m\u001b[1;33m\u001b[0m\u001b[0m\n\u001b[0;32m     12\u001b[0m \u001b[1;33m\u001b[0m\u001b[0m\n",
        "\u001b[1;31mKeyError\u001b[0m: d_x"
       ]
      }
     ],
     "prompt_number": 34
    },
    {
     "cell_type": "code",
     "collapsed": false,
     "input": [
      "# Rotation\n",
      "params = [theta]\n",
      "\n",
      "truth = [r_angle]\n",
      "\n",
      "for p, t in zip(params, truth):\n",
      "    print('-----')\n",
      "\n",
      "    for r in results:\n",
      "        expr = r[p]\n",
      "        expr.simplify()\n",
      "        expr_str = lambdastr(None, expr)\n",
      "\n",
      "        out = expr.evalf(subs=substitutions)\n",
      "        \n",
      "        template = '{} = {} = {:.2f} \\\\ =? \\\\ \\\\ {:.2f}'\n",
      "        m = IPython.display.Math(template.format(sm.latex(p), sm.latex(expr), float(out), t))\n",
      "        IPython.display.display(m)\n",
      "        \n",
      "        print(expr_str)"
     ],
     "language": "python",
     "metadata": {},
     "outputs": [
      {
       "output_type": "stream",
       "stream": "stdout",
       "text": [
        "-----\n"
       ]
      },
      {
       "latex": [
        "$$\\theta_{r} = - 2 \\operatorname{atan}{\\left (\\frac{h_{11} - h_{13} h_{31}}{h_{21} - h_{23} h_{31}} - \\frac{2}{- 2 h_{21} + 2 h_{23} h_{31}} \\sqrt{h_{11}^{2} - 2 h_{11} h_{13} h_{31} + h_{13}^{2} h_{31}^{2} + h_{21}^{2} - 2 h_{21} h_{23} h_{31} + h_{23}^{2} h_{31}^{2}} \\right )} = -2.36 \\ =? \\ \\ 0.79$$"
       ],
       "metadata": {},
       "output_type": "display_data",
       "text": [
        "<IPython.core.display.Math at 0x14a909e8>"
       ]
      },
      {
       "output_type": "stream",
       "stream": "stdout",
       "text": [
        "lambda None: (-2*atan((h11 - h13*h31)/(h21 - h23*h31) - 2*sqrt(h11**2 - 2*h11*h13*h31 + h13**2*h31**2 + h21**2 - 2*h21*h23*h31 + h23**2*h31**2)/(-2*h21 + 2*h23*h31)))\n"
       ]
      },
      {
       "latex": [
        "$$\\theta_{r} = - 2 \\operatorname{atan}{\\left (\\frac{h_{11} - h_{13} h_{31}}{h_{21} - h_{23} h_{31}} + \\frac{2}{- 2 h_{21} + 2 h_{23} h_{31}} \\sqrt{h_{11}^{2} - 2 h_{11} h_{13} h_{31} + h_{13}^{2} h_{31}^{2} + h_{21}^{2} - 2 h_{21} h_{23} h_{31} + h_{23}^{2} h_{31}^{2}} \\right )} = 0.79 \\ =? \\ \\ 0.79$$"
       ],
       "metadata": {},
       "output_type": "display_data",
       "text": [
        "<IPython.core.display.Math at 0x14ae7080>"
       ]
      },
      {
       "output_type": "stream",
       "stream": "stdout",
       "text": [
        "lambda None: (-2*atan((h11 - h13*h31)/(h21 - h23*h31) + 2*sqrt(h11**2 - 2*h11*h13*h31 + h13**2*h31**2 + h21**2 - 2*h21*h23*h31 + h23**2*h31**2)/(-2*h21 + 2*h23*h31)))\n"
       ]
      }
     ],
     "prompt_number": 102
    },
    {
     "cell_type": "code",
     "collapsed": false,
     "input": [
      "# Shear\n",
      "params = [shear_x, shear_y]\n",
      "\n",
      "truth = scale\n",
      "\n",
      "for p, t in zip(params, truth):\n",
      "    print('-----')\n",
      "\n",
      "    for r in results:\n",
      "        expr = r[p]\n",
      "        expr.simplify()       \n",
      "        expr_str = lambdastr(None, expr)\n",
      "        \n",
      "        out = expr.evalf(subs=substitutions)    \n",
      "\n",
      "        template = '{} = {} = {:.2f} \\\\ =? \\\\ \\\\ {:.2f}'\n",
      "        m = IPython.display.Math(template.format(sm.latex(p), sm.latex(expr), float(out), t))\n",
      "        IPython.display.display(m)\n",
      "        \n",
      "        print(expr_str)"
     ],
     "language": "python",
     "metadata": {},
     "outputs": [
      {
       "output_type": "stream",
       "stream": "stdout",
       "text": [
        "-----\n"
       ]
      },
      {
       "ename": "KeyError",
       "evalue": "s_x",
       "output_type": "pyerr",
       "traceback": [
        "\u001b[1;31m---------------------------------------------------------------------------\u001b[0m\n\u001b[1;31mKeyError\u001b[0m                                  Traceback (most recent call last)",
        "\u001b[1;32m<ipython-input-24-f8f6c798d219>\u001b[0m in \u001b[0;36m<module>\u001b[1;34m()\u001b[0m\n\u001b[0;32m      8\u001b[0m \u001b[1;33m\u001b[0m\u001b[0m\n\u001b[0;32m      9\u001b[0m     \u001b[1;32mfor\u001b[0m \u001b[0mr\u001b[0m \u001b[1;32min\u001b[0m \u001b[0mresults\u001b[0m\u001b[1;33m:\u001b[0m\u001b[1;33m\u001b[0m\u001b[0m\n\u001b[1;32m---> 10\u001b[1;33m         \u001b[0mexpr\u001b[0m \u001b[1;33m=\u001b[0m \u001b[0mr\u001b[0m\u001b[1;33m[\u001b[0m\u001b[0mp\u001b[0m\u001b[1;33m]\u001b[0m\u001b[1;33m\u001b[0m\u001b[0m\n\u001b[0m\u001b[0;32m     11\u001b[0m         \u001b[0mexpr\u001b[0m\u001b[1;33m.\u001b[0m\u001b[0msimplify\u001b[0m\u001b[1;33m(\u001b[0m\u001b[1;33m)\u001b[0m\u001b[1;33m\u001b[0m\u001b[0m\n\u001b[0;32m     12\u001b[0m         \u001b[0mexpr_str\u001b[0m \u001b[1;33m=\u001b[0m \u001b[0mlambdastr\u001b[0m\u001b[1;33m(\u001b[0m\u001b[0mNone\u001b[0m\u001b[1;33m,\u001b[0m \u001b[0mexpr\u001b[0m\u001b[1;33m)\u001b[0m\u001b[1;33m\u001b[0m\u001b[0m\n",
        "\u001b[1;31mKeyError\u001b[0m: s_x"
       ]
      }
     ],
     "prompt_number": 24
    },
    {
     "cell_type": "code",
     "collapsed": false,
     "input": [
      "# Scale\n",
      "params = [scale_x, scale_y]\n",
      "\n",
      "truth = scale\n",
      "\n",
      "for p, t in zip(params, truth):\n",
      "    print('-----')\n",
      "\n",
      "    for r in results:\n",
      "        expr = r[p]\n",
      "        expr.simplify()       \n",
      "        expr_str = lambdastr(None, expr)\n",
      "        \n",
      "        out = expr.evalf(subs=substitutions)    \n",
      "\n",
      "        template = '{} = {} = {:.2f} \\\\ =? \\\\ \\\\ {:.2f}'\n",
      "        m = IPython.display.Math(template.format(sm.latex(p), sm.latex(expr), float(out), t))\n",
      "        IPython.display.display(m)\n",
      "        \n",
      "        print(expr_str)"
     ],
     "language": "python",
     "metadata": {},
     "outputs": [
      {
       "output_type": "stream",
       "stream": "stdout",
       "text": [
        "-----\n"
       ]
      },
      {
       "latex": [
        "$$c_{x} = - \\frac{h_{21} - h_{23} h_{31}}{\\sin{\\left (2 \\operatorname{atan}{\\left (\\frac{h_{11} - h_{13} h_{31}}{h_{21} - h_{23} h_{31}} - \\frac{2}{- 2 h_{21} + 2 h_{23} h_{31}} \\sqrt{h_{11}^{2} - 2 h_{11} h_{13} h_{31} + h_{13}^{2} h_{31}^{2} + h_{21}^{2} - 2 h_{21} h_{23} h_{31} + h_{23}^{2} h_{31}^{2}} \\right )} \\right )}} = -2.00 \\ =? \\ \\ 2.00$$"
       ],
       "metadata": {},
       "output_type": "display_data",
       "text": [
        "<IPython.core.display.Math at 0xedc52b0>"
       ]
      },
      {
       "output_type": "stream",
       "stream": "stdout",
       "text": [
        "lambda None: (-(h21 - h23*h31)/sin(2*atan((h11 - h13*h31)/(h21 - h23*h31) - 2*sqrt(h11**2 - 2*h11*h13*h31 + h13**2*h31**2 + h21**2 - 2*h21*h23*h31 + h23**2*h31**2)/(-2*h21 + 2*h23*h31))))\n"
       ]
      },
      {
       "latex": [
        "$$c_{x} = - \\frac{h_{21} - h_{23} h_{31}}{\\sin{\\left (2 \\operatorname{atan}{\\left (\\frac{h_{11} - h_{13} h_{31}}{h_{21} - h_{23} h_{31}} + \\frac{2}{- 2 h_{21} + 2 h_{23} h_{31}} \\sqrt{h_{11}^{2} - 2 h_{11} h_{13} h_{31} + h_{13}^{2} h_{31}^{2} + h_{21}^{2} - 2 h_{21} h_{23} h_{31} + h_{23}^{2} h_{31}^{2}} \\right )} \\right )}} = 2.00 \\ =? \\ \\ 2.00$$"
       ],
       "metadata": {},
       "output_type": "display_data",
       "text": [
        "<IPython.core.display.Math at 0xe841630>"
       ]
      },
      {
       "output_type": "stream",
       "stream": "stdout",
       "text": [
        "lambda None: (-(h21 - h23*h31)/sin(2*atan((h11 - h13*h31)/(h21 - h23*h31) + 2*sqrt(h11**2 - 2*h11*h13*h31 + h13**2*h31**2 + h21**2 - 2*h21*h23*h31 + h23**2*h31**2)/(-2*h21 + 2*h23*h31))))\n",
        "-----\n"
       ]
      },
      {
       "latex": [
        "$$c_{y} = \\frac{h_{22}}{\\cos{\\left (2 \\operatorname{atan}{\\left (- \\frac{h_{11}}{h_{21} - h_{23} h_{31}} + \\frac{h_{13} h_{31}}{h_{21} - h_{23} h_{31}} + \\frac{2}{- 2 h_{21} + 2 h_{23} h_{31}} \\sqrt{h_{11}^{2} - 2 h_{11} h_{13} h_{31} + h_{13}^{2} h_{31}^{2} + h_{21}^{2} - 2 h_{21} h_{23} h_{31} + h_{23}^{2} h_{31}^{2}} \\right )} \\right )}} - \\frac{h_{23} h_{32}}{\\cos{\\left (2 \\operatorname{atan}{\\left (- \\frac{h_{11}}{h_{21} - h_{23} h_{31}} + \\frac{h_{13} h_{31}}{h_{21} - h_{23} h_{31}} + \\frac{2}{- 2 h_{21} + 2 h_{23} h_{31}} \\sqrt{h_{11}^{2} - 2 h_{11} h_{13} h_{31} + h_{13}^{2} h_{31}^{2} + h_{21}^{2} - 2 h_{21} h_{23} h_{31} + h_{23}^{2} h_{31}^{2}} \\right )} \\right )}} = -0.50 \\ =? \\ \\ 0.50$$"
       ],
       "metadata": {},
       "output_type": "display_data",
       "text": [
        "<IPython.core.display.Math at 0x14ae3ef0>"
       ]
      },
      {
       "output_type": "stream",
       "stream": "stdout",
       "text": [
        "lambda None: (h22/cos(2*atan(-h11/(h21 - h23*h31) + h13*h31/(h21 - h23*h31) + 2*sqrt(h11**2 - 2*h11*h13*h31 + h13**2*h31**2 + h21**2 - 2*h21*h23*h31 + h23**2*h31**2)/(-2*h21 + 2*h23*h31))) - h23*h32/cos(2*atan(-h11/(h21 - h23*h31) + h13*h31/(h21 - h23*h31) + 2*sqrt(h11**2 - 2*h11*h13*h31 + h13**2*h31**2 + h21**2 - 2*h21*h23*h31 + h23**2*h31**2)/(-2*h21 + 2*h23*h31))))\n"
       ]
      },
      {
       "latex": [
        "$$c_{y} = \\frac{h_{22}}{\\cos{\\left (2 \\operatorname{atan}{\\left (\\frac{h_{11}}{h_{21} - h_{23} h_{31}} - \\frac{h_{13} h_{31}}{h_{21} - h_{23} h_{31}} + \\frac{2}{- 2 h_{21} + 2 h_{23} h_{31}} \\sqrt{h_{11}^{2} - 2 h_{11} h_{13} h_{31} + h_{13}^{2} h_{31}^{2} + h_{21}^{2} - 2 h_{21} h_{23} h_{31} + h_{23}^{2} h_{31}^{2}} \\right )} \\right )}} - \\frac{h_{23} h_{32}}{\\cos{\\left (2 \\operatorname{atan}{\\left (\\frac{h_{11}}{h_{21} - h_{23} h_{31}} - \\frac{h_{13} h_{31}}{h_{21} - h_{23} h_{31}} + \\frac{2}{- 2 h_{21} + 2 h_{23} h_{31}} \\sqrt{h_{11}^{2} - 2 h_{11} h_{13} h_{31} + h_{13}^{2} h_{31}^{2} + h_{21}^{2} - 2 h_{21} h_{23} h_{31} + h_{23}^{2} h_{31}^{2}} \\right )} \\right )}} = 0.50 \\ =? \\ \\ 0.50$$"
       ],
       "metadata": {},
       "output_type": "display_data",
       "text": [
        "<IPython.core.display.Math at 0xe841630>"
       ]
      },
      {
       "output_type": "stream",
       "stream": "stdout",
       "text": [
        "lambda None: (h22/cos(2*atan(h11/(h21 - h23*h31) - h13*h31/(h21 - h23*h31) + 2*sqrt(h11**2 - 2*h11*h13*h31 + h13**2*h31**2 + h21**2 - 2*h21*h23*h31 + h23**2*h31**2)/(-2*h21 + 2*h23*h31))) - h23*h32/cos(2*atan(h11/(h21 - h23*h31) - h13*h31/(h21 - h23*h31) + 2*sqrt(h11**2 - 2*h11*h13*h31 + h13**2*h31**2 + h21**2 - 2*h21*h23*h31 + h23**2*h31**2)/(-2*h21 + 2*h23*h31))))\n"
       ]
      }
     ],
     "prompt_number": 100
    },
    {
     "cell_type": "code",
     "collapsed": false,
     "input": [
      "# Perspective\n",
      "params = [tilt_x, tilt_y]\n",
      "\n",
      "truth = scale\n",
      "\n",
      "for p, t in zip(params, truth):\n",
      "    print('-----')\n",
      "\n",
      "    for r in results:\n",
      "        expr = r[p]\n",
      "        expr.simplify()       \n",
      "        expr_str = lambdastr(None, expr)\n",
      "        \n",
      "        out = expr.evalf(subs=substitutions)    \n",
      "\n",
      "        template = '{} = {} = {:.2f} \\\\ =? \\\\ \\\\ {:.2f}'\n",
      "        m = IPython.display.Math(template.format(sm.latex(p), sm.latex(expr), float(out), t))\n",
      "        IPython.display.display(m)\n",
      "        \n",
      "        print(expr_str)"
     ],
     "language": "python",
     "metadata": {},
     "outputs": [
      {
       "output_type": "stream",
       "stream": "stdout",
       "text": [
        "-----\n"
       ]
      },
      {
       "latex": [
        "$$p_{x} = h_{31} = 0.20 \\ =? \\ \\ 2.00$$"
       ],
       "metadata": {},
       "output_type": "display_data",
       "text": [
        "<IPython.core.display.Math at 0x131f1b38>"
       ]
      },
      {
       "output_type": "stream",
       "stream": "stdout",
       "text": [
        "lambda None: (h31)\n"
       ]
      },
      {
       "latex": [
        "$$p_{x} = h_{31} = 0.20 \\ =? \\ \\ 2.00$$"
       ],
       "metadata": {},
       "output_type": "display_data",
       "text": [
        "<IPython.core.display.Math at 0x14a90ef0>"
       ]
      },
      {
       "output_type": "stream",
       "stream": "stdout",
       "text": [
        "lambda None: (h31)\n",
        "-----\n"
       ]
      },
      {
       "latex": [
        "$$p_{y} = h_{32} = 0.40 \\ =? \\ \\ 0.50$$"
       ],
       "metadata": {},
       "output_type": "display_data",
       "text": [
        "<IPython.core.display.Math at 0x14ada470>"
       ]
      },
      {
       "output_type": "stream",
       "stream": "stdout",
       "text": [
        "lambda None: (h32)\n"
       ]
      },
      {
       "latex": [
        "$$p_{y} = h_{32} = 0.40 \\ =? \\ \\ 0.50$$"
       ],
       "metadata": {},
       "output_type": "display_data",
       "text": [
        "<IPython.core.display.Math at 0x14a903c8>"
       ]
      },
      {
       "output_type": "stream",
       "stream": "stdout",
       "text": [
        "lambda None: (h32)\n"
       ]
      }
     ],
     "prompt_number": 103
    },
    {
     "cell_type": "code",
     "collapsed": false,
     "input": [],
     "language": "python",
     "metadata": {},
     "outputs": [],
     "prompt_number": 102
    },
    {
     "cell_type": "code",
     "collapsed": false,
     "input": [],
     "language": "python",
     "metadata": {},
     "outputs": [],
     "prompt_number": 94
    },
    {
     "cell_type": "code",
     "collapsed": false,
     "input": [
      "def decompose(H):\n",
      "    \"\"\"\n",
      "    Decompose general transform matrix into elemental transforms.\n",
      "\n",
      "    Parameters\n",
      "    ----------\n",
      "    H : Transform matrix\n",
      "\n",
      "    Returns\n",
      "    -------\n",
      "    H_scale, H_shear, H_rorate, H_translate, H_perspective\n",
      "    \n",
      "    Notes\n",
      "    -----\n",
      "    See this paper for details:\n",
      "\n",
      "    \"Projective Transformations for Image Transition Animations\"\n",
      "    \n",
      "    Section 3.1 using QR decomposition, Google Docs PDF: http://goo.gl/Ohd5bA\n",
      "    \n",
      "    Homography matrix:\n",
      "    \n",
      "        | h_11  h_12  h_13 |\n",
      "    H = | h_21  h_22  h_23 |\n",
      "        | h_31  h_32  h_33 |\n",
      "    \n",
      "    \"\"\"\n",
      "\n",
      "    # Perspective.\n",
      "    H_perspective = np.identity(3)\n",
      "    H_perspective[2] = H[2]\n",
      "        \n",
      "    # Translation.\n",
      "    H_translate = np.identity(3)\n",
      "    H_translate[:, 2] = H[:, 2]\n",
      "    \n",
      "    # Non-homogeneous affine transform (scale, rotate, shear).\n",
      "    A = H[:2, :2]\n",
      "    \n",
      "    # http://docs.scipy.org/doc/scipy/reference/tutorial/linalg.html#singular-value-decomposition\n",
      "    U, s, Vh = sp.linalg.svd(A)\n",
      "\n",
      "    m, n = A.shape\n",
      "    D = sp.linalg.diagsvd(s, m, n)\n",
      "\n",
      "    # Scale.\n",
      "    H_scale = np.identity(3)\n",
      "    H_scale[:2, :2] = D\n",
      "\n",
      "    # Shear.\n",
      "    \n",
      "    # Rotate.\n",
      "    \n",
      "    return U, D, Vh\n",
      "\n",
      "\n",
      "# Perspective.\n",
      "H_perspective = np.identity(3)\n",
      "H_perspective[2] = H[2]\n",
      "\n",
      "# Translation.\n",
      "H_translate = np.identity(3)\n",
      "H_translate[:, 2] = H[:, 2]\n",
      "\n",
      "# Non-homogeneous affine transform (scale, rotate, shear).\n",
      "A = H[:2, :2]\n",
      "\n",
      "# http://docs.scipy.org/doc/scipy/reference/tutorial/linalg.html#singular-value-decomposition\n",
      "U, s, Vh = sp.linalg.svd(A)\n",
      "\n",
      "m, n = A.shape\n",
      "D = sp.linalg.diagsvd(s, m, n)\n",
      "\n",
      "# Scale.\n",
      "H_scale = np.identity(3)\n",
      "H_scale[:2, :2] = D\n",
      "\n",
      "# Rotation.\n",
      "H_rotate = np.identity(3)\n",
      "\n",
      "# Shear.\n",
      "H_shear = np.identity(3)\n",
      "\n",
      "\n",
      "print('\\nPerspective:  {}, {}'.format(pa, pb))\n",
      "print('{}'.format(H_perspective))\n",
      "\n",
      "print('\\nScale: {}, {}'.format(scale[0], scale[1]))\n",
      "print('{}'.format(H_scale))\n",
      "\n",
      "print('\\nShear: {}, {:.3f} [{}]'.format(s_factor, s_angle, np.rad2deg(s_angle)))\n",
      "print('{}'.format(H_shear))\n",
      "\n",
      "print('\\nRotation: {:.3f} [{}]'.format(r_angle, np.rad2deg(r_angle)))\n",
      "print('{}'.format(H_rotate))\n",
      "\n",
      "print('\\nTranslate: {}, {}'.format(offset[0], offset[1]))\n",
      "print('{}'.format(H_translate))"
     ],
     "language": "python",
     "metadata": {},
     "outputs": [
      {
       "ename": "NameError",
       "evalue": "name 'H' is not defined",
       "output_type": "pyerr",
       "traceback": [
        "\u001b[1;31m---------------------------------------------------------------------------\u001b[0m\n\u001b[1;31mNameError\u001b[0m                                 Traceback (most recent call last)",
        "\u001b[1;32m<ipython-input-13-d52196f92892>\u001b[0m in \u001b[0;36m<module>\u001b[1;34m()\u001b[0m\n\u001b[0;32m     57\u001b[0m \u001b[1;31m# Perspective.\u001b[0m\u001b[1;33m\u001b[0m\u001b[1;33m\u001b[0m\u001b[0m\n\u001b[0;32m     58\u001b[0m \u001b[0mH_perspective\u001b[0m \u001b[1;33m=\u001b[0m \u001b[0mnp\u001b[0m\u001b[1;33m.\u001b[0m\u001b[0midentity\u001b[0m\u001b[1;33m(\u001b[0m\u001b[1;36m3\u001b[0m\u001b[1;33m)\u001b[0m\u001b[1;33m\u001b[0m\u001b[0m\n\u001b[1;32m---> 59\u001b[1;33m \u001b[0mH_perspective\u001b[0m\u001b[1;33m[\u001b[0m\u001b[1;36m2\u001b[0m\u001b[1;33m]\u001b[0m \u001b[1;33m=\u001b[0m \u001b[0mH\u001b[0m\u001b[1;33m[\u001b[0m\u001b[1;36m2\u001b[0m\u001b[1;33m]\u001b[0m\u001b[1;33m\u001b[0m\u001b[0m\n\u001b[0m\u001b[0;32m     60\u001b[0m \u001b[1;33m\u001b[0m\u001b[0m\n\u001b[0;32m     61\u001b[0m \u001b[1;31m# Translation.\u001b[0m\u001b[1;33m\u001b[0m\u001b[1;33m\u001b[0m\u001b[0m\n",
        "\u001b[1;31mNameError\u001b[0m: name 'H' is not defined"
       ]
      }
     ],
     "prompt_number": 13
    },
    {
     "cell_type": "code",
     "collapsed": false,
     "input": [],
     "language": "python",
     "metadata": {},
     "outputs": []
    }
   ],
   "metadata": {}
  }
 ]
}
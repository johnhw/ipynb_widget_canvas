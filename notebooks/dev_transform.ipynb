{
 "metadata": {
  "name": "",
  "signature": "sha256:632889d0bcd2892ee87c0ca1245d4ec97dbe0bcb49433410f7a95ebc0bc3585e"
 },
 "nbformat": 3,
 "nbformat_minor": 0,
 "worksheets": [
  {
   "cells": [
    {
     "cell_type": "code",
     "collapsed": false,
     "input": [
      "%matplotlib inline\n",
      "\n",
      "import matplotlib.pyplot as plt\n",
      "import numpy as np\n",
      "import scipy as sp\n",
      "import scipy.linalg\n",
      "\n",
      "import widget_canvas\n",
      "\n",
      "from widget_canvas import transform_2D\n",
      "from widget_canvas import decompose"
     ],
     "language": "python",
     "metadata": {},
     "outputs": [],
     "prompt_number": 230
    },
    {
     "cell_type": "heading",
     "level": 3,
     "metadata": {},
     "source": [
      "Data setup"
     ]
    },
    {
     "cell_type": "code",
     "collapsed": false,
     "input": [
      "# A set of data points.\n",
      "N = 8*4\n",
      "Rs = [0.6, 1.6]\n",
      "\n",
      "points = []\n",
      "for a in np.linspace(0, 360, N, endpoint=False):\n",
      "    for r in Rs:\n",
      "        x = np.cos(np.deg2rad(a)) * r\n",
      "        y = np.sin(np.deg2rad(a)) * r\n",
      "        \n",
      "        points.append([x, y])\n",
      "\n",
      "points.extend([[0.0, 0.0],\n",
      "               [0.0, 0.1],\n",
      "               [0.0,-0.1],\n",
      "               [0.1, 0.0],\n",
      "               [-0.1, 0.0]])\n",
      "\n",
      "points.extend([[0.0, 0.0],\n",
      "               [0.2, 0.0],\n",
      "               [0.4, 0.0],\n",
      "               [0.6, 0.0],\n",
      "               [0.8, 0.0],\n",
      "               [1.0, 0.0],\n",
      "               [1.2, 0.0],\n",
      "               [1.4, 0.0],\n",
      "               [1.6, 0.0],\n",
      "               [1.8, 0.0],\n",
      "               [2.0, 0.0],\n",
      "               [2.0, 0.1],\n",
      "               [2.0, 0.2],\n",
      "               [2.0, 0.3],\n",
      "               [2.0, 0.4],\n",
      "               [2.0, 0.5]])\n",
      "\n",
      "# points.extend([[0.0, 0.0],\n",
      "#                [0.0, 0.2],\n",
      "#                [0.0, 0.4],\n",
      "#                [0.0, 0.6],\n",
      "#                [0.0, 0.8],\n",
      "#                [0.0, 1.0],\n",
      "#                [0.0, 1.2],\n",
      "#                [0.0, 1.4],\n",
      "#                [0.0, 1.6],\n",
      "#                [0.0, 1.8],\n",
      "#                [0.0, 2.0],\n",
      "#                [0.1, 2.0],\n",
      "#                [0.2, 2.0],\n",
      "#                [0.3, 2.0],\n",
      "#                [0.4, 2.0],\n",
      "#                [0.5, 2.0]])\n",
      "\n",
      "points = np.asarray(points)\n",
      "\n",
      "avg_x, avg_y = np.mean(points, axis=0)\n",
      "\n",
      "# Display parameters.\n",
      "edge = 'black'\n",
      "alpha = 0.65"
     ],
     "language": "python",
     "metadata": {},
     "outputs": [],
     "prompt_number": 231
    },
    {
     "cell_type": "code",
     "collapsed": false,
     "input": [
      "# Apply.\n",
      "\n",
      "# Rotate.\n",
      "r_angle = np.deg2rad(45.)\n",
      "H_rotate0 = transform_2D.rotate(r_angle)\n",
      "\n",
      "# Scale.\n",
      "scale = 2., 0.5\n",
      "H_scale0 = transform_2D.scale(scale)\n",
      "\n",
      "# Offset.\n",
      "offset = -0.5, 0.5\n",
      "H_translate0 = transform_2D.offset(offset)\n",
      "\n",
      "# Shear.\n",
      "s_factor = .75\n",
      "s_angle = np.deg2rad(45)\n",
      "H_shear0 = transform_2D.shear(s_factor, s_angle)\n",
      "\n",
      "# Perspective.\n",
      "pa = 1.0\n",
      "pb = 1.1\n",
      "H_perspective0 = transform_2D.perspective(pa, pb)\n",
      "\n",
      "# Chain.\n",
      "H = transform_2D.chain(H_scale0, H_rotate0)\n",
      "\n",
      "print(H)"
     ],
     "language": "python",
     "metadata": {},
     "outputs": [
      {
       "output_type": "stream",
       "stream": "stdout",
       "text": [
        "[[ 1.41421356 -0.35355339  0.        ]\n",
        " [ 1.41421356  0.35355339  0.        ]\n",
        " [ 0.          0.          1.        ]]\n"
       ]
      }
     ],
     "prompt_number": 253
    },
    {
     "cell_type": "code",
     "collapsed": false,
     "input": [
      "# Display.\n",
      "points_out = transform_2D.apply(H, points)\n",
      "\n",
      "# Display.\n",
      "fig, ax1 = plt.subplots(figsize=(6, 6))\n",
      "wid = 3\n",
      "ms = 5\n",
      "\n",
      "# Original points.\n",
      "for x, y in points:\n",
      "    ax1.plot(x, y, marker='o', markeredgecolor=edge, markerfacecolor='green', markersize=ms, alpha=alpha)\n",
      "\n",
      "# Transformed points.\n",
      "for x, y in points_out:\n",
      "    ax1.plot(x, y, marker='o', markeredgecolor=edge, markerfacecolor='red', markersize=ms, alpha=alpha)\n",
      "   \n",
      "ax1.set_aspect('equal')\n",
      "ax1.hlines(0, -10, 10, linewidth=0.2)\n",
      "ax1.vlines(0, -10, 10, linewidth=0.2)\n",
      "ax1.set_xlim(-wid, wid)\n",
      "ax1.set_ylim(-wid, wid)\n",
      "\n",
      "plt.tight_layout()"
     ],
     "language": "python",
     "metadata": {},
     "outputs": [
      {
       "metadata": {},
       "output_type": "display_data",
       "png": "[encoded data removed]",
       "text": [
        "<matplotlib.figure.Figure at 0x7fba593c2c50>"
       ]
      }
     ],
     "prompt_number": 254
    },
    {
     "cell_type": "code",
     "collapsed": false,
     "input": [
      "# Perspective.\n",
      "H_perspective = np.identity(3)\n",
      "H_perspective[2] = H[2]\n",
      "\n",
      "# Translation.\n",
      "H_translate = np.identity(3)\n",
      "H_translate[:, 2] = H[:, 2]\n",
      "\n",
      "# Non-homogeneous affine transform (scale, rotate, shear).\n",
      "A = H[:2, :2]\n",
      "\n",
      "# http://docs.scipy.org/doc/scipy/reference/tutorial/linalg.html#singular-value-decomposition\n",
      "U, s, Vh = sp.linalg.svd(A)\n",
      "\n",
      "m, n = A.shape\n",
      "D = sp.linalg.diagsvd(s, m, n)\n",
      "\n",
      "# Scale.\n",
      "H_scale = np.identity(3)\n",
      "H_scale[:2, :2] = D\n",
      "\n",
      "# Rotation.\n",
      "H_rotate = np.identity(3)\n",
      "\n",
      "\n",
      "# Shear.\n",
      "H_shear = np.identity(3)"
     ],
     "language": "python",
     "metadata": {},
     "outputs": [],
     "prompt_number": 255
    },
    {
     "cell_type": "code",
     "collapsed": false,
     "input": [
      "U.dot(Vh)"
     ],
     "language": "python",
     "metadata": {},
     "outputs": [
      {
       "metadata": {},
       "output_type": "pyout",
       "prompt_number": 6,
       "text": [
        "array([[ 0.91036648, -0.41380294],\n",
        "       [ 0.41380294,  0.91036648]])"
       ]
      }
     ],
     "prompt_number": 6
    },
    {
     "cell_type": "code",
     "collapsed": false,
     "input": [
      "Vh"
     ],
     "language": "python",
     "metadata": {},
     "outputs": [
      {
       "metadata": {},
       "output_type": "pyout",
       "prompt_number": 7,
       "text": [
        "array([[-0.17842481,  0.98395355],\n",
        "       [ 0.98395355,  0.17842481]])"
       ]
      }
     ],
     "prompt_number": 7
    },
    {
     "cell_type": "code",
     "collapsed": false,
     "input": [
      "print('\\nPerspective:  {}, {}'.format(pa, pb))\n",
      "print('{}'.format(H_perspective))\n",
      "\n",
      "print('\\nScale: {}, {}'.format(scale[0], scale[1]))\n",
      "print('{}'.format(H_scale))\n",
      "\n",
      "print('\\nShear: {}, {:.3f} [{}]'.format(s_factor, s_angle, np.rad2deg(s_angle)))\n",
      "print('{}'.format(H_shear))\n",
      "\n",
      "print('\\nRotation: {:.3f} [{}]'.format(r_angle, np.rad2deg(r_angle)))\n",
      "print('{}'.format(H_rotate))\n",
      "\n",
      "print('\\nTranslate: {}, {}'.format(offset[0], offset[1]))\n",
      "print('{}'.format(H_translate))\n"
     ],
     "language": "python",
     "metadata": {},
     "outputs": [
      {
       "output_type": "stream",
       "stream": "stdout",
       "text": [
        "\n",
        "Perspective:  1.0, 1.1\n",
        "[[ 1.  0.  0.]\n",
        " [ 0.  1.  0.]\n",
        " [ 0.  0.  1.]]\n",
        "\n",
        "Scale: 1.25, 1.25\n",
        "[[ 1.80375059  0.          0.        ]\n",
        " [ 0.          0.86625059  0.        ]\n",
        " [ 0.          0.          1.        ]]\n",
        "\n",
        "Shear: 0.75, 0.785 [45.0]\n",
        "[[ 1.  0.  0.]\n",
        " [ 0.  1.  0.]\n",
        " [ 0.  0.  1.]]\n",
        "\n",
        "Rotation: 0.785 [45.0]\n",
        "[[ 1.  0.  0.]\n",
        " [ 0.  1.  0.]\n",
        " [ 0.  0.  1.]]\n",
        "\n",
        "Translate: -0.5, 0.5\n",
        "[[ 1.  0.  0.]\n",
        " [ 0.  1.  0.]\n",
        " [ 0.  0.  1.]]\n"
       ]
      }
     ],
     "prompt_number": 8
    },
    {
     "cell_type": "code",
     "collapsed": false,
     "input": [
      "D"
     ],
     "language": "python",
     "metadata": {},
     "outputs": [
      {
       "metadata": {},
       "output_type": "pyout",
       "prompt_number": 11,
       "text": [
        "array([[ 1.80375059,  0.        ],\n",
        "       [ 0.        ,  0.86625059]])"
       ]
      }
     ],
     "prompt_number": 11
    },
    {
     "cell_type": "code",
     "collapsed": false,
     "input": [
      "1/0\n"
     ],
     "language": "python",
     "metadata": {},
     "outputs": [
      {
       "ename": "ZeroDivisionError",
       "evalue": "integer division or modulo by zero",
       "output_type": "pyerr",
       "traceback": [
        "\u001b[1;31m---------------------------------------------------------------------------\u001b[0m\n\u001b[1;31mZeroDivisionError\u001b[0m                         Traceback (most recent call last)",
        "\u001b[1;32m<ipython-input-10-05c9758a9c21>\u001b[0m in \u001b[0;36m<module>\u001b[1;34m()\u001b[0m\n\u001b[1;32m----> 1\u001b[1;33m \u001b[1;36m1\u001b[0m\u001b[1;33m/\u001b[0m\u001b[1;36m0\u001b[0m\u001b[1;33m\u001b[0m\u001b[0m\n\u001b[0m",
        "\u001b[1;31mZeroDivisionError\u001b[0m: integer division or modulo by zero"
       ]
      }
     ],
     "prompt_number": 10
    },
    {
     "cell_type": "code",
     "collapsed": false,
     "input": [
      "import scipy as sp\n",
      "import scipy.linalg\n",
      "\n",
      "def decompose(H):\n",
      "    \"\"\"\n",
      "    Decompose general transform matrix into elemental transforms.\n",
      "\n",
      "    Parameters\n",
      "    ----------\n",
      "    H : Transform matrix\n",
      "\n",
      "    Returns\n",
      "    -------\n",
      "    H_scale, H_shear, H_rorate, H_translate, H_perspective\n",
      "    \n",
      "    Notes\n",
      "    -----\n",
      "    See this paper for details:\n",
      "\n",
      "    \"Projective Transformations for Image Transition Animations\"\n",
      "    \n",
      "    Section 3.1 using QR decomposition, Google Docs PDF: http://goo.gl/Ohd5bA\n",
      "    \n",
      "    Homography matrix:\n",
      "    \n",
      "        | h_11  h_12  h_13 |\n",
      "    H = | h_21  h_22  h_23 |\n",
      "        | h_31  h_32  h_33 |\n",
      "    \n",
      "    \"\"\"\n",
      "\n",
      "    # Perspective.\n",
      "    H_perspective = np.identity(3)\n",
      "    H_perspective[2] = H[2]\n",
      "        \n",
      "    # Translation.\n",
      "    H_translate = np.identity(3)\n",
      "    H_translate[:, 2] = H[:, 2]\n",
      "    \n",
      "    # Non-homogeneous affine transform (scale, rotate, shear).\n",
      "    A = H[:2, :2]\n",
      "    \n",
      "    # http://docs.scipy.org/doc/scipy/reference/tutorial/linalg.html#singular-value-decomposition\n",
      "    U, s, Vh = sp.linalg.svd(A)\n",
      "\n",
      "    m, n = A.shape\n",
      "    D = sp.linalg.diagsvd(s, m, n)\n",
      "\n",
      "    # Scale.\n",
      "    H_scale = np.identity(3)\n",
      "    H_scale[:2, :2] = D\n",
      "\n",
      "    # Shear.\n",
      "    \n",
      "    # Rotate.\n",
      "    \n",
      "    return U, D, Vh"
     ],
     "language": "python",
     "metadata": {},
     "outputs": []
    },
    {
     "cell_type": "heading",
     "level": 3,
     "metadata": {},
     "source": [
      "Play with SymPy"
     ]
    },
    {
     "cell_type": "markdown",
     "metadata": {},
     "source": [
      "http://docs.sympy.org/dev/tutorial/solvers.html"
     ]
    },
    {
     "cell_type": "code",
     "collapsed": false,
     "input": [
      "import IPython\n",
      "import sympy as sm\n",
      "sm.init_printing()"
     ],
     "language": "python",
     "metadata": {},
     "outputs": [],
     "prompt_number": 256
    },
    {
     "cell_type": "code",
     "collapsed": false,
     "input": [
      "# Variables.\n",
      "\n",
      "theta, phi = sm.symbols('theta phi')\n",
      "scale_x, scale_y = sm.symbols('c_x c_y')\n",
      "shear_x, shear_y = sm.symbols('s_x s_y')\n",
      "shift_x, shift_y = sm.symbols('d_x d_y')\n",
      "tilt_x, tilt_y = sm.symbols('p_x p_y')"
     ],
     "language": "python",
     "metadata": {},
     "outputs": [],
     "prompt_number": 257
    },
    {
     "cell_type": "code",
     "collapsed": false,
     "input": [
      "# Matrices.\n",
      "h11, h12, h13, h21, h22, h23, h31, h32, h33 = sm.symbols('h11, h12, h13, h21, h22, h23, h31, h32, h33')\n",
      "\n",
      "H_data = sm.Matrix([[h11, h12, h13],\n",
      "                    [h21, h22, h23],\n",
      "                    [h31, h32, h33]])\n",
      "\n",
      "H_offset = sm.Matrix([[1, 0, shift_x],\n",
      "                      [0, 1, shift_y],\n",
      "                      [0, 0, 1]])\n",
      "\n",
      "H_tilt = sm.Matrix([[1, 0, 0],\n",
      "                    [0, 1, 0],\n",
      "                    [tilt_x, tilt_y, 1]])\n",
      "\n",
      "H_scale = sm.Matrix([[scale_x, 0, 0],\n",
      "                     [0, scale_y, 0],\n",
      "                     [0, 0, 1]])\n",
      "\n",
      "H_rotate = sm.Matrix([[sm.cos(theta), -sm.sin(theta), 0],\n",
      "                      [sm.sin(theta), sm.cos(theta), 0],\n",
      "                      [0, 0, 1]])"
     ],
     "language": "python",
     "metadata": {},
     "outputs": [],
     "prompt_number": 258
    },
    {
     "cell_type": "code",
     "collapsed": false,
     "input": [
      "# Build test scenario.\n",
      "\n",
      "# IPython.display.display(H_rotate)\n",
      "# IPython.display.display(H_scale)\n",
      "\n",
      "H_model = H_rotate * H_scale\n",
      "\n",
      "equations = [sm.Eq(H_model, H_data)]            "
     ],
     "language": "python",
     "metadata": {},
     "outputs": [],
     "prompt_number": 259
    },
    {
     "cell_type": "code",
     "collapsed": false,
     "input": [
      "for e in equations:\n",
      "    IPython.display.display(e)\n"
     ],
     "language": "python",
     "metadata": {},
     "outputs": [
      {
       "latex": [
        "$$\\left[\\begin{matrix}c_{x} \\cos{\\left (\\theta \\right )} & - c_{y} \\sin{\\left (\\theta \\right )} & 0\\\\c_{x} \\sin{\\left (\\theta \\right )} & c_{y} \\cos{\\left (\\theta \\right )} & 0\\\\0 & 0 & 1\\end{matrix}\\right] = \\left[\\begin{matrix}h_{11} & h_{12} & h_{13}\\\\h_{21} & h_{22} & h_{23}\\\\h_{31} & h_{32} & h_{33}\\end{matrix}\\right]$$"
       ],
       "metadata": {},
       "output_type": "display_data",
       "png": "[encoded data removed]",
       "text": [
        "\u23a1c\u2093\u22c5cos(\u03b8)  -c_y\u22c5sin(\u03b8)  0\u23a4 = \u23a1h\u2081\u2081  h\u2081\u2082  h\u2081\u2083\u23a4\n",
        "\u23a2                         \u23a5   \u23a2             \u23a5\n",
        "\u23a2c\u2093\u22c5sin(\u03b8)  c_y\u22c5cos(\u03b8)   0\u23a5   \u23a2h\u2082\u2081  h\u2082\u2082  h\u2082\u2083\u23a5\n",
        "\u23a2                         \u23a5   \u23a2             \u23a5\n",
        "\u23a3    0           0       1\u23a6   \u23a3h\u2083\u2081  h\u2083\u2082  h\u2083\u2083\u23a6"
       ]
      }
     ],
     "prompt_number": 260
    },
    {
     "cell_type": "code",
     "collapsed": false,
     "input": [
      "theta"
     ],
     "language": "python",
     "metadata": {},
     "outputs": [
      {
       "latex": [
        "$$\\theta$$"
       ],
       "metadata": {},
       "output_type": "pyout",
       "png": "[encoded data removed]",
       "prompt_number": 261,
       "text": [
        "\u03b8"
       ]
      }
     ],
     "prompt_number": 261
    },
    {
     "cell_type": "code",
     "collapsed": false,
     "input": [
      "results = sm.solve(equations, theta, scale_x, scale_y, shift_x, shift_y, dict=True)  #, manual=True)\n",
      "\n",
      "substitutions = {h11: H[0, 0],\n",
      "                 h12: H[0, 1],\n",
      "                 h13: H[0, 2],\n",
      "                 h21: H[1, 0],\n",
      "                 h22: H[1, 1],\n",
      "                 h23: H[1, 2],\n",
      "                 h31: H[2, 0],\n",
      "                 h32: H[2, 1],\n",
      "                 h33: H[2, 2]}\n",
      "\n",
      "params = [theta, scale_x, scale_y]\n",
      "\n",
      "for r in results:   \n",
      "    for p in params:\n",
      "        expr = r[p]\n",
      "        out = expr.evalf(subs=substitutions)    \n",
      "        value = float(out)\n",
      "\n",
      "        print(' ')\n",
      "        IPython.display.display(p)        \n",
      "        IPython.display.display(expr)        \n",
      "        print(value, np.rad2deg(value))"
     ],
     "language": "python",
     "metadata": {},
     "outputs": [
      {
       "output_type": "stream",
       "stream": "stdout",
       "text": [
        " \n"
       ]
      },
      {
       "latex": [
        "$$\\theta$$"
       ],
       "metadata": {},
       "output_type": "display_data",
       "png": "[encoded data removed]",
       "text": [
        "\u03b8"
       ]
      },
      {
       "latex": [
        "$$- 2 \\operatorname{atan}{\\left (\\frac{h_{11}}{h_{21}} - \\frac{1}{h_{21}} \\sqrt{h_{11}^{2} + h_{21}^{2}} \\right )}$$"
       ],
       "metadata": {},
       "output_type": "display_data",
       "png": "[encoded data removed]",
       "text": [
        "       \u239b         _____________\u239e\n",
        "       \u239c        \u2571    2      2 \u239f\n",
        "       \u239ch\u2081\u2081   \u2572\u2571  h\u2081\u2081  + h\u2082\u2081  \u239f\n",
        "-2\u22c5atan\u239c\u2500\u2500\u2500 - \u2500\u2500\u2500\u2500\u2500\u2500\u2500\u2500\u2500\u2500\u2500\u2500\u2500\u2500\u2500\u2500\u239f\n",
        "       \u239dh\u2082\u2081         h\u2082\u2081       \u23a0"
       ]
      },
      {
       "output_type": "stream",
       "stream": "stdout",
       "text": [
        "(0.7853981633974483, 45.0)\n",
        " \n"
       ]
      },
      {
       "latex": [
        "$$c_{x}$$"
       ],
       "metadata": {},
       "output_type": "display_data",
       "png": "[encoded data removed]",
       "text": [
        "c\u2093"
       ]
      },
      {
       "latex": [
        "$$- \\frac{h_{21}}{\\sin{\\left (2 \\operatorname{atan}{\\left (\\frac{h_{11}}{h_{21}} - \\frac{1}{h_{21}} \\sqrt{h_{11}^{2} + h_{21}^{2}} \\right )} \\right )}}$$"
       ],
       "metadata": {},
       "output_type": "display_data",
       "png": "[encoded data removed]",
       "text": [
        "               -h\u2082\u2081                \n",
        "\u2500\u2500\u2500\u2500\u2500\u2500\u2500\u2500\u2500\u2500\u2500\u2500\u2500\u2500\u2500\u2500\u2500\u2500\u2500\u2500\u2500\u2500\u2500\u2500\u2500\u2500\u2500\u2500\u2500\u2500\u2500\u2500\u2500\u2500\u2500\n",
        "   \u239b      \u239b         _____________\u239e\u239e\n",
        "   \u239c      \u239c        \u2571    2      2 \u239f\u239f\n",
        "   \u239c      \u239ch\u2081\u2081   \u2572\u2571  h\u2081\u2081  + h\u2082\u2081  \u239f\u239f\n",
        "sin\u239c2\u22c5atan\u239c\u2500\u2500\u2500 - \u2500\u2500\u2500\u2500\u2500\u2500\u2500\u2500\u2500\u2500\u2500\u2500\u2500\u2500\u2500\u2500\u239f\u239f\n",
        "   \u239d      \u239dh\u2082\u2081         h\u2082\u2081       \u23a0\u23a0"
       ]
      },
      {
       "output_type": "stream",
       "stream": "stdout",
       "text": [
        "(2.0, 114.59155902616465)\n",
        " \n"
       ]
      },
      {
       "latex": [
        "$$c_{y}$$"
       ],
       "metadata": {},
       "output_type": "display_data",
       "png": "[encoded data removed]",
       "text": [
        "c_y"
       ]
      },
      {
       "latex": [
        "$$\\frac{h_{12}}{\\sin{\\left (2 \\operatorname{atan}{\\left (\\frac{h_{11}}{h_{21}} - \\frac{1}{h_{21}} \\sqrt{h_{11}^{2} + h_{21}^{2}} \\right )} \\right )}}$$"
       ],
       "metadata": {},
       "output_type": "display_data",
       "png": "[encoded data removed]",
       "text": [
        "                h\u2081\u2082                \n",
        "\u2500\u2500\u2500\u2500\u2500\u2500\u2500\u2500\u2500\u2500\u2500\u2500\u2500\u2500\u2500\u2500\u2500\u2500\u2500\u2500\u2500\u2500\u2500\u2500\u2500\u2500\u2500\u2500\u2500\u2500\u2500\u2500\u2500\u2500\u2500\n",
        "   \u239b      \u239b         _____________\u239e\u239e\n",
        "   \u239c      \u239c        \u2571    2      2 \u239f\u239f\n",
        "   \u239c      \u239ch\u2081\u2081   \u2572\u2571  h\u2081\u2081  + h\u2082\u2081  \u239f\u239f\n",
        "sin\u239c2\u22c5atan\u239c\u2500\u2500\u2500 - \u2500\u2500\u2500\u2500\u2500\u2500\u2500\u2500\u2500\u2500\u2500\u2500\u2500\u2500\u2500\u2500\u239f\u239f\n",
        "   \u239d      \u239dh\u2082\u2081         h\u2082\u2081       \u23a0\u23a0"
       ]
      },
      {
       "output_type": "stream",
       "stream": "stdout",
       "text": [
        "(0.5, 28.647889756541161)\n",
        " \n"
       ]
      },
      {
       "latex": [
        "$$\\theta$$"
       ],
       "metadata": {},
       "output_type": "display_data",
       "png": "[encoded data removed]",
       "text": [
        "\u03b8"
       ]
      },
      {
       "latex": [
        "$$- 2 \\operatorname{atan}{\\left (\\frac{h_{11}}{h_{21}} + \\frac{1}{h_{21}} \\sqrt{h_{11}^{2} + h_{21}^{2}} \\right )}$$"
       ],
       "metadata": {},
       "output_type": "display_data",
       "png": "[encoded data removed]",
       "text": [
        "       \u239b         _____________\u239e\n",
        "       \u239c        \u2571    2      2 \u239f\n",
        "       \u239ch\u2081\u2081   \u2572\u2571  h\u2081\u2081  + h\u2082\u2081  \u239f\n",
        "-2\u22c5atan\u239c\u2500\u2500\u2500 + \u2500\u2500\u2500\u2500\u2500\u2500\u2500\u2500\u2500\u2500\u2500\u2500\u2500\u2500\u2500\u2500\u239f\n",
        "       \u239dh\u2082\u2081         h\u2082\u2081       \u23a0"
       ]
      },
      {
       "output_type": "stream",
       "stream": "stdout",
       "text": [
        "(-2.356194490192345, -135.0)\n",
        " \n"
       ]
      },
      {
       "latex": [
        "$$c_{x}$$"
       ],
       "metadata": {},
       "output_type": "display_data",
       "png": "[encoded data removed]",
       "text": [
        "c\u2093"
       ]
      },
      {
       "latex": [
        "$$- \\frac{h_{21}}{\\sin{\\left (2 \\operatorname{atan}{\\left (\\frac{h_{11}}{h_{21}} + \\frac{1}{h_{21}} \\sqrt{h_{11}^{2} + h_{21}^{2}} \\right )} \\right )}}$$"
       ],
       "metadata": {},
       "output_type": "display_data",
       "png": "[encoded data removed]",
       "text": [
        "               -h\u2082\u2081                \n",
        "\u2500\u2500\u2500\u2500\u2500\u2500\u2500\u2500\u2500\u2500\u2500\u2500\u2500\u2500\u2500\u2500\u2500\u2500\u2500\u2500\u2500\u2500\u2500\u2500\u2500\u2500\u2500\u2500\u2500\u2500\u2500\u2500\u2500\u2500\u2500\n",
        "   \u239b      \u239b         _____________\u239e\u239e\n",
        "   \u239c      \u239c        \u2571    2      2 \u239f\u239f\n",
        "   \u239c      \u239ch\u2081\u2081   \u2572\u2571  h\u2081\u2081  + h\u2082\u2081  \u239f\u239f\n",
        "sin\u239c2\u22c5atan\u239c\u2500\u2500\u2500 + \u2500\u2500\u2500\u2500\u2500\u2500\u2500\u2500\u2500\u2500\u2500\u2500\u2500\u2500\u2500\u2500\u239f\u239f\n",
        "   \u239d      \u239dh\u2082\u2081         h\u2082\u2081       \u23a0\u23a0"
       ]
      },
      {
       "output_type": "stream",
       "stream": "stdout",
       "text": [
        "(-2.0, -114.59155902616465)\n",
        " \n"
       ]
      },
      {
       "latex": [
        "$$c_{y}$$"
       ],
       "metadata": {},
       "output_type": "display_data",
       "png": "[encoded data removed]",
       "text": [
        "c_y"
       ]
      },
      {
       "latex": [
        "$$\\frac{h_{12}}{\\sin{\\left (2 \\operatorname{atan}{\\left (\\frac{h_{11}}{h_{21}} + \\frac{1}{h_{21}} \\sqrt{h_{11}^{2} + h_{21}^{2}} \\right )} \\right )}}$$"
       ],
       "metadata": {},
       "output_type": "display_data",
       "png": "[encoded data removed]",
       "text": [
        "                h\u2081\u2082                \n",
        "\u2500\u2500\u2500\u2500\u2500\u2500\u2500\u2500\u2500\u2500\u2500\u2500\u2500\u2500\u2500\u2500\u2500\u2500\u2500\u2500\u2500\u2500\u2500\u2500\u2500\u2500\u2500\u2500\u2500\u2500\u2500\u2500\u2500\u2500\u2500\n",
        "   \u239b      \u239b         _____________\u239e\u239e\n",
        "   \u239c      \u239c        \u2571    2      2 \u239f\u239f\n",
        "   \u239c      \u239ch\u2081\u2081   \u2572\u2571  h\u2081\u2081  + h\u2082\u2081  \u239f\u239f\n",
        "sin\u239c2\u22c5atan\u239c\u2500\u2500\u2500 + \u2500\u2500\u2500\u2500\u2500\u2500\u2500\u2500\u2500\u2500\u2500\u2500\u2500\u2500\u2500\u2500\u239f\u239f\n",
        "   \u239d      \u239dh\u2082\u2081         h\u2082\u2081       \u23a0\u23a0"
       ]
      },
      {
       "output_type": "stream",
       "stream": "stdout",
       "text": [
        "(-0.5, -28.647889756541161)\n"
       ]
      }
     ],
     "prompt_number": 262
    },
    {
     "cell_type": "code",
     "collapsed": false,
     "input": [
      "float(out)"
     ],
     "language": "python",
     "metadata": {},
     "outputs": [
      {
       "latex": [
        "$$-2.35619449019$$"
       ],
       "metadata": {},
       "output_type": "pyout",
       "png": "[encoded data removed]",
       "prompt_number": 225,
       "text": [
        "-2.35619449019"
       ]
      }
     ],
     "prompt_number": 225
    },
    {
     "cell_type": "code",
     "collapsed": false,
     "input": [
      "out.as_independent()"
     ],
     "language": "python",
     "metadata": {},
     "outputs": [
      {
       "latex": [
        "$$\\begin{pmatrix}2.89661399046293, & 1\\end{pmatrix}$$"
       ],
       "metadata": {},
       "output_type": "pyout",
       "png": "[encoded data removed]",
       "prompt_number": 188,
       "text": [
        "(2.89661399046293, 1)"
       ]
      }
     ],
     "prompt_number": 188
    },
    {
     "cell_type": "code",
     "collapsed": false,
     "input": [
      "out"
     ],
     "language": "python",
     "metadata": {},
     "outputs": [
      {
       "latex": [
        "$$- \\frac{h_{21}}{\\sin{\\left (2 \\operatorname{atan}{\\left (\\frac{h_{11}}{h_{21}} + \\frac{1}{h_{21}} \\sqrt{h_{11}^{2} + h_{21}^{2}} \\right )} \\right )}}$$"
       ],
       "metadata": {},
       "output_type": "pyout",
       "png": "[encoded data removed]",
       "prompt_number": 164,
       "text": [
        "               -h\u2082\u2081                \n",
        "\u2500\u2500\u2500\u2500\u2500\u2500\u2500\u2500\u2500\u2500\u2500\u2500\u2500\u2500\u2500\u2500\u2500\u2500\u2500\u2500\u2500\u2500\u2500\u2500\u2500\u2500\u2500\u2500\u2500\u2500\u2500\u2500\u2500\u2500\u2500\n",
        "   \u239b      \u239b         _____________\u239e\u239e\n",
        "   \u239c      \u239c        \u2571    2      2 \u239f\u239f\n",
        "   \u239c      \u239ch\u2081\u2081   \u2572\u2571  h\u2081\u2081  + h\u2082\u2081  \u239f\u239f\n",
        "sin\u239c2\u22c5atan\u239c\u2500\u2500\u2500 + \u2500\u2500\u2500\u2500\u2500\u2500\u2500\u2500\u2500\u2500\u2500\u2500\u2500\u2500\u2500\u2500\u239f\u239f\n",
        "   \u239d      \u239dh\u2082\u2081         h\u2082\u2081       \u23a0\u23a0"
       ]
      }
     ],
     "prompt_number": 164
    },
    {
     "cell_type": "code",
     "collapsed": false,
     "input": [
      "m0"
     ],
     "language": "python",
     "metadata": {},
     "outputs": [
      {
       "latex": [
        "$$- \\frac{h_{21}}{\\sin{\\left (2 \\operatorname{atan}{\\left (\\frac{h_{11}}{h_{21}} - \\frac{1}{h_{21}} \\sqrt{h_{11}^{2} + h_{21}^{2}} \\right )} \\right )}}$$"
       ],
       "metadata": {},
       "output_type": "pyout",
       "png": "[encoded data removed]",
       "prompt_number": 152,
       "text": [
        "               -h\u2082\u2081                \n",
        "\u2500\u2500\u2500\u2500\u2500\u2500\u2500\u2500\u2500\u2500\u2500\u2500\u2500\u2500\u2500\u2500\u2500\u2500\u2500\u2500\u2500\u2500\u2500\u2500\u2500\u2500\u2500\u2500\u2500\u2500\u2500\u2500\u2500\u2500\u2500\n",
        "   \u239b      \u239b         _____________\u239e\u239e\n",
        "   \u239c      \u239c        \u2571    2      2 \u239f\u239f\n",
        "   \u239c      \u239ch\u2081\u2081   \u2572\u2571  h\u2081\u2081  + h\u2082\u2081  \u239f\u239f\n",
        "sin\u239c2\u22c5atan\u239c\u2500\u2500\u2500 - \u2500\u2500\u2500\u2500\u2500\u2500\u2500\u2500\u2500\u2500\u2500\u2500\u2500\u2500\u2500\u2500\u239f\u239f\n",
        "   \u239d      \u239dh\u2082\u2081         h\u2082\u2081       \u23a0\u23a0"
       ]
      }
     ],
     "prompt_number": 152
    },
    {
     "cell_type": "code",
     "collapsed": false,
     "input": [
      "m0.class_key()"
     ],
     "language": "python",
     "metadata": {},
     "outputs": [
      {
       "metadata": {},
       "output_type": "pyout",
       "prompt_number": 159,
       "text": [
        "(3, 0, 'Mul')"
       ]
      }
     ],
     "prompt_number": 159
    },
    {
     "cell_type": "code",
     "collapsed": false,
     "input": [],
     "language": "python",
     "metadata": {},
     "outputs": []
    }
   ],
   "metadata": {}
  }
 ]
}
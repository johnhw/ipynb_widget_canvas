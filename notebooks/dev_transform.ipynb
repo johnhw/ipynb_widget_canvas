{
 "metadata": {
  "name": "",
  "signature": "sha256:c73acc5b2ac783d72b1881a5d35efd8555f833d2bdc618eadc138566f7304340"
 },
 "nbformat": 3,
 "nbformat_minor": 0,
 "worksheets": [
  {
   "cells": [
    {
     "cell_type": "code",
     "collapsed": false,
     "input": [
      "from __future__ import division, print_function, unicode_literals\n",
      "\n",
      "%matplotlib inline\n",
      "\n",
      "import matplotlib.pyplot as plt\n",
      "import numpy as np\n",
      "\n",
      "import scipy as sp\n",
      "import scipy.linalg\n",
      "\n",
      "import widget_canvas\n",
      "\n",
      "from widget_canvas import transform_2D\n",
      "from widget_canvas import decompose"
     ],
     "language": "python",
     "metadata": {},
     "outputs": [
      {
       "javascript": [
        "//============================================================================\n",
        "// CanvasWidget\n",
        "//============================================================================\n",
        "\n",
        "require([\"widgets/js/widget\"], function (WidgetManager) {\n",
        "\n",
        "    // console.log('require widget_canvas.js');\n",
        "\n",
        "    // Define the widget's View.\n",
        "    var CanvasImageView = IPython.DOMWidgetView.extend({\n",
        "        initialize: function (options) {\n",
        "            // console.log('initialize');\n",
        "\n",
        "            // Backbone Model --> My JavaScript View\n",
        "            this.model.on('change:data_encode', this.update_data_encode, this);\n",
        "            // this.model.on('change:width', this.update_width, this);\n",
        "            // this.model.on('change:height', this.update_height, this);\n",
        "            this.model.on('change:_transform_values', this.update_transform, this);\n",
        "            this.model.on('change:smoothing', this.update_smoothing, this);\n",
        "\n",
        "            // this.time_mouse = Date.now()\n",
        "            // this.time_mouse_threshold = 20 // miliseconds\n",
        "            CanvasImageView.__super__.initialize.apply(this, arguments);\n",
        "        },\n",
        "\n",
        "        render: function () {\n",
        "            // Render a widget's view instance to the DOM.\n",
        "            // console.log('render');\n",
        "\n",
        "            // This project's view is quite simple: just a single <canvas> element.\n",
        "            // http://stackoverflow.com/questions/3729034/javascript-html5-capture-keycode-and-write-to-canvas\n",
        "            this.setElement('<canvas />');\n",
        "\n",
        "            // Gather some handy references for the canvas and its context.\n",
        "            this.canvas = this.el\n",
        "            this.context = this.canvas.getContext('2d');\n",
        "\n",
        "            // Prevent text selection cursor on canvas when click dragging.\n",
        "            // http://stackoverflow.com/questions/11805318/when-i-click-on-a-canvas-and-drag-my-mouse-the-cursor-changes-to-a-text-selecti\n",
        "            this.canvas.onmousedown = function (event) {\n",
        "                event.preventDefault();\n",
        "            }\n",
        "\n",
        "            // Prevent page from scrolling with mouse wheel events over canvas.\n",
        "            this.canvas.onwheel = function (event) {\n",
        "                event.preventDefault();\n",
        "            }\n",
        "\n",
        "            // Internal image element serving to render new image src data.  This object will\n",
        "            // later be used as source data argument to the canvas' own `drawImage()` method.\n",
        "            this.image = new Image();\n",
        "\n",
        "            // Event handling for drawing new data to the canvas.\n",
        "            var that = this\n",
        "            var draw_onload = function () {\n",
        "                // console.log('draw_onload');\n",
        "                that.update_data_image();\n",
        "            }\n",
        "\n",
        "            this.image.onload = draw_onload\n",
        "\n",
        "            // Does any valid data exist in the system?  Copy data_b64 if it exists in model.\n",
        "            if (this.model.has('data_encode')) {\n",
        "                // console.log('render has b64');\n",
        "                if (this.model.get('data_encode') != '') {\n",
        "                    // console.log('render has OK data_encode');\n",
        "                    this.update_data_encode();\n",
        "                }\n",
        "            }\n",
        "\n",
        "            // I noticed problems if this update() function call was left out, e.g. second views of\n",
        "            // my model would not initially receive CSS style properties.\n",
        "            this.update();\n",
        "        },\n",
        "\n",
        "        // update_fmt: function () {\n",
        "        //     // Python --> JavaScript\n",
        "        //     console.log('update_fmt: ' + this.model.get('fmt'));\n",
        "        // },\n",
        "        update_data_encode: function () {\n",
        "            // Python --> JavaScript, copy new value from Backbone model, apply to this View.\n",
        "            // console.log('update_data_encode');\n",
        "\n",
        "            this.image.src = this.model.get('data_encode');\n",
        "\n",
        "            // Event processing continues inside this.image's defined onload() event handler.\n",
        "        },\n",
        "\n",
        "        update_data_image: function () {\n",
        "            // Helper handler.\n",
        "            // console.log('update_data_image');\n",
        "\n",
        "            this.set_width(this.image.width);\n",
        "            this.set_height(this.image.height);\n",
        "\n",
        "            this.draw();\n",
        "        },\n",
        "\n",
        "        update_width: function () {\n",
        "            // Python --> JavaScript\n",
        "            // console.log('update_width');\n",
        "            this.set_width(this.model.get('width'));\n",
        "            this.draw();\n",
        "        },\n",
        "        update_height: function () {\n",
        "            // Python --> JavaScript\n",
        "            // console.log('update_height');\n",
        "            this.set_height(this.model.get('height'));\n",
        "            this.draw();\n",
        "        },\n",
        "\n",
        "        set_width: function (value) {\n",
        "            // console.log('set_width: ', value);\n",
        "\n",
        "            this.canvas.width = value\n",
        "            this.canvas.style.width = value + 'px'\n",
        "\n",
        "            this.model.set('width', value);\n",
        "            this.touch();\n",
        "        },\n",
        "        set_height: function (value) {\n",
        "            // console.log('set_height: ', value);\n",
        "\n",
        "            this.canvas.height = value\n",
        "            this.canvas.style.height = value + 'px'\n",
        "\n",
        "            this.model.set('height', value);\n",
        "            this.touch()\n",
        "        },\n",
        "\n",
        "        update_smoothing: function () {\n",
        "            // Python --> JavaScript\n",
        "            // console.log('update_smoothing');\n",
        "            this.set_smoothing(this.model.get('smoothing'));\n",
        "        },\n",
        "\n",
        "        set_smoothing: function (value) {\n",
        "            this.context.mozImageSmoothingEnabled = value\n",
        "            this.context.oImageSmoothingEnabled = value\n",
        "            this.context.webkitImageSmoothingEnabled = value\n",
        "            this.context.imageSmoothingEnabled = value\n",
        "        },\n",
        "\n",
        "        update_transform: function () {\n",
        "            // Python --> JavaScript\n",
        "            // console.log('update_transform');\n",
        "            // console.log(this.model);\n",
        "            // console.log(this.model.msg_buffer);\n",
        "            // console.log(this.model.pending_msgs);\n",
        "\n",
        "            // Apply new transformation.\n",
        "            // http://www.whatwg.org/specs/web-apps/current-work/multipage/the-canvas-element.html#transformations\n",
        "            // https://developer.mozilla.org/en-US/docs/Web/Guide/HTML/Canvas_tutorial/Transformations\n",
        "            var M = this.model.get('_transform_values');\n",
        "            //  M =                   m11,  m12,  m21,  m22,  m13,  m23\n",
        "            this.context.setTransform(M[0], M[1], M[2], M[3], M[4], M[5]);\n",
        "\n",
        "            // var m11, m12, m21, m22, m13, m23;\n",
        "            // m11 = M[0]\n",
        "            // m12 = M[1]\n",
        "            // m21 = M[2]\n",
        "            // m22 = M[3]\n",
        "            // m13 = M[4]\n",
        "            // m23 = M[5]\n",
        "\n",
        "            // console.log(m11, m12, m21, m22, m13, m23);\n",
        "            // console.log(this.context);\n",
        "            // this.context.setTransform(m11, m12, m21, m22, m13, m23);\n",
        "\n",
        "            this.draw();\n",
        "\n",
        "            // Must call this.touch() after any modifications to Backbone Model data.\n",
        "            // this.touch();\n",
        "        },\n",
        "\n",
        "        clear: function () {\n",
        "            // Clear the canvas while preserving current state.\n",
        "            // http://stackoverflow.com/a/6722031/282840\n",
        "            // console.log('clear: ', 0, 0, this.canvas.width, this.canvas.height);\n",
        "\n",
        "            this.context.save();\n",
        "\n",
        "            this.context.setTransform(1, 0, 0, 1, 0, 0);\n",
        "            this.context.clearRect(0, 0, this.canvas.width, this.canvas.height);\n",
        "\n",
        "            this.context.restore();\n",
        "        },\n",
        "\n",
        "        draw: function () {\n",
        "            // Draw image data from internal <img> to the <canvas>.\n",
        "            // console.log('draw');\n",
        "\n",
        "            // Clear any prior image data.\n",
        "            this.clear();\n",
        "            this.set_smoothing(false);\n",
        "\n",
        "            // Draw image to screen.\n",
        "            this.context.drawImage(this.image, 0, 0);\n",
        "\n",
        "            // Must call this.touch() after any modifications to Backbone Model data.\n",
        "            // this.touch();\n",
        "        },\n",
        "\n",
        "        /////////////////////////////////////////////\n",
        "        // JavaScript --> Python\n",
        "        // Tell Backbone how to respond to JavaScript-generated events.\n",
        "        //\n",
        "        // Great reference for JavaScript events:\n",
        "        // https://developer.mozilla.org/en-US/docs/Web/Reference/Events\n",
        "        events: {\n",
        "            'mousemove': 'handle_mouse',\n",
        "            'mouseup': 'handle_mouse',\n",
        "            'mousedown': 'handle_mouse',\n",
        "            'wheel': 'handle_mouse',\n",
        "            //  'click':      'handle_click',\n",
        "            //  'mouseenter': 'handle_mouse',  // don't worry about these other mouse\n",
        "            //  'mouseleave': 'handle_mouse',  // events for now.\n",
        "            //  'mouseout':   'handle_mouse',\n",
        "            //  'mouseover':  'handle_mouse',\n",
        "        },\n",
        "\n",
        "        // Extract information about a mouse event.\n",
        "        // https://developer.mozilla.org/en-US/docs/Web/Reference/Events/mousemove\n",
        "        _build_mouse_info: function (ev) {\n",
        "            // http://stackoverflow.com/questions/17130395/canvas-html5-real-mouse-position\n",
        "            // https://developer.mozilla.org/en-US/docs/Web/API/Element.getBoundingClientRect\n",
        "            var rect = this.canvas.getBoundingClientRect();\n",
        "            var x = parseInt(ev.clientX - rect.left);\n",
        "            var y = parseInt(ev.clientY - rect.top);\n",
        "\n",
        "            var info = {\n",
        "                canvasX: x,\n",
        "                canvasY: y,\n",
        "            }\n",
        "\n",
        "            // Copy select system mouse event attributes over to this application's mouse event\n",
        "            // structure.\n",
        "            var attr_basic = ['type', 'timeStamp', 'button',\n",
        "                'ctrlKey', 'altKey', 'shiftKey', 'metaKey',\n",
        "                'clientX', 'clientY'\n",
        "            ]\n",
        "            var key, ix\n",
        "            for (ix in attr_basic) {\n",
        "                key = attr_basic[ix]\n",
        "                info[key] = ev[key]\n",
        "            }\n",
        "\n",
        "            // Check for `wheel` event.\n",
        "            // https://developer.mozilla.org/en-US/docs/Web/Reference/Events/wheel\n",
        "            var attr_wheel = ['deltaMode', 'deltaX', 'deltaY', 'deltaZ']\n",
        "            if (info['type'] == 'wheel') {\n",
        "                for (ix in attr_wheel) {\n",
        "                    key = attr_wheel[ix]\n",
        "                    info[key] = ev[key]\n",
        "                }\n",
        "            }\n",
        "\n",
        "            return info\n",
        "        },\n",
        "\n",
        "        // Handle a mouse event.\n",
        "        handle_mouse: function (jev) {\n",
        "            var ev = jev.originalEvent\n",
        "                // Event handler responding to mouse motion and button clicks.\n",
        "                // console.log(ev);\n",
        "\n",
        "            // Rate limit for motion events.\n",
        "            // if (ev['type'] == 'mousemove') {\n",
        "            //     var time_now = Date.now()\n",
        "            //     var time_delta = time_now - this.time_mouse\n",
        "            //     if (time_delta < this.time_mouse_threshold) {\n",
        "            //         return\n",
        "            //     } else {\n",
        "            //         this.time_mouse = time_now\n",
        "            //     }\n",
        "            // }\n",
        "\n",
        "            var info = this._build_mouse_info(ev)\n",
        "            this.model.set('_mouse', info);\n",
        "\n",
        "            // Must call this.touch() after any modifications to Backbone Model data.\n",
        "            this.touch();\n",
        "        },\n",
        "\n",
        "        // // Handle mouse wheel scroll event.\n",
        "        // handle_wheel: function (jev) {\n",
        "        //     var ev = jev.originalEvent\n",
        "        //     console.log(ev);\n",
        "        //     console.log(ev.clientX);\n",
        "        //     // this.model.set('_key', ev);\n",
        "        //     // Must call this.touch() after any modifications to Backbone Model data.\n",
        "        //     this.touch();\n",
        "        // },\n",
        "        // Handle keyboard event.\n",
        "        // http://stackoverflow.com/questions/3729034/javascript-html5-capture-keycode-and-write-to-canvas\n",
        "        // handle_keypress: function (ev) {\n",
        "        //     console.log(ev);\n",
        "        //     this.model.set('_key', ev);\n",
        "        //     // Must call this.touch() after any modifications to Backbone Model data.\n",
        "        //     this.touch();\n",
        "        // }\n",
        "\n",
        "    });\n",
        "\n",
        "    // Register View with widget manager.\n",
        "    // console.log('register');\n",
        "    WidgetManager.register_widget_view('CanvasImageView', CanvasImageView);\n",
        "});\n"
       ],
       "metadata": {},
       "output_type": "display_data"
      }
     ],
     "prompt_number": 1
    },
    {
     "cell_type": "heading",
     "level": 2,
     "metadata": {},
     "source": [
      "Data setup"
     ]
    },
    {
     "cell_type": "code",
     "collapsed": false,
     "input": [
      "# A set of data points.\n",
      "N = 8*4\n",
      "Rs = [0.6, 1.6]\n",
      "\n",
      "points = []\n",
      "for a in np.linspace(0, 360, N, endpoint=False):\n",
      "    for r in Rs:\n",
      "        x = np.cos(np.deg2rad(a)) * r\n",
      "        y = np.sin(np.deg2rad(a)) * r\n",
      "        \n",
      "        points.append([x, y])\n",
      "\n",
      "points.extend([[0.0, 0.0],\n",
      "               [0.0, 0.1],\n",
      "               [0.0,-0.1],\n",
      "               [0.1, 0.0],\n",
      "               [-0.1, 0.0]])\n",
      "\n",
      "points.extend([[0.8, 0.0],\n",
      "               [1.0, 0.0],\n",
      "               [1.2, 0.0],\n",
      "               [1.4, 0.0],\n",
      "               [1.8, 0.0],\n",
      "               [2.0, 0.0],\n",
      "               [2.0, 0.1]])\n",
      "\n",
      "points.extend([[0.0, 0.8],\n",
      "               [0.0, 1.0],\n",
      "               [0.0, 1.2],\n",
      "               [0.0, 1.4],\n",
      "               [0.0, 1.8],\n",
      "               [0.0, 2.0],\n",
      "               [0.1, 2.0]])\n",
      "\n",
      "points = np.asarray(points)\n",
      "\n",
      "avg_x, avg_y = np.mean(points, axis=0)\n",
      "\n",
      "# Display parameters.\n",
      "edge = 'black'\n",
      "alpha = 0.65"
     ],
     "language": "python",
     "metadata": {},
     "outputs": [],
     "prompt_number": 2
    },
    {
     "cell_type": "code",
     "collapsed": false,
     "input": [
      "# Build transforms.\n",
      "\n",
      "# Perspective.\n",
      "pa = 0.2\n",
      "pb = 0.4\n",
      "H_perspective0 = transform_2D.perspective(pa, pb)\n",
      "\n",
      "\n",
      "# Scale.\n",
      "scale_x0, scale_y0 = -2.0, 0.5\n",
      "H_scale0 = transform_2D.scale((scale_x0, scale_y0))\n",
      "\n",
      "# Shear.\n",
      "shear_x0 = 0.0\n",
      "shear_y0 = 0.0\n",
      "\n",
      "H_shear0 = transform_2D.shear(shear_x0, shear_y0)\n",
      "\n",
      "# Rotate.\n",
      "r_angle = np.deg2rad(45.0)\n",
      "H_rotate0 = transform_2D.rotate(r_angle)\n",
      "\n",
      "\n",
      "# Offset.\n",
      "offset = -0.5, .1\n",
      "H_translate0 = transform_2D.offset(offset)\n",
      "\n",
      "# Chain.\n",
      "# H0 = transform_2D.chain(H_translate0, H_shear0, H_rotate0, H_scale0, H_perspective0)\n",
      "# H0 = transform_2D.chain(H_translate0, H_rotate0, H_scale0, H_perspective0)\n",
      "\n",
      "# Htmp = transform_2D.chain(H_scale0, H_shear0, H_rotate0)\n",
      "# H0tmp = transform_2D.chain(H_translate0, Htmp, H_perspective0)\n",
      "\n",
      "H0 = transform_2D.chain(H_translate0, H_scale0, H_shear0, H_rotate0, H_perspective0)\n",
      "\n",
      "print(H0)"
     ],
     "language": "python",
     "metadata": {},
     "outputs": [
      {
       "output_type": "stream",
       "stream": "stdout",
       "text": [
        "[[-1.51421356  1.21421356 -0.5       ]\n",
        " [ 0.37355339  0.39355339  0.1       ]\n",
        " [ 0.2         0.4         1.        ]]\n"
       ]
      }
     ],
     "prompt_number": 3
    },
    {
     "cell_type": "code",
     "collapsed": false,
     "input": [
      "# Display.\n",
      "points_out = transform_2D.apply(H0, points)\n",
      "\n",
      "# Display.\n",
      "fig, ax1 = plt.subplots(figsize=(6, 6))\n",
      "wid = 3\n",
      "ms = 5\n",
      "\n",
      "# Original points.\n",
      "for x, y in points:\n",
      "    ax1.plot(x, y, marker='o', markeredgecolor=edge, markerfacecolor='green', markersize=ms, alpha=alpha)\n",
      "\n",
      "# Transformed points.\n",
      "for x, y in points_out:\n",
      "    ax1.plot(x, y, marker='o', markeredgecolor=edge, markerfacecolor='red', markersize=ms, alpha=alpha)\n",
      "   \n",
      "ax1.set_aspect('equal')\n",
      "ax1.hlines(0, -10, 10, linewidth=0.2)\n",
      "ax1.vlines(0, -10, 10, linewidth=0.2)\n",
      "ax1.set_xlim(-wid, wid)\n",
      "ax1.set_ylim(-wid, wid)\n",
      "\n",
      "plt.tight_layout()"
     ],
     "language": "python",
     "metadata": {},
     "outputs": [
      {
       "metadata": {},
       "output_type": "display_data",
       "png": "[encoded data removed]",
       "text": [
        "<matplotlib.figure.Figure at 0xe773860>"
       ]
      }
     ],
     "prompt_number": 4
    },
    {
     "cell_type": "heading",
     "level": 2,
     "metadata": {},
     "source": [
      "Play with SymPy"
     ]
    },
    {
     "cell_type": "markdown",
     "metadata": {},
     "source": [
      "http://docs.sympy.org/dev/tutorial/solvers.html"
     ]
    },
    {
     "cell_type": "code",
     "collapsed": false,
     "input": [
      "import IPython\n",
      "import sympy as sm\n",
      "from sympy.utilities.lambdify import lambdastr\n",
      "\n",
      "sm.init_printing(use_latex='mathjax')\n",
      "\n",
      "#######################################\n",
      "\n",
      "def rotation(theta, dim=3):\n",
      "\n",
      "    if dim == 3:\n",
      "        H = sm.Matrix([[sm.cos(theta), -sm.sin(theta), 0],\n",
      "                       [sm.sin(theta),  sm.cos(theta), 0],\n",
      "                       [0, 0, 1]])   \n",
      "    else:\n",
      "        H = sm.Matrix([[sm.cos(theta), -sm.sin(theta)],\n",
      "                       [sm.sin(theta),  sm.cos(theta)]])   \n",
      "        \n",
      "    return H\n"
     ],
     "language": "python",
     "metadata": {},
     "outputs": [],
     "prompt_number": 5
    },
    {
     "cell_type": "heading",
     "level": 2,
     "metadata": {},
     "source": [
      "Component Transforms"
     ]
    },
    {
     "cell_type": "code",
     "collapsed": false,
     "input": [
      "# Translation\n",
      "shift_x, shift_y = sm.symbols('d_x d_y')\n",
      "\n",
      "H_translate = sm.Matrix([[1, 0, shift_x],\n",
      "                         [0, 1, shift_y],\n",
      "                         [0, 0, 1]])\n",
      "\n",
      "\n",
      "a11, a12, a21, a22 = sm.symbols('a_11 a_12 a_21 a_22')\n",
      "\n",
      "# Perspective\n",
      "tilt_x, tilt_y = sm.symbols('p_x p_y')\n",
      "\n",
      "H_perspective = sm.Matrix([[1, 0, 0],\n",
      "                           [0, 1, 0],\n",
      "                           [tilt_x, tilt_y, 1]])\n",
      "\n",
      "########################\n",
      "\n",
      "# Shear\n",
      "shear_x, shear_y = sm.symbols('s_x s_y')\n",
      "\n",
      "H_sx = sm.Matrix([[1, shear_x],\n",
      "                  [0, 1]])\n",
      "\n",
      "H_sy = sm.Matrix([[1, 0],\n",
      "                  [shear_y, 1]])\n",
      "\n",
      "H_shear = H_sx # * H_sy\n",
      "\n",
      "# Rotation\n",
      "theta = sm.symbols('theta_r')\n",
      "H_rotate = rotation(theta, dim=2)\n",
      "\n",
      "# Scale\n",
      "scale_x, scale_y = sm.symbols('c_x c_y')\n",
      "\n",
      "H_scale = sm.Matrix([[scale_x, 0],\n",
      "                     [0, scale_y]])\n",
      "\n",
      "#######################\n",
      "\n",
      "H_inner_2 = sm.Matrix([[a11, a12],\n",
      "                       [a21, a22]])\n",
      "\n",
      "H_inner_3 = sm.Matrix([[a11, a12, 0],\n",
      "                       [a21, a22, 0],\n",
      "                       [0, 0, 1]])\n",
      "\n",
      "\n",
      "# Variables for \"observed\" data transform\n",
      "h11, h12, h13, h21, h22, h23, h31, h32, h33 = sm.symbols('h11, h12, h13, h21, h22, h23, h31, h32, h33')\n",
      "\n",
      "H_data = sm.Matrix([[h11, h12, h13],\n",
      "                    [h21, h22, h23],\n",
      "                    [h31, h32, h33]])\n"
     ],
     "language": "python",
     "metadata": {},
     "outputs": [],
     "prompt_number": 6
    },
    {
     "cell_type": "code",
     "collapsed": false,
     "input": [
      "# Display\n",
      "print('\\nH_data:')\n",
      "IPython.display.display(H_data)\n",
      "\n",
      "print('\\nTranslation:')\n",
      "IPython.display.display(H_translate)\n",
      "\n",
      "print('\\nPerspective:')\n",
      "IPython.display.display(H_perspective)\n",
      "\n",
      "print('\\nH_inner_3:')\n",
      "IPython.display.display(H_inner_3)\n",
      "\n",
      "print('\\nH_inner_2:')\n",
      "IPython.display.display(H_inner_2)\n",
      "\n",
      "print('\\nScale:')\n",
      "IPython.display.display(H_scale)\n",
      "\n",
      "print('\\nRotation:')\n",
      "IPython.display.display(H_rotate)\n",
      "\n",
      "print('\\nShear:')\n",
      "IPython.display.display(H_shear)"
     ],
     "language": "python",
     "metadata": {},
     "outputs": [
      {
       "output_type": "stream",
       "stream": "stdout",
       "text": [
        "\n",
        "H_data:\n"
       ]
      },
      {
       "latex": [
        "$$\\left[\\begin{matrix}h_{11} & h_{12} & h_{13}\\\\h_{21} & h_{22} & h_{23}\\\\h_{31} & h_{32} & h_{33}\\end{matrix}\\right]$$"
       ],
       "metadata": {},
       "output_type": "display_data",
       "text": [
        "\u23a1h\u2081\u2081  h\u2081\u2082  h\u2081\u2083\u23a4\n",
        "\u23a2             \u23a5\n",
        "\u23a2h\u2082\u2081  h\u2082\u2082  h\u2082\u2083\u23a5\n",
        "\u23a2             \u23a5\n",
        "\u23a3h\u2083\u2081  h\u2083\u2082  h\u2083\u2083\u23a6"
       ]
      },
      {
       "output_type": "stream",
       "stream": "stdout",
       "text": [
        "\n",
        "Translation:\n"
       ]
      },
      {
       "latex": [
        "$$\\left[\\begin{matrix}1 & 0 & d_{x}\\\\0 & 1 & d_{y}\\\\0 & 0 & 1\\end{matrix}\\right]$$"
       ],
       "metadata": {},
       "output_type": "display_data",
       "text": [
        "\u23a11  0  d\u2093 \u23a4\n",
        "\u23a2         \u23a5\n",
        "\u23a20  1  d_y\u23a5\n",
        "\u23a2         \u23a5\n",
        "\u23a30  0   1 \u23a6"
       ]
      },
      {
       "output_type": "stream",
       "stream": "stdout",
       "text": [
        "\n",
        "Perspective:\n"
       ]
      },
      {
       "latex": [
        "$$\\left[\\begin{matrix}1 & 0 & 0\\\\0 & 1 & 0\\\\p_{x} & p_{y} & 1\\end{matrix}\\right]$$"
       ],
       "metadata": {},
       "output_type": "display_data",
       "text": [
        "\u23a11    0   0\u23a4\n",
        "\u23a2          \u23a5\n",
        "\u23a20    1   0\u23a5\n",
        "\u23a2          \u23a5\n",
        "\u23a3p\u2093  p_y  1\u23a6"
       ]
      },
      {
       "output_type": "stream",
       "stream": "stdout",
       "text": [
        "\n",
        "H_inner_3:\n"
       ]
      },
      {
       "latex": [
        "$$\\left[\\begin{matrix}a_{11} & a_{12} & 0\\\\a_{21} & a_{22} & 0\\\\0 & 0 & 1\\end{matrix}\\right]$$"
       ],
       "metadata": {},
       "output_type": "display_data",
       "text": [
        "\u23a1a\u2081\u2081  a\u2081\u2082  0\u23a4\n",
        "\u23a2           \u23a5\n",
        "\u23a2a\u2082\u2081  a\u2082\u2082  0\u23a5\n",
        "\u23a2           \u23a5\n",
        "\u23a3 0    0   1\u23a6"
       ]
      },
      {
       "output_type": "stream",
       "stream": "stdout",
       "text": [
        "\n",
        "H_inner_2:\n"
       ]
      },
      {
       "latex": [
        "$$\\left[\\begin{matrix}a_{11} & a_{12}\\\\a_{21} & a_{22}\\end{matrix}\\right]$$"
       ],
       "metadata": {},
       "output_type": "display_data",
       "text": [
        "\u23a1a\u2081\u2081  a\u2081\u2082\u23a4\n",
        "\u23a2        \u23a5\n",
        "\u23a3a\u2082\u2081  a\u2082\u2082\u23a6"
       ]
      },
      {
       "output_type": "stream",
       "stream": "stdout",
       "text": [
        "\n",
        "Scale:\n"
       ]
      },
      {
       "latex": [
        "$$\\left[\\begin{matrix}c_{x} & 0\\\\0 & c_{y}\\end{matrix}\\right]$$"
       ],
       "metadata": {},
       "output_type": "display_data",
       "text": [
        "\u23a1c\u2093   0 \u23a4\n",
        "\u23a2       \u23a5\n",
        "\u23a30   c_y\u23a6"
       ]
      },
      {
       "output_type": "stream",
       "stream": "stdout",
       "text": [
        "\n",
        "Rotation:\n"
       ]
      },
      {
       "latex": [
        "$$\\left[\\begin{matrix}\\cos{\\left (\\theta_{r} \\right )} & - \\sin{\\left (\\theta_{r} \\right )}\\\\\\sin{\\left (\\theta_{r} \\right )} & \\cos{\\left (\\theta_{r} \\right )}\\end{matrix}\\right]$$"
       ],
       "metadata": {},
       "output_type": "display_data",
       "text": [
        "\u23a1cos(\u03b8\u1d63)  -sin(\u03b8\u1d63)\u23a4\n",
        "\u23a2                 \u23a5\n",
        "\u23a3sin(\u03b8\u1d63)  cos(\u03b8\u1d63) \u23a6"
       ]
      },
      {
       "output_type": "stream",
       "stream": "stdout",
       "text": [
        "\n",
        "Shear:\n"
       ]
      },
      {
       "latex": [
        "$$\\left[\\begin{matrix}1 & s_{x}\\\\0 & 1\\end{matrix}\\right]$$"
       ],
       "metadata": {},
       "output_type": "display_data",
       "text": [
        "\u23a11  s\u2093\u23a4\n",
        "\u23a2     \u23a5\n",
        "\u23a30  1 \u23a6"
       ]
      }
     ],
     "prompt_number": 7
    },
    {
     "cell_type": "heading",
     "level": 2,
     "metadata": {},
     "source": [
      "Part 1: Solve for Translation and Perspective"
     ]
    },
    {
     "cell_type": "code",
     "collapsed": false,
     "input": [
      "# Model scenario, part 1\n",
      "H_model_3 = H_translate * H_inner_3 * H_perspective\n",
      "\n",
      "equations = [sm.Eq(H_model_3, H_data)]\n",
      "\n",
      "for e in equations:\n",
      "    IPython.display.display(e)"
     ],
     "language": "python",
     "metadata": {},
     "outputs": [
      {
       "latex": [
        "$$\\left[\\begin{matrix}a_{11} + d_{x} p_{x} & a_{12} + d_{x} p_{y} & d_{x}\\\\a_{21} + d_{y} p_{x} & a_{22} + d_{y} p_{y} & d_{y}\\\\p_{x} & p_{y} & 1\\end{matrix}\\right] = \\left[\\begin{matrix}h_{11} & h_{12} & h_{13}\\\\h_{21} & h_{22} & h_{23}\\\\h_{31} & h_{32} & h_{33}\\end{matrix}\\right]$$"
       ],
       "metadata": {},
       "output_type": "display_data",
       "text": [
        "\u23a1a\u2081\u2081 + d\u2093\u22c5p\u2093   a\u2081\u2082 + d\u2093\u22c5p_y   d\u2093 \u23a4 = \u23a1h\u2081\u2081  h\u2081\u2082  h\u2081\u2083\u23a4\n",
        "\u23a2                                \u23a5   \u23a2             \u23a5\n",
        "\u23a2a\u2082\u2081 + d_y\u22c5p\u2093  a\u2082\u2082 + d_y\u22c5p_y  d_y\u23a5   \u23a2h\u2082\u2081  h\u2082\u2082  h\u2082\u2083\u23a5\n",
        "\u23a2                                \u23a5   \u23a2             \u23a5\n",
        "\u23a3     p\u2093            p_y        1 \u23a6   \u23a3h\u2083\u2081  h\u2083\u2082  h\u2083\u2083\u23a6"
       ]
      }
     ],
     "prompt_number": 8
    },
    {
     "cell_type": "markdown",
     "metadata": {},
     "source": [
      "Check this out!!!\n",
      "\n",
      "http://math.stackexchange.com/questions/78137/decomposition-of-a-nonsquare-affine-matrix\n",
      "    "
     ]
    },
    {
     "cell_type": "code",
     "collapsed": false,
     "input": [
      "# Analytical solution, part 1\n",
      "results_3 = sm.solve(equations,\n",
      "                     shift_x, shift_y,\n",
      "                     tilt_x, tilt_y,\n",
      "                     a11, a12, a21, a22,\n",
      "                     dict=True,\n",
      "                     warning=True, manual=True)\n",
      "\n",
      "# Subsitutions for \"observed\" data.\n",
      "substitutions = {h11: H0[0, 0], h12: H0[0, 1], h13: H0[0, 2],\n",
      "                 h21: H0[1, 0], h22: H0[1, 1], h23: H0[1, 2],\n",
      "                 h31: H0[2, 0], h32: H0[2, 1], h33: H0[2, 2]}\n",
      "\n",
      "print('\\nH_data:')\n",
      "print(H0)"
     ],
     "language": "python",
     "metadata": {},
     "outputs": [
      {
       "output_type": "stream",
       "stream": "stdout",
       "text": [
        "\n",
        "H_data:\n",
        "[[-1.51421356  1.21421356 -0.5       ]\n",
        " [ 0.37355339  0.39355339  0.1       ]\n",
        " [ 0.2         0.4         1.        ]]\n"
       ]
      }
     ],
     "prompt_number": 9
    },
    {
     "cell_type": "heading",
     "level": 2,
     "metadata": {},
     "source": [
      "Parameter Solutions"
     ]
    },
    {
     "cell_type": "code",
     "collapsed": false,
     "input": [
      "# Translation\n",
      "params = [shift_x, shift_y]\n",
      "\n",
      "truth = offset\n",
      "\n",
      "for p, t in zip(params, truth):\n",
      "    print('-----')\n",
      "    \n",
      "    for r in results_3:\n",
      "        expr = r[p]\n",
      "        expr_str = lambdastr(None, expr)\n",
      "\n",
      "        out = expr.evalf(subs=substitutions)    \n",
      "\n",
      "        template = '{} = {} = {:.2f} \\\\ =? \\\\ \\\\ {:.2f}'\n",
      "        m = IPython.display.Math(template.format(sm.latex(p), sm.latex(expr), float(out), t))\n",
      "        IPython.display.display(m)\n",
      "        \n",
      "#         print(expr_str)"
     ],
     "language": "python",
     "metadata": {},
     "outputs": [
      {
       "output_type": "stream",
       "stream": "stdout",
       "text": [
        "-----\n"
       ]
      },
      {
       "latex": [
        "$$d_{x} = h_{13} = -0.50 \\ =? \\ \\ -0.50$$"
       ],
       "metadata": {},
       "output_type": "display_data",
       "text": [
        "<IPython.core.display.Math at 0x13219d30>"
       ]
      },
      {
       "output_type": "stream",
       "stream": "stdout",
       "text": [
        "-----\n"
       ]
      },
      {
       "latex": [
        "$$d_{y} = h_{23} = 0.10 \\ =? \\ \\ 0.10$$"
       ],
       "metadata": {},
       "output_type": "display_data",
       "text": [
        "<IPython.core.display.Math at 0x13219da0>"
       ]
      }
     ],
     "prompt_number": 10
    },
    {
     "cell_type": "code",
     "collapsed": false,
     "input": [
      "# Perspective\n",
      "params = [tilt_x, tilt_y]\n",
      "\n",
      "truth = pa, pb\n",
      "\n",
      "for p, t in zip(params, truth):\n",
      "    print('-----')\n",
      "\n",
      "    for r in results_3:\n",
      "        expr = r[p]\n",
      "        expr.simplify()       \n",
      "        expr_str = lambdastr(None, expr)\n",
      "        \n",
      "        out = expr.evalf(subs=substitutions)    \n",
      "\n",
      "        template = '{} = {} = {:.2f} \\\\ =? \\\\ \\\\ {:.2f}'\n",
      "        m = IPython.display.Math(template.format(sm.latex(p), sm.latex(expr), float(out), t))\n",
      "        IPython.display.display(m)\n",
      "        \n",
      "#         print(expr_str)"
     ],
     "language": "python",
     "metadata": {},
     "outputs": [
      {
       "output_type": "stream",
       "stream": "stdout",
       "text": [
        "-----\n"
       ]
      },
      {
       "latex": [
        "$$p_{x} = h_{31} = 0.20 \\ =? \\ \\ 0.20$$"
       ],
       "metadata": {},
       "output_type": "display_data",
       "text": [
        "<IPython.core.display.Math at 0x1312fe48>"
       ]
      },
      {
       "output_type": "stream",
       "stream": "stdout",
       "text": [
        "-----\n"
       ]
      },
      {
       "latex": [
        "$$p_{y} = h_{32} = 0.40 \\ =? \\ \\ 0.40$$"
       ],
       "metadata": {},
       "output_type": "display_data",
       "text": [
        "<IPython.core.display.Math at 0x13219a20>"
       ]
      }
     ],
     "prompt_number": 11
    },
    {
     "cell_type": "heading",
     "level": 2,
     "metadata": {},
     "source": [
      "Part 2: Factor Translation and Perspective"
     ]
    },
    {
     "cell_type": "code",
     "collapsed": false,
     "input": [
      "# H_inner_2\n",
      "params = [a11, a12, a21, a22]\n",
      "H_values_2 = []\n",
      "H_expr_2 = []\n",
      "\n",
      "for p in params:\n",
      "    print('-----')\n",
      "\n",
      "    for r in results_3:\n",
      "        expr = r[p]\n",
      "        H_expr_2.append(expr)\n",
      "        \n",
      "        out = expr.evalf() #subs=substitutions)    \n",
      "        IPython.display.display(sm.Eq(p, out))\n",
      "\n",
      "        out = expr.evalf(subs=substitutions)\n",
      "        out = float(out)\n",
      "        IPython.display.display(sm.Eq(p, out))\n",
      "        \n",
      "        H_values_2.append(out)"
     ],
     "language": "python",
     "metadata": {},
     "outputs": [
      {
       "output_type": "stream",
       "stream": "stdout",
       "text": [
        "-----\n"
       ]
      },
      {
       "latex": [
        "$$a_{11} = h_{11} - h_{13} h_{31}$$"
       ],
       "metadata": {},
       "output_type": "display_data",
       "text": [
        "a\u2081\u2081 = h\u2081\u2081 - h\u2081\u2083\u22c5h\u2083\u2081"
       ]
      },
      {
       "latex": [
        "$$a_{11} = -1.4142135623731$$"
       ],
       "metadata": {},
       "output_type": "display_data",
       "text": [
        "a\u2081\u2081 = -1.4142135623731"
       ]
      },
      {
       "output_type": "stream",
       "stream": "stdout",
       "text": [
        "-----\n"
       ]
      },
      {
       "latex": [
        "$$a_{12} = h_{12} - h_{13} h_{32}$$"
       ],
       "metadata": {},
       "output_type": "display_data",
       "text": [
        "a\u2081\u2082 = h\u2081\u2082 - h\u2081\u2083\u22c5h\u2083\u2082"
       ]
      },
      {
       "latex": [
        "$$a_{12} = 1.41421356237309$$"
       ],
       "metadata": {},
       "output_type": "display_data",
       "text": [
        "a\u2081\u2082 = 1.41421356237309"
       ]
      },
      {
       "output_type": "stream",
       "stream": "stdout",
       "text": [
        "-----\n"
       ]
      },
      {
       "latex": [
        "$$a_{21} = h_{21} - h_{23} h_{31}$$"
       ],
       "metadata": {},
       "output_type": "display_data",
       "text": [
        "a\u2082\u2081 = h\u2082\u2081 - h\u2082\u2083\u22c5h\u2083\u2081"
       ]
      },
      {
       "latex": [
        "$$a_{21} = 0.353553390593274$$"
       ],
       "metadata": {},
       "output_type": "display_data",
       "text": [
        "a\u2082\u2081 = 0.353553390593274"
       ]
      },
      {
       "output_type": "stream",
       "stream": "stdout",
       "text": [
        "-----\n"
       ]
      },
      {
       "latex": [
        "$$a_{22} = h_{22} - h_{23} h_{32}$$"
       ],
       "metadata": {},
       "output_type": "display_data",
       "text": [
        "a\u2082\u2082 = h\u2082\u2082 - h\u2082\u2083\u22c5h\u2083\u2082"
       ]
      },
      {
       "latex": [
        "$$a_{22} = 0.353553390593274$$"
       ],
       "metadata": {},
       "output_type": "display_data",
       "text": [
        "a\u2082\u2082 = 0.353553390593274"
       ]
      }
     ],
     "prompt_number": 12
    },
    {
     "cell_type": "heading",
     "level": 2,
     "metadata": {},
     "source": [
      "Part 3: Solve for Scale, Shear, and Rotation"
     ]
    },
    {
     "cell_type": "code",
     "collapsed": false,
     "input": [
      "# Model scenario, Model scenario, inner 2 x 2.\n",
      "\n",
      "# H_data_2 = sm.Matrix([[H_values_2[0], H_values_2[1]],\n",
      "#                       [H_values_2[2], H_values_2[3]]])\n",
      "H_data_2 = sm.Matrix([[a11, a12],\n",
      "                      [a21, a22]])\n",
      "# H_data_2 = sm.Matrix([[H_expr_2[0], H_expr_2[1]],\n",
      "#                       [H_expr_2[2], H_expr_2[3]]])\n",
      "\n",
      "H_model_2 = H_scale * H_shear * H_rotate\n",
      "# H_model_2 = H_scale * H_rotate\n",
      "\n",
      "equations = [sm.Eq(H_model_2, H_data_2)]\n",
      "# equations = [sm.Eq(H_model_2[0], H_data_2[0]),\n",
      "#              sm.Eq(H_model_2[1], H_data_2[1]),\n",
      "#              sm.Eq(H_model_2[2], H_data_2[2]),\n",
      "#              sm.Eq(H_model_2[3], H_data_2[3])]\n",
      "\n",
      "# Subsitutions for \"observed\" data.\n",
      "substitutions = {a11: H_values_2[0], a12: H_values_2[1],\n",
      "                 a21: H_values_2[2], a22: H_values_2[3]}\n",
      "\n",
      "for e in equations:\n",
      "    IPython.display.display(e)"
     ],
     "language": "python",
     "metadata": {},
     "outputs": [
      {
       "latex": [
        "$$\\left[\\begin{matrix}c_{x} s_{x} \\sin{\\left (\\theta_{r} \\right )} + c_{x} \\cos{\\left (\\theta_{r} \\right )} & c_{x} s_{x} \\cos{\\left (\\theta_{r} \\right )} - c_{x} \\sin{\\left (\\theta_{r} \\right )}\\\\c_{y} \\sin{\\left (\\theta_{r} \\right )} & c_{y} \\cos{\\left (\\theta_{r} \\right )}\\end{matrix}\\right] = \\left[\\begin{matrix}a_{11} & a_{12}\\\\a_{21} & a_{22}\\end{matrix}\\right]$$"
       ],
       "metadata": {},
       "output_type": "display_data",
       "text": [
        "\u23a1c\u2093\u22c5s\u2093\u22c5sin(\u03b8\u1d63) + c\u2093\u22c5cos(\u03b8\u1d63)  c\u2093\u22c5s\u2093\u22c5cos(\u03b8\u1d63) - c\u2093\u22c5sin(\u03b8\u1d63)\u23a4 = \u23a1a\u2081\u2081  a\u2081\u2082\u23a4\n",
        "\u23a2                                                      \u23a5   \u23a2        \u23a5\n",
        "\u23a3       c_y\u22c5sin(\u03b8\u1d63)                 c_y\u22c5cos(\u03b8\u1d63)        \u23a6   \u23a3a\u2082\u2081  a\u2082\u2082\u23a6"
       ]
      }
     ],
     "prompt_number": 13
    },
    {
     "cell_type": "code",
     "collapsed": false,
     "input": [
      "H_data_2.det().evalf(subs=substitutions)"
     ],
     "language": "python",
     "metadata": {},
     "outputs": [
      {
       "latex": [
        "$$-1.0$$"
       ],
       "metadata": {},
       "output_type": "pyout",
       "prompt_number": 14,
       "text": [
        "-1.00000000000000"
       ]
      }
     ],
     "prompt_number": 14
    },
    {
     "cell_type": "code",
     "collapsed": false,
     "input": [
      "# Analytical solution.\n",
      "results_2 = sm.solve(equations,\n",
      "                     theta, scale_x, scale_y, shear_x,\n",
      "                     dict=True,\n",
      "                     warning=True, manual=False)\n",
      "\n",
      "# results_2"
     ],
     "language": "python",
     "metadata": {},
     "outputs": [],
     "prompt_number": 15
    },
    {
     "cell_type": "code",
     "collapsed": false,
     "input": [
      "# Scale\n",
      "params = [scale_x, scale_y]\n",
      "\n",
      "truth = [scale_x0, scale_y0]\n",
      "\n",
      "for p, t in zip(params, truth):\n",
      "    print('-----')\n",
      "\n",
      "    for r in results_2:\n",
      "        expr = r[p]\n",
      "        expr.simplify()       \n",
      "\n",
      "#         expr_str = lambdastr(None, expr)\n",
      "#         print(expr_str)        \n",
      "        \n",
      "        out = expr.evalf(subs=substitutions)    \n",
      "\n",
      "        template = '{} = {} = {:.3f} \\\\ =? \\\\ \\\\ {:.3f}'\n",
      "        m = IPython.display.Math(template.format(sm.latex(p), sm.latex(expr), float(out), t))\n",
      "        IPython.display.display(m)"
     ],
     "language": "python",
     "metadata": {},
     "outputs": [
      {
       "output_type": "stream",
       "stream": "stdout",
       "text": [
        "-----\n"
       ]
      },
      {
       "latex": [
        "$$c_{x} = \\frac{a_{11}}{\\frac{\\left(a_{11} \\sin{\\left (2 \\operatorname{atan}{\\left (\\frac{a_{22}}{a_{21}} + \\frac{1}{a_{21}} \\sqrt{a_{21}^{2} + a_{22}^{2}} \\right )} \\right )} - a_{12} \\cos{\\left (2 \\operatorname{atan}{\\left (\\frac{a_{22}}{a_{21}} + \\frac{1}{a_{21}} \\sqrt{a_{21}^{2} + a_{22}^{2}} \\right )} \\right )}\\right) \\sin{\\left (2 \\operatorname{atan}{\\left (\\frac{a_{22}}{a_{21}} + \\frac{1}{a_{21}} \\sqrt{a_{21}^{2} + a_{22}^{2}} \\right )} \\right )}}{a_{11} \\cos{\\left (2 \\operatorname{atan}{\\left (\\frac{a_{22}}{a_{21}} + \\frac{1}{a_{21}} \\sqrt{a_{21}^{2} + a_{22}^{2}} \\right )} \\right )} + a_{12} \\sin{\\left (2 \\operatorname{atan}{\\left (\\frac{a_{22}}{a_{21}} + \\frac{1}{a_{21}} \\sqrt{a_{21}^{2} + a_{22}^{2}} \\right )} \\right )}} + \\cos{\\left (2 \\operatorname{atan}{\\left (\\frac{a_{22}}{a_{21}} + \\frac{1}{a_{21}} \\sqrt{a_{21}^{2} + a_{22}^{2}} \\right )} \\right )}} = 2.000 \\ =? \\ \\ -2.000$$"
       ],
       "metadata": {},
       "output_type": "display_data",
       "text": [
        "<IPython.core.display.Math at 0x38b77f0>"
       ]
      },
      {
       "output_type": "stream",
       "stream": "stdout",
       "text": [
        "-----\n"
       ]
      },
      {
       "latex": [
        "$$c_{y} = - \\frac{a_{21}}{\\sin{\\left (2 \\operatorname{atan}{\\left (\\frac{a_{22}}{a_{21}} + \\frac{1}{a_{21}} \\sqrt{a_{21}^{2} + a_{22}^{2}} \\right )} \\right )}} = -0.500 \\ =? \\ \\ 0.500$$"
       ],
       "metadata": {},
       "output_type": "display_data",
       "text": [
        "<IPython.core.display.Math at 0x135c4b00>"
       ]
      }
     ],
     "prompt_number": 16
    },
    {
     "cell_type": "code",
     "collapsed": false,
     "input": [
      "# Shear\n",
      "params = [shear_x]  # , shear_y]\n",
      "\n",
      "truth = [shear_x0]  # , shear_y0]\n",
      "\n",
      "for p, t in zip(params, truth):\n",
      "    print('-----')\n",
      "\n",
      "    for r in results_2:\n",
      "        expr = r[p]\n",
      "        expr.simplify()       \n",
      "\n",
      "        out = expr.evalf(subs=substitutions)    \n",
      "\n",
      "        template = '{} = {} = {:.3f} \\\\ =? \\\\ \\\\ {:.3f}'\n",
      "        m = IPython.display.Math(template.format(sm.latex(p), sm.latex(expr), float(out), t))\n",
      "        IPython.display.display(m)"
     ],
     "language": "python",
     "metadata": {},
     "outputs": [
      {
       "output_type": "stream",
       "stream": "stdout",
       "text": [
        "-----\n"
       ]
      },
      {
       "latex": [
        "$$s_{x} = - \\frac{a_{11} \\sin{\\left (2 \\operatorname{atan}{\\left (\\frac{a_{22}}{a_{21}} + \\frac{1}{a_{21}} \\sqrt{a_{21}^{2} + a_{22}^{2}} \\right )} \\right )} - a_{12} \\cos{\\left (2 \\operatorname{atan}{\\left (\\frac{a_{22}}{a_{21}} + \\frac{1}{a_{21}} \\sqrt{a_{21}^{2} + a_{22}^{2}} \\right )} \\right )}}{a_{11} \\cos{\\left (2 \\operatorname{atan}{\\left (\\frac{a_{22}}{a_{21}} + \\frac{1}{a_{21}} \\sqrt{a_{21}^{2} + a_{22}^{2}} \\right )} \\right )} + a_{12} \\sin{\\left (2 \\operatorname{atan}{\\left (\\frac{a_{22}}{a_{21}} + \\frac{1}{a_{21}} \\sqrt{a_{21}^{2} + a_{22}^{2}} \\right )} \\right )}} = -0.000 \\ =? \\ \\ 0.000$$"
       ],
       "metadata": {},
       "output_type": "display_data",
       "text": [
        "<IPython.core.display.Math at 0xa2010f0>"
       ]
      }
     ],
     "prompt_number": 17
    },
    {
     "cell_type": "code",
     "collapsed": false,
     "input": [
      "# Rotation.\n",
      "params = [theta]\n",
      "\n",
      "truth = [r_angle]\n",
      "\n",
      "for p, t in zip(params, truth):\n",
      "    print('-----')\n",
      "\n",
      "    for r in results_2:\n",
      "        expr = r[p]\n",
      "\n",
      "        out = expr.evalf(subs=substitutions)\n",
      "\n",
      "        template = '{} = {} = {:.3f} \\\\ =? \\\\ \\\\ {:.3f}'\n",
      "        m = IPython.display.Math(template.format(sm.latex(p), sm.latex(expr), float(out), t))\n",
      "        IPython.display.display(m)"
     ],
     "language": "python",
     "metadata": {},
     "outputs": [
      {
       "output_type": "stream",
       "stream": "stdout",
       "text": [
        "-----\n"
       ]
      },
      {
       "latex": [
        "$$\\theta_{r} = - 2 \\operatorname{atan}{\\left (\\frac{a_{22}}{a_{21}} + \\frac{1}{a_{21}} \\sqrt{a_{21}^{2} + a_{22}^{2}} \\right )} = -2.356 \\ =? \\ \\ 0.785$$"
       ],
       "metadata": {},
       "output_type": "display_data",
       "text": [
        "<IPython.core.display.Math at 0x13138f28>"
       ]
      }
     ],
     "prompt_number": 18
    },
    {
     "cell_type": "code",
     "collapsed": false,
     "input": [
      "# Scale, shear, rotate\n",
      "params = [scale_x, scale_y, shear_x, theta]\n",
      "\n",
      "truth = [scale_x0, scale_y0, shear_x0, r_angle]\n",
      "\n",
      "for r in results_2:\n",
      "    print('-----')\n",
      "    for p, t in zip(params, truth):\n",
      "\n",
      "        expr = r[p]\n",
      "        expr.simplify()       \n",
      "\n",
      "        out = expr.evalf(subs=substitutions)    \n",
      "\n",
      "        template = '{} = {} = {:.3f} \\\\ =? \\\\ \\\\ {:.3f}'\n",
      "        m = IPython.display.Math(template.format(sm.latex(p), sm.latex(expr), float(out), t))\n",
      "        IPython.display.display(m)"
     ],
     "language": "python",
     "metadata": {},
     "outputs": [
      {
       "output_type": "stream",
       "stream": "stdout",
       "text": [
        "-----\n"
       ]
      },
      {
       "latex": [
        "$$c_{x} = \\frac{a_{11}}{\\frac{\\left(a_{11} \\sin{\\left (2 \\operatorname{atan}{\\left (\\frac{a_{22}}{a_{21}} + \\frac{1}{a_{21}} \\sqrt{a_{21}^{2} + a_{22}^{2}} \\right )} \\right )} - a_{12} \\cos{\\left (2 \\operatorname{atan}{\\left (\\frac{a_{22}}{a_{21}} + \\frac{1}{a_{21}} \\sqrt{a_{21}^{2} + a_{22}^{2}} \\right )} \\right )}\\right) \\sin{\\left (2 \\operatorname{atan}{\\left (\\frac{a_{22}}{a_{21}} + \\frac{1}{a_{21}} \\sqrt{a_{21}^{2} + a_{22}^{2}} \\right )} \\right )}}{a_{11} \\cos{\\left (2 \\operatorname{atan}{\\left (\\frac{a_{22}}{a_{21}} + \\frac{1}{a_{21}} \\sqrt{a_{21}^{2} + a_{22}^{2}} \\right )} \\right )} + a_{12} \\sin{\\left (2 \\operatorname{atan}{\\left (\\frac{a_{22}}{a_{21}} + \\frac{1}{a_{21}} \\sqrt{a_{21}^{2} + a_{22}^{2}} \\right )} \\right )}} + \\cos{\\left (2 \\operatorname{atan}{\\left (\\frac{a_{22}}{a_{21}} + \\frac{1}{a_{21}} \\sqrt{a_{21}^{2} + a_{22}^{2}} \\right )} \\right )}} = 2.000 \\ =? \\ \\ -2.000$$"
       ],
       "metadata": {},
       "output_type": "display_data",
       "text": [
        "<IPython.core.display.Math at 0x1335afd0>"
       ]
      },
      {
       "latex": [
        "$$c_{y} = - \\frac{a_{21}}{\\sin{\\left (2 \\operatorname{atan}{\\left (\\frac{a_{22}}{a_{21}} + \\frac{1}{a_{21}} \\sqrt{a_{21}^{2} + a_{22}^{2}} \\right )} \\right )}} = -0.500 \\ =? \\ \\ 0.500$$"
       ],
       "metadata": {},
       "output_type": "display_data",
       "text": [
        "<IPython.core.display.Math at 0x13138f28>"
       ]
      },
      {
       "latex": [
        "$$s_{x} = - \\frac{a_{11} \\sin{\\left (2 \\operatorname{atan}{\\left (\\frac{a_{22}}{a_{21}} + \\frac{1}{a_{21}} \\sqrt{a_{21}^{2} + a_{22}^{2}} \\right )} \\right )} - a_{12} \\cos{\\left (2 \\operatorname{atan}{\\left (\\frac{a_{22}}{a_{21}} + \\frac{1}{a_{21}} \\sqrt{a_{21}^{2} + a_{22}^{2}} \\right )} \\right )}}{a_{11} \\cos{\\left (2 \\operatorname{atan}{\\left (\\frac{a_{22}}{a_{21}} + \\frac{1}{a_{21}} \\sqrt{a_{21}^{2} + a_{22}^{2}} \\right )} \\right )} + a_{12} \\sin{\\left (2 \\operatorname{atan}{\\left (\\frac{a_{22}}{a_{21}} + \\frac{1}{a_{21}} \\sqrt{a_{21}^{2} + a_{22}^{2}} \\right )} \\right )}} = -0.000 \\ =? \\ \\ 0.000$$"
       ],
       "metadata": {},
       "output_type": "display_data",
       "text": [
        "<IPython.core.display.Math at 0x13219a20>"
       ]
      },
      {
       "latex": [
        "$$\\theta_{r} = - 2 \\operatorname{atan}{\\left (\\frac{a_{22}}{a_{21}} + \\frac{1}{a_{21}} \\sqrt{a_{21}^{2} + a_{22}^{2}} \\right )} = -2.356 \\ =? \\ \\ 0.785$$"
       ],
       "metadata": {},
       "output_type": "display_data",
       "text": [
        "<IPython.core.display.Math at 0x13138f28>"
       ]
      }
     ],
     "prompt_number": 19
    },
    {
     "cell_type": "code",
     "collapsed": false,
     "input": [
      "a = float(a11.evalf(subs=substitutions))\n",
      "b = float(a12.evalf(subs=substitutions))\n",
      "d = float(a21.evalf(subs=substitutions))\n",
      "e = float(a22.evalf(subs=substitutions))\n",
      "\n",
      "D2 = a*e - b*d\n",
      "\n",
      "if D2 < 0:\n",
      "    a = -a\n",
      "    b = -b\n",
      "    \n",
      "D2 = a*e - b*d\n",
      "D = D2**.5\n",
      "\n",
      "print(a, e, b, d)\n",
      "print(D2)\n",
      "\n",
      "p = (a**2 + b**2)**.5\n",
      "r = D/p\n",
      "q = (a*d + b*e) / D\n",
      "t = np.arctan2(b, a)\n",
      "\n",
      "print()\n",
      "print(p, r)\n",
      "print(q)\n",
      "print(t)"
     ],
     "language": "python",
     "metadata": {},
     "outputs": [
      {
       "output_type": "stream",
       "stream": "stdout",
       "text": [
        "1.41421356237 0.353553390593 -1.41421356237 0.353553390593\n",
        "1.0\n",
        "\n",
        "2.0 0.5\n",
        "0.0\n",
        "-0.785398163397\n"
       ]
      }
     ],
     "prompt_number": 21
    },
    {
     "cell_type": "code",
     "collapsed": false,
     "input": [
      "def decompose(H):\n",
      "    \"\"\"\n",
      "    Decompose general transform matrix into elemental transforms.\n",
      "\n",
      "    Parameters\n",
      "    ----------\n",
      "    H : Transform matrix\n",
      "\n",
      "    Returns\n",
      "    -------\n",
      "    H_scale, H_shear, H_rorate, H_translate, H_perspective\n",
      "    \n",
      "    Notes\n",
      "    -----\n",
      "    See this paper for details:\n",
      "\n",
      "    \"Projective Transformations for Image Transition Animations\"\n",
      "    \n",
      "    Section 3.1 using QR decomposition, Google Docs PDF: http://goo.gl/Ohd5bA\n",
      "    \n",
      "    Homography matrix:\n",
      "    \n",
      "        | h_11  h_12  h_13 |\n",
      "    H = | h_21  h_22  h_23 |\n",
      "        | h_31  h_32  h_33 |\n",
      "    \n",
      "    \"\"\"\n",
      "\n",
      "    # Perspective.\n",
      "    H_perspective = np.identity(3)\n",
      "    H_perspective[2] = H[2]\n",
      "        \n",
      "    # Translation.\n",
      "    H_translate = np.identity(3)\n",
      "    H_translate[:, 2] = H[:, 2]\n",
      "    \n",
      "    # Non-homogeneous affine transform (scale, rotate, shear).\n",
      "    A = H[:2, :2]\n",
      "    \n",
      "    # http://docs.scipy.org/doc/scipy/reference/tutorial/linalg.html#singular-value-decomposition\n",
      "    U, s, Vh = sp.linalg.svd(A)\n",
      "\n",
      "    m, n = A.shape\n",
      "    D = sp.linalg.diagsvd(s, m, n)\n",
      "\n",
      "    # Scale.\n",
      "    H_scale = np.identity(3)\n",
      "    H_scale[:2, :2] = D\n",
      "\n",
      "    # Shear.\n",
      "    \n",
      "    # Rotate.\n",
      "    \n",
      "    return U, D, Vh\n",
      "\n",
      "\n",
      "# Perspective.\n",
      "H_perspective = np.identity(3)\n",
      "H_perspective[2] = H[2]\n",
      "\n",
      "# Translation.\n",
      "H_translate = np.identity(3)\n",
      "H_translate[:, 2] = H[:, 2]\n",
      "\n",
      "# Non-homogeneous affine transform (scale, rotate, shear).\n",
      "A = H[:2, :2]\n",
      "\n",
      "# http://docs.scipy.org/doc/scipy/reference/tutorial/linalg.html#singular-value-decomposition\n",
      "U, s, Vh = sp.linalg.svd(A)\n",
      "\n",
      "m, n = A.shape\n",
      "D = sp.linalg.diagsvd(s, m, n)\n",
      "\n",
      "# Scale.\n",
      "H_scale = np.identity(3)\n",
      "H_scale[:2, :2] = D\n",
      "\n",
      "# Rotation.\n",
      "H_rotate = np.identity(3)\n",
      "\n",
      "# Shear.\n",
      "H_shear = np.identity(3)\n",
      "\n",
      "\n",
      "print('\\nPerspective:  {}, {}'.format(pa, pb))\n",
      "print('{}'.format(H_perspective))\n",
      "\n",
      "print('\\nScale: {}, {}'.format(scale[0], scale[1]))\n",
      "print('{}'.format(H_scale))\n",
      "\n",
      "print('\\nShear: {}, {:.3f} [{}]'.format(s_factor, s_angle, np.rad2deg(s_angle)))\n",
      "print('{}'.format(H_shear))\n",
      "\n",
      "print('\\nRotation: {:.3f} [{}]'.format(r_angle, np.rad2deg(r_angle)))\n",
      "print('{}'.format(H_rotate))\n",
      "\n",
      "print('\\nTranslate: {}, {}'.format(offset[0], offset[1]))\n",
      "print('{}'.format(H_translate))"
     ],
     "language": "python",
     "metadata": {},
     "outputs": []
    },
    {
     "cell_type": "code",
     "collapsed": false,
     "input": [],
     "language": "python",
     "metadata": {},
     "outputs": []
    }
   ],
   "metadata": {}
  }
 ]
}
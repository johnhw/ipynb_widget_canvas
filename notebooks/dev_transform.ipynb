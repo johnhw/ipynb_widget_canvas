{
 "metadata": {
  "name": "",
  "signature": "sha256:fd8f92e2dca1658ae1b977e5205a3c15adbb74b0c0780bfc77cae09cf7eabe0d"
 },
 "nbformat": 3,
 "nbformat_minor": 0,
 "worksheets": [
  {
   "cells": [
    {
     "cell_type": "code",
     "collapsed": false,
     "input": [
      "%matplotlib inline\n",
      "\n",
      "import matplotlib.pyplot as plt\n",
      "import numpy as np\n",
      "\n",
      "import widget_canvas\n",
      "from widget_canvas import transform_2D"
     ],
     "language": "python",
     "metadata": {},
     "outputs": [],
     "prompt_number": 127
    },
    {
     "cell_type": "heading",
     "level": 3,
     "metadata": {},
     "source": [
      "Setup"
     ]
    },
    {
     "cell_type": "code",
     "collapsed": false,
     "input": [
      "# A set of data points.\n",
      "N = 8*4\n",
      "Rs = [0.6, 1.6]\n",
      "\n",
      "points = []\n",
      "for a in np.linspace(0, 360, N, endpoint=False):\n",
      "    for r in Rs:\n",
      "        x = np.cos(np.deg2rad(a)) * r\n",
      "        y = np.sin(np.deg2rad(a)) * r\n",
      "        \n",
      "        points.append([x, y])\n",
      "\n",
      "\n",
      "# points.extend([[0.0, 0.0],\n",
      "#                [0.2, 0.0],\n",
      "#                [0.4, 0.0],\n",
      "#                [0.6, 0.0],\n",
      "#                [0.8, 0.0],\n",
      "#                [1.0, 0.0],\n",
      "#                [1.2, 0.0],\n",
      "#                [1.4, 0.0],\n",
      "#                [1.6, 0.0],\n",
      "#                [1.8, 0.0],\n",
      "#                [2.0, 0.0],\n",
      "#                [2.0, 0.1],\n",
      "#                [2.0, 0.2],\n",
      "#                [2.0, 0.3],\n",
      "#                [2.0, 0.4],\n",
      "#                [2.0, 0.5]])\n",
      "\n",
      "# points.extend([[0.0, 0.0],\n",
      "#                [0.0, 0.2],\n",
      "#                [0.0, 0.4],\n",
      "#                [0.0, 0.6],\n",
      "#                [0.0, 0.8],\n",
      "#                [0.0, 1.0],\n",
      "#                [0.0, 1.2],\n",
      "#                [0.0, 1.4],\n",
      "#                [0.0, 1.6],\n",
      "#                [0.0, 1.8],\n",
      "#                [0.0, 2.0],\n",
      "#                [0.1, 2.0],\n",
      "#                [0.2, 2.0],\n",
      "#                [0.3, 2.0],\n",
      "#                [0.4, 2.0],\n",
      "#                [0.5, 2.0]])\n",
      "\n",
      "# points.extend([[0.1, 0.1],\n",
      "#                [0.2, 0.2],\n",
      "#                [0.3, 0.3],\n",
      "#                [0.4, 0.4],\n",
      "#                [0.5, 0.5]])\n",
      "\n",
      "points = np.asarray(points)\n",
      "\n",
      "avg_x, avg_y = np.mean(points, axis=0)\n",
      "\n",
      "# Display parameters.\n",
      "edge = 'black'\n",
      "alpha = 0.65"
     ],
     "language": "python",
     "metadata": {},
     "outputs": [],
     "prompt_number": 157
    },
    {
     "cell_type": "code",
     "collapsed": false,
     "input": [
      "# Apply.\n",
      "\n",
      "# Shear.\n",
      "# factor = -0.5\n",
      "# angle = np.deg2rad(45)\n",
      "# H = transform_2D.shear(factor, angle)\n",
      "\n",
      "# Perspective.\n",
      "pa = .0\n",
      "pb = 1.1\n",
      "H = transform_2D.perspective(pa, pb)\n"
     ],
     "language": "python",
     "metadata": {},
     "outputs": [],
     "prompt_number": 164
    },
    {
     "cell_type": "code",
     "collapsed": false,
     "input": [
      "# Do it.\n",
      "points_out = transform_2D.apply(H, points)\n",
      "\n",
      "# Display.\n",
      "fig, ax1 = plt.subplots(figsize=(6, 6))\n",
      "wid = 3\n",
      "ms = 5\n",
      "\n",
      "# Original points.\n",
      "for x, y in points:\n",
      "    ax1.plot(x, y, marker='o', markeredgecolor=edge, markerfacecolor='green',\n",
      "             markersize=ms, alpha=alpha)\n",
      "\n",
      "# Transformed points.\n",
      "for x, y in points_out:\n",
      "    ax1.plot(x, y, marker='o', markeredgecolor=edge, markerfacecolor='red',\n",
      "             markersize=ms, alpha=alpha)\n",
      "   \n",
      "ax1.set_aspect('equal')\n",
      "ax1.hlines(0, -10, 10, linewidth=0.2)\n",
      "ax1.vlines(0, -10, 10, linewidth=0.2)\n",
      "ax1.set_xlim(-wid, wid)\n",
      "ax1.set_ylim(-wid, wid)\n",
      "\n",
      "plt.tight_layout()"
     ],
     "language": "python",
     "metadata": {},
     "outputs": [
      {
       "metadata": {},
       "output_type": "display_data",
       "png": "[encoded data removed]",
       "text": [
        "<matplotlib.figure.Figure at 0xc65acc0>"
       ]
      }
     ],
     "prompt_number": 165
    },
    {
     "cell_type": "code",
     "collapsed": false,
     "input": [
      "print(H)\n",
      "# print(points_out)"
     ],
     "language": "python",
     "metadata": {},
     "outputs": [
      {
       "output_type": "stream",
       "stream": "stdout",
       "text": [
        "[[ 1.   0.   0. ]\n",
        " [ 0.   1.   0. ]\n",
        " [ 0.1  0.1  1. ]]\n"
       ]
      }
     ],
     "prompt_number": 147
    },
    {
     "cell_type": "code",
     "collapsed": false,
     "input": [],
     "language": "python",
     "metadata": {},
     "outputs": [],
     "prompt_number": 121
    },
    {
     "cell_type": "code",
     "collapsed": false,
     "input": [],
     "language": "python",
     "metadata": {},
     "outputs": []
    }
   ],
   "metadata": {}
  }
 ]
}
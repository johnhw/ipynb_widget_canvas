{
 "metadata": {
  "name": "",
  "signature": "sha256:2c29d7ac663d064d576a73951f9020a689eec938826114f154e4653b2cc47f81"
 },
 "nbformat": 3,
 "nbformat_minor": 0,
 "worksheets": [
  {
   "cells": [
    {
     "cell_type": "code",
     "collapsed": false,
     "input": [
      "%matplotlib inline\n",
      "\n",
      "import matplotlib.pyplot as plt\n",
      "import numpy as np\n",
      "\n",
      "import widget_canvas\n",
      "from widget_canvas import transform_2D\n"
     ],
     "language": "python",
     "metadata": {},
     "outputs": [],
     "prompt_number": 2
    },
    {
     "cell_type": "code",
     "collapsed": false,
     "input": [
      "# Basic points.\n",
      "is_homogeneous(points)\n",
      "force_homogeneous(points)\n",
      "force_cartesian(points)\n",
      "\n",
      "# Basic transform.\n",
      "identity()\n",
      "is_valid(H)\n",
      "is_singular(H)\n",
      "\n",
      "# Operations.\n",
      "offset()\n",
      "scale()\n",
      "rotate()\n",
      "shear()\n",
      "perspective()\n",
      "\n",
      "# Complex.\n",
      "chain()\n",
      "scale_shape_match()\n",
      "apply()\n",
      "\n",
      "\n"
     ],
     "language": "python",
     "metadata": {},
     "outputs": [
      {
       "metadata": {},
       "output_type": "pyout",
       "prompt_number": 7,
       "text": [
        "True"
       ]
      }
     ],
     "prompt_number": 7
    },
    {
     "cell_type": "code",
     "collapsed": false,
     "input": [
      "widget_canvas?"
     ],
     "language": "python",
     "metadata": {},
     "outputs": [],
     "prompt_number": 4
    },
    {
     "cell_type": "code",
     "collapsed": false,
     "input": [
      "Q = T.copy()\n",
      "Q.scale(2)\n",
      "\n",
      "IPython.display.display(T)\n",
      "IPython.display.display(Q)"
     ],
     "language": "python",
     "metadata": {},
     "outputs": [
      {
       "latex": [
        "\n",
        "                \\begin{equation*}\n",
        "                M = \\begin{vmatrix}   1.00 &   0.00 &  -1.00 \\\\\n",
        "                                         0.00 &   1.00 &  -2.00 \\end{vmatrix}\n",
        "                \\end{equation*}\n",
        "                "
       ],
       "metadata": {},
       "output_type": "display_data",
       "text": [
        "  1.00   0.00  -1.00\n",
        "  0.00   1.00  -2.00"
       ]
      },
      {
       "latex": [
        "\n",
        "                \\begin{equation*}\n",
        "                M = \\begin{vmatrix}   2.00 &   0.00 &  -1.00 \\\\\n",
        "                                         0.00 &   2.00 &  -2.00 \\end{vmatrix}\n",
        "                \\end{equation*}\n",
        "                "
       ],
       "metadata": {},
       "output_type": "display_data",
       "text": [
        "  2.00   0.00  -1.00\n",
        "  0.00   2.00  -2.00"
       ]
      }
     ],
     "prompt_number": 5
    },
    {
     "cell_type": "code",
     "collapsed": false,
     "input": [
      "# Sample data\n",
      "data = [[0.5, 0.5],\n",
      "        [1.0, 1.0],\n",
      "        [1.1, 1.1],\n",
      "        [2.0, 1.0],\n",
      "        [2.1, 1.0],\n",
      "        [2.2, 1.0],\n",
      "        [2.3, 1.0],       \n",
      "        [2.5, 1.0],       \n",
      "        [2.7, 1.0],       \n",
      "        [1.5, 1.5],\n",
      "        [1.5, 2.5]]\n",
      "\n",
      "theta = np.deg2rad(30.)\n",
      "dx, dy = np.mean(data, axis=0)\n",
      "\n",
      "print(dx, dy)"
     ],
     "language": "python",
     "metadata": {},
     "outputs": [
      {
       "output_type": "stream",
       "stream": "stdout",
       "text": [
        "1.76363636364 1.14545454545\n"
       ]
      }
     ],
     "prompt_number": 6
    },
    {
     "cell_type": "code",
     "collapsed": false,
     "input": [
      "T = Transform()\n",
      "\n",
      "T.translate(-dx, -dy)\n",
      "T.rotate(theta)\n",
      "T.translate(dx, dy)\n",
      "\n",
      "T1 = Transform().translate(-dx, -dy)\n",
      "T2 = Transform().rotate(theta)\n",
      "T3 = Transform().translate(dx, dy)\n",
      "\n",
      "P = Transform().multiply(T1, T2, T3)\n",
      "\n",
      "R = Transform().translate(-dx, -dy).rotate(theta).translate(dx, dy)\n",
      "\n",
      "alpha = 0.5\n",
      "edge = 'black'\n",
      "\n",
      "# plt.clf()\n",
      "fig, (ax1) = plt.subplots(num=1, ncols=1, figsize=(6, 6))\n",
      "\n",
      "for x, y in data:\n",
      "    # Original point.\n",
      "    ax1.plot(x, y, marker='o', markeredgecolor=edge, markerfacecolor='blue', alpha=alpha)\n",
      "\n",
      "    # Transformed point.\n",
      "    p, q = T.transform_point(x, y)\n",
      "    ax1.plot(p, q, marker='o', markeredgecolor=edge, markerfacecolor='green', alpha=alpha)\n",
      "    \n",
      "    # Transformed point.\n",
      "    p, q = P.transform_point(x, y)\n",
      "    ax1.plot(p, q, marker='o', markeredgecolor=edge, markerfacecolor='red', alpha=alpha)\n",
      "    \n",
      "    # Transformed point.\n",
      "    p, q = R.transform_point(x, y)\n",
      "    ax1.plot(p, q, marker='o', markeredgecolor=edge, markerfacecolor='purple', alpha=alpha)\n",
      "    \n",
      "ax1.set_aspect('equal')\n",
      "ax1.hlines(0, -10, 10, linewidth=0.2)\n",
      "ax1.vlines(0, -10, 10, linewidth=0.2)\n",
      "ax1.set_xlim(-5, 5)\n",
      "ax1.set_ylim(-5, 5)\n",
      "\n",
      "plt.tight_layout()"
     ],
     "language": "python",
     "metadata": {},
     "outputs": [
      {
       "metadata": {},
       "output_type": "display_data",
       "png": "[encoded data removed]",
       "text": [
        "<matplotlib.figure.Figure at 0xa4705f8>"
       ]
      }
     ],
     "prompt_number": 11
    },
    {
     "cell_type": "code",
     "collapsed": false,
     "input": [],
     "language": "python",
     "metadata": {},
     "outputs": [],
     "prompt_number": 7
    }
   ],
   "metadata": {}
  }
 ]
}
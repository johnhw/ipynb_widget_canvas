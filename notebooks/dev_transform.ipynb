{
 "metadata": {
  "name": "",
  "signature": "sha256:200d5894f145618e0115e07c0a938885fb3906634acad27d2c3431706438dbd7"
 },
 "nbformat": 3,
 "nbformat_minor": 0,
 "worksheets": [
  {
   "cells": [
    {
     "cell_type": "code",
     "collapsed": false,
     "input": [
      "from __future__ import division, print_function, unicode_literals\n",
      "\n",
      "%matplotlib inline\n",
      "\n",
      "import matplotlib.pyplot as plt\n",
      "import numpy as np\n",
      "\n",
      "import scipy as sp\n",
      "import scipy.linalg\n",
      "\n",
      "import widget_canvas\n",
      "\n",
      "from widget_canvas import transform_2D\n",
      "from widget_canvas import decompose"
     ],
     "language": "python",
     "metadata": {},
     "outputs": [],
     "prompt_number": 79
    },
    {
     "cell_type": "heading",
     "level": 2,
     "metadata": {},
     "source": [
      "Data setup"
     ]
    },
    {
     "cell_type": "code",
     "collapsed": false,
     "input": [
      "# A set of data points.\n",
      "N = 8*4\n",
      "Rs = [0.6, 1.6]\n",
      "\n",
      "points = []\n",
      "for a in np.linspace(0, 360, N, endpoint=False):\n",
      "    for r in Rs:\n",
      "        x = np.cos(np.deg2rad(a)) * r\n",
      "        y = np.sin(np.deg2rad(a)) * r\n",
      "        \n",
      "        points.append([x, y])\n",
      "\n",
      "points.extend([[0.0, 0.0],\n",
      "               [0.0, 0.1],\n",
      "               [0.0,-0.1],\n",
      "               [0.1, 0.0],\n",
      "               [-0.1, 0.0]])\n",
      "\n",
      "points.extend([[0.8, 0.0],\n",
      "               [1.0, 0.0],\n",
      "               [1.2, 0.0],\n",
      "               [1.4, 0.0],\n",
      "               [1.8, 0.0],\n",
      "               [2.0, 0.0],\n",
      "               [2.0, 0.1]])\n",
      "\n",
      "points.extend([[0.0, 0.8],\n",
      "               [0.0, 1.0],\n",
      "               [0.0, 1.2],\n",
      "               [0.0, 1.4],\n",
      "               [0.0, 1.8],\n",
      "               [0.0, 2.0],\n",
      "               [0.1, 2.0]])\n",
      "\n",
      "points = np.asarray(points)\n",
      "\n",
      "avg_x, avg_y = np.mean(points, axis=0)\n",
      "\n",
      "# Display parameters.\n",
      "edge = 'black'\n",
      "alpha = 0.65"
     ],
     "language": "python",
     "metadata": {},
     "outputs": [],
     "prompt_number": 80
    },
    {
     "cell_type": "code",
     "collapsed": false,
     "input": [
      "# Build transforms.\n",
      "\n",
      "# Perspective.\n",
      "pa = 0.2\n",
      "pb = 0.4\n",
      "H_perspective0 = transform_2D.perspective(pa, pb)\n",
      "\n",
      "\n",
      "# Scale.\n",
      "scale_x0, scale_y0 = -2.0, 0.5\n",
      "H_scale0 = transform_2D.scale((scale_x0, scale_y0))\n",
      "\n",
      "# Shear.\n",
      "shear_x0 = 0.0\n",
      "shear_y0 = 0.33\n",
      "\n",
      "H_shear0 = transform_2D.shear(shear_x0, shear_y0)\n",
      "\n",
      "# Rotate.\n",
      "r_angle = np.deg2rad(45.0)\n",
      "H_rotate0 = transform_2D.rotate(r_angle)\n",
      "\n",
      "\n",
      "# Offset.\n",
      "offset = -0.5, .1\n",
      "H_translate0 = transform_2D.offset(offset)\n",
      "\n",
      "# Chain.\n",
      "# H0 = transform_2D.chain(H_translate0, H_shear0, H_rotate0, H_scale0, H_perspective0)\n",
      "# H0 = transform_2D.chain(H_translate0, H_rotate0, H_scale0, H_perspective0)\n",
      "\n",
      "# Htmp = transform_2D.chain(H_scale0, H_shear0, H_rotate0)\n",
      "# H0tmp = transform_2D.chain(H_translate0, Htmp, H_perspective0)\n",
      "\n",
      "H0 = transform_2D.chain(H_translate0, H_scale0, H_shear0, H_rotate0, H_perspective0)\n",
      "\n",
      "print(H0)"
     ],
     "language": "python",
     "metadata": {},
     "outputs": [
      {
       "output_type": "stream",
       "stream": "stdout",
       "text": [
        "[[-1.51421356  1.21421356 -0.5       ]\n",
        " [ 0.49022601  0.27688077  0.1       ]\n",
        " [ 0.2         0.4         1.        ]]\n"
       ]
      }
     ],
     "prompt_number": 81
    },
    {
     "cell_type": "code",
     "collapsed": false,
     "input": [
      "# Display.\n",
      "points_out = transform_2D.apply(H0, points)\n",
      "\n",
      "# Display.\n",
      "fig, ax1 = plt.subplots(figsize=(6, 6))\n",
      "wid = 3\n",
      "ms = 5\n",
      "\n",
      "# Original points.\n",
      "for x, y in points:\n",
      "    ax1.plot(x, y, marker='o', markeredgecolor=edge, markerfacecolor='green', markersize=ms, alpha=alpha)\n",
      "\n",
      "# Transformed points.\n",
      "for x, y in points_out:\n",
      "    ax1.plot(x, y, marker='o', markeredgecolor=edge, markerfacecolor='red', markersize=ms, alpha=alpha)\n",
      "   \n",
      "ax1.set_aspect('equal')\n",
      "ax1.hlines(0, -10, 10, linewidth=0.2)\n",
      "ax1.vlines(0, -10, 10, linewidth=0.2)\n",
      "ax1.set_xlim(-wid, wid)\n",
      "ax1.set_ylim(-wid, wid)\n",
      "\n",
      "plt.tight_layout()"
     ],
     "language": "python",
     "metadata": {},
     "outputs": [
      {
       "metadata": {},
       "output_type": "display_data",
       "png": "[encoded data removed]",
       "text": [
        "<matplotlib.figure.Figure at 0x13d5bb38>"
       ]
      }
     ],
     "prompt_number": 82
    },
    {
     "cell_type": "heading",
     "level": 2,
     "metadata": {},
     "source": [
      "Play with SymPy"
     ]
    },
    {
     "cell_type": "markdown",
     "metadata": {},
     "source": [
      "http://docs.sympy.org/dev/tutorial/solvers.html"
     ]
    },
    {
     "cell_type": "code",
     "collapsed": false,
     "input": [
      "import IPython\n",
      "import sympy as sm\n",
      "from sympy.utilities.lambdify import lambdastr\n",
      "\n",
      "sm.init_printing(use_latex='mathjax')\n",
      "\n",
      "#######################################\n",
      "\n",
      "def rotation(theta, dim=3):\n",
      "\n",
      "    if dim == 3:\n",
      "        H = sm.Matrix([[sm.cos(theta), -sm.sin(theta), 0],\n",
      "                       [sm.sin(theta),  sm.cos(theta), 0],\n",
      "                       [0, 0, 1]])   \n",
      "    else:\n",
      "        H = sm.Matrix([[sm.cos(theta), -sm.sin(theta)],\n",
      "                       [sm.sin(theta),  sm.cos(theta)]])   \n",
      "        \n",
      "    return H\n"
     ],
     "language": "python",
     "metadata": {},
     "outputs": [],
     "prompt_number": 83
    },
    {
     "cell_type": "heading",
     "level": 2,
     "metadata": {},
     "source": [
      "Component Transforms"
     ]
    },
    {
     "cell_type": "code",
     "collapsed": false,
     "input": [
      "# Translation\n",
      "shift_x, shift_y = sm.symbols('d_x d_y')\n",
      "\n",
      "H_translate = sm.Matrix([[1, 0, shift_x],\n",
      "                         [0, 1, shift_y],\n",
      "                         [0, 0, 1]])\n",
      "\n",
      "\n",
      "a11, a12, a21, a22 = sm.symbols('a_11 a_12 a_21 a_22')\n",
      "\n",
      "# Perspective\n",
      "tilt_x, tilt_y = sm.symbols('p_x p_y')\n",
      "\n",
      "H_perspective = sm.Matrix([[1, 0, 0],\n",
      "                           [0, 1, 0],\n",
      "                           [tilt_x, tilt_y, 1]])\n",
      "\n",
      "########################\n",
      "\n",
      "# Scale\n",
      "scale_x, scale_y = sm.symbols('c_x c_y')\n",
      "\n",
      "H_scale = sm.Matrix([[scale_x, 0],\n",
      "                     [0, scale_y]])\n",
      "\n",
      "# Shear\n",
      "shear_x, shear_y = sm.symbols('s_x s_y')\n",
      "\n",
      "H_sx = sm.Matrix([[1, shear_x],\n",
      "                  [0,       1]])\n",
      "\n",
      "H_sy = sm.Matrix([[1,       0],\n",
      "                  [shear_y, 1]])\n",
      "\n",
      "H_shear = H_sy # H_sx * H_sy\n",
      "\n",
      "# Rotation\n",
      "theta = sm.symbols('theta_r')\n",
      "H_rotate = rotation(theta, dim=2)\n",
      "\n",
      "#######################\n",
      "\n",
      "H_inner_2 = sm.Matrix([[a11, a12],\n",
      "                       [a21, a22]])\n",
      "\n",
      "H_inner_3 = sm.Matrix([[a11, a12, 0],\n",
      "                       [a21, a22, 0],\n",
      "                       [  0,   0, 1]])\n",
      "\n",
      "\n",
      "# Variables for \"observed\" data transform\n",
      "h11, h12, h13, h21, h22, h23, h31, h32, h33 = sm.symbols('h11, h12, h13, h21, h22, h23, h31, h32, h33')\n",
      "\n",
      "H_data = sm.Matrix([[h11, h12, h13],\n",
      "                    [h21, h22, h23],\n",
      "                    [h31, h32, h33]])"
     ],
     "language": "python",
     "metadata": {},
     "outputs": [],
     "prompt_number": 84
    },
    {
     "cell_type": "code",
     "collapsed": false,
     "input": [
      "# Display\n",
      "print('\\nH_data:')\n",
      "IPython.display.display(H_data)\n",
      "\n",
      "print('\\nTranslation:')\n",
      "IPython.display.display(H_translate)\n",
      "\n",
      "print('\\nPerspective:')\n",
      "IPython.display.display(H_perspective)\n",
      "\n",
      "print('\\nH_inner_3:')\n",
      "IPython.display.display(H_inner_3)\n",
      "\n",
      "print('\\nH_inner_2:')\n",
      "IPython.display.display(H_inner_2)\n",
      "\n",
      "print('\\nScale:')\n",
      "IPython.display.display(H_scale)\n",
      "\n",
      "print('\\nShear:')\n",
      "IPython.display.display(H_shear)\n",
      "\n",
      "print('\\nRotation:')\n",
      "IPython.display.display(H_rotate)"
     ],
     "language": "python",
     "metadata": {},
     "outputs": [
      {
       "output_type": "stream",
       "stream": "stdout",
       "text": [
        "\n",
        "H_data:\n"
       ]
      },
      {
       "latex": [
        "$$\\left[\\begin{matrix}h_{11} & h_{12} & h_{13}\\\\h_{21} & h_{22} & h_{23}\\\\h_{31} & h_{32} & h_{33}\\end{matrix}\\right]$$"
       ],
       "metadata": {},
       "output_type": "display_data",
       "text": [
        "\u23a1h\u2081\u2081  h\u2081\u2082  h\u2081\u2083\u23a4\n",
        "\u23a2             \u23a5\n",
        "\u23a2h\u2082\u2081  h\u2082\u2082  h\u2082\u2083\u23a5\n",
        "\u23a2             \u23a5\n",
        "\u23a3h\u2083\u2081  h\u2083\u2082  h\u2083\u2083\u23a6"
       ]
      },
      {
       "output_type": "stream",
       "stream": "stdout",
       "text": [
        "\n",
        "Translation:\n"
       ]
      },
      {
       "latex": [
        "$$\\left[\\begin{matrix}1 & 0 & d_{x}\\\\0 & 1 & d_{y}\\\\0 & 0 & 1\\end{matrix}\\right]$$"
       ],
       "metadata": {},
       "output_type": "display_data",
       "text": [
        "\u23a11  0  d\u2093 \u23a4\n",
        "\u23a2         \u23a5\n",
        "\u23a20  1  d_y\u23a5\n",
        "\u23a2         \u23a5\n",
        "\u23a30  0   1 \u23a6"
       ]
      },
      {
       "output_type": "stream",
       "stream": "stdout",
       "text": [
        "\n",
        "Perspective:\n"
       ]
      },
      {
       "latex": [
        "$$\\left[\\begin{matrix}1 & 0 & 0\\\\0 & 1 & 0\\\\p_{x} & p_{y} & 1\\end{matrix}\\right]$$"
       ],
       "metadata": {},
       "output_type": "display_data",
       "text": [
        "\u23a11    0   0\u23a4\n",
        "\u23a2          \u23a5\n",
        "\u23a20    1   0\u23a5\n",
        "\u23a2          \u23a5\n",
        "\u23a3p\u2093  p_y  1\u23a6"
       ]
      },
      {
       "output_type": "stream",
       "stream": "stdout",
       "text": [
        "\n",
        "H_inner_3:\n"
       ]
      },
      {
       "latex": [
        "$$\\left[\\begin{matrix}a_{11} & a_{12} & 0\\\\a_{21} & a_{22} & 0\\\\0 & 0 & 1\\end{matrix}\\right]$$"
       ],
       "metadata": {},
       "output_type": "display_data",
       "text": [
        "\u23a1a\u2081\u2081  a\u2081\u2082  0\u23a4\n",
        "\u23a2           \u23a5\n",
        "\u23a2a\u2082\u2081  a\u2082\u2082  0\u23a5\n",
        "\u23a2           \u23a5\n",
        "\u23a3 0    0   1\u23a6"
       ]
      },
      {
       "output_type": "stream",
       "stream": "stdout",
       "text": [
        "\n",
        "H_inner_2:\n"
       ]
      },
      {
       "latex": [
        "$$\\left[\\begin{matrix}a_{11} & a_{12}\\\\a_{21} & a_{22}\\end{matrix}\\right]$$"
       ],
       "metadata": {},
       "output_type": "display_data",
       "text": [
        "\u23a1a\u2081\u2081  a\u2081\u2082\u23a4\n",
        "\u23a2        \u23a5\n",
        "\u23a3a\u2082\u2081  a\u2082\u2082\u23a6"
       ]
      },
      {
       "output_type": "stream",
       "stream": "stdout",
       "text": [
        "\n",
        "Scale:\n"
       ]
      },
      {
       "latex": [
        "$$\\left[\\begin{matrix}c_{x} & 0\\\\0 & c_{y}\\end{matrix}\\right]$$"
       ],
       "metadata": {},
       "output_type": "display_data",
       "text": [
        "\u23a1c\u2093   0 \u23a4\n",
        "\u23a2       \u23a5\n",
        "\u23a30   c_y\u23a6"
       ]
      },
      {
       "output_type": "stream",
       "stream": "stdout",
       "text": [
        "\n",
        "Shear:\n"
       ]
      },
      {
       "latex": [
        "$$\\left[\\begin{matrix}1 & 0\\\\s_{y} & 1\\end{matrix}\\right]$$"
       ],
       "metadata": {},
       "output_type": "display_data",
       "text": [
        "\u23a1 1   0\u23a4\n",
        "\u23a2      \u23a5\n",
        "\u23a3s_y  1\u23a6"
       ]
      },
      {
       "output_type": "stream",
       "stream": "stdout",
       "text": [
        "\n",
        "Rotation:\n"
       ]
      },
      {
       "latex": [
        "$$\\left[\\begin{matrix}\\cos{\\left (\\theta_{r} \\right )} & - \\sin{\\left (\\theta_{r} \\right )}\\\\\\sin{\\left (\\theta_{r} \\right )} & \\cos{\\left (\\theta_{r} \\right )}\\end{matrix}\\right]$$"
       ],
       "metadata": {},
       "output_type": "display_data",
       "text": [
        "\u23a1cos(\u03b8\u1d63)  -sin(\u03b8\u1d63)\u23a4\n",
        "\u23a2                 \u23a5\n",
        "\u23a3sin(\u03b8\u1d63)  cos(\u03b8\u1d63) \u23a6"
       ]
      }
     ],
     "prompt_number": 85
    },
    {
     "cell_type": "heading",
     "level": 2,
     "metadata": {},
     "source": [
      "Part 1: Solve for Translation and Perspective"
     ]
    },
    {
     "cell_type": "code",
     "collapsed": false,
     "input": [
      "# Model scenario, part 1\n",
      "H_model_3 = H_translate * H_inner_3 * H_perspective\n",
      "\n",
      "equations = [sm.Eq(H_model_3, H_data)]\n",
      "\n",
      "for e in equations:\n",
      "    IPython.display.display(e)"
     ],
     "language": "python",
     "metadata": {},
     "outputs": [
      {
       "latex": [
        "$$\\left[\\begin{matrix}a_{11} + d_{x} p_{x} & a_{12} + d_{x} p_{y} & d_{x}\\\\a_{21} + d_{y} p_{x} & a_{22} + d_{y} p_{y} & d_{y}\\\\p_{x} & p_{y} & 1\\end{matrix}\\right] = \\left[\\begin{matrix}h_{11} & h_{12} & h_{13}\\\\h_{21} & h_{22} & h_{23}\\\\h_{31} & h_{32} & h_{33}\\end{matrix}\\right]$$"
       ],
       "metadata": {},
       "output_type": "display_data",
       "text": [
        "\u23a1a\u2081\u2081 + d\u2093\u22c5p\u2093   a\u2081\u2082 + d\u2093\u22c5p_y   d\u2093 \u23a4 = \u23a1h\u2081\u2081  h\u2081\u2082  h\u2081\u2083\u23a4\n",
        "\u23a2                                \u23a5   \u23a2             \u23a5\n",
        "\u23a2a\u2082\u2081 + d_y\u22c5p\u2093  a\u2082\u2082 + d_y\u22c5p_y  d_y\u23a5   \u23a2h\u2082\u2081  h\u2082\u2082  h\u2082\u2083\u23a5\n",
        "\u23a2                                \u23a5   \u23a2             \u23a5\n",
        "\u23a3     p\u2093            p_y        1 \u23a6   \u23a3h\u2083\u2081  h\u2083\u2082  h\u2083\u2083\u23a6"
       ]
      }
     ],
     "prompt_number": 86
    },
    {
     "cell_type": "markdown",
     "metadata": {},
     "source": [
      "Check this out!!!\n",
      "\n",
      "http://math.stackexchange.com/questions/78137/decomposition-of-a-nonsquare-affine-matrix\n",
      "    "
     ]
    },
    {
     "cell_type": "code",
     "collapsed": false,
     "input": [
      "# Analytical solution, part 1\n",
      "results_3 = sm.solve(equations,\n",
      "                     shift_x, shift_y,\n",
      "                     tilt_x, tilt_y,\n",
      "                     a11, a12, a21, a22,\n",
      "                     dict=True,\n",
      "                     warning=True, manual=True)\n",
      "\n",
      "# Subsitutions for \"observed\" data.\n",
      "substitutions = {h11: H0[0, 0], h12: H0[0, 1], h13: H0[0, 2],\n",
      "                 h21: H0[1, 0], h22: H0[1, 1], h23: H0[1, 2],\n",
      "                 h31: H0[2, 0], h32: H0[2, 1], h33: H0[2, 2]}\n",
      "\n",
      "print('\\nH_data:')\n",
      "print(H0)"
     ],
     "language": "python",
     "metadata": {},
     "outputs": [
      {
       "output_type": "stream",
       "stream": "stdout",
       "text": [
        "\n",
        "H_data:\n",
        "[[-1.51421356  1.21421356 -0.5       ]\n",
        " [ 0.49022601  0.27688077  0.1       ]\n",
        " [ 0.2         0.4         1.        ]]\n"
       ]
      }
     ],
     "prompt_number": 87
    },
    {
     "cell_type": "heading",
     "level": 2,
     "metadata": {},
     "source": [
      "Parameter Solutions"
     ]
    },
    {
     "cell_type": "code",
     "collapsed": false,
     "input": [
      "# Translation\n",
      "params = [shift_x, shift_y]\n",
      "\n",
      "truth = offset\n",
      "\n",
      "for p, t in zip(params, truth):\n",
      "    print('-----')\n",
      "    \n",
      "    for r in results_3:\n",
      "        expr = r[p]\n",
      "        expr_str = lambdastr(None, expr)\n",
      "\n",
      "        out = expr.evalf(subs=substitutions)    \n",
      "\n",
      "        template = '{} = {} = {:.2f} \\\\ =? \\\\ \\\\ {:.2f}'\n",
      "        m = IPython.display.Math(template.format(sm.latex(p), sm.latex(expr), float(out), t))\n",
      "        IPython.display.display(m)\n",
      "        \n",
      "#         print(expr_str)"
     ],
     "language": "python",
     "metadata": {},
     "outputs": [
      {
       "output_type": "stream",
       "stream": "stdout",
       "text": [
        "-----\n"
       ]
      },
      {
       "latex": [
        "$$d_{x} = h_{13} = -0.50 \\ =? \\ \\ -0.50$$"
       ],
       "metadata": {},
       "output_type": "display_data",
       "text": [
        "<IPython.core.display.Math at 0xf042438>"
       ]
      },
      {
       "output_type": "stream",
       "stream": "stdout",
       "text": [
        "-----\n"
       ]
      },
      {
       "latex": [
        "$$d_{y} = h_{23} = 0.10 \\ =? \\ \\ 0.10$$"
       ],
       "metadata": {},
       "output_type": "display_data",
       "text": [
        "<IPython.core.display.Math at 0x139b67f0>"
       ]
      }
     ],
     "prompt_number": 88
    },
    {
     "cell_type": "code",
     "collapsed": false,
     "input": [
      "# Perspective\n",
      "params = [tilt_x, tilt_y]\n",
      "\n",
      "truth = pa, pb\n",
      "\n",
      "for p, t in zip(params, truth):\n",
      "    print('-----')\n",
      "\n",
      "    for r in results_3:\n",
      "        expr = r[p]\n",
      "        expr.simplify()       \n",
      "        expr_str = lambdastr(None, expr)\n",
      "        \n",
      "        out = expr.evalf(subs=substitutions)    \n",
      "\n",
      "        template = '{} = {} = {:.2f} \\\\ =? \\\\ \\\\ {:.2f}'\n",
      "        m = IPython.display.Math(template.format(sm.latex(p), sm.latex(expr), float(out), t))\n",
      "        IPython.display.display(m)\n",
      "        \n",
      "#         print(expr_str)"
     ],
     "language": "python",
     "metadata": {},
     "outputs": [
      {
       "output_type": "stream",
       "stream": "stdout",
       "text": [
        "-----\n"
       ]
      },
      {
       "latex": [
        "$$p_{x} = h_{31} = 0.20 \\ =? \\ \\ 0.20$$"
       ],
       "metadata": {},
       "output_type": "display_data",
       "text": [
        "<IPython.core.display.Math at 0x13184e48>"
       ]
      },
      {
       "output_type": "stream",
       "stream": "stdout",
       "text": [
        "-----\n"
       ]
      },
      {
       "latex": [
        "$$p_{y} = h_{32} = 0.40 \\ =? \\ \\ 0.40$$"
       ],
       "metadata": {},
       "output_type": "display_data",
       "text": [
        "<IPython.core.display.Math at 0x13ec99b0>"
       ]
      }
     ],
     "prompt_number": 89
    },
    {
     "cell_type": "heading",
     "level": 2,
     "metadata": {},
     "source": [
      "Part 2: Factor Out Translation and Perspective"
     ]
    },
    {
     "cell_type": "code",
     "collapsed": false,
     "input": [
      "# H_inner_2\n",
      "params = [a11, a12, a21, a22]\n",
      "H_values_2 = []\n",
      "H_expr_2 = []\n",
      "\n",
      "for p in params:\n",
      "    print('-----')\n",
      "\n",
      "    for r in results_3:\n",
      "        expr = r[p]\n",
      "        H_expr_2.append(expr)\n",
      "        \n",
      "        out = expr.evalf() #subs=substitutions)    \n",
      "        IPython.display.display(sm.Eq(p, out))\n",
      "\n",
      "        out = expr.evalf(subs=substitutions)\n",
      "        out = float(out)\n",
      "        IPython.display.display(sm.Eq(p, out))\n",
      "        \n",
      "        H_values_2.append(out)"
     ],
     "language": "python",
     "metadata": {},
     "outputs": [
      {
       "output_type": "stream",
       "stream": "stdout",
       "text": [
        "-----\n"
       ]
      },
      {
       "latex": [
        "$$a_{11} = h_{11} - h_{13} h_{31}$$"
       ],
       "metadata": {},
       "output_type": "display_data",
       "text": [
        "a\u2081\u2081 = h\u2081\u2081 - h\u2081\u2083\u22c5h\u2083\u2081"
       ]
      },
      {
       "latex": [
        "$$a_{11} = -1.4142135623731$$"
       ],
       "metadata": {},
       "output_type": "display_data",
       "text": [
        "a\u2081\u2081 = -1.4142135623731"
       ]
      },
      {
       "output_type": "stream",
       "stream": "stdout",
       "text": [
        "-----\n"
       ]
      },
      {
       "latex": [
        "$$a_{12} = h_{12} - h_{13} h_{32}$$"
       ],
       "metadata": {},
       "output_type": "display_data",
       "text": [
        "a\u2081\u2082 = h\u2081\u2082 - h\u2081\u2083\u22c5h\u2083\u2082"
       ]
      },
      {
       "latex": [
        "$$a_{12} = 1.41421356237309$$"
       ],
       "metadata": {},
       "output_type": "display_data",
       "text": [
        "a\u2081\u2082 = 1.41421356237309"
       ]
      },
      {
       "output_type": "stream",
       "stream": "stdout",
       "text": [
        "-----\n"
       ]
      },
      {
       "latex": [
        "$$a_{21} = h_{21} - h_{23} h_{31}$$"
       ],
       "metadata": {},
       "output_type": "display_data",
       "text": [
        "a\u2082\u2081 = h\u2082\u2081 - h\u2082\u2083\u22c5h\u2083\u2081"
       ]
      },
      {
       "latex": [
        "$$a_{21} = 0.470226009489054$$"
       ],
       "metadata": {},
       "output_type": "display_data",
       "text": [
        "a\u2082\u2081 = 0.470226009489054"
       ]
      },
      {
       "output_type": "stream",
       "stream": "stdout",
       "text": [
        "-----\n"
       ]
      },
      {
       "latex": [
        "$$a_{22} = h_{22} - h_{23} h_{32}$$"
       ],
       "metadata": {},
       "output_type": "display_data",
       "text": [
        "a\u2082\u2082 = h\u2082\u2082 - h\u2082\u2083\u22c5h\u2083\u2082"
       ]
      },
      {
       "latex": [
        "$$a_{22} = 0.236880771697493$$"
       ],
       "metadata": {},
       "output_type": "display_data",
       "text": [
        "a\u2082\u2082 = 0.236880771697493"
       ]
      }
     ],
     "prompt_number": 90
    },
    {
     "cell_type": "heading",
     "level": 2,
     "metadata": {},
     "source": [
      "Part 3: Solve for Scale, Shear, and Rotation"
     ]
    },
    {
     "cell_type": "code",
     "collapsed": false,
     "input": [
      "# Model scenario, Model scenario, inner 2 x 2.\n",
      "\n",
      "# H_data_2 = sm.Matrix([[H_values_2[0], H_values_2[1]],\n",
      "#                       [H_values_2[2], H_values_2[3]]])\n",
      "# H_data_2 = sm.Matrix([[H_expr_2[0], H_expr_2[1]],\n",
      "#                       [H_expr_2[2], H_expr_2[3]]])\n",
      "H_data_2 = sm.Matrix([[a11, a12],\n",
      "                      [a21, a22]])\n",
      "\n",
      "H_model_2 = H_scale * H_shear * H_rotate\n",
      "\n",
      "equations = [sm.Eq(H_model_2, H_data_2)]\n",
      "# equations = [sm.Eq(H_model_2[0], H_data_2[0]),\n",
      "#              sm.Eq(H_model_2[1], H_data_2[1]),\n",
      "#              sm.Eq(H_model_2[2], H_data_2[2]),\n",
      "#              sm.Eq(H_model_2[3], H_data_2[3])]\n",
      "\n",
      "# Subsitutions for \"observed\" data.\n",
      "substitutions = {a11: H_values_2[0], a12: H_values_2[1],\n",
      "                 a21: H_values_2[2], a22: H_values_2[3]}\n",
      "\n",
      "for e in equations:\n",
      "    IPython.display.display(e)"
     ],
     "language": "python",
     "metadata": {},
     "outputs": [
      {
       "latex": [
        "$$\\left[\\begin{matrix}c_{x} \\cos{\\left (\\theta_{r} \\right )} & - c_{x} \\sin{\\left (\\theta_{r} \\right )}\\\\c_{y} s_{y} \\cos{\\left (\\theta_{r} \\right )} + c_{y} \\sin{\\left (\\theta_{r} \\right )} & - c_{y} s_{y} \\sin{\\left (\\theta_{r} \\right )} + c_{y} \\cos{\\left (\\theta_{r} \\right )}\\end{matrix}\\right] = \\left[\\begin{matrix}a_{11} & a_{12}\\\\a_{21} & a_{22}\\end{matrix}\\right]$$"
       ],
       "metadata": {},
       "output_type": "display_data",
       "text": [
        "\u23a1         c\u2093\u22c5cos(\u03b8\u1d63)                     -c\u2093\u22c5sin(\u03b8\u1d63)          \u23a4 = \u23a1a\u2081\u2081  a\u2081\u2082\u23a4\n",
        "\u23a2                                                             \u23a5   \u23a2        \u23a5\n",
        "\u23a3c_y\u22c5s_y\u22c5cos(\u03b8\u1d63) + c_y\u22c5sin(\u03b8\u1d63)  -c_y\u22c5s_y\u22c5sin(\u03b8\u1d63) + c_y\u22c5cos(\u03b8\u1d63)\u23a6   \u23a3a\u2082\u2081  a\u2082\u2082\u23a6"
       ]
      }
     ],
     "prompt_number": 91
    },
    {
     "cell_type": "code",
     "collapsed": false,
     "input": [
      "H_data_2.det().evalf(subs=substitutions)"
     ],
     "language": "python",
     "metadata": {},
     "outputs": [
      {
       "latex": [
        "$$-1.0$$"
       ],
       "metadata": {},
       "output_type": "pyout",
       "prompt_number": 92,
       "text": [
        "-1.00000000000000"
       ]
      }
     ],
     "prompt_number": 92
    },
    {
     "cell_type": "code",
     "collapsed": false,
     "input": [
      "# Analytical solution.\n",
      "results_2 = sm.solve(equations,\n",
      "                     theta, scale_x, scale_y, shear_y,\n",
      "                     dict=True,\n",
      "                     warning=True, manual=False)\n",
      "\n",
      "# results_2"
     ],
     "language": "python",
     "metadata": {},
     "outputs": [],
     "prompt_number": 93
    },
    {
     "cell_type": "code",
     "collapsed": false,
     "input": [
      "# Scale\n",
      "params = [scale_x, scale_y]\n",
      "\n",
      "truth = [scale_x0, scale_y0]\n",
      "\n",
      "for p, t in zip(params, truth):\n",
      "    print('-----')\n",
      "\n",
      "    for r in results_2:\n",
      "        expr = r[p]\n",
      "        expr.simplify()       \n",
      "\n",
      "#         IPython.display.display(expr)\n",
      "        \n",
      "#         expr_str = lambdastr(None, expr)\n",
      "#         print(expr_str)        \n",
      "        \n",
      "        out = expr.evalf(subs=substitutions)    \n",
      "\n",
      "        template = '{} = {} = {:.3f} \\\\ =? \\\\ \\\\ {:.3f}'\n",
      "        m = IPython.display.Math(template.format(sm.latex(p), sm.latex(expr), float(out), t))\n",
      "        IPython.display.display(m)"
     ],
     "language": "python",
     "metadata": {},
     "outputs": [
      {
       "output_type": "stream",
       "stream": "stdout",
       "text": [
        "-----\n"
       ]
      },
      {
       "latex": [
        "$$c_{x} = - \\frac{a_{12}}{\\sin{\\left (2 \\operatorname{atan}{\\left (\\frac{a_{11}}{a_{12}} + \\frac{1}{a_{12}} \\sqrt{a_{11}^{2} + a_{12}^{2}} \\right )} \\right )}} = -2.000 \\ =? \\ \\ -2.000$$"
       ],
       "metadata": {},
       "output_type": "display_data",
       "text": [
        "<IPython.core.display.Math at 0x139b6400>"
       ]
      },
      {
       "output_type": "stream",
       "stream": "stdout",
       "text": [
        "-----\n"
       ]
      },
      {
       "latex": [
        "$$c_{y} = \\frac{a_{21}}{\\sin{\\left (2 \\operatorname{atan}{\\left (\\frac{a_{11}}{a_{12}} + \\frac{1}{a_{12}} \\sqrt{a_{11}^{2} + a_{12}^{2}} \\right )} \\right )} + \\frac{\\left(a_{21} \\cos{\\left (2 \\operatorname{atan}{\\left (\\frac{a_{11}}{a_{12}} + \\frac{1}{a_{12}} \\sqrt{a_{11}^{2} + a_{12}^{2}} \\right )} \\right )} - a_{22} \\sin{\\left (2 \\operatorname{atan}{\\left (\\frac{a_{11}}{a_{12}} + \\frac{1}{a_{12}} \\sqrt{a_{11}^{2} + a_{12}^{2}} \\right )} \\right )}\\right) \\cos{\\left (2 \\operatorname{atan}{\\left (\\frac{a_{11}}{a_{12}} + \\frac{1}{a_{12}} \\sqrt{a_{11}^{2} + a_{12}^{2}} \\right )} \\right )}}{a_{21} \\sin{\\left (2 \\operatorname{atan}{\\left (\\frac{a_{11}}{a_{12}} + \\frac{1}{a_{12}} \\sqrt{a_{11}^{2} + a_{12}^{2}} \\right )} \\right )} + a_{22} \\cos{\\left (2 \\operatorname{atan}{\\left (\\frac{a_{11}}{a_{12}} + \\frac{1}{a_{12}} \\sqrt{a_{11}^{2} + a_{12}^{2}} \\right )} \\right )}}} = 0.500 \\ =? \\ \\ 0.500$$"
       ],
       "metadata": {},
       "output_type": "display_data",
       "text": [
        "<IPython.core.display.Math at 0x13b52b00>"
       ]
      }
     ],
     "prompt_number": 94
    },
    {
     "cell_type": "code",
     "collapsed": false,
     "input": [
      "# Shear\n",
      "params = [shear_y]  # , shear_y]\n",
      "\n",
      "truth = [shear_y0]  # , shear_y0]\n",
      "\n",
      "for p, t in zip(params, truth):\n",
      "    print('-----')\n",
      "\n",
      "    for r in results_2:\n",
      "        expr = r[p]\n",
      "        expr.simplify()       \n",
      "\n",
      "        out = expr.evalf(subs=substitutions)    \n",
      "\n",
      "        template = '{} = {} = {:.3f} \\\\ =? \\\\ \\\\ {:.3f}'\n",
      "        m = IPython.display.Math(template.format(sm.latex(p), sm.latex(expr), float(out), t))\n",
      "        IPython.display.display(m)"
     ],
     "language": "python",
     "metadata": {},
     "outputs": [
      {
       "output_type": "stream",
       "stream": "stdout",
       "text": [
        "-----\n"
       ]
      },
      {
       "latex": [
        "$$s_{y} = \\frac{a_{21} \\cos{\\left (2 \\operatorname{atan}{\\left (\\frac{a_{11}}{a_{12}} + \\frac{1}{a_{12}} \\sqrt{a_{11}^{2} + a_{12}^{2}} \\right )} \\right )} - a_{22} \\sin{\\left (2 \\operatorname{atan}{\\left (\\frac{a_{11}}{a_{12}} + \\frac{1}{a_{12}} \\sqrt{a_{11}^{2} + a_{12}^{2}} \\right )} \\right )}}{a_{21} \\sin{\\left (2 \\operatorname{atan}{\\left (\\frac{a_{11}}{a_{12}} + \\frac{1}{a_{12}} \\sqrt{a_{11}^{2} + a_{12}^{2}} \\right )} \\right )} + a_{22} \\cos{\\left (2 \\operatorname{atan}{\\left (\\frac{a_{11}}{a_{12}} + \\frac{1}{a_{12}} \\sqrt{a_{11}^{2} + a_{12}^{2}} \\right )} \\right )}} = 0.330 \\ =? \\ \\ 0.330$$"
       ],
       "metadata": {},
       "output_type": "display_data",
       "text": [
        "<IPython.core.display.Math at 0x138cdef0>"
       ]
      }
     ],
     "prompt_number": 95
    },
    {
     "cell_type": "code",
     "collapsed": false,
     "input": [
      "# Rotation.\n",
      "params = [theta]\n",
      "\n",
      "truth = [r_angle]\n",
      "\n",
      "for p, t in zip(params, truth):\n",
      "    print('-----')\n",
      "\n",
      "    for r in results_2:\n",
      "        expr = r[p]\n",
      "\n",
      "        out = expr.evalf(subs=substitutions)\n",
      "\n",
      "        template = '{} = {} = {:.3f} \\\\ =? \\\\ \\\\ {:.3f}'\n",
      "        m = IPython.display.Math(template.format(sm.latex(p), sm.latex(expr), float(out), t))\n",
      "        IPython.display.display(m)"
     ],
     "language": "python",
     "metadata": {},
     "outputs": [
      {
       "output_type": "stream",
       "stream": "stdout",
       "text": [
        "-----\n"
       ]
      },
      {
       "latex": [
        "$$\\theta_{r} = 2 \\operatorname{atan}{\\left (\\frac{a_{11}}{a_{12}} + \\frac{1}{a_{12}} \\sqrt{a_{11}^{2} + a_{12}^{2}} \\right )} = 0.785 \\ =? \\ \\ 0.785$$"
       ],
       "metadata": {},
       "output_type": "display_data",
       "text": [
        "<IPython.core.display.Math at 0x13d60f28>"
       ]
      }
     ],
     "prompt_number": 96
    },
    {
     "cell_type": "code",
     "collapsed": false,
     "input": [
      "# Scale, shear, rotate\n",
      "params = [scale_x, scale_y, shear_y, theta]\n",
      "\n",
      "truth = [scale_x0, scale_y0, shear_y0, r_angle]\n",
      "\n",
      "for r in results_2:\n",
      "    print('-----')\n",
      "    for p, t in zip(params, truth):\n",
      "\n",
      "        expr = r[p]\n",
      "        expr.simplify()       \n",
      "\n",
      "        out = expr.evalf(subs=substitutions)    \n",
      "\n",
      "        template = '{} = {} = {:.3f} \\\\ =? \\\\ \\\\ {:.3f}'\n",
      "        m = IPython.display.Math(template.format(sm.latex(p), sm.latex(expr), float(out), t))\n",
      "        IPython.display.display(m)"
     ],
     "language": "python",
     "metadata": {},
     "outputs": [
      {
       "output_type": "stream",
       "stream": "stdout",
       "text": [
        "-----\n"
       ]
      },
      {
       "latex": [
        "$$c_{x} = - \\frac{a_{12}}{\\sin{\\left (2 \\operatorname{atan}{\\left (\\frac{a_{11}}{a_{12}} + \\frac{1}{a_{12}} \\sqrt{a_{11}^{2} + a_{12}^{2}} \\right )} \\right )}} = -2.000 \\ =? \\ \\ -2.000$$"
       ],
       "metadata": {},
       "output_type": "display_data",
       "text": [
        "<IPython.core.display.Math at 0x1344fa90>"
       ]
      },
      {
       "latex": [
        "$$c_{y} = \\frac{a_{21}}{\\sin{\\left (2 \\operatorname{atan}{\\left (\\frac{a_{11}}{a_{12}} + \\frac{1}{a_{12}} \\sqrt{a_{11}^{2} + a_{12}^{2}} \\right )} \\right )} + \\frac{\\left(a_{21} \\cos{\\left (2 \\operatorname{atan}{\\left (\\frac{a_{11}}{a_{12}} + \\frac{1}{a_{12}} \\sqrt{a_{11}^{2} + a_{12}^{2}} \\right )} \\right )} - a_{22} \\sin{\\left (2 \\operatorname{atan}{\\left (\\frac{a_{11}}{a_{12}} + \\frac{1}{a_{12}} \\sqrt{a_{11}^{2} + a_{12}^{2}} \\right )} \\right )}\\right) \\cos{\\left (2 \\operatorname{atan}{\\left (\\frac{a_{11}}{a_{12}} + \\frac{1}{a_{12}} \\sqrt{a_{11}^{2} + a_{12}^{2}} \\right )} \\right )}}{a_{21} \\sin{\\left (2 \\operatorname{atan}{\\left (\\frac{a_{11}}{a_{12}} + \\frac{1}{a_{12}} \\sqrt{a_{11}^{2} + a_{12}^{2}} \\right )} \\right )} + a_{22} \\cos{\\left (2 \\operatorname{atan}{\\left (\\frac{a_{11}}{a_{12}} + \\frac{1}{a_{12}} \\sqrt{a_{11}^{2} + a_{12}^{2}} \\right )} \\right )}}} = 0.500 \\ =? \\ \\ 0.500$$"
       ],
       "metadata": {},
       "output_type": "display_data",
       "text": [
        "<IPython.core.display.Math at 0x13d60f28>"
       ]
      },
      {
       "latex": [
        "$$s_{y} = \\frac{a_{21} \\cos{\\left (2 \\operatorname{atan}{\\left (\\frac{a_{11}}{a_{12}} + \\frac{1}{a_{12}} \\sqrt{a_{11}^{2} + a_{12}^{2}} \\right )} \\right )} - a_{22} \\sin{\\left (2 \\operatorname{atan}{\\left (\\frac{a_{11}}{a_{12}} + \\frac{1}{a_{12}} \\sqrt{a_{11}^{2} + a_{12}^{2}} \\right )} \\right )}}{a_{21} \\sin{\\left (2 \\operatorname{atan}{\\left (\\frac{a_{11}}{a_{12}} + \\frac{1}{a_{12}} \\sqrt{a_{11}^{2} + a_{12}^{2}} \\right )} \\right )} + a_{22} \\cos{\\left (2 \\operatorname{atan}{\\left (\\frac{a_{11}}{a_{12}} + \\frac{1}{a_{12}} \\sqrt{a_{11}^{2} + a_{12}^{2}} \\right )} \\right )}} = 0.330 \\ =? \\ \\ 0.330$$"
       ],
       "metadata": {},
       "output_type": "display_data",
       "text": [
        "<IPython.core.display.Math at 0x1344fa90>"
       ]
      },
      {
       "latex": [
        "$$\\theta_{r} = 2 \\operatorname{atan}{\\left (\\frac{a_{11}}{a_{12}} + \\frac{1}{a_{12}} \\sqrt{a_{11}^{2} + a_{12}^{2}} \\right )} = 0.785 \\ =? \\ \\ 0.785$$"
       ],
       "metadata": {},
       "output_type": "display_data",
       "text": [
        "<IPython.core.display.Math at 0x13d60f28>"
       ]
      }
     ],
     "prompt_number": 97
    },
    {
     "cell_type": "code",
     "collapsed": false,
     "input": [
      "# http://math.stackexchange.com/questions/78137/decomposition-of-a-nonsquare-affine-matrix\n",
      "    \n",
      "a = float(a11.evalf(subs=substitutions))\n",
      "b = float(a12.evalf(subs=substitutions))\n",
      "d = float(a21.evalf(subs=substitutions))\n",
      "e = float(a22.evalf(subs=substitutions))\n",
      "\n",
      "D2 = a*e - b*d\n",
      "\n",
      "if D2 < 0:\n",
      "    a *= -1\n",
      "    b *= -1\n",
      "    D2 *= -1\n",
      "    \n",
      "D = D2**.5\n",
      "\n",
      "p = (a**2 + b**2)**.5\n",
      "r = D/p\n",
      "q = (a*d + b*e) / D\n",
      "t = np.arctan2(-b, a)\n",
      "\n",
      "print('\\nDeterminant: {}'.format(D))\n",
      "print('p: {} [{}]'.format(p, scale_x0))\n",
      "print('r: {} [{}]'.format(r, scale_y0))\n",
      "print('q: {} [{}]'.format(q, shear_y0))\n",
      "print('t: {} [{}]'.format(t, r_angle))\n"
     ],
     "language": "python",
     "metadata": {},
     "outputs": [
      {
       "output_type": "stream",
       "stream": "stdout",
       "text": [
        "\n",
        "Determinant: 1.0\n",
        "p: 2.0 [-2.0]\n",
        "r: 0.5 [0.5]\n",
        "q: 0.33 [0.33]\n",
        "t: 0.785398163397 [0.785398163397]\n"
       ]
      }
     ],
     "prompt_number": 102
    },
    {
     "cell_type": "code",
     "collapsed": false,
     "input": [],
     "language": "python",
     "metadata": {},
     "outputs": [],
     "prompt_number": 98
    },
    {
     "cell_type": "code",
     "collapsed": false,
     "input": [],
     "language": "python",
     "metadata": {},
     "outputs": [],
     "prompt_number": 98
    },
    {
     "cell_type": "code",
     "collapsed": false,
     "input": [
      "1/0"
     ],
     "language": "python",
     "metadata": {},
     "outputs": [
      {
       "ename": "ZeroDivisionError",
       "evalue": "division by zero",
       "output_type": "pyerr",
       "traceback": [
        "\u001b[1;31m---------------------------------------------------------------------------\u001b[0m\n\u001b[1;31mZeroDivisionError\u001b[0m                         Traceback (most recent call last)",
        "\u001b[1;32m<ipython-input-99-05c9758a9c21>\u001b[0m in \u001b[0;36m<module>\u001b[1;34m()\u001b[0m\n\u001b[1;32m----> 1\u001b[1;33m \u001b[1;36m1\u001b[0m\u001b[1;33m/\u001b[0m\u001b[1;36m0\u001b[0m\u001b[1;33m\u001b[0m\u001b[0m\n\u001b[0m",
        "\u001b[1;31mZeroDivisionError\u001b[0m: division by zero"
       ]
      }
     ],
     "prompt_number": 99
    },
    {
     "cell_type": "code",
     "collapsed": false,
     "input": [
      "def decompose(H):\n",
      "    \"\"\"\n",
      "    Decompose general transform matrix into elemental transforms.\n",
      "\n",
      "    Parameters\n",
      "    ----------\n",
      "    H : Transform matrix\n",
      "\n",
      "    Returns\n",
      "    -------\n",
      "    H_scale, H_shear, H_rorate, H_translate, H_perspective\n",
      "    \n",
      "    Notes\n",
      "    -----\n",
      "    See this paper for details:\n",
      "\n",
      "    \"Projective Transformations for Image Transition Animations\"\n",
      "    \n",
      "    Section 3.1 using QR decomposition, Google Docs PDF: http://goo.gl/Ohd5bA\n",
      "    \n",
      "    Homography matrix:\n",
      "    \n",
      "        | h_11  h_12  h_13 |\n",
      "    H = | h_21  h_22  h_23 |\n",
      "        | h_31  h_32  h_33 |\n",
      "    \n",
      "    \"\"\"\n",
      "\n",
      "    # Perspective.\n",
      "    H_perspective = np.identity(3)\n",
      "    H_perspective[2] = H[2]\n",
      "        \n",
      "    # Translation.\n",
      "    H_translate = np.identity(3)\n",
      "    H_translate[:, 2] = H[:, 2]\n",
      "    \n",
      "    # Non-homogeneous affine transform (scale, rotate, shear).\n",
      "    A = H[:2, :2]\n",
      "    \n",
      "    # http://docs.scipy.org/doc/scipy/reference/tutorial/linalg.html#singular-value-decomposition\n",
      "    U, s, Vh = sp.linalg.svd(A)\n",
      "\n",
      "    m, n = A.shape\n",
      "    D = sp.linalg.diagsvd(s, m, n)\n",
      "\n",
      "    # Scale.\n",
      "    H_scale = np.identity(3)\n",
      "    H_scale[:2, :2] = D\n",
      "\n",
      "    # Shear.\n",
      "    \n",
      "    # Rotate.\n",
      "    \n",
      "    return U, D, Vh\n",
      "\n",
      "\n",
      "# Perspective.\n",
      "H_perspective = np.identity(3)\n",
      "H_perspective[2] = H[2]\n",
      "\n",
      "# Translation.\n",
      "H_translate = np.identity(3)\n",
      "H_translate[:, 2] = H[:, 2]\n",
      "\n",
      "# Non-homogeneous affine transform (scale, rotate, shear).\n",
      "A = H[:2, :2]\n",
      "\n",
      "# http://docs.scipy.org/doc/scipy/reference/tutorial/linalg.html#singular-value-decomposition\n",
      "U, s, Vh = sp.linalg.svd(A)\n",
      "\n",
      "m, n = A.shape\n",
      "D = sp.linalg.diagsvd(s, m, n)\n",
      "\n",
      "# Scale.\n",
      "H_scale = np.identity(3)\n",
      "H_scale[:2, :2] = D\n",
      "\n",
      "# Rotation.\n",
      "H_rotate = np.identity(3)\n",
      "\n",
      "# Shear.\n",
      "H_shear = np.identity(3)\n",
      "\n",
      "\n",
      "print('\\nPerspective:  {}, {}'.format(pa, pb))\n",
      "print('{}'.format(H_perspective))\n",
      "\n",
      "print('\\nScale: {}, {}'.format(scale[0], scale[1]))\n",
      "print('{}'.format(H_scale))\n",
      "\n",
      "print('\\nShear: {}, {:.3f} [{}]'.format(s_factor, s_angle, np.rad2deg(s_angle)))\n",
      "print('{}'.format(H_shear))\n",
      "\n",
      "print('\\nRotation: {:.3f} [{}]'.format(r_angle, np.rad2deg(r_angle)))\n",
      "print('{}'.format(H_rotate))\n",
      "\n",
      "print('\\nTranslate: {}, {}'.format(offset[0], offset[1]))\n",
      "print('{}'.format(H_translate))"
     ],
     "language": "python",
     "metadata": {},
     "outputs": []
    },
    {
     "cell_type": "code",
     "collapsed": false,
     "input": [],
     "language": "python",
     "metadata": {},
     "outputs": []
    }
   ],
   "metadata": {}
  }
 ]
}
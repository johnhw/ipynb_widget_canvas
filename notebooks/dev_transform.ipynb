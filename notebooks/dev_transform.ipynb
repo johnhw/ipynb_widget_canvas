{
 "metadata": {
  "name": "",
  "signature": "sha256:5990974334ecf7c9aafee45b844ee7304f3340f4f9ce145d71cc5141e716c062"
 },
 "nbformat": 3,
 "nbformat_minor": 0,
 "worksheets": [
  {
   "cells": [
    {
     "cell_type": "code",
     "collapsed": false,
     "input": [
      "\n",
      "from __future__ import division, print_function, unicode_literals\n",
      "\n",
      "\"\"\"\n",
      "This is a simple class for keeping track of the current transformation matrix.\n",
      "self.Python implementation was inspired by the JavaScript implementation\n",
      "by Simon Sarris: https://github.com/simonsarris/Canvas-tutorials/blob/master/transform.js\n",
      "\"\"\"\n",
      "import math\n",
      "\n",
      "\n",
      "class Transform(object):\n",
      "    \"\"\"\n",
      "    This is a simple class for manipulating and keeping track of a transformation matrix.\n",
      "    \"\"\"\n",
      "    def __init__(self, values=None):\n",
      "        \"\"\"\n",
      "        Create a new instance of a Transform.\n",
      "        Defined by a sequence of six numbers from the elements\n",
      "        of the matrix [m11, m12, m13,\n",
      "                       m21, m22, m23,\n",
      "                       0.0, 0.0, 1.0]\n",
      "\n",
      "        These values are stored internally as a sequence in a form directly compatible with\n",
      "        the HTML5 Canvas Element's Context method setTransform().  The internal flattened\n",
      "        representation is given by the sequence: M = [m11, m12, m21, m22, m13, m23]\n",
      "\n",
      "        See link for details:\n",
      "        http://www.whatwg.org/specs/web-apps/current-work/multipage/the-canvas-element.html#transformations\n",
      "\n",
      "        Different browser API implementation may swap m12 with m21.  See the Note mentioned in the\n",
      "        linked description.\n",
      "\n",
      "        Initialize self if optional values are supplied.\n",
      "        \"\"\"\n",
      "        self.reset()\n",
      "        if values:\n",
      "            self.values = values\n",
      "       \n",
      "    def __repr__(self):\n",
      "        \"\"\"\n",
      "        Set transform to supplied values, M = [m11, m12, m21, m22, m13, m23].\n",
      "        \"\"\"\n",
      "        return '{0:6.2f} {1:6.2f} {4:6.2f}\\n{2:6.2f} {3:6.2f} {5:6.2f}\\n'.format(self[0], self[1], self[2],\n",
      "                                                                           self[3], self[4], self[5])\n",
      "\n",
      "    ####################################################3\n",
      "    \n",
      "    def __getitem__(self, key):\n",
      "        return self._values[key]\n",
      "\n",
      "    def __setitem__(self, key, value):\n",
      "        if type(key) is not int:\n",
      "            raise ValueError('Index type must be int. Received: {}'.format(type(key)))\n",
      "\n",
      "        if not (0 <= key <= 5):\n",
      "            raise ValueError('Index must be between 0 and 5: {:d}'.format(key))\n",
      "            \n",
      "        self._values[key] = value\n",
      "\n",
      "    def __iter__(self):\n",
      "        return self._values.__iter__()\n",
      "\n",
      "    def __contains__(self, value):\n",
      "        return value in self._values\n",
      "\n",
      "    def iterkeys(self):\n",
      "        return self.__iter__()\n",
      "\n",
      "    @property\n",
      "    def values(self):\n",
      "        \"\"\"Current transform, M = [m11, m12, m21, m22, m13, m23].\n",
      "        \"\"\"\n",
      "        return self._values\n",
      "    \n",
      "    def reset(self):\n",
      "        \"\"\"Reset self to identity transform.\n",
      "        \"\"\"\n",
      "        self._values = [1, 0, 0, 1, 0, 0]\n",
      "\n",
      "    def multiply(self, Q):\n",
      "        \"\"\"Apply supplied transform to self.\n",
      "        \"\"\"\n",
      "        if not isinstance(Q, type(self)):\n",
      "            raise ValueError('Supplied value must be a Transform instance.')\n",
      "\n",
      "        m11 = self[0]*Q[0] + self[2]*Q[1]\n",
      "        m12 = self[1]*Q[0] + self[3]*Q[1]\n",
      "\n",
      "        m21 = self[0]*Q[2] + self[2]*Q[3]\n",
      "        m22 = self[1]*Q[2] + self[3]*Q[3]\n",
      "\n",
      "        m13 = self[0]*Q[4] + self[2]*Q[5] + self[4]\n",
      "        m23 = self[1]*Q[4] + self[3]*Q[5] + self[5]\n",
      "        \n",
      "        for k, v in enumerate([m11, m12, m21, m22, m13, m23]):\n",
      "            self[k] = v\n",
      "\n",
      "    def invert(self):\n",
      "        \"\"\"Invert self.\n",
      "        \"\"\"\n",
      "        d = 1. / (self[0]*self[3] - self[1]*self[2])\n",
      "\n",
      "        m11 =  self[3]*d\n",
      "        m12 = -self[1]*d\n",
      "        m21 = -self[2]*d\n",
      "        m22 =  self[0]*d\n",
      "        m13 = d*(self[2]*self[5] - self[3]*self[4])\n",
      "        m23 = d*(self[1]*self[4] - self[0]*self[5])\n",
      "\n",
      "        for k, v in enumerate([m11, m12, m21, m22, m13, m23]):\n",
      "            self[k] = v\n",
      "\n",
      "    def rotate(self, rad):\n",
      "        \"\"\"Apply rotation to self.\n",
      "        \"\"\"\n",
      "        c = math.cos(rad)\n",
      "        s = math.sin(rad)\n",
      "\n",
      "        m11 =  self[0]*c + self[2]*s\n",
      "        m12 =  self[1]*c + self[3]*s\n",
      "        m21 = -self[0]*s + self[2]*c\n",
      "        m22 = -self[1]*s + self[3]*c\n",
      " \n",
      "        for k, v in enumerate([m11, m12, m21, m22]):\n",
      "            self[k] = v\n",
      "\n",
      "    def translate(self, dx, dy):\n",
      "        \"\"\"Apply X,Y offsets to self.\n",
      "        \"\"\"\n",
      "        self[4] += self[0]*dx + self[2]*dy\n",
      "        self[5] += self[1]*dx + self[3]*dy\n",
      "\n",
      "    def scale(self, sx, sy=None):\n",
      "        \"\"\"Apply X,Y scale factors to self.\n",
      "        \"\"\"\n",
      "        if not sy:\n",
      "            sy = sx\n",
      "            \n",
      "        self[0] *= sx\n",
      "        self[1] *= sx\n",
      "        self[2] *= sy\n",
      "        self[3] *= sy\n",
      "\n",
      "    def transform_point(self, px, py):\n",
      "        \"\"\"Apply own transform to supplied X,Y data point.\n",
      "        \"\"\"\n",
      "        qx = px*self.values[0] + py*self.values[2] + self.values[4]\n",
      "        qy = px*self.values[1] + py*self.values[3] + self.values[5]\n",
      "\n",
      "        return qx, qy\n"
     ],
     "language": "python",
     "metadata": {},
     "outputs": [],
     "prompt_number": 81
    },
    {
     "cell_type": "code",
     "collapsed": false,
     "input": [
      "T = Transform()\n",
      "T"
     ],
     "language": "python",
     "metadata": {},
     "outputs": [
      {
       "metadata": {},
       "output_type": "pyout",
       "prompt_number": 82,
       "text": [
        "  1.00   0.00   0.00\n",
        "  0.00   1.00   0.00"
       ]
      }
     ],
     "prompt_number": 82
    },
    {
     "cell_type": "code",
     "collapsed": false,
     "input": [
      "T.rotate(np.pi)\n",
      "T"
     ],
     "language": "python",
     "metadata": {},
     "outputs": [
      {
       "metadata": {},
       "output_type": "pyout",
       "prompt_number": 83,
       "text": [
        " -1.00   0.00   0.00\n",
        " -0.00  -1.00   0.00"
       ]
      }
     ],
     "prompt_number": 83
    },
    {
     "cell_type": "code",
     "collapsed": false,
     "input": [
      "T.translate(1, 1)\n",
      "T"
     ],
     "language": "python",
     "metadata": {},
     "outputs": [
      {
       "metadata": {},
       "output_type": "pyout",
       "prompt_number": 88,
       "text": [
        " -8.00   0.00  -9.00\n",
        " -0.00 -200.00 -201.00"
       ]
      }
     ],
     "prompt_number": 88
    },
    {
     "cell_type": "code",
     "collapsed": false,
     "input": [
      "T.scale(2.)\n",
      "T"
     ],
     "language": "python",
     "metadata": {},
     "outputs": [
      {
       "metadata": {},
       "output_type": "pyout",
       "prompt_number": 85,
       "text": [
        " -2.00   0.00  -1.00\n",
        " -0.00  -2.00  -1.00"
       ]
      }
     ],
     "prompt_number": 85
    },
    {
     "cell_type": "code",
     "collapsed": false,
     "input": [
      "T.scale(2, 10)\n",
      "T"
     ],
     "language": "python",
     "metadata": {},
     "outputs": [
      {
       "metadata": {},
       "output_type": "pyout",
       "prompt_number": 87,
       "text": [
        " -8.00   0.00  -1.00\n",
        " -0.00 -200.00  -1.00"
       ]
      }
     ],
     "prompt_number": 87
    },
    {
     "cell_type": "code",
     "collapsed": false,
     "input": [],
     "language": "python",
     "metadata": {},
     "outputs": []
    }
   ],
   "metadata": {}
  }
 ]
}
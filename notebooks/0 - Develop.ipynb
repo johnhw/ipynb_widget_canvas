{
 "cells": [
  {
   "cell_type": "markdown",
   "metadata": {},
   "source": [
    "# Developing Ideas for my Canvas Widget"
   ]
  },
  {
   "cell_type": "code",
   "execution_count": 3,
   "metadata": {
    "collapsed": false,
    "scrolled": true
   },
   "outputs": [],
   "source": [
    "from __future__ import print_function, unicode_literals, division, absolute_import\n",
    "\n",
    "import imageio\n",
    "import IPython\n",
    "\n",
    "from warnings import filterwarnings\n",
    "filterwarnings('ignore', module='IPython.html.widgets')\n",
    "\n",
    "from widget_canvas import widget_canvas\n",
    "from widget_canvas import image"
   ]
  },
  {
   "cell_type": "code",
   "execution_count": 4,
   "metadata": {
    "collapsed": false
   },
   "outputs": [
    {
     "name": "stdout",
     "output_type": "stream",
     "text": [
      "(220, 320, 3)\n",
      "(220, 320, 3)\n",
      "(450, 600, 3)\n"
     ]
    }
   ],
   "source": [
    "# Set parameters, load data.\n",
    "image_doberman = imageio.imread('images/Doberman.jpg')\n",
    "image_whippet = imageio.imread('images/Whippet.jpg')\n",
    "image_wolf = imageio.imread('images/Wolf.jpg')\n",
    "\n",
    "print(image_whippet.shape)\n",
    "print(image_doberman.shape)\n",
    "print(image_wolf.shape)"
   ]
  },
  {
   "cell_type": "markdown",
   "metadata": {},
   "source": [
    "## Display using builtin IPython Image Widget"
   ]
  },
  {
   "cell_type": "code",
   "execution_count": 5,
   "metadata": {
    "collapsed": false
   },
   "outputs": [],
   "source": [
    "data_comp = image.compress(image_whippet)\n",
    "\n",
    "img = IPython.html.widgets.Image(value=data_comp)\n",
    "\n",
    "img"
   ]
  },
  {
   "cell_type": "markdown",
   "metadata": {},
   "source": [
    "## My new Canvas-based image widget"
   ]
  },
  {
   "cell_type": "markdown",
   "metadata": {},
   "source": [
    "See the Jupyter group discussion starting with this post:\n",
    "https://groups.google.com/d/msg/jupyter/A8dfJgRg4xM/wqNWAz1Lg00J\n",
    "\n"
   ]
  },
  {
   "cell_type": "code",
   "execution_count": 6,
   "metadata": {
    "collapsed": false
   },
   "outputs": [],
   "source": [
    "wid = widget_canvas.CanvasImage(image_doberman)"
   ]
  },
  {
   "cell_type": "code",
   "execution_count": 7,
   "metadata": {
    "collapsed": false
   },
   "outputs": [],
   "source": [
    "wid"
   ]
  },
  {
   "cell_type": "code",
   "execution_count": 8,
   "metadata": {
    "collapsed": false
   },
   "outputs": [],
   "source": [
    "wid.data=image_whippet"
   ]
  },
  {
   "cell_type": "markdown",
   "metadata": {
    "collapsed": true
   },
   "source": [
    "https://github.com/ipython/ipython/wiki/widgets"
   ]
  }
 ],
 "metadata": {
  "kernelspec": {
   "display_name": "Python 3",
   "language": "python",
   "name": "python3"
  },
  "language_info": {
   "codemirror_mode": {
    "name": "ipython",
    "version": 3
   },
   "file_extension": ".py",
   "mimetype": "text/x-python",
   "name": "python",
   "nbconvert_exporter": "python",
   "pygments_lexer": "ipython3",
   "version": "3.4.3"
  }
 },
 "nbformat": 4,
 "nbformat_minor": 0
}

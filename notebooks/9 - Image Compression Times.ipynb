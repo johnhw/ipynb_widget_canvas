{
 "metadata": {
  "name": "",
  "signature": "sha256:6680d136e7ea4c20305e1877e8ae79e694a5211bafbad705ef73fb1a9a5f92ae"
 },
 "nbformat": 3,
 "nbformat_minor": 0,
 "worksheets": [
  {
   "cells": [
    {
     "cell_type": "heading",
     "level": 1,
     "metadata": {},
     "source": [
      "Canvas Widget for IPython Notebook"
     ]
    },
    {
     "cell_type": "code",
     "collapsed": false,
     "input": [
      "from __future__ import print_function, unicode_literals, division\n",
      "\n",
      "import time\n",
      "\n",
      "import IPython\n",
      "import widget_canvas as canvas"
     ],
     "language": "python",
     "metadata": {},
     "outputs": [],
     "prompt_number": 3
    },
    {
     "cell_type": "code",
     "collapsed": false,
     "input": [
      "# Set parameters, load data.\n",
      "data_doberman = canvas.image.read('images/Doberman.jpg')\n",
      "data_whippet = canvas.image.read('images/Whippet.jpg')\n"
     ],
     "language": "python",
     "metadata": {},
     "outputs": [],
     "prompt_number": 4
    },
    {
     "cell_type": "code",
     "collapsed": false,
     "input": [
      "import PIL"
     ],
     "language": "python",
     "metadata": {},
     "outputs": [],
     "prompt_number": 5
    },
    {
     "cell_type": "code",
     "collapsed": false,
     "input": [
      "import time\n",
      "reload(canvas.image)\n",
      "\n",
      "quality = 90\n",
      "\n",
      "data_set = canvas.image.setup_data(data_whippet)  #doberman)\n",
      "\n",
      "mode = canvas.image.determine_mode(data_set)\n",
      "\n",
      "t0 = time.time()\n",
      "fmt = 'png'\n",
      "data_png, fmt = canvas.image.compress(data_set, mode, fmt, optimize=True)\n",
      "t1 = time.time()\n",
      "dt_png = t1 - t0\n",
      "\n",
      "print(fmt)\n",
      "\n",
      "# fmt = 'jpeg2000'\n",
      "# data_j2k, fmt = canvas.image.compress(data_set, mode, fmt)\n",
      "# t2 = time.time()\n",
      "# dt_j2k = t2 - t1\n",
      "\n",
      "fmt = 'jpeg'\n",
      "data_jpeg, fmt = canvas.image.compress(data_set, mode, fmt, quality=quality, optimize=True)\n",
      "t3 = time.time()\n",
      "dt_jpeg = t3 - t1\n",
      "print(fmt)\n",
      "\n",
      "\n",
      "fmt = 'webp'\n",
      "data_webp, fmt = canvas.image.compress(data_set, mode, fmt, quality=quality)\n",
      "t4 = time.time()\n",
      "\n",
      "dt_webp = t4 - t3\n",
      "print(fmt)\n",
      "\n",
      "\n",
      "data_b64 = base64.b64encode(data_jpeg)\n",
      "t5 = time.time()\n",
      "\n",
      "dt_b64 = t5 - t4\n",
      "print(fmt)\n",
      "\n",
      "\n",
      "print('{:6d} @ {:.3f}'.format(len(data_png), dt_png))\n",
      "# print('{:6d} @ {:.3f}'.format(len(data_j2k), dt_j2k))\n",
      "print('{:6d} @ {:.3f}'.format(len(data_jpeg), dt_jpeg))\n",
      "print('{:6d} @ {:.3f}'.format(len(data_webp), dt_webp))\n",
      "print('{:6d} @ {}'.format(len(data_b64), dt_b64))\n"
     ],
     "language": "python",
     "metadata": {},
     "outputs": [
      {
       "output_type": "stream",
       "stream": "stdout",
       "text": [
        "png\n",
        "jpeg\n"
       ]
      },
      {
       "ename": "KeyError",
       "evalue": "u'WEBP'",
       "output_type": "pyerr",
       "traceback": [
        "\u001b[1;31m---------------------------------------------------------------------------\u001b[0m\n\u001b[1;31mKeyError\u001b[0m                                  Traceback (most recent call last)",
        "\u001b[1;32m<ipython-input-11-b496c3505519>\u001b[0m in \u001b[0;36m<module>\u001b[1;34m()\u001b[0m\n\u001b[0;32m     29\u001b[0m \u001b[1;33m\u001b[0m\u001b[0m\n\u001b[0;32m     30\u001b[0m \u001b[0mfmt\u001b[0m \u001b[1;33m=\u001b[0m \u001b[1;34m'webp'\u001b[0m\u001b[1;33m\u001b[0m\u001b[0m\n\u001b[1;32m---> 31\u001b[1;33m \u001b[0mdata_webp\u001b[0m\u001b[1;33m,\u001b[0m \u001b[0mfmt\u001b[0m \u001b[1;33m=\u001b[0m \u001b[0mcanvas\u001b[0m\u001b[1;33m.\u001b[0m\u001b[0mimage\u001b[0m\u001b[1;33m.\u001b[0m\u001b[0mcompress\u001b[0m\u001b[1;33m(\u001b[0m\u001b[0mdata_set\u001b[0m\u001b[1;33m,\u001b[0m \u001b[0mmode\u001b[0m\u001b[1;33m,\u001b[0m \u001b[0mfmt\u001b[0m\u001b[1;33m,\u001b[0m \u001b[0mquality\u001b[0m\u001b[1;33m=\u001b[0m\u001b[0mquality\u001b[0m\u001b[1;33m)\u001b[0m\u001b[1;33m\u001b[0m\u001b[0m\n\u001b[0m\u001b[0;32m     32\u001b[0m \u001b[0mt4\u001b[0m \u001b[1;33m=\u001b[0m \u001b[0mtime\u001b[0m\u001b[1;33m.\u001b[0m\u001b[0mtime\u001b[0m\u001b[1;33m(\u001b[0m\u001b[1;33m)\u001b[0m\u001b[1;33m\u001b[0m\u001b[0m\n\u001b[0;32m     33\u001b[0m \u001b[1;33m\u001b[0m\u001b[0m\n",
        "\u001b[1;32m/home/pierre/Projects/ipynb_widget_canvas/widget_canvas/image.pyc\u001b[0m in \u001b[0;36mcompress\u001b[1;34m(data, mode, fmt, **kwargs)\u001b[0m\n\u001b[0;32m    150\u001b[0m     \u001b[1;31m# Use Pillow to compress to specified format.\u001b[0m\u001b[1;33m\u001b[0m\u001b[1;33m\u001b[0m\u001b[0m\n\u001b[0;32m    151\u001b[0m     \u001b[0mbuf\u001b[0m \u001b[1;33m=\u001b[0m \u001b[0mStringIO\u001b[0m\u001b[1;33m.\u001b[0m\u001b[0mStringIO\u001b[0m\u001b[1;33m(\u001b[0m\u001b[1;33m)\u001b[0m\u001b[1;33m\u001b[0m\u001b[0m\n\u001b[1;32m--> 152\u001b[1;33m     \u001b[0mimg\u001b[0m\u001b[1;33m.\u001b[0m\u001b[0msave\u001b[0m\u001b[1;33m(\u001b[0m\u001b[0mbuf\u001b[0m\u001b[1;33m,\u001b[0m \u001b[0mformat\u001b[0m\u001b[1;33m=\u001b[0m\u001b[0mfmt\u001b[0m\u001b[1;33m,\u001b[0m \u001b[1;33m**\u001b[0m\u001b[0mkwargs\u001b[0m\u001b[1;33m)\u001b[0m  \u001b[1;31m# optimize=False,\u001b[0m\u001b[1;33m\u001b[0m\u001b[0m\n\u001b[0m\u001b[0;32m    153\u001b[0m     \u001b[0mdata_comp\u001b[0m \u001b[1;33m=\u001b[0m \u001b[0mbuf\u001b[0m\u001b[1;33m.\u001b[0m\u001b[0mgetvalue\u001b[0m\u001b[1;33m(\u001b[0m\u001b[1;33m)\u001b[0m\u001b[1;33m\u001b[0m\u001b[0m\n\u001b[0;32m    154\u001b[0m \u001b[1;33m\u001b[0m\u001b[0m\n",
        "\u001b[1;32m/usr/local/lib/python2.7/dist-packages/PIL/Image.pyc\u001b[0m in \u001b[0;36msave\u001b[1;34m(self, fp, format, **params)\u001b[0m\n\u001b[0;32m   1553\u001b[0m         \u001b[1;32mexcept\u001b[0m \u001b[0mKeyError\u001b[0m\u001b[1;33m:\u001b[0m\u001b[1;33m\u001b[0m\u001b[0m\n\u001b[0;32m   1554\u001b[0m             \u001b[0minit\u001b[0m\u001b[1;33m(\u001b[0m\u001b[1;33m)\u001b[0m\u001b[1;33m\u001b[0m\u001b[0m\n\u001b[1;32m-> 1555\u001b[1;33m             \u001b[0msave_handler\u001b[0m \u001b[1;33m=\u001b[0m \u001b[0mSAVE\u001b[0m\u001b[1;33m[\u001b[0m\u001b[0mformat\u001b[0m\u001b[1;33m.\u001b[0m\u001b[0mupper\u001b[0m\u001b[1;33m(\u001b[0m\u001b[1;33m)\u001b[0m\u001b[1;33m]\u001b[0m \u001b[1;31m# unknown format\u001b[0m\u001b[1;33m\u001b[0m\u001b[0m\n\u001b[0m\u001b[0;32m   1556\u001b[0m \u001b[1;33m\u001b[0m\u001b[0m\n\u001b[0;32m   1557\u001b[0m         \u001b[1;32mif\u001b[0m \u001b[0misPath\u001b[0m\u001b[1;33m(\u001b[0m\u001b[0mfp\u001b[0m\u001b[1;33m)\u001b[0m\u001b[1;33m:\u001b[0m\u001b[1;33m\u001b[0m\u001b[0m\n",
        "\u001b[1;31mKeyError\u001b[0m: u'WEBP'"
       ]
      }
     ],
     "prompt_number": 11
    },
    {
     "cell_type": "code",
     "collapsed": false,
     "input": [
      "t0"
     ],
     "language": "python",
     "metadata": {},
     "outputs": [
      {
       "metadata": {},
       "output_type": "pyout",
       "prompt_number": 57,
       "text": [
        "1403797497.759"
       ]
      }
     ],
     "prompt_number": 57
    },
    {
     "cell_type": "code",
     "collapsed": false,
     "input": [
      "data_comp[:50]"
     ],
     "language": "python",
     "metadata": {},
     "outputs": [
      {
       "metadata": {},
       "output_type": "pyout",
       "prompt_number": 30,
       "text": [
        "'\\xff\\xd8\\xff\\xe0\\x00\\x10JFIF\\x00\\x01\\x01\\x00\\x00\\x01\\x00\\x01\\x00\\x00\\xff\\xdb\\x00C\\x00\\x08\\x06\\x06\\x07\\x06\\x05\\x08\\x07\\x07\\x07\\t\\t\\x08\\n\\x0c\\x14\\r\\x0c\\x0b\\x0b\\x0c\\x19\\x12\\x13\\x0f'"
       ]
      }
     ],
     "prompt_number": 30
    },
    {
     "cell_type": "code",
     "collapsed": false,
     "input": [
      "IPython.display.display_png(data_comp, raw=True)"
     ],
     "language": "python",
     "metadata": {},
     "outputs": [
      {
       "metadata": {},
       "output_type": "display_data",
       "png": "[encoded data removed]"
      }
     ],
     "prompt_number": 33
    },
    {
     "cell_type": "code",
     "collapsed": false,
     "input": [
      "# Make the widget and display it to the screen.\n",
      "wid = canvas.CanvasWidget()\n",
      "wid.src = src_elephant\n",
      "\n",
      "# wid.height = 100\n",
      "# wid.width = 100"
     ],
     "language": "python",
     "metadata": {},
     "outputs": [],
     "prompt_number": 9
    },
    {
     "cell_type": "markdown",
     "metadata": {},
     "source": [
      "Here's a thought: forget about managing separate values for canvas sizes and for CSS sizes.  Let's assume that CSS sizes are always forced to be the same as the canvas sizes.  Any manipulating is to be done with canvas and with transform."
     ]
    },
    {
     "cell_type": "code",
     "collapsed": false,
     "input": [
      "wid.display()"
     ],
     "language": "python",
     "metadata": {},
     "outputs": [],
     "prompt_number": 10
    },
    {
     "cell_type": "code",
     "collapsed": false,
     "input": [
      "wid.display()"
     ],
     "language": "python",
     "metadata": {},
     "outputs": [],
     "prompt_number": 29
    },
    {
     "cell_type": "code",
     "collapsed": false,
     "input": [
      "wid.display()"
     ],
     "language": "python",
     "metadata": {},
     "outputs": [],
     "prompt_number": 37
    },
    {
     "cell_type": "code",
     "collapsed": false,
     "input": [
      "wid.src = src_whippet"
     ],
     "language": "python",
     "metadata": {},
     "outputs": [],
     "prompt_number": 36
    },
    {
     "cell_type": "markdown",
     "metadata": {},
     "source": [
      "## Decode compressed image\n",
      "\n",
      "- Decoder: https://github.com/notmasteryet/jpgjs\n",
      "- Encoder: https://code.google.com/p/as3corelib/source/browse/trunk/src/com/adobe/images/JPGEncoder.as\n",
      "- Combined: https://github.com/eugeneware/jpeg-js/blob/master/lib/decoder.js\n",
      "  \n",
      "  This package is apparently meant for Node.js.  It looks so simple, should work fine for browser??   Focus for now on just decoding.  Here is an example:\n",
      "  \n",
      "```js\n",
      "var jpegData = fs.readFileSync('grumpycat.jpg');\n",
      "var rawImageData = jpeg.decode(jpegData);\n",
      "```\n",
      "\n",
      "\n",
      "## Working with Blobs\n",
      "\n",
      "\n",
      "## Construct new, empty data array\n",
      "\n",
      "https://developer.mozilla.org/en-US/docs/Web/API/Uint8Array\n",
      "\n",
      "```js\n",
      "var num_pixels = num_lines * num_samples\n",
      "var a = new Uint8Array(num_pixels)\n",
      "```"
     ]
    },
    {
     "cell_type": "code",
     "collapsed": false,
     "input": [
      "%%javascript\n",
      "console.log('sdf')\n",
      "\n",
      "\n",
      "// File API: http://www.w3.org/TR/file-upload/\n",
      "\n",
      "// http://www.html5rocks.com/en/tutorials/file/dndfiles/\n",
      "// var fi = new File()\n",
      "\n",
      "var fileSelector = document.createElement('input');\n",
      " fileSelector.setAttribute('type', 'file');\n",
      "\n",
      " var selectDialogueLink = document.createElement('a');\n",
      " selectDialogueLink.setAttribute('href', '');\n",
      " selectDialogueLink.innerText = \"Select File\";\n",
      "\n",
      " selectDialogueLink.onclick = function () {\n",
      "      fileSelector.click();\n",
      "      return false;\n",
      " }\n",
      "\n",
      " document.body.appendChild(selectDialogueLink);\n"
     ],
     "language": "python",
     "metadata": {},
     "outputs": [
      {
       "javascript": [
        "console.log('sdf')\n",
        "\n",
        "\n",
        "// File API: http://www.w3.org/TR/file-upload/\n",
        "\n",
        "// http://www.html5rocks.com/en/tutorials/file/dndfiles/\n",
        "// var fi = new File()\n",
        "\n",
        "var fileSelector = document.createElement('input');\n",
        " fileSelector.setAttribute('type', 'file');\n",
        "\n",
        " var selectDialogueLink = document.createElement('a');\n",
        " selectDialogueLink.setAttribute('href', '');\n",
        " selectDialogueLink.innerText = \"Select File\";\n",
        "\n",
        " selectDialogueLink.onclick = function () {\n",
        "      fileSelector.click();\n",
        "      return false;\n",
        " }\n",
        "\n",
        " document.body.appendChild(selectDialogueLink);"
       ],
       "metadata": {},
       "output_type": "display_data",
       "text": [
        "<IPython.core.display.Javascript object>"
       ]
      }
     ],
     "prompt_number": 16
    },
    {
     "cell_type": "code",
     "collapsed": false,
     "input": [
      "data_doberman"
     ],
     "language": "python",
     "metadata": {},
     "outputs": [
      {
       "metadata": {},
       "output_type": "pyout",
       "prompt_number": 18,
       "text": [
        "3"
       ]
      }
     ],
     "prompt_number": 18
    },
    {
     "cell_type": "code",
     "collapsed": false,
     "input": [],
     "language": "python",
     "metadata": {},
     "outputs": []
    }
   ],
   "metadata": {}
  }
 ]
}
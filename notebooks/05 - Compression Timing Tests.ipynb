{
 "cells": [
  {
   "cell_type": "markdown",
   "metadata": {},
   "source": [
    "# Image Compression Performance\n",
    "\n",
    "Overall performance of my image display widget based on HTML `Canvas` element is very much dependent on choices made for compression and decompression.  It takes time to compress the image, transfer from back-end to front-end, then decompress and display.  I want to measure the round-trip times for this process with server and client both running on my laptop."
   ]
  },
  {
   "cell_type": "code",
   "execution_count": 1,
   "metadata": {
    "collapsed": false
   },
   "outputs": [],
   "source": [
    "from __future__ import print_function, unicode_literals, division, absolute_import\n",
    "\n",
    "import numpy as np\n",
    "import matplotlib.pyplot as plt\n",
    "%matplotlib inline\n",
    "\n",
    "import imageio\n",
    "import IPython\n",
    "\n",
    "from tictoc import Timer\n",
    "\n",
    "from widget_canvas import widget_canvas"
   ]
  },
  {
   "cell_type": "markdown",
   "metadata": {},
   "source": [
    "## Helper Function"
   ]
  },
  {
   "cell_type": "code",
   "execution_count": 2,
   "metadata": {
    "collapsed": true
   },
   "outputs": [],
   "source": [
    "def time_compress(func, *args, **kwargs):\n",
    "    num = 50\n",
    "    time_best = np.inf\n",
    "    out_best = None\n",
    "    \n",
    "    for k in range(num):\n",
    "        with Timer(verbose=False) as timer:\n",
    "            out = func(*args, **kwargs)\n",
    "            \n",
    "        if timer.time < time_best:\n",
    "            time_best = timer.time\n",
    "            out_best = out\n",
    "    \n",
    "    time_ms = time_best * 1.e3\n",
    "    size_kb = len(out_best)/1024\n",
    "    \n",
    "    return time_ms, size_kb"
   ]
  },
  {
   "cell_type": "markdown",
   "metadata": {},
   "source": [
    "## Load the Data"
   ]
  },
  {
   "cell_type": "code",
   "execution_count": 3,
   "metadata": {
    "collapsed": false
   },
   "outputs": [],
   "source": [
    "data_doberman = imageio.imread('images/Doberman.jpg')\n",
    "data_whippet = imageio.imread('images/Whippet.jpg')\n",
    "\n",
    "template = 'Time: {:.1f} ms,  Size: {:.1f} KB'"
   ]
  },
  {
   "cell_type": "markdown",
   "metadata": {},
   "source": [
    "## PNG"
   ]
  },
  {
   "cell_type": "code",
   "execution_count": 4,
   "metadata": {
    "collapsed": true
   },
   "outputs": [],
   "source": [
    "fmt = 'png'"
   ]
  },
  {
   "cell_type": "code",
   "execution_count": 5,
   "metadata": {
    "collapsed": false
   },
   "outputs": [
    {
     "name": "stdout",
     "output_type": "stream",
     "text": [
      "Time: 25.2 ms,  Size: 131.4 KB\n"
     ]
    }
   ],
   "source": [
    "t, s = time_compress(imageio.imwrite,\n",
    "                     imageio.RETURN_BYTES, data_doberman,\n",
    "                     format=fmt)\n",
    "\n",
    "print(template.format(t, s))"
   ]
  },
  {
   "cell_type": "markdown",
   "metadata": {},
   "source": [
    "## JPEG\n",
    "\n",
    "http://imageio.readthedocs.org/en/latest/format_jpeg.html#jpeg"
   ]
  },
  {
   "cell_type": "code",
   "execution_count": 6,
   "metadata": {
    "collapsed": true
   },
   "outputs": [],
   "source": [
    "fmt = 'jpg'\n",
    "quality = 90"
   ]
  },
  {
   "cell_type": "code",
   "execution_count": 7,
   "metadata": {
    "collapsed": false
   },
   "outputs": [
    {
     "name": "stdout",
     "output_type": "stream",
     "text": [
      "Time: 3.2 ms,  Size: 25.0 KB\n"
     ]
    }
   ],
   "source": [
    "t, s = time_compress(imageio.imwrite,\n",
    "                     imageio.RETURN_BYTES, data_doberman,\n",
    "                     format=fmt, quality=quality, optimize=False, baseline=False)\n",
    "\n",
    "print(template.format(t, s))"
   ]
  },
  {
   "cell_type": "markdown",
   "metadata": {},
   "source": [
    "## WEBP\n",
    "\n",
    "Support for WebP within ImageIO package is not that great. Specifically it does not expose the quality parameter when compressing an image.  PILLOW (PIL fork) on the other hand does expose this control.  Something to consider the next time I come back to this part of the project."
   ]
  },
  {
   "cell_type": "code",
   "execution_count": 8,
   "metadata": {
    "collapsed": true
   },
   "outputs": [],
   "source": [
    "fmt = 'webp'"
   ]
  },
  {
   "cell_type": "code",
   "execution_count": 9,
   "metadata": {
    "collapsed": false
   },
   "outputs": [
    {
     "name": "stdout",
     "output_type": "stream",
     "text": [
      "Time: 36.1 ms,  Size: 10.3 KB\n"
     ]
    }
   ],
   "source": [
    "t, s = time_compress(imageio.imwrite,\n",
    "                     imageio.RETURN_BYTES, data_doberman,\n",
    "                     format=fmt)\n",
    "\n",
    "print(template.format(t, s))"
   ]
  },
  {
   "cell_type": "markdown",
   "metadata": {},
   "source": [
    "## JPEG at Various Qualities"
   ]
  },
  {
   "cell_type": "code",
   "execution_count": 15,
   "metadata": {
    "collapsed": true
   },
   "outputs": [],
   "source": [
    "fmt = 'jpg'\n",
    "qualities = [100, 99, 98, 97, 96, 95, 93, 90, 85, 80, 70, 60, 50]"
   ]
  },
  {
   "cell_type": "code",
   "execution_count": 26,
   "metadata": {
    "collapsed": false
   },
   "outputs": [],
   "source": [
    "results = []\n",
    "for Q in qualities:\n",
    "    ts = time_compress(imageio.imwrite,\n",
    "                         imageio.RETURN_BYTES, data_doberman,\n",
    "                         format=fmt, quality=Q, optimize=False, baseline=False)\n",
    "    results.append(ts)\n",
    "results = np.asarray(results).T\n",
    "\n",
    "results_A = results"
   ]
  },
  {
   "cell_type": "code",
   "execution_count": 27,
   "metadata": {
    "collapsed": false
   },
   "outputs": [],
   "source": [
    "results = []\n",
    "for Q in qualities:\n",
    "    ts = time_compress(imageio.imwrite,\n",
    "                         imageio.RETURN_BYTES, data_doberman,\n",
    "                         format=fmt, quality=Q, optimize=True, baseline=False)\n",
    "    results.append(ts)\n",
    "results = np.asarray(results).T\n",
    "\n",
    "results_B = results"
   ]
  },
  {
   "cell_type": "code",
   "execution_count": 28,
   "metadata": {
    "collapsed": false
   },
   "outputs": [],
   "source": [
    "results = []\n",
    "for Q in qualities:\n",
    "    ts = time_compress(imageio.imwrite,\n",
    "                         imageio.RETURN_BYTES, data_doberman,\n",
    "                         format=fmt, quality=Q, optimize=True, baseline=True)\n",
    "    results.append(ts)\n",
    "results = np.asarray(results).T\n",
    "\n",
    "results_C = results"
   ]
  },
  {
   "cell_type": "code",
   "execution_count": 24,
   "metadata": {
    "collapsed": false
   },
   "outputs": [
    {
     "data": {
      "text/plain": [
       "[100, 99, 98, 97, 96, 95, 93, 90, 85, 80, 70, 60, 50]"
      ]
     },
     "execution_count": 24,
     "metadata": {},
     "output_type": "execute_result"
    }
   ],
   "source": [
    "qualities"
   ]
  },
  {
   "cell_type": "markdown",
   "metadata": {},
   "source": [
    "## Nice Plots"
   ]
  },
  {
   "cell_type": "code",
   "execution_count": 29,
   "metadata": {
    "collapsed": false
   },
   "outputs": [
    {
     "data": {
      "image/png": "[encoded data removed]",
      "text/plain": [
       "<matplotlib.figure.Figure at 0x7faa9c3dc470>"
      ]
     },
     "metadata": {},
     "output_type": "display_data"
    }
   ],
   "source": [
    "fig, ax = plt.subplots(figsize=(14, 8))\n",
    "\n",
    "ts, ss = results_A\n",
    "ax.plot(ts, ss, '-o', label='A')\n",
    "\n",
    "ts, ss = results_B\n",
    "ax.plot(ts, ss, '-o', label='B')\n",
    "\n",
    "ts, ss = results_C\n",
    "ax.plot(ts, ss, '-o', label='C')\n",
    "\n",
    "ax.set_xlabel('Run Time (ms)')\n",
    "ax.set_ylabel('Compressed Size (KB)')\n",
    "ax.set_xlim(2., 5.5)\n",
    "ax.set_ylim(0, 70)\n",
    "ax.legend(loc=0)\n",
    "\n",
    "plt.tight_layout()"
   ]
  },
  {
   "cell_type": "code",
   "execution_count": null,
   "metadata": {
    "collapsed": true
   },
   "outputs": [],
   "source": []
  }
 ],
 "metadata": {
  "kernelspec": {
   "display_name": "Python 3",
   "language": "python",
   "name": "python3"
  },
  "language_info": {
   "codemirror_mode": {
    "name": "ipython",
    "version": 3
   },
   "file_extension": ".py",
   "mimetype": "text/x-python",
   "name": "python",
   "nbconvert_exporter": "python",
   "pygments_lexer": "ipython3",
   "version": "3.4.3"
  }
 },
 "nbformat": 4,
 "nbformat_minor": 0
}

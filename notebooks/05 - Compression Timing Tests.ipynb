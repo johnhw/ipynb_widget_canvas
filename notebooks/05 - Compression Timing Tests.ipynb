{
 "cells": [
  {
   "cell_type": "markdown",
   "metadata": {},
   "source": [
    "# Image Compression Performance\n",
    "\n",
    "Overall performance of my image display widget based on HTML `Canvas` element is very much dependent on choices made for compression and decompression.  It takes time to compress the image, transfer from back-end to front-end, then decompress and display.  I want to measure the round-trip times for this process with server and client both running on my laptop."
   ]
  },
  {
   "cell_type": "code",
   "execution_count": 284,
   "metadata": {
    "collapsed": false
   },
   "outputs": [],
   "source": [
    "from __future__ import print_function, unicode_literals, division, absolute_import\n",
    "\n",
    "import numpy as np\n",
    "import matplotlib.pyplot as plt\n",
    "%matplotlib inline\n",
    "\n",
    "import imageio\n",
    "import PIL\n",
    "import IPython\n",
    "\n",
    "from tictoc import Timer\n",
    "\n",
    "from widget_canvas import widget_canvas"
   ]
  },
  {
   "cell_type": "markdown",
   "metadata": {},
   "source": [
    "## Helper Functions"
   ]
  },
  {
   "cell_type": "code",
   "execution_count": 204,
   "metadata": {
    "collapsed": true
   },
   "outputs": [],
   "source": [
    "def time_compress(func, *args, **kwargs):\n",
    "    num = 50\n",
    "    time_best = np.inf\n",
    "    out_best = None\n",
    "    \n",
    "    for k in range(num):\n",
    "        with Timer(verbose=False) as timer:\n",
    "            out = func(*args, **kwargs)\n",
    "            \n",
    "        if timer.time < time_best:\n",
    "            time_best = timer.time\n",
    "            out_best = out\n",
    "    \n",
    "    time_ms = time_best * 1.e3\n",
    "    size_kb = len(out_best)/1024\n",
    "    \n",
    "    return time_ms, size_kb"
   ]
  },
  {
   "cell_type": "markdown",
   "metadata": {},
   "source": [
    "## Load the Data"
   ]
  },
  {
   "cell_type": "code",
   "execution_count": 185,
   "metadata": {
    "collapsed": false
   },
   "outputs": [],
   "source": [
    "data_doberman = imageio.imread('images/Doberman.jpg')\n",
    "data_whippet = imageio.imread('images/Whippet.jpg')\n",
    "\n",
    "template = 'Time: {:.1f} ms,  Size: {:.1f} KB'"
   ]
  },
  {
   "cell_type": "markdown",
   "metadata": {},
   "source": [
    "## PNG"
   ]
  },
  {
   "cell_type": "code",
   "execution_count": 186,
   "metadata": {
    "collapsed": true
   },
   "outputs": [],
   "source": [
    "fmt = 'png'"
   ]
  },
  {
   "cell_type": "code",
   "execution_count": 187,
   "metadata": {
    "collapsed": false
   },
   "outputs": [
    {
     "name": "stdout",
     "output_type": "stream",
     "text": [
      "Time: 25.3 ms,  Size: 131.4 KB\n"
     ]
    }
   ],
   "source": [
    "t, s = time_compress(imageio.imwrite,\n",
    "                     imageio.RETURN_BYTES, data_doberman,\n",
    "                     format=fmt)\n",
    "\n",
    "print(template.format(t, s))"
   ]
  },
  {
   "cell_type": "markdown",
   "metadata": {},
   "source": [
    "## JPEG\n",
    "\n",
    "http://imageio.readthedocs.org/en/latest/format_jpeg.html#jpeg"
   ]
  },
  {
   "cell_type": "code",
   "execution_count": 297,
   "metadata": {
    "collapsed": true
   },
   "outputs": [],
   "source": [
    "fmt = 'jpg'\n",
    "quality = 90"
   ]
  },
  {
   "cell_type": "code",
   "execution_count": 298,
   "metadata": {
    "collapsed": false
   },
   "outputs": [
    {
     "name": "stdout",
     "output_type": "stream",
     "text": [
      "Time: 3.2 ms,  Size: 25.0 KB\n"
     ]
    }
   ],
   "source": [
    "t, s = time_compress(imageio.imwrite,\n",
    "                     imageio.RETURN_BYTES, data_doberman,\n",
    "                     format=fmt, quality=quality, optimize=False, baseline=False)\n",
    "\n",
    "print(template.format(t, s))"
   ]
  },
  {
   "cell_type": "code",
   "execution_count": 285,
   "metadata": {
    "collapsed": false
   },
   "outputs": [
    {
     "data": {
      "text/plain": [
       "'2.9.0'"
      ]
     },
     "execution_count": 285,
     "metadata": {},
     "output_type": "execute_result"
    }
   ],
   "source": [
    "PIL.PILLOW_VERSION"
   ]
  },
  {
   "cell_type": "markdown",
   "metadata": {},
   "source": [
    "## WEBP"
   ]
  },
  {
   "cell_type": "code",
   "execution_count": 291,
   "metadata": {
    "collapsed": true
   },
   "outputs": [],
   "source": [
    "fmt = 'webp'"
   ]
  },
  {
   "cell_type": "code",
   "execution_count": 292,
   "metadata": {
    "collapsed": false
   },
   "outputs": [
    {
     "name": "stdout",
     "output_type": "stream",
     "text": [
      "Time: 36.2 ms,  Size: 10.3 KB\n"
     ]
    }
   ],
   "source": [
    "t, s = time_compress(imageio.imwrite,\n",
    "                     imageio.RETURN_BYTES, data_doberman,\n",
    "                     format=fmt)\n",
    "\n",
    "print(template.format(t, s))"
   ]
  },
  {
   "cell_type": "markdown",
   "metadata": {},
   "source": [
    "## JPEG at Various Qualities"
   ]
  },
  {
   "cell_type": "code",
   "execution_count": 287,
   "metadata": {
    "collapsed": true
   },
   "outputs": [],
   "source": [
    "qualities = [100, 99, 98, 97, 96, 95, 93, 90, 85, 80, 70, 60, 50]"
   ]
  },
  {
   "cell_type": "code",
   "execution_count": 288,
   "metadata": {
    "collapsed": false
   },
   "outputs": [],
   "source": [
    "results = []\n",
    "for Q in qualities:\n",
    "    ts = time_compress(imageio.imwrite,\n",
    "                         imageio.RETURN_BYTES, data_doberman,\n",
    "                         format=fmt, quality=Q, optimize=False, baseline=False)\n",
    "    results.append(ts)\n",
    "results = np.asarray(results).T\n",
    "\n",
    "results_A = results"
   ]
  },
  {
   "cell_type": "code",
   "execution_count": 289,
   "metadata": {
    "collapsed": false
   },
   "outputs": [],
   "source": [
    "results = []\n",
    "for Q in qualities:\n",
    "    ts = time_compress(imageio.imwrite,\n",
    "                         imageio.RETURN_BYTES, data_doberman,\n",
    "                         format=fmt, quality=Q, optimize=True, baseline=True)\n",
    "    results.append(ts)\n",
    "results = np.asarray(results).T\n",
    "\n",
    "results_C = results"
   ]
  },
  {
   "cell_type": "markdown",
   "metadata": {},
   "source": [
    "## Nice Plots"
   ]
  },
  {
   "cell_type": "code",
   "execution_count": 290,
   "metadata": {
    "collapsed": false
   },
   "outputs": [
    {
     "data": {
      "image/png": "[encoded data removed]",
      "text/plain": [
       "<matplotlib.figure.Figure at 0x7fb4e9a93b70>"
      ]
     },
     "metadata": {},
     "output_type": "display_data"
    }
   ],
   "source": [
    "fig, ax = plt.subplots(figsize=(10, 6))\n",
    "\n",
    "ts, ss = results_A\n",
    "ax.plot(ts, ss, '-o', label='A')\n",
    "\n",
    "ts, ss = results_C\n",
    "ax.plot(ts, ss, '-o', label='C')\n",
    "\n",
    "ax.set_xlabel('Run Time (ms)')\n",
    "ax.set_ylabel('Compressed Size (KB)')\n",
    "ax.set_xlim(2., 5.5)\n",
    "ax.set_ylim(0, 70)\n",
    "ax.legend(loc=0)\n",
    "\n",
    "plt.tight_layout()"
   ]
  },
  {
   "cell_type": "code",
   "execution_count": null,
   "metadata": {
    "collapsed": true
   },
   "outputs": [],
   "source": []
  },
  {
   "cell_type": "code",
   "execution_count": null,
   "metadata": {
    "collapsed": true
   },
   "outputs": [],
   "source": []
  },
  {
   "cell_type": "code",
   "execution_count": null,
   "metadata": {
    "collapsed": true
   },
   "outputs": [],
   "source": []
  },
  {
   "cell_type": "code",
   "execution_count": null,
   "metadata": {
    "collapsed": true
   },
   "outputs": [],
   "source": []
  },
  {
   "cell_type": "code",
   "execution_count": null,
   "metadata": {
    "collapsed": true
   },
   "outputs": [],
   "source": []
  },
  {
   "cell_type": "code",
   "execution_count": 43,
   "metadata": {
    "collapsed": false
   },
   "outputs": [
    {
     "data": {
      "text/plain": [
       "Run time: 3.815 us"
      ]
     },
     "execution_count": 43,
     "metadata": {},
     "output_type": "execute_result"
    }
   ],
   "source": [
    "t"
   ]
  },
  {
   "cell_type": "code",
   "execution_count": 11,
   "metadata": {
    "collapsed": false
   },
   "outputs": [
    {
     "name": "stdout",
     "output_type": "stream",
     "text": [
      "png\n",
      "jpeg\n"
     ]
    },
    {
     "ename": "KeyError",
     "evalue": "u'WEBP'",
     "output_type": "error",
     "traceback": [
      "\u001b[1;31m---------------------------------------------------------------------------\u001b[0m\n\u001b[1;31mKeyError\u001b[0m                                  Traceback (most recent call last)",
      "\u001b[1;32m<ipython-input-11-b496c3505519>\u001b[0m in \u001b[0;36m<module>\u001b[1;34m()\u001b[0m\n\u001b[0;32m     29\u001b[0m \u001b[1;33m\u001b[0m\u001b[0m\n\u001b[0;32m     30\u001b[0m \u001b[0mfmt\u001b[0m \u001b[1;33m=\u001b[0m \u001b[1;34m'webp'\u001b[0m\u001b[1;33m\u001b[0m\u001b[0m\n\u001b[1;32m---> 31\u001b[1;33m \u001b[0mdata_webp\u001b[0m\u001b[1;33m,\u001b[0m \u001b[0mfmt\u001b[0m \u001b[1;33m=\u001b[0m \u001b[0mcanvas\u001b[0m\u001b[1;33m.\u001b[0m\u001b[0mimage\u001b[0m\u001b[1;33m.\u001b[0m\u001b[0mcompress\u001b[0m\u001b[1;33m(\u001b[0m\u001b[0mdata_set\u001b[0m\u001b[1;33m,\u001b[0m \u001b[0mmode\u001b[0m\u001b[1;33m,\u001b[0m \u001b[0mfmt\u001b[0m\u001b[1;33m,\u001b[0m \u001b[0mquality\u001b[0m\u001b[1;33m=\u001b[0m\u001b[0mquality\u001b[0m\u001b[1;33m)\u001b[0m\u001b[1;33m\u001b[0m\u001b[0m\n\u001b[0m\u001b[0;32m     32\u001b[0m \u001b[0mt4\u001b[0m \u001b[1;33m=\u001b[0m \u001b[0mtime\u001b[0m\u001b[1;33m.\u001b[0m\u001b[0mtime\u001b[0m\u001b[1;33m(\u001b[0m\u001b[1;33m)\u001b[0m\u001b[1;33m\u001b[0m\u001b[0m\n\u001b[0;32m     33\u001b[0m \u001b[1;33m\u001b[0m\u001b[0m\n",
      "\u001b[1;32m/home/pierre/Projects/ipynb_widget_canvas/widget_canvas/image.pyc\u001b[0m in \u001b[0;36mcompress\u001b[1;34m(data, mode, fmt, **kwargs)\u001b[0m\n\u001b[0;32m    150\u001b[0m     \u001b[1;31m# Use Pillow to compress to specified format.\u001b[0m\u001b[1;33m\u001b[0m\u001b[1;33m\u001b[0m\u001b[0m\n\u001b[0;32m    151\u001b[0m     \u001b[0mbuf\u001b[0m \u001b[1;33m=\u001b[0m \u001b[0mStringIO\u001b[0m\u001b[1;33m.\u001b[0m\u001b[0mStringIO\u001b[0m\u001b[1;33m(\u001b[0m\u001b[1;33m)\u001b[0m\u001b[1;33m\u001b[0m\u001b[0m\n\u001b[1;32m--> 152\u001b[1;33m     \u001b[0mimg\u001b[0m\u001b[1;33m.\u001b[0m\u001b[0msave\u001b[0m\u001b[1;33m(\u001b[0m\u001b[0mbuf\u001b[0m\u001b[1;33m,\u001b[0m \u001b[0mformat\u001b[0m\u001b[1;33m=\u001b[0m\u001b[0mfmt\u001b[0m\u001b[1;33m,\u001b[0m \u001b[1;33m**\u001b[0m\u001b[0mkwargs\u001b[0m\u001b[1;33m)\u001b[0m  \u001b[1;31m# optimize=False,\u001b[0m\u001b[1;33m\u001b[0m\u001b[0m\n\u001b[0m\u001b[0;32m    153\u001b[0m     \u001b[0mdata_comp\u001b[0m \u001b[1;33m=\u001b[0m \u001b[0mbuf\u001b[0m\u001b[1;33m.\u001b[0m\u001b[0mgetvalue\u001b[0m\u001b[1;33m(\u001b[0m\u001b[1;33m)\u001b[0m\u001b[1;33m\u001b[0m\u001b[0m\n\u001b[0;32m    154\u001b[0m \u001b[1;33m\u001b[0m\u001b[0m\n",
      "\u001b[1;32m/usr/local/lib/python2.7/dist-packages/PIL/Image.pyc\u001b[0m in \u001b[0;36msave\u001b[1;34m(self, fp, format, **params)\u001b[0m\n\u001b[0;32m   1553\u001b[0m         \u001b[1;32mexcept\u001b[0m \u001b[0mKeyError\u001b[0m\u001b[1;33m:\u001b[0m\u001b[1;33m\u001b[0m\u001b[0m\n\u001b[0;32m   1554\u001b[0m             \u001b[0minit\u001b[0m\u001b[1;33m(\u001b[0m\u001b[1;33m)\u001b[0m\u001b[1;33m\u001b[0m\u001b[0m\n\u001b[1;32m-> 1555\u001b[1;33m             \u001b[0msave_handler\u001b[0m \u001b[1;33m=\u001b[0m \u001b[0mSAVE\u001b[0m\u001b[1;33m[\u001b[0m\u001b[0mformat\u001b[0m\u001b[1;33m.\u001b[0m\u001b[0mupper\u001b[0m\u001b[1;33m(\u001b[0m\u001b[1;33m)\u001b[0m\u001b[1;33m]\u001b[0m \u001b[1;31m# unknown format\u001b[0m\u001b[1;33m\u001b[0m\u001b[0m\n\u001b[0m\u001b[0;32m   1556\u001b[0m \u001b[1;33m\u001b[0m\u001b[0m\n\u001b[0;32m   1557\u001b[0m         \u001b[1;32mif\u001b[0m \u001b[0misPath\u001b[0m\u001b[1;33m(\u001b[0m\u001b[0mfp\u001b[0m\u001b[1;33m)\u001b[0m\u001b[1;33m:\u001b[0m\u001b[1;33m\u001b[0m\u001b[0m\n",
      "\u001b[1;31mKeyError\u001b[0m: u'WEBP'"
     ]
    }
   ],
   "source": [
    "import time\n",
    "reload(canvas.image)\n",
    "\n",
    "quality = 90\n",
    "\n",
    "data_set = canvas.image.setup_data(data_whippet)  #doberman)\n",
    "\n",
    "mode = canvas.image.determine_mode(data_set)\n",
    "\n",
    "t0 = time.time()\n",
    "fmt = 'png'\n",
    "data_png, fmt = canvas.image.compress(data_set, mode, fmt, optimize=True)\n",
    "t1 = time.time()\n",
    "dt_png = t1 - t0\n",
    "\n",
    "print(fmt)\n",
    "\n",
    "# fmt = 'jpeg2000'\n",
    "# data_j2k, fmt = canvas.image.compress(data_set, mode, fmt)\n",
    "# t2 = time.time()\n",
    "# dt_j2k = t2 - t1\n",
    "\n",
    "fmt = 'jpeg'\n",
    "data_jpeg, fmt = canvas.image.compress(data_set, mode, fmt, quality=quality, optimize=True)\n",
    "t3 = time.time()\n",
    "dt_jpeg = t3 - t1\n",
    "print(fmt)\n",
    "\n",
    "\n",
    "fmt = 'webp'\n",
    "data_webp, fmt = canvas.image.compress(data_set, mode, fmt, quality=quality)\n",
    "t4 = time.time()\n",
    "\n",
    "dt_webp = t4 - t3\n",
    "print(fmt)\n",
    "\n",
    "\n",
    "data_b64 = base64.b64encode(data_jpeg)\n",
    "t5 = time.time()\n",
    "\n",
    "dt_b64 = t5 - t4\n",
    "print(fmt)\n",
    "\n",
    "\n",
    "print('{:6d} @ {:.3f}'.format(len(data_png), dt_png))\n",
    "# print('{:6d} @ {:.3f}'.format(len(data_j2k), dt_j2k))\n",
    "print('{:6d} @ {:.3f}'.format(len(data_jpeg), dt_jpeg))\n",
    "print('{:6d} @ {:.3f}'.format(len(data_webp), dt_webp))\n",
    "print('{:6d} @ {}'.format(len(data_b64), dt_b64))\n"
   ]
  },
  {
   "cell_type": "code",
   "execution_count": 33,
   "metadata": {
    "collapsed": false
   },
   "outputs": [
    {
     "data": {
      "image/png": "[encoded data removed]"
     },
     "metadata": {},
     "output_type": "display_data"
    }
   ],
   "source": [
    "IPython.display.display_png(data_comp, raw=True)"
   ]
  },
  {
   "cell_type": "code",
   "execution_count": 9,
   "metadata": {
    "collapsed": false
   },
   "outputs": [],
   "source": [
    "# Make the widget and display it to the screen.\n",
    "wid = canvas.CanvasWidget()\n",
    "wid.src = src_elephant\n",
    "\n",
    "# wid.height = 100\n",
    "# wid.width = 100"
   ]
  },
  {
   "cell_type": "markdown",
   "metadata": {},
   "source": [
    "Here's a thought: forget about managing separate values for canvas sizes and for CSS sizes.  Let's assume that CSS sizes are always forced to be the same as the canvas sizes.  Any manipulating is to be done with canvas and with transform."
   ]
  },
  {
   "cell_type": "markdown",
   "metadata": {},
   "source": [
    "## Decode compressed image\n",
    "\n",
    "- Decoder: https://github.com/notmasteryet/jpgjs\n",
    "- Encoder: https://code.google.com/p/as3corelib/source/browse/trunk/src/com/adobe/images/JPGEncoder.as\n",
    "- Combined: https://github.com/eugeneware/jpeg-js/blob/master/lib/decoder.js\n",
    "  \n",
    "  This package is apparently meant for Node.js.  It looks so simple, should work fine for browser??   Focus for now on just decoding.  Here is an example:\n",
    "  \n",
    "```js\n",
    "var jpegData = fs.readFileSync('grumpycat.jpg');\n",
    "var rawImageData = jpeg.decode(jpegData);\n",
    "```\n",
    "\n",
    "\n",
    "## Working with Blobs\n",
    "\n",
    "\n",
    "## Construct new, empty data array\n",
    "\n",
    "https://developer.mozilla.org/en-US/docs/Web/API/Uint8Array\n",
    "\n",
    "```js\n",
    "var num_pixels = num_lines * num_samples\n",
    "var a = new Uint8Array(num_pixels)\n",
    "```"
   ]
  },
  {
   "cell_type": "code",
   "execution_count": 16,
   "metadata": {
    "collapsed": false
   },
   "outputs": [
    {
     "data": {
      "application/javascript": [
       "console.log('sdf')\n",
       "\n",
       "\n",
       "// File API: http://www.w3.org/TR/file-upload/\n",
       "\n",
       "// http://www.html5rocks.com/en/tutorials/file/dndfiles/\n",
       "// var fi = new File()\n",
       "\n",
       "var fileSelector = document.createElement('input');\n",
       " fileSelector.setAttribute('type', 'file');\n",
       "\n",
       " var selectDialogueLink = document.createElement('a');\n",
       " selectDialogueLink.setAttribute('href', '');\n",
       " selectDialogueLink.innerText = \"Select File\";\n",
       "\n",
       " selectDialogueLink.onclick = function () {\n",
       "      fileSelector.click();\n",
       "      return false;\n",
       " }\n",
       "\n",
       " document.body.appendChild(selectDialogueLink);"
      ],
      "text/plain": [
       "<IPython.core.display.Javascript object>"
      ]
     },
     "metadata": {},
     "output_type": "display_data"
    }
   ],
   "source": [
    "%%javascript\n",
    "console.log('sdf')\n",
    "\n",
    "\n",
    "// File API: http://www.w3.org/TR/file-upload/\n",
    "\n",
    "// http://www.html5rocks.com/en/tutorials/file/dndfiles/\n",
    "// var fi = new File()\n",
    "\n",
    "var fileSelector = document.createElement('input');\n",
    " fileSelector.setAttribute('type', 'file');\n",
    "\n",
    " var selectDialogueLink = document.createElement('a');\n",
    " selectDialogueLink.setAttribute('href', '');\n",
    " selectDialogueLink.innerText = \"Select File\";\n",
    "\n",
    " selectDialogueLink.onclick = function () {\n",
    "      fileSelector.click();\n",
    "      return false;\n",
    " }\n",
    "\n",
    " document.body.appendChild(selectDialogueLink);\n"
   ]
  }
 ],
 "metadata": {
  "kernelspec": {
   "display_name": "Python 3",
   "language": "python",
   "name": "python3"
  },
  "language_info": {
   "codemirror_mode": {
    "name": "ipython",
    "version": 3
   },
   "file_extension": ".py",
   "mimetype": "text/x-python",
   "name": "python",
   "nbconvert_exporter": "python",
   "pygments_lexer": "ipython3",
   "version": "3.4.3"
  }
 },
 "nbformat": 4,
 "nbformat_minor": 0
}

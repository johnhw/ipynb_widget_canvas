{
 "cells": [
  {
   "cell_type": "markdown",
   "metadata": {},
   "source": [
    "# Canvas Widget for IPython Notebook"
   ]
  },
  {
   "cell_type": "code",
   "execution_count": null,
   "metadata": {
    "collapsed": false
   },
   "outputs": [],
   "source": [
    "from __future__ import print_function, unicode_literals, division, absolute_import"
   ]
  },
  {
   "cell_type": "markdown",
   "metadata": {},
   "source": [
    "## Canvas Example with HTML and JavaScript"
   ]
  },
  {
   "cell_type": "code",
   "execution_count": 4,
   "metadata": {
    "collapsed": false
   },
   "outputs": [
    {
     "data": {
      "text/html": [
       "\n",
       "<html>\n",
       "    <head></head>\n",
       "    <body>\n",
       "        <canvas id='hello_example' style='border: solid black 2px'/>\n",
       "    </body>\n",
       "</html>"
      ],
      "text/plain": [
       "<IPython.core.display.HTML object>"
      ]
     },
     "metadata": {},
     "output_type": "display_data"
    }
   ],
   "source": []
  },
  {
   "cell_type": "code",
   "execution_count": 5,
   "metadata": {
    "collapsed": false
   },
   "outputs": [
    {
     "data": {
      "application/javascript": [
       "\n",
       "// URL to elephant image at wikipedia.com.\n",
       "var url = 'http://goo.gl/m8a4dq'\n",
       "\n",
       "// Get the canvas element plus corresponding drawing context\n",
       "var canvas = document.getElementById('hello_example');\n",
       "var context = canvas.getContext('2d');\n",
       "\n",
       "// Create a hidden <img> element to manage incoming data.\n",
       "var img = new Image();\n",
       "\n",
       "// Add new-data event handler to the hidden <img> element.\n",
       "img.onload = function () {\n",
       "    // This function will be called when new image data has finished loading\n",
       "    // into the <img> element.  This new data will be the source for drawing\n",
       "    // onto the Canvas.\n",
       "\n",
       "    // Set canvas geometry.\n",
       "    canvas.width = img.width\n",
       "    canvas.style.width = img.width + 'px'\n",
       "\n",
       "    canvas.height = img.height\n",
       "    canvas.style.height = img.height + 'px'\n",
       "\n",
       "    // Draw new image data onto the Canvas.\n",
       "    context.drawImage(img, 0, 0);\n",
       "}\n",
       "\n",
       "// Assign image URL.\n",
       "img.src = url"
      ],
      "text/plain": [
       "<IPython.core.display.Javascript object>"
      ]
     },
     "metadata": {},
     "output_type": "display_data"
    }
   ],
   "source": []
  },
  {
   "cell_type": "markdown",
   "metadata": {},
   "source": [
    "## My new Class: `CanvasImage`"
   ]
  },
  {
   "cell_type": "markdown",
   "metadata": {},
   "source": [
    "Have a look at the JavaScript source code for the `CanvasWidget` I wrote based on the IPython Notebook's widget infrastructure.\n",
    "\n",
    "You'll see components similar to the example just above at the core of my widget.  The full version is more complicated due to it being implemented as part of an existing framework that itself is a sophisticated mix of multiple JavaScript libraries (but mostly BackboneJS in this context).\n",
    "\n",
    "In the next cell I use my new Canvas Image Widget to load and display the same image as above, except this time it's so much simpler."
   ]
  },
  {
   "cell_type": "code",
   "execution_count": null,
   "metadata": {
    "collapsed": false
   },
   "outputs": [],
   "source": [
    "from warnings import filterwarnings\n",
    "filterwarnings('ignore', module='IPython.html.widgets')\n",
    "\n",
    "import requests\n",
    "import IPython.html.widgets\n",
    "\n",
    "import widget_canvas\n",
    "from widget_canvas import image\n",
    "\n",
    "import matplotlib.pyplot as plt\n",
    "\n",
    "%matplotlib inline"
   ]
  },
  {
   "cell_type": "code",
   "execution_count": null,
   "metadata": {
    "collapsed": false
   },
   "outputs": [],
   "source": [
    "url_elephant = 'http://upload.wikimedia.org/wikipedia/commons/thumb/3/37/African_Bush_Elephant.jpg/160px-African_Bush_Elephant.jpg'\n",
    "\n",
    "resp = requests.get(url_elephant)"
   ]
  },
  {
   "cell_type": "code",
   "execution_count": null,
   "metadata": {
    "collapsed": false
   },
   "outputs": [],
   "source": [
    "d = image.decompress(resp.content)\n",
    "\n",
    "plt.imshow(d)\n",
    "plt.show()"
   ]
  },
  {
   "cell_type": "code",
   "execution_count": null,
   "metadata": {
    "collapsed": false
   },
   "outputs": [],
   "source": [
    "# Same URL as earlier\n",
    "url_elephant = 'http://upload.wikimedia.org/wikipedia/commons/thumb/3/37/African_Bush_Elephant.jpg/160px-African_Bush_Elephant.jpg'\n",
    "\n",
    "# Make the widget and display it to the screen.\n",
    "wid = widget_canvas.CanvasImage(url=url_elephant)\n",
    "wid.display()"
   ]
  },
  {
   "cell_type": "code",
   "execution_count": null,
   "metadata": {
    "collapsed": false
   },
   "outputs": [],
   "source": [
    "wid.data.shape"
   ]
  },
  {
   "cell_type": "markdown",
   "metadata": {},
   "source": [
    "But what about the nice black line around the edge?  No problem!  The IPython built-in Widget's support direct manipulation of CSS properties.  My Canvas Widget is an extension of the IPython `DOMWidget`, so it too can manipulate CSS properties.  The Mozilla Develloper Network has great reference information for [CSS properties](https://developer.mozilla.org/en-US/docs/Web/CSS/Reference).\n"
   ]
  },
  {
   "cell_type": "code",
   "execution_count": null,
   "metadata": {
    "collapsed": false
   },
   "outputs": [],
   "source": [
    "# Update widget's image border property.\n",
    "wid.border_color = 'solid black 2px'"
   ]
  },
  {
   "cell_type": "markdown",
   "metadata": {},
   "source": [
    "Using my `CanvasImageWidget` is much easier than stepping through all those hoops needed with the `%%html` or `%%javascript` magic functions.  And that's the whole point of the IPython Notebook!  Make it easier to work with data and view the results."
   ]
  },
  {
   "cell_type": "markdown",
   "metadata": {},
   "source": [
    "## Display Images from Numpy Arrays"
   ]
  },
  {
   "cell_type": "markdown",
   "metadata": {},
   "source": [
    "While displaying images by specifying a URL has many uses, I'm mostly interested in displaying technical imagery as part of my everyday data analysis efforts.  This means working with data in Numpy arrays in the Python back-end and somehow transfering images to the JavaScript front-end in a manner compatible with the existing Widget system.  It turns out it's quite easy to compress an image as PNG and embed that data via [Base64](http://en.wikipedia.org/wiki/Base64) encoding into a very large URL string.  This may not be the most efficient or elegant solution, but it was simplest for me to understand and get it working quickly.  \n",
    "\n",
    "The little helper function below shows how I do this conversion, using `PIL/Pillow` behind the scenes to perform the actual PNG compression.  The input to the helper function is a Numpy array containing an image, and the output is a huge URL string with embedded image data."
   ]
  },
  {
   "cell_type": "code",
   "execution_count": null,
   "metadata": {
    "collapsed": false
   },
   "outputs": [],
   "source": [
    "import base64\n",
    "\n",
    "def encode_src_data(image):\n",
    "    \"\"\"\n",
    "    Compress and encode input image data.\n",
    "    Format as <img> element src string with embedded data.\n",
    "    This function uses a PNG compression function from the included module image.py.\n",
    "    \"\"\"\n",
    "    # Compress with PNG.\n",
    "    data_comp, fmt = canvas.image.compress(image)\n",
    "\n",
    "    # Encode with base64.\n",
    "    data_b64 = base64.b64encode(data_comp)\n",
    "\n",
    "    # Build an Image Element src string with embedded data.\n",
    "    data_encode = 'data:image/{:s};base64,{:s}'.format(fmt, data_b64)\n",
    "    \n",
    "    return data_encode"
   ]
  },
  {
   "cell_type": "markdown",
   "metadata": {},
   "source": [
    "## Using `CanvasImage` with Embedded Data "
   ]
  },
  {
   "cell_type": "markdown",
   "metadata": {},
   "source": [
    "Here is a quick example of what that encoded URL looks like:"
   ]
  },
  {
   "cell_type": "code",
   "execution_count": null,
   "metadata": {
    "collapsed": false
   },
   "outputs": [],
   "source": [
    "# Load image file using my simple image reader helper function.\n",
    "data_whippet = canvas.image.read('images/Whippet.jpg')\n",
    "\n",
    "print('\\nImage shape: {}'.format(data_whippet.shape))\n",
    "\n",
    "# Encode all test images into src \n",
    "src_image = encode_src_data(data_whippet)\n",
    "\n",
    "print('\\nURL number of characters: {:d}'.format(len(src_image)))\n",
    "print('\\nURL first 200 characters: \"{:s}...\"'.format(src_image[:200]))"
   ]
  },
  {
   "cell_type": "markdown",
   "metadata": {},
   "source": [
    "This large `src` string with the embedded photo may be fed directly into a `CanvasImageWidget`."
   ]
  },
  {
   "cell_type": "code",
   "execution_count": null,
   "metadata": {
    "collapsed": false
   },
   "outputs": [],
   "source": [
    "# Create a CanvasWidget using image data embedded in URL string.\n",
    "wid = canvas.CanvasImageBase()\n",
    "\n",
    "wid.data_encode = src_image\n",
    "\n",
    "wid.display()"
   ]
  },
  {
   "cell_type": "markdown",
   "metadata": {},
   "source": [
    "I wrote my `CanvasImage` class such that it can directly accept Numpy arrays containing image data and incorporates the above functionality as integral components.  This class handles all the details for embedding the compressed image into the Canvas Element."
   ]
  },
  {
   "cell_type": "code",
   "execution_count": null,
   "metadata": {
    "collapsed": false
   },
   "outputs": [],
   "source": [
    "# Load another dog image.\n",
    "data_doberman = canvas.image.read('images/Doberman.jpg')\n",
    "\n",
    "# Display Numpy image directly.\n",
    "wid = canvas.CanvasImageBase(data_doberman)\n",
    "wid.display()"
   ]
  },
  {
   "cell_type": "markdown",
   "metadata": {},
   "source": [
    "But which dog to choose?  I like them both!"
   ]
  },
  {
   "cell_type": "code",
   "execution_count": null,
   "metadata": {
    "collapsed": false
   },
   "outputs": [],
   "source": [
    "import time\n",
    "num_loop = 100\n",
    "dt = 0.05\n",
    "\n",
    "t0 = time.time()\n",
    "for k in range(num_loop):\n",
    "    wid.image = [data_whippet, data_doberman][k % 2]\n",
    "    time.sleep(dt)\n",
    "    \n",
    "t1 = time.time()\n",
    "\n",
    "fps = num_loop / (t1 - t0)\n",
    "print('Rate: {:5.2f} FPS'.format(fps))"
   ]
  }
 ],
 "metadata": {
  "kernelspec": {
   "display_name": "Python 3",
   "language": "python",
   "name": "python3"
  },
  "language_info": {
   "codemirror_mode": {
    "name": "ipython",
    "version": 3
   },
   "file_extension": ".py",
   "mimetype": "text/x-python",
   "name": "python",
   "nbconvert_exporter": "python",
   "pygments_lexer": "ipython3",
   "version": "3.4.3"
  }
 },
 "nbformat": 4,
 "nbformat_minor": 0
}

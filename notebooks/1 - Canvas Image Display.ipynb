{
 "metadata": {
  "name": "",
  "signature": "sha256:6e97bf4a77342b993157e9ede52b860169b2c5d80eb7be8a1cf6641146ef2aa0"
 },
 "nbformat": 3,
 "nbformat_minor": 0,
 "worksheets": [
  {
   "cells": [
    {
     "cell_type": "heading",
     "level": 1,
     "metadata": {},
     "source": [
      "Canvas Widget for IPython Notebook"
     ]
    },
    {
     "cell_type": "code",
     "collapsed": false,
     "input": [
      "from __future__ import print_function, unicode_literals, division"
     ],
     "language": "python",
     "metadata": {},
     "outputs": [],
     "prompt_number": 1
    },
    {
     "cell_type": "heading",
     "level": 2,
     "metadata": {},
     "source": [
      "HTML5 Canvas Element"
     ]
    },
    {
     "cell_type": "markdown",
     "metadata": {},
     "source": [
      "The [Interactive Widgets](http://nbviewer.ipython.org/github/ipython/ipython/blob/2.x/examples/Interactive%20Widgets/Index.ipynb) for the [IPython Notebook](http://ipython.org/ipython-doc/dev/notebook/index.html) are now a reality and I cannot say enough nice things about them.  There is so much potential for doing interesting work using this set of tools.  I thought it would be a great learning experience for me to build a quantitative image viewing/analysis tool using these new widgets.  It turns out the IPython Notebook built-in image widget is based on an `<img>` element and is rather simple.  I decided that the first step on my new project would be to build a better image-display widget based on the awesome HTML5 Canvas Element.  The people at Mozilla have a nice [description](https://developer.mozilla.org/en-US/docs/Web/HTML/Element/canvas) of the `Canvas` that is worth reading.  Essentially, the Canvas Element is a great tool for displaying images and drawing artwork onto a bitmap surface.  It has built-in support for size and rotation transforms, and good number of third-party JavaScript libraries have sprung up adding all kinds of amazing feature.\n",
      "\n",
      "The `Canvas Element` can do a lot more than just display an image.  It has a bunch of methods for drawing all kinds of lines and shapes!  Right now I'm completely focused on displaying and working with images, but still I wrote the Canvas Widget generic enough such that adding additional draw functions should be a rather straightforward task.\n",
      "\n",
      "There are many options to choose from when using the Canvas to [display an image](https://developer.mozilla.org/en-US/docs/Web/Guide/HTML/Canvas_tutorial/Using_images).  It pretty much comes down to specifying a  source of image data when calling `canvas.drawImage(some_image_data)`.  The [Canvas Tutorial](https://developer.mozilla.org/en-US/docs/Web/Guide/HTML/Canvas_tutorial/Using_images#Getting_images_to_draw) at the Mozilla Developer Network site has a good summary about which data types the Ccanvas is able to use as an image source:\n",
      "\n",
      "- **[HTMLImageElement](https://developer.mozilla.org/en-US/docs/Web/API/HTMLImageElement)**: These are images created using the `Image()` constructor, as well as any existing [`<img>`](https://developer.mozilla.org/en-US/docs/Web/HTML/Element/img) element.\n",
      "\n",
      "- **[HTMLVideoElement](https://developer.mozilla.org/en-US/docs/Web/API/HTMLVideoElement)**: Using an HTML [Video](https://developer.mozilla.org/en-US/docs/Web/HTML/Element/video) element as a source grabs the current frame from the video as the image.\n",
      "\n",
      "- **[HTMLCanvasElement](https://developer.mozilla.org/en-US/docs/Web/API/HTMLCanvasElement)**: Another [Canvas](https://developer.mozilla.org/en-US/docs/Web/HTML/Element/canvas) element as a source.\n",
      "\n",
      "The simplest option for me was to constrct an internal `Image` element from the user-supplied `src` string.  Just below is an example showing exactly how I did that."
     ]
    },
    {
     "cell_type": "heading",
     "level": 3,
     "metadata": {},
     "source": [
      "Canvas Example with HTML and JavaScript"
     ]
    },
    {
     "cell_type": "markdown",
     "metadata": {},
     "source": [
      "Start with building a Canvas Element and then giving it a nice black border."
     ]
    },
    {
     "cell_type": "code",
     "collapsed": false,
     "input": [
      "%%html\n",
      "\n",
      "<canvas id='hello_example' style='border: solid black 2px'/>\n",
      "\n",
      "<script>\n",
      "    console.log('X start')\n",
      "\n",
      "    // An elephant image URL\n",
      "    var url = 'http://upload.wikimedia.org/wikipedia/commons/thumb/3/37/African_Bush_Elephant.jpg/160px-African_Bush_Elephant.jpg'\n",
      "\n",
      "    // Get the canvas element plus corresponding drawing context\n",
      "    console.log('X make canvas')\n",
      "    var canvas = document.getElementById('hello_example');\n",
      "    var context = canvas.getContext('2d');\n",
      "\n",
      "    // Create a hidden <img> element to manage incoming data\n",
      "    console.log('X make img')\n",
      "    var img = new Image();   \n",
      "\n",
      "    // Add new-data event handler to the hidden <img> element\n",
      "    img.onload = function() {\n",
      "        console.log('X onload')\n",
      "        // This function will be called when new image data has finished loading\n",
      "        // into the <img> element.  This new data will be the source for drawing\n",
      "        // onto the Canvas.\n",
      "\n",
      "        // Set canvas geometry\n",
      "        canvas.width = img.width\n",
      "        canvas.style.width = img.width + 'px'\n",
      "\n",
      "        canvas.height = img.height\n",
      "        canvas.style.height = img.height + 'px'\n",
      "\n",
      "        // Draw new image data onto the Canvas.\n",
      "        context.drawImage(img, 0, 0);\n",
      "    }\n",
      "\n",
      "    // Assign image URL.\n",
      "    console.log('X assign URL')\n",
      "    img.src = url\n",
      "    \n",
      "    console.log('X end')\n",
      "</script>"
     ],
     "language": "python",
     "metadata": {},
     "outputs": [
      {
       "html": [
        "\n",
        "<canvas id='hello_example' style='border: solid black 2px'/>\n",
        "\n",
        "<script>\n",
        "    console.log('X start')\n",
        "\n",
        "    // An elephant image URL\n",
        "    var url = 'http://upload.wikimedia.org/wikipedia/commons/thumb/3/37/African_Bush_Elephant.jpg/160px-African_Bush_Elephant.jpg'\n",
        "\n",
        "    // Get the canvas element plus corresponding drawing context\n",
        "    console.log('X make canvas')\n",
        "    var canvas = document.getElementById('hello_example');\n",
        "    var context = canvas.getContext('2d');\n",
        "\n",
        "    // Create a hidden <img> element to manage incoming data\n",
        "    console.log('X make img')\n",
        "    var img = new Image();   \n",
        "\n",
        "    // Add new-data event handler to the hidden <img> element\n",
        "    img.onload = function() {\n",
        "        console.log('X onload')\n",
        "        // This function will be called when new image data has finished loading\n",
        "        // into the <img> element.  This new data will be the source for drawing\n",
        "        // onto the Canvas.\n",
        "\n",
        "        // Set canvas geometry\n",
        "        canvas.width = img.width\n",
        "        canvas.style.width = img.width + 'px'\n",
        "\n",
        "        canvas.height = img.height\n",
        "        canvas.style.height = img.height + 'px'\n",
        "\n",
        "        // Draw new image data onto the Canvas.\n",
        "        context.drawImage(img, 0, 0);\n",
        "    }\n",
        "\n",
        "    // Assign image URL.\n",
        "    console.log('X assign URL')\n",
        "    img.src = url\n",
        "    \n",
        "    console.log('X end')\n",
        "</script>"
       ],
       "metadata": {},
       "output_type": "display_data",
       "text": [
        "<IPython.core.display.HTML object>"
       ]
      }
     ],
     "prompt_number": 2
    },
    {
     "cell_type": "markdown",
     "metadata": {},
     "source": [
      "Hey look!  That's a neat elephant."
     ]
    },
    {
     "cell_type": "heading",
     "level": 2,
     "metadata": {},
     "source": [
      "My new Class: `CanvasImage`"
     ]
    },
    {
     "cell_type": "markdown",
     "metadata": {},
     "source": [
      "Have a look at the JavaScript source code for the `CanvasWidget` I wrote based on the IPython Notebook infrastructure.  You'll see components similar to the example just above at the core of my widget.  The full version is more complicated due to it being implemented as part of an existing framework that itself is a sophisticated mix of multiple JavaScript libraries (but mostly BackboneJS in this context).\n",
      "\n",
      "In the next cell I use my new Canvas Image Widget to load and display the same image as above, except this time it's so much simpler."
     ]
    },
    {
     "cell_type": "code",
     "collapsed": false,
     "input": [
      "import time\n",
      "\n",
      "import IPython\n",
      "import widget_canvas as canvas"
     ],
     "language": "python",
     "metadata": {},
     "outputs": [],
     "prompt_number": 2
    },
    {
     "cell_type": "code",
     "collapsed": false,
     "input": [
      "# Same URL as earlier\n",
      "url_elephant = 'http://upload.wikimedia.org/wikipedia/commons/thumb/3/37/African_Bush_Elephant.jpg/160px-African_Bush_Elephant.jpg'\n",
      "\n",
      "# Make the widget and display it to the screen.\n",
      "wid = canvas.CanvasImageBase()\n",
      "wid.data_encode = url_elephant\n",
      "# wid.display()"
     ],
     "language": "python",
     "metadata": {},
     "outputs": [],
     "prompt_number": 4
    },
    {
     "cell_type": "code",
     "collapsed": false,
     "input": [
      "wid.display()"
     ],
     "language": "python",
     "metadata": {},
     "outputs": [],
     "prompt_number": 5
    },
    {
     "cell_type": "code",
     "collapsed": false,
     "input": [
      "wid.display()\n",
      "print(wid.width, wid.height)"
     ],
     "language": "python",
     "metadata": {},
     "outputs": [],
     "prompt_number": 6
    },
    {
     "cell_type": "markdown",
     "metadata": {},
     "source": [
      "But what about the nice black line around the edge?  No problem!  The IPython built-in Widget's support direct manipulation of CSS properties.  My Canvas Widget is an extension of the IPython `DOMWidget`, so it too can manipulate CSS properties.  The Mozilla Develloper Network has great reference information for [CSS properties](https://developer.mozilla.org/en-US/docs/Web/CSS/Reference).\n"
     ]
    },
    {
     "cell_type": "code",
     "collapsed": false,
     "input": [
      "# Update widget's image border property.\n",
      "wid.set_css('border', 'solid black 2px')\n",
      "\n",
      "# There we go!  So really just a few lines of Python code."
     ],
     "language": "python",
     "metadata": {},
     "outputs": [],
     "prompt_number": 7
    },
    {
     "cell_type": "markdown",
     "metadata": {},
     "source": [
      "Using my `CanvasImageWidget` is much easier than stepping through all those hoops needed with the `%%html` or `%%javascript` magic functions.  And that's the whole point of the IPython Notebook!  Make it easier to work with data and view the results."
     ]
    },
    {
     "cell_type": "heading",
     "level": 2,
     "metadata": {},
     "source": [
      "What about the Custom JavaScript Source Code?"
     ]
    },
    {
     "cell_type": "markdown",
     "metadata": {},
     "source": [
      "Most of the Notebook JavaScript extensions and examples I've seen place new JavaScript code in the user's  IPython profile `static/custom` folder.  That just seems a bit cumbersome to me so I tried something different for this project.  I include a `js` subfolder inside my Python package and I wrote a couple of helper Python functions.  When a `CanvasWidget` is instantiated it calls the function `_bootstrap_js()` which reads in any required JavaScript files.  The contents of each file are then injected into the Notebook using IPython's built-in `display_javascript()` function."
     ]
    },
    {
     "cell_type": "markdown",
     "metadata": {},
     "source": [
      "```Python\n",
      "_path_module = os.path.abspath(os.path.dirname(__file__))\n",
      "_path_js = os.path.join(_path_module, 'js')\n",
      "\n",
      "def _read_local_js(fname):\n",
      "    \"\"\"Read a JavaScript file from application's local JS folder.  Return a string.\"\"\"\n",
      "    b, e = os.path.splitext(os.path.basename(fname))\n",
      "    f = os.path.join(_path_js, b + '.js')\n",
      "\n",
      "    with open(f) as fo:\n",
      "        return fo.read()\n",
      "\n",
      "\n",
      "def _bootstrap_js():\n",
      "    \"\"\"Load JavaScript and inject into current Notebook session.\"\"\"\n",
      "    files = ['widget_canvas.js']\n",
      "    for f in files:\n",
      "        js = _read_local_js(f)\n",
      "        IPython.display.display_javascript(js, raw=True)\n",
      "```"
     ]
    },
    {
     "cell_type": "heading",
     "level": 2,
     "metadata": {},
     "source": [
      "Display Images from Numpy Arrays"
     ]
    },
    {
     "cell_type": "markdown",
     "metadata": {},
     "source": [
      "While displaying images by specifying a URL has many uses, I'm mostly interested in displaying technical imagery as part of my everyday data analysis efforts.  This means working with data in Numpy arrays in the Python back-end and somehow transfering images to the JavaScript front-end in a manner compatible with the existing Widget system.  It turns out it's quite easy to compress an image as PNG and embed that data via [Base64](http://en.wikipedia.org/wiki/Base64) encoding into a very large URL string.  This may not be the most efficient or elegant solution, but it was simplest for me to understand and get it working quickly.  \n",
      "\n",
      "The little helper function below shows how I do this conversion, using `PIL/Pillow` behind the scenes to perform the actual PNG compression.  The input to the helper function is a Numpy array containing an image, and the output is a huge URL string with embedded image data."
     ]
    },
    {
     "cell_type": "code",
     "collapsed": false,
     "input": [
      "import base64\n",
      "\n",
      "def encode_src_data(image):\n",
      "    \"\"\"\n",
      "    Compress and encode input image data.\n",
      "    Format as <img> element src string with embedded data.\n",
      "    This function uses a PNG compression function from the included module image.py.\n",
      "    \"\"\"\n",
      "    # Compress with PNG.\n",
      "    data_comp, fmt = canvas.image.compress(image)\n",
      "\n",
      "    # Encode with base64.\n",
      "    data_b64 = base64.b64encode(data_comp)\n",
      "\n",
      "    # Build an Image Element src string with embedded data.\n",
      "    data_encode = 'data:image/{:s};base64,{:s}'.format(fmt, data_b64)\n",
      "    \n",
      "    return data_encode"
     ],
     "language": "python",
     "metadata": {},
     "outputs": [],
     "prompt_number": 3
    },
    {
     "cell_type": "heading",
     "level": 2,
     "metadata": {},
     "source": [
      "Using `CanvasImage` with Embedded Data "
     ]
    },
    {
     "cell_type": "markdown",
     "metadata": {},
     "source": [
      "Here is a quick example of what that encoded URL looks like:"
     ]
    },
    {
     "cell_type": "code",
     "collapsed": false,
     "input": [
      "# Load image file using my simple image reader helper function.\n",
      "data_whippet = canvas.image.read('images/Whippet.jpg')\n",
      "\n",
      "print('\\nImage shape: {}'.format(data_whippet.shape))\n",
      "\n",
      "# Encode all test images into src \n",
      "src_image = encode_src_data(data_whippet)\n",
      "\n",
      "print('\\nURL number of characters: {:d}'.format(len(src_image)))\n",
      "print('\\nURL first 200 characters: \"{:s}...\"'.format(src_image[:200]))"
     ],
     "language": "python",
     "metadata": {},
     "outputs": [],
     "prompt_number": 4
    },
    {
     "cell_type": "markdown",
     "metadata": {},
     "source": [
      "This large `src` string with the embedded photo may be fed directly into a `CanvasImageWidget`."
     ]
    },
    {
     "cell_type": "code",
     "collapsed": false,
     "input": [
      "# Create a CanvasWidget using image data embedded in URL string.\n",
      "wid = canvas.CanvasImageBase()\n",
      "\n",
      "wid.data_encode = src_image\n",
      "\n",
      "wid.display()"
     ],
     "language": "python",
     "metadata": {},
     "outputs": [],
     "prompt_number": 10
    },
    {
     "cell_type": "markdown",
     "metadata": {},
     "source": [
      "I wrote my `CanvasImage` class such that it can directly accept Numpy arrays containing image data and incorporates the above functionality as integral components.  This class handles all the details for embedding the compressed image into the Canvas Element."
     ]
    },
    {
     "cell_type": "code",
     "collapsed": false,
     "input": [
      "# Load another dog image.\n",
      "data_doberman = canvas.image.read('images/Doberman.jpg')\n",
      "\n",
      "# Display Numpy image directly.\n",
      "wid = canvas.CanvasImageBase(data_doberman)\n",
      "wid.display()"
     ],
     "language": "python",
     "metadata": {},
     "outputs": [],
     "prompt_number": 11
    },
    {
     "cell_type": "markdown",
     "metadata": {},
     "source": [
      "But which dog to choose?  I like them both!"
     ]
    },
    {
     "cell_type": "code",
     "collapsed": false,
     "input": [
      "import time\n",
      "num_loop = 100\n",
      "dt = 0.05\n",
      "\n",
      "t0 = time.time()\n",
      "for k in range(num_loop):\n",
      "    wid.image = [data_whippet, data_doberman][k % 2]\n",
      "    time.sleep(dt)\n",
      "    \n",
      "t1 = time.time()\n",
      "\n",
      "fps = num_loop / (t1 - t0)\n",
      "print('Rate: {:5.2f} FPS'.format(fps))"
     ],
     "language": "python",
     "metadata": {},
     "outputs": [
      {
       "output_type": "stream",
       "stream": "stdout",
       "text": [
        "Rate: 13.97 FPS\n"
       ]
      }
     ],
     "prompt_number": 34
    },
    {
     "cell_type": "heading",
     "level": 2,
     "metadata": {},
     "source": [
      "Final Thoughts"
     ]
    },
    {
     "cell_type": "markdown",
     "metadata": {},
     "source": [
      "The `CanvasImage` does not currently support drawing geometric shapes, but I'm certain it could be done without too much effort.  My focus now is with image display, but that doesn't prevent anyone else from lending a hand and working out details for line and shape drawing. The next step for me will be to add basic support for mouse and keyboard events such that the user will be able to attach their own Python event handlers.  I also want to support image [transforms](http://www.whatwg.org/specs/web-apps/current-work/multipage/the-canvas-element.html#transformations).  The next steps will be to provide helper functions making it easy to connect mouse/keyboard events with generating new image transforms.  This combination will enable even more features like image panning with the mouse or zooming with the scroll wheel.  \n",
      "\n",
      "**Yeah!  I can't wait!**"
     ]
    },
    {
     "cell_type": "code",
     "collapsed": false,
     "input": [],
     "language": "python",
     "metadata": {},
     "outputs": []
    }
   ],
   "metadata": {}
  }
 ]
}
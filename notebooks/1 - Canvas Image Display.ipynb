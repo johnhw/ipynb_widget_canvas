{
 "cells": [
  {
   "cell_type": "markdown",
   "metadata": {},
   "source": [
    "# Canvas Widget for IPython Notebook"
   ]
  },
  {
   "cell_type": "code",
   "execution_count": 1,
   "metadata": {
    "collapsed": false
   },
   "outputs": [],
   "source": [
    "from __future__ import print_function, unicode_literals, division"
   ]
  },
  {
   "cell_type": "markdown",
   "metadata": {},
   "source": [
    "# The story\n",
    "\n",
    "- Objective:\n",
    "    - display images from numpy arrays\n",
    "    - Handle JS mouse events in Python\n",
    "    - Independent support for canvas size and display size\n",
    "    - support canvas transform\n",
    "\n",
    "- Canvas example using HTML and image at URL\n",
    "- "
   ]
  },
  {
   "cell_type": "markdown",
   "metadata": {},
   "source": [
    "## HTML5 Canvas Element\n",
    "\n",
    "The [Interactive Widgets](http://nbviewer.ipython.org/github/ipython/ipython/tree/3.x/examples/Interactive%20Widgets) for the [IPython Notebook](http://ipython.org/ipython-doc/dev/notebook/index.html) have tremendous potential for interesting interactive work.  I thought it would be a great learning experience to build a quantitative image viewing/analysis tool using these new widgets.  It turns out the IPython Notebook built-in image widget is based on an `<img>` element and is rather simple.  I decided that the first step on my new project would be to build a better image-display widget based on the awesome HTML5 Canvas Element.  The people at Mozilla have a nice [description](https://developer.mozilla.org/en-US/docs/Web/HTML/Element/canvas) of the `Canvas`.  Essentially, the Canvas Element is a great tool for displaying images and drawing artwork onto a bitmap surface.  It has built-in support for size and rotation transforms, and good number of third-party JavaScript libraries have sprung up adding all kinds of amazing feature.\n",
    "\n",
    "While the `Canvas Element` can also be used for drawing lines and shapes, right now I'm completely focused on displaying and working with images.  I wrote the Canvas Widget generic enough such that adding additional draw functions should be a straightforward task.\n",
    "\n",
    "There are many options to choose when using the `Canvas` to [display an image](https://developer.mozilla.org/en-US/docs/Web/Guide/HTML/Canvas_tutorial/Using_images).  It pretty much comes down to specifying a source of image data when calling `canvas.drawImage(some_image_data)`.  The [Canvas Tutorial](https://developer.mozilla.org/en-US/docs/Web/Guide/HTML/Canvas_tutorial/Using_images#Getting_images_to_draw) at the Mozilla Developer Network site has a good summary about which data types the `Canvas` can accept:\n",
    "\n",
    "- **[HTMLImageElement](https://developer.mozilla.org/en-US/docs/Web/API/HTMLImageElement)**: These are images created using the `Image()` constructor, as well as any existing `<img>` [element](https://developer.mozilla.org/en-US/docs/Web/HTML/Element/img).\n",
    "\n",
    "- **[HTMLVideoElement](https://developer.mozilla.org/en-US/docs/Web/API/HTMLVideoElement)**: Using an HTML [Video](https://developer.mozilla.org/en-US/docs/Web/HTML/Element/video) element as a source grabs the current frame from the video as the image.\n",
    "\n",
    "- **[HTMLCanvasElement](https://developer.mozilla.org/en-US/docs/Web/API/HTMLCanvasElement)**: Another [Canvas](https://developer.mozilla.org/en-US/docs/Web/HTML/Element/canvas) element as a source.\n",
    "\n",
    "The simplest option for me was to construct an internal `Image` element from appropriately-formatted image data."
   ]
  },
  {
   "cell_type": "markdown",
   "metadata": {},
   "source": [
    "### Canvas Example with HTML and JavaScript"
   ]
  },
  {
   "cell_type": "markdown",
   "metadata": {},
   "source": [
    "The example below shows using a `Canvas` element to display an image and then giving it a nice black border."
   ]
  },
  {
   "cell_type": "code",
   "execution_count": 3,
   "metadata": {
    "collapsed": false
   },
   "outputs": [
    {
     "data": {
      "text/html": [
       "\n",
       "<canvas id='hello_example' style='border: solid black 2px'/>\n",
       "\n",
       "<script>\n",
       "    // An elephant image URL\n",
       "    var url = 'http://upload.wikimedia.org/wikipedia/commons/thumb/3/37/African_Bush_Elephant.jpg/160px-African_Bush_Elephant.jpg'\n",
       "\n",
       "    // Get the canvas element plus corresponding drawing context\n",
       "    var canvas = document.getElementById('hello_example');\n",
       "    var context = canvas.getContext('2d');\n",
       "\n",
       "    // Create a hidden <img> element to manage incoming data\n",
       "    var img = new Image();   \n",
       "\n",
       "    // Add new-data event handler to the hidden <img> element\n",
       "    img.onload = function() {\n",
       "        // This function will be called when new image data has finished loading\n",
       "        // into the <img> element.  This new data will be the source for drawing\n",
       "        // onto the Canvas.\n",
       "\n",
       "        // Set canvas geometry\n",
       "        canvas.width = img.width\n",
       "        canvas.style.width = img.width + 'px'\n",
       "\n",
       "        canvas.height = img.height\n",
       "        canvas.style.height = img.height + 'px'\n",
       "\n",
       "        // Draw new image data onto the Canvas.\n",
       "        context.drawImage(img, 0, 0);\n",
       "    }\n",
       "\n",
       "    // Assign image URL.\n",
       "    img.src = url\n",
       "    \n",
       "</script>"
      ],
      "text/plain": [
       "<IPython.core.display.HTML object>"
      ]
     },
     "metadata": {},
     "output_type": "display_data"
    }
   ],
   "source": [
    "%%html\n",
    "\n",
    "<canvas id='hello_example' style='border: solid black 2px'/>\n",
    "\n",
    "<script>\n",
    "    // An elephant image URL\n",
    "    var url = 'http://upload.wikimedia.org/wikipedia/commons/thumb/3/37/African_Bush_Elephant.jpg/160px-African_Bush_Elephant.jpg'\n",
    "\n",
    "    // Get the canvas element plus corresponding drawing context\n",
    "    var canvas = document.getElementById('hello_example');\n",
    "    var context = canvas.getContext('2d');\n",
    "\n",
    "    // Create a hidden <img> element to manage incoming data.\n",
    "    var img = new Image();   \n",
    "\n",
    "    // Add new-data event handler to the hidden <img> element.\n",
    "    img.onload = function() {\n",
    "        // This function will be called when new image data has finished loading\n",
    "        // into the <img> element.  This new data will be the source for drawing\n",
    "        // onto the Canvas.\n",
    "\n",
    "        // Set canvas geometry.\n",
    "        canvahttps://github.com/ipython/ipython/wiki/widgetss.width = img.width\n",
    "        canvas.style.width = img.width + 'px'\n",
    "\n",
    "        canvas.height = img.height\n",
    "        canvas.style.height = img.height + 'px'\n",
    "\n",
    "        // Draw new image data onto the Canvas.\n",
    "        context.drawImage(img, 0, 0);\n",
    "    }\n",
    "\n",
    "    // Assign image URL.\n",
    "    img.src = url\n",
    "    \n",
    "</script>"
   ]
  },
  {
   "cell_type": "markdown",
   "metadata": {},
   "source": [
    "Hey look!  That's a neat elephant."
   ]
  },
  {
   "cell_type": "markdown",
   "metadata": {},
   "source": [
    "## My new Class: `CanvasImage`"
   ]
  },
  {
   "cell_type": "markdown",
   "metadata": {},
   "source": [
    "Have a look at the JavaScript source code for the `CanvasWidget` I wrote based on the IPython Notebook's widget infrastructure.\n",
    "\n",
    "You'll see components similar to the example just above at the core of my widget.  The full version is more complicated due to it being implemented as part of an existing framework that itself is a sophisticated mix of multiple JavaScript libraries (but mostly BackboneJS in this context).\n",
    "\n",
    "In the next cell I use my new Canvas Image Widget to load and display the same image as above, except this time it's so much simpler."
   ]
  },
  {
   "cell_type": "code",
   "execution_count": 2,
   "metadata": {
    "collapsed": false
   },
   "outputs": [
    {
     "name": "stderr",
     "output_type": "stream",
     "text": [
      ":0: FutureWarning: IPython widgets are experimental and may change in the future.\n"
     ]
    }
   ],
   "source": [
    "import requests\n",
    "import IPython.html.widgets\n",
    "from widget_canvas import image\n",
    "\n",
    "import matplotlib.pyplot as plt\n",
    "\n",
    "%matplotlib inline"
   ]
  },
  {
   "cell_type": "code",
   "execution_count": 4,
   "metadata": {
    "collapsed": false
   },
   "outputs": [],
   "source": [
    "url_elephant = 'http://upload.wikimedia.org/wikipedia/commons/thumb/3/37/African_Bush_Elephant.jpg/160px-African_Bush_Elephant.jpg'\n",
    "\n",
    "resp = requests.get(url_elephant)"
   ]
  },
  {
   "cell_type": "code",
   "execution_count": 8,
   "metadata": {
    "collapsed": false
   },
   "outputs": [
    {
     "data": {
      "image/png": "[encoded data removed]",
      "text/plain": [
       "<matplotlib.figure.Figure at 0x7f0ed0144470>"
      ]
     },
     "metadata": {},
     "output_type": "display_data"
    }
   ],
   "source": [
    "d = image.decompress(resp.content)\n",
    "\n",
    "plt.imshow(d)\n",
    "plt.show()"
   ]
  },
  {
   "cell_type": "code",
   "execution_count": 9,
   "metadata": {
    "collapsed": false
   },
   "outputs": [
    {
     "ename": "NameError",
     "evalue": "name 'widget_canvas' is not defined",
     "output_type": "error",
     "traceback": [
      "\u001b[1;31m---------------------------------------------------------------------------\u001b[0m",
      "\u001b[1;31mNameError\u001b[0m                                 Traceback (most recent call last)",
      "\u001b[1;32m<ipython-input-9-c21545cd9259>\u001b[0m in \u001b[0;36m<module>\u001b[1;34m()\u001b[0m\n\u001b[0;32m      3\u001b[0m \u001b[1;33m\u001b[0m\u001b[0m\n\u001b[0;32m      4\u001b[0m \u001b[1;31m# Make the widget and display it to the screen.\u001b[0m\u001b[1;33m\u001b[0m\u001b[1;33m\u001b[0m\u001b[0m\n\u001b[1;32m----> 5\u001b[1;33m \u001b[0mwid\u001b[0m \u001b[1;33m=\u001b[0m \u001b[0mwidget_canvas\u001b[0m\u001b[1;33m.\u001b[0m\u001b[0mCanvasImage\u001b[0m\u001b[1;33m(\u001b[0m\u001b[1;33m)\u001b[0m\u001b[1;33m\u001b[0m\u001b[0m\n\u001b[0m\u001b[0;32m      6\u001b[0m \u001b[0mwid\u001b[0m\u001b[1;33m.\u001b[0m\u001b[0mdata_encode\u001b[0m \u001b[1;33m=\u001b[0m \u001b[0murl_elephant\u001b[0m\u001b[1;33m\u001b[0m\u001b[0m\n\u001b[0;32m      7\u001b[0m \u001b[1;31m# wid.display()\u001b[0m\u001b[1;33m\u001b[0m\u001b[1;33m\u001b[0m\u001b[0m\n",
      "\u001b[1;31mNameError\u001b[0m: name 'widget_canvas' is not defined"
     ]
    }
   ],
   "source": [
    "# Same URL as earlier\n",
    "url_elephant = 'http://upload.wikimedia.org/wikipedia/commons/thumb/3/37/African_Bush_Elephant.jpg/160px-African_Bush_Elephant.jpg'\n",
    "\n",
    "# Make the widget and display it to the screen.\n",
    "wid = widget_canvas.CanvasImage()\n",
    "wid.data_encode = url_elephant\n",
    "# wid.display()"
   ]
  },
  {
   "cell_type": "code",
   "execution_count": 8,
   "metadata": {
    "collapsed": false
   },
   "outputs": [],
   "source": [
    "wid.display()"
   ]
  },
  {
   "cell_type": "code",
   "execution_count": 9,
   "metadata": {
    "collapsed": false
   },
   "outputs": [
    {
     "name": "stdout",
     "output_type": "stream",
     "text": [
      "160.0 240.0\n"
     ]
    }
   ],
   "source": [
    "wid.display()\n",
    "print(wid.width, wid.height)"
   ]
  },
  {
   "cell_type": "markdown",
   "metadata": {},
   "source": [
    "But what about the nice black line around the edge?  No problem!  The IPython built-in Widget's support direct manipulation of CSS properties.  My Canvas Widget is an extension of the IPython `DOMWidget`, so it too can manipulate CSS properties.  The Mozilla Develloper Network has great reference information for [CSS properties](https://developer.mozilla.org/en-US/docs/Web/CSS/Reference).\n"
   ]
  },
  {
   "cell_type": "code",
   "execution_count": 10,
   "metadata": {
    "collapsed": false
   },
   "outputs": [],
   "source": [
    "# Update widget's image border property.\n",
    "wid.set_css('border', 'solid black 2px')\n",
    "\n",
    "# There we go!  So really just a few lines of Python code."
   ]
  },
  {
   "cell_type": "markdown",
   "metadata": {},
   "source": [
    "Using my `CanvasImageWidget` is much easier than stepping through all those hoops needed with the `%%html` or `%%javascript` magic functions.  And that's the whole point of the IPython Notebook!  Make it easier to work with data and view the results."
   ]
  },
  {
   "cell_type": "markdown",
   "metadata": {},
   "source": [
    "## What about the Custom JavaScript Source Code?"
   ]
  },
  {
   "cell_type": "markdown",
   "metadata": {},
   "source": [
    "Most of the Notebook JavaScript extensions and examples I've seen place new JavaScript code in the user's  IPython profile `static/custom` folder.  That just seems a bit cumbersome to me so I tried something different for this project.  I include a `js` subfolder inside my Python package and I wrote a couple of helper Python functions.  When a `CanvasWidget` is instantiated it calls the function `_bootstrap_js()` which reads in any required JavaScript files.  The contents of each file are then injected into the Notebook using IPython's built-in `display_javascript()` function."
   ]
  },
  {
   "cell_type": "markdown",
   "metadata": {},
   "source": [
    "```Python\n",
    "_path_module = os.path.abspath(os.path.dirname(__file__))\n",
    "_path_js = os.path.join(_path_module, 'js')\n",
    "\n",
    "def _read_local_js(fname):\n",
    "    \"\"\"Read a JavaScript file from application's local JS folder.  Return a string.\"\"\"\n",
    "    b, e = os.path.splitext(os.path.basename(fname))\n",
    "    f = os.path.join(_path_js, b + '.js')\n",
    "\n",
    "    with open(f) as fo:\n",
    "        return fo.read()\n",
    "\n",
    "\n",
    "def _bootstrap_js():\n",
    "    \"\"\"Load JavaScript and inject into current Notebook session.\"\"\"\n",
    "    files = ['widget_canvas.js']\n",
    "    for f in files:\n",
    "        js = _read_local_js(f)\n",
    "        IPython.display.display_javascript(js, raw=True)\n",
    "```"
   ]
  },
  {
   "cell_type": "markdown",
   "metadata": {},
   "source": [
    "## Display Images from Numpy Arrays"
   ]
  },
  {
   "cell_type": "markdown",
   "metadata": {},
   "source": [
    "While displaying images by specifying a URL has many uses, I'm mostly interested in displaying technical imagery as part of my everyday data analysis efforts.  This means working with data in Numpy arrays in the Python back-end and somehow transfering images to the JavaScript front-end in a manner compatible with the existing Widget system.  It turns out it's quite easy to compress an image as PNG and embed that data via [Base64](http://en.wikipedia.org/wiki/Base64) encoding into a very large URL string.  This may not be the most efficient or elegant solution, but it was simplest for me to understand and get it working quickly.  \n",
    "\n",
    "The little helper function below shows how I do this conversion, using `PIL/Pillow` behind the scenes to perform the actual PNG compression.  The input to the helper function is a Numpy array containing an image, and the output is a huge URL string with embedded image data."
   ]
  },
  {
   "cell_type": "code",
   "execution_count": 11,
   "metadata": {
    "collapsed": false
   },
   "outputs": [],
   "source": [
    "import base64\n",
    "\n",
    "def encode_src_data(image):\n",
    "    \"\"\"\n",
    "    Compress and encode input image data.\n",
    "    Format as <img> element src string with embedded data.\n",
    "    This function uses a PNG compression function from the included module image.py.\n",
    "    \"\"\"\n",
    "    # Compress with PNG.\n",
    "    data_comp, fmt = canvas.image.compress(image)\n",
    "\n",
    "    # Encode with base64.\n",
    "    data_b64 = base64.b64encode(data_comp)\n",
    "\n",
    "    # Build an Image Element src string with embedded data.\n",
    "    data_encode = 'data:image/{:s};base64,{:s}'.format(fmt, data_b64)\n",
    "    \n",
    "    return data_encode"
   ]
  },
  {
   "cell_type": "markdown",
   "metadata": {},
   "source": [
    "## Using `CanvasImage` with Embedded Data "
   ]
  },
  {
   "cell_type": "markdown",
   "metadata": {},
   "source": [
    "Here is a quick example of what that encoded URL looks like:"
   ]
  },
  {
   "cell_type": "code",
   "execution_count": 12,
   "metadata": {
    "collapsed": false
   },
   "outputs": [
    {
     "name": "stdout",
     "output_type": "stream",
     "text": [
      "\n",
      "Image shape: (220, 320, 3)\n",
      "\n",
      "URL number of characters: 108638\n",
      "\n",
      "URL first 200 characters: \"data:image/PNG;base64,iVBORw0KGgoAAAANSUhEUgAAAUAAAADcCAIAAACOIe9xAAEAAElEQVR4nOT9a4xsSXoYiH2PiDjnZGbVffa7Z3qGwxmSGlIUibVE07sUsFgLlgwYsmCs4cViARtY+/fCMAx44f8GDPuPDNjwX/9dSzbWgi3J0EKAbYna9ZJLkZTI5kxPd0...\"\n"
     ]
    }
   ],
   "source": [
    "# Load image file using my simple image reader helper function.\n",
    "data_whippet = canvas.image.read('images/Whippet.jpg')\n",
    "\n",
    "print('\\nImage shape: {}'.format(data_whippet.shape))\n",
    "\n",
    "# Encode all test images into src \n",
    "src_image = encode_src_data(data_whippet)\n",
    "\n",
    "print('\\nURL number of characters: {:d}'.format(len(src_image)))\n",
    "print('\\nURL first 200 characters: \"{:s}...\"'.format(src_image[:200]))"
   ]
  },
  {
   "cell_type": "markdown",
   "metadata": {},
   "source": [
    "This large `src` string with the embedded photo may be fed directly into a `CanvasImageWidget`."
   ]
  },
  {
   "cell_type": "code",
   "execution_count": 13,
   "metadata": {
    "collapsed": false
   },
   "outputs": [],
   "source": [
    "# Create a CanvasWidget using image data embedded in URL string.\n",
    "wid = canvas.CanvasImageBase()\n",
    "\n",
    "wid.data_encode = src_image\n",
    "\n",
    "wid.display()"
   ]
  },
  {
   "cell_type": "markdown",
   "metadata": {},
   "source": [
    "I wrote my `CanvasImage` class such that it can directly accept Numpy arrays containing image data and incorporates the above functionality as integral components.  This class handles all the details for embedding the compressed image into the Canvas Element."
   ]
  },
  {
   "cell_type": "code",
   "execution_count": 16,
   "metadata": {
    "collapsed": false
   },
   "outputs": [],
   "source": [
    "# Load another dog image.\n",
    "data_doberman = canvas.image.read('images/Doberman.jpg')\n",
    "\n",
    "# Display Numpy image directly.\n",
    "wid = canvas.CanvasImageBase(data_doberman)\n",
    "wid.display()"
   ]
  },
  {
   "cell_type": "markdown",
   "metadata": {},
   "source": [
    "But which dog to choose?  I like them both!"
   ]
  },
  {
   "cell_type": "code",
   "execution_count": 34,
   "metadata": {
    "collapsed": false
   },
   "outputs": [
    {
     "name": "stdout",
     "output_type": "stream",
     "text": [
      "Rate: 13.97 FPS\n"
     ]
    }
   ],
   "source": [
    "import time\n",
    "num_loop = 100\n",
    "dt = 0.05\n",
    "\n",
    "t0 = time.time()\n",
    "for k in range(num_loop):\n",
    "    wid.image = [data_whippet, data_doberman][k % 2]\n",
    "    time.sleep(dt)\n",
    "    \n",
    "t1 = time.time()\n",
    "\n",
    "fps = num_loop / (t1 - t0)\n",
    "print('Rate: {:5.2f} FPS'.format(fps))"
   ]
  },
  {
   "cell_type": "markdown",
   "metadata": {},
   "source": [
    "## Final Thoughts"
   ]
  },
  {
   "cell_type": "markdown",
   "metadata": {},
   "source": [
    "The `CanvasImage` does not currently support drawing geometric shapes, but I'm certain it could be done without too much effort.  My focus now is with image display, but that doesn't prevent anyone else from lending a hand and working out details for line and shape drawing. The next step for me will be to add basic support for mouse and keyboard events such that the user will be able to attach their own Python event handlers.  I also want to support image [transforms](http://www.whatwg.org/specs/web-apps/current-work/multipage/the-canvas-element.html#transformations).  The next steps will be to provide helper functions making it easy to connect mouse/keyboard events with generating new image transforms.  This combination will enable even more features like image panning with the mouse or zooming with the scroll wheel.  \n",
    "\n",
    "**Yeah!  I can't wait!**"
   ]
  },
  {
   "cell_type": "code",
   "execution_count": null,
   "metadata": {
    "collapsed": false
   },
   "outputs": [],
   "source": []
  }
 ],
 "metadata": {
  "kernelspec": {
   "display_name": "Python 3",
   "language": "python",
   "name": "python3"
  },
  "language_info": {
   "codemirror_mode": {
    "name": "ipython",
    "version": 3
   },
   "file_extension": ".py",
   "mimetype": "text/x-python",
   "name": "python",
   "nbconvert_exporter": "python",
   "pygments_lexer": "ipython3",
   "version": "3.4.3"
  }
 },
 "nbformat": 4,
 "nbformat_minor": 0
}

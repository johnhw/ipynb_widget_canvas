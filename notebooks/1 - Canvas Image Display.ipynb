{
 "metadata": {
  "name": "",
  "signature": "sha256:d60546555fc6bf899f5d5c69eea427b1ddeecb8d80a5ccbbf1ff02933c04bc63"
 },
 "nbformat": 3,
 "nbformat_minor": 0,
 "worksheets": [
  {
   "cells": [
    {
     "cell_type": "heading",
     "level": 1,
     "metadata": {},
     "source": [
      "Canvas Widget for IPython Notebook"
     ]
    },
    {
     "cell_type": "code",
     "collapsed": false,
     "input": [
      "from __future__ import print_function, unicode_literals, division"
     ],
     "language": "python",
     "metadata": {},
     "outputs": [],
     "prompt_number": 1
    },
    {
     "cell_type": "heading",
     "level": 2,
     "metadata": {},
     "source": [
      "HTML5 Canvas Element"
     ]
    },
    {
     "cell_type": "markdown",
     "metadata": {},
     "source": [
      "The [Interactive Widgets](http://nbviewer.ipython.org/github/ipython/ipython/blob/2.x/examples/Interactive%20Widgets/Index.ipynb) for the [IPython Notebook](http://ipython.org/ipython-doc/dev/notebook/index.html) are now a reality and I cannot say enough nice things about them.  There is so much potential for doing interesting work using this set of tools.  I thought it would be a great learning experience for me to build a quantitative image viewing/analysis tool using these new widgets.  It turns out the IPython Notebook built-in image widget is based on an `<img>` element and is rather simple.  I decided that the first step on my new project would be to build a better image-display widget based on the awesome HTML5 Canvas Element.  The people at Mozilla have a nice [description](https://developer.mozilla.org/en-US/docs/Web/HTML/Element/canvas) of the `Canvas` that is worth reading.  Essentially, the Canvas Element is a great tool for displaying images and drawing artwork onto a bitmap surface.  It has built-in support for size and rotation transforms, and good number of third-party JavaScript libraries have sprung up adding all kinds of amazing feature.\n",
      "\n",
      "The `Canvas Element` can do a lot more than just display an image.  It has a bunch of methods for drawing all kinds of lines and shapes!  Right now I'm completely focused on displaying and working with images, but still I wrote the Canvas Widget generic enough such that adding additional draw functions should be a rather straightforward task.\n",
      "\n",
      "There are many options to choose from when using the Canvas to [display an image](https://developer.mozilla.org/en-US/docs/Web/Guide/HTML/Canvas_tutorial/Using_images).  It pretty much comes down to specifying a  source of image data when calling `canvas.drawImage(some_image_data)`.  The [Canvas Tutorial](https://developer.mozilla.org/en-US/docs/Web/Guide/HTML/Canvas_tutorial/Using_images#Getting_images_to_draw) at the Mozilla Developer Network site has a good summary about which data types the Ccanvas is able to use as an image source:\n",
      "\n",
      "- **[HTMLImageElement](https://developer.mozilla.org/en-US/docs/Web/API/HTMLImageElement)**: These are images created using the `Image()` constructor, as well as any existing [`<img>`](https://developer.mozilla.org/en-US/docs/Web/HTML/Element/img) element.\n",
      "\n",
      "- **[HTMLVideoElement](https://developer.mozilla.org/en-US/docs/Web/API/HTMLVideoElement)**: Using an HTML [Video](https://developer.mozilla.org/en-US/docs/Web/HTML/Element/video) element as a source grabs the current frame from the video as the image.\n",
      "\n",
      "- **[HTMLCanvasElement](https://developer.mozilla.org/en-US/docs/Web/API/HTMLCanvasElement)**: Another [Canvas](https://developer.mozilla.org/en-US/docs/Web/HTML/Element/canvas) element as a source.\n",
      "\n",
      "The simplest option for me was to constrct an internal `Image` element from the user-supplied `src` string.  Just below is an example showing exactly how I did that."
     ]
    },
    {
     "cell_type": "heading",
     "level": 3,
     "metadata": {},
     "source": [
      "Canvas Example with HTML and JavaScript"
     ]
    },
    {
     "cell_type": "markdown",
     "metadata": {},
     "source": [
      "Start with building a Canvas Element and then giving it a nice black border."
     ]
    },
    {
     "cell_type": "code",
     "collapsed": false,
     "input": [
      "%%html\n",
      "\n",
      "<canvas id='hello_example' style='border: solid black 2px'/>\n",
      "\n",
      "<script>\n",
      "    console.log('X start')\n",
      "\n",
      "    // An elephant image URL\n",
      "    var url = 'http://upload.wikimedia.org/wikipedia/commons/thumb/3/37/African_Bush_Elephant.jpg/160px-African_Bush_Elephant.jpg'\n",
      "\n",
      "    // Get the canvas element plus corresponding drawing context\n",
      "    console.log('X make canvas')\n",
      "    var canvas = document.getElementById('hello_example');\n",
      "    var context = canvas.getContext('2d');\n",
      "\n",
      "    // Create a hidden <img> element to manage incoming data\n",
      "    console.log('X make img')\n",
      "    var img = new Image();   \n",
      "\n",
      "    // Add new-data event handler to the hidden <img> element\n",
      "    img.onload = function() {\n",
      "        console.log('X onload')\n",
      "        // This function will be called when new image data has finished loading\n",
      "        // into the <img> element.  This new data will be the source for drawing\n",
      "        // onto the Canvas.\n",
      "\n",
      "        // Set canvas geometry\n",
      "        canvas.width = img.width\n",
      "        canvas.style.width = img.width + 'px'\n",
      "\n",
      "        canvas.height = img.height\n",
      "        canvas.style.height = img.height + 'px'\n",
      "\n",
      "        // Draw new image data onto the Canvas.\n",
      "        context.drawImage(img, 0, 0);\n",
      "    }\n",
      "\n",
      "    // Assign image URL.\n",
      "    console.log('X assign URL')\n",
      "    img.src = url\n",
      "    \n",
      "    console.log('X end')\n",
      "</script>"
     ],
     "language": "python",
     "metadata": {},
     "outputs": [
      {
       "html": [
        "\n",
        "<canvas id='hello_example' style='border: solid black 2px'/>\n",
        "\n",
        "<script>\n",
        "    console.log('X start')\n",
        "\n",
        "    // An elephant image URL\n",
        "    var url = 'http://upload.wikimedia.org/wikipedia/commons/thumb/3/37/African_Bush_Elephant.jpg/160px-African_Bush_Elephant.jpg'\n",
        "\n",
        "    // Get the canvas element plus corresponding drawing context\n",
        "    console.log('X make canvas')\n",
        "    var canvas = document.getElementById('hello_example');\n",
        "    var context = canvas.getContext('2d');\n",
        "\n",
        "    // Create a hidden <img> element to manage incoming data\n",
        "    console.log('X make img')\n",
        "    var img = new Image();   \n",
        "\n",
        "    // Add new-data event handler to the hidden <img> element\n",
        "    img.onload = function() {\n",
        "        console.log('X onload')\n",
        "        // This function will be called when new image data has finished loading\n",
        "        // into the <img> element.  This new data will be the source for drawing\n",
        "        // onto the Canvas.\n",
        "\n",
        "        // Set canvas geometry\n",
        "        canvas.width = img.width\n",
        "        canvas.style.width = img.width + 'px'\n",
        "\n",
        "        canvas.height = img.height\n",
        "        canvas.style.height = img.height + 'px'\n",
        "\n",
        "        // Draw new image data onto the Canvas.\n",
        "        context.drawImage(img, 0, 0);\n",
        "    }\n",
        "\n",
        "    // Assign image URL.\n",
        "    console.log('X assign URL')\n",
        "    img.src = url\n",
        "    \n",
        "    console.log('X end')\n",
        "</script>"
       ],
       "metadata": {},
       "output_type": "display_data",
       "text": [
        "<IPython.core.display.HTML at 0x7ff302111ed0>"
       ]
      }
     ],
     "prompt_number": 2
    },
    {
     "cell_type": "markdown",
     "metadata": {},
     "source": [
      "Hey look!  That's a neat elephant."
     ]
    },
    {
     "cell_type": "heading",
     "level": 2,
     "metadata": {},
     "source": [
      "My new Class: `CanvasImage`"
     ]
    },
    {
     "cell_type": "markdown",
     "metadata": {},
     "source": [
      "Have a look at the JavaScript source code for the `CanvasWidget` I wrote based on the IPython Notebook infrastructure.  You'll see components similar to the example just above at the core of my widget.  The full version is more complicated due to it being implemented as part of an existing framework that itself is a sophisticated mix of multiple JavaScript libraries (but mostly BackboneJS in this context).\n",
      "\n",
      "In the next cell I use my new Canvas Image Widget to load and display the same image as above, except this time it's so much simpler."
     ]
    },
    {
     "cell_type": "code",
     "collapsed": false,
     "input": [
      "import time\n",
      "\n",
      "import IPython\n",
      "import widget_canvas as canvas"
     ],
     "language": "python",
     "metadata": {},
     "outputs": [
      {
       "output_type": "stream",
       "stream": "stdout",
       "text": [
        "bootstrap: widget_canvas.js\n"
       ]
      },
      {
       "javascript": [
        "//============================================================================\n",
        "// CanvasWidget\n",
        "//============================================================================\n",
        "// console.log('module widget_canvas.js');\n",
        "\n",
        "require([\n",
        "    \"widgets/js/widget\",\n",
        "    \"jquery\",\n",
        "], function (WidgetManager, $) {\n",
        "\n",
        "    // console.log('define widget_canvas.js');\n",
        "\n",
        "    // Define the widget View.\n",
        "    var CanvasImageBaseView = IPython.DOMWidgetView.extend({\n",
        "        initialize: function (options) {\n",
        "            // console.log('initialize');\n",
        "\n",
        "            // Backbone Model --> My JavaScript View\n",
        "            this.model.on('change:data_encode', this.update_data_encode, this);\n",
        "            this.model.on('change:width', this.update_width, this);\n",
        "            this.model.on('change:height', this.update_height, this);\n",
        "            // this.model.on('change:_transform_values', this.update_transform, this);\n",
        "            // this.model.on('change:smoothing', this.update_smoothing, this);\n",
        "\n",
        "            // this.time_mouse = Date.now()\n",
        "            // this.time_mouse_threshold = 20 // miliseconds\n",
        "            CanvasImageBaseView.__super__.initialize.apply(this, arguments);\n",
        "        },\n",
        "\n",
        "        render: function () {\n",
        "            // Render a widget's view instance to the DOM.\n",
        "            // console.log('render');\n",
        "\n",
        "            // This project's view is quite simple: just a single <canvas> element.\n",
        "            // http://stackoverflow.com/questions/3729034/javascript-html5-capture-keycode-and-write-to-canvas\n",
        "            this.setElement('<canvas />');\n",
        "\n",
        "            // Gather some handy references for the canvas and its context.\n",
        "            this.canvas = this.el\n",
        "            this.context = this.canvas.getContext('2d');\n",
        "\n",
        "            // Internal image element serving to render new image src data.  This object will\n",
        "            // later be used as source data argument to the canvas' own `drawImage()` method.\n",
        "            this.image = new Image();\n",
        "\n",
        "            // Event handling for drawing new data to the canvas.\n",
        "            var that = this\n",
        "            var draw_onload = function () {\n",
        "                // console.log('draw_onload');\n",
        "                that.update_data_image();\n",
        "            }\n",
        "\n",
        "            this.image.onload = draw_onload\n",
        "\n",
        "            // Does any valid data exist in the system?  Copy data_b64 if it exists in model.\n",
        "            if (this.model.has('data_encode')) {\n",
        "                // console.log('render has b64');\n",
        "                if (this.model.get('data_encode') != '') {\n",
        "                    // console.log('render has OK data_encode');\n",
        "                    this.update_data_encode();\n",
        "                }\n",
        "            }\n",
        "\n",
        "            // I noticed problems if this update() function call was left out, e.g. second views of\n",
        "            // my model would not initially receive CSS style properties.\n",
        "            this.update();\n",
        "        },\n",
        "\n",
        "        update_data_encode: function () {\n",
        "            // Python --> JavaScript, copy new value from Backbone model, apply to this View.\n",
        "            // console.log('update_data_encode');\n",
        "\n",
        "            this.image.src = this.model.get('data_encode');\n",
        "\n",
        "            // Event processing continues inside this.image's onload() event handler defined\n",
        "            // earlier inside this.render().\n",
        "        },\n",
        "\n",
        "        update_data_image: function () {\n",
        "            // Helper handler.\n",
        "            // console.log('update_data_image');\n",
        "\n",
        "            this.set_width(this.image.width);\n",
        "            this.set_height(this.image.height);\n",
        "\n",
        "            this.draw();\n",
        "        },\n",
        "\n",
        "        update_width: function () {\n",
        "            // Python --> JavaScript\n",
        "            // console.log('update_width');\n",
        "            this.set_width(this.model.get('width'));\n",
        "            this.draw();\n",
        "        },\n",
        "\n",
        "        update_height: function () {\n",
        "            // Python --> JavaScript\n",
        "            // console.log('update_height');\n",
        "            this.set_height(this.model.get('height'));\n",
        "            this.draw();\n",
        "        },\n",
        "\n",
        "        set_width: function (value) {\n",
        "            // console.log('set_width: ', value);\n",
        "\n",
        "            this.canvas.width = value\n",
        "            this.canvas.style.width = value*1.5 + 'px'\n",
        "\n",
        "            this.model.set('width', value);\n",
        "            this.touch();\n",
        "        },\n",
        "\n",
        "        set_height: function (value) {\n",
        "            // console.log('set_height: ', value);\n",
        "\n",
        "            this.canvas.height = value\n",
        "            this.canvas.style.height = value + 'px'\n",
        "\n",
        "            this.model.set('height', value);\n",
        "            this.touch()\n",
        "        },\n",
        "\n",
        "        clear: function () {\n",
        "            // Clear the canvas while preserving current state.\n",
        "            // http://stackoverflow.com/a/6722031/282840\n",
        "            // console.log('clear: ', 0, 0, this.canvas.width, this.canvas.height);\n",
        "\n",
        "            this.context.save();\n",
        "\n",
        "            this.context.setTransform(1, 0, 0, 1, 0, 0);\n",
        "            this.context.clearRect(0, 0, this.canvas.width, this.canvas.height);\n",
        "\n",
        "            this.context.restore();\n",
        "        },\n",
        "\n",
        "        draw: function () {\n",
        "            // Draw image data from internal <img> to the <canvas>.\n",
        "            // http://www.w3.org/TR/2014/CR-2dcontext-20140821/#drawing-images-to-the-canvas\n",
        "            // console.log('draw');\n",
        "\n",
        "            // Clear any prior image data.\n",
        "            this.clear();\n",
        "            // this.set_smoothing(false);\n",
        "\n",
        "            // Draw image to screen.\n",
        "            this.context.drawImage(this.image, 0, 0);\n",
        "\n",
        "            // Must call this.touch() after any modifications to Backbone Model data.\n",
        "            // this.touch();\n",
        "        },\n",
        "    });\n",
        "\n",
        "    // Define the widget View.\n",
        "    var CanvasImageFancyView = CanvasImageBaseView.extend({\n",
        "        initialize: function (options) {\n",
        "            console.log('initialize Fancy');\n",
        "\n",
        "            // Backbone Model --> My JavaScript View\n",
        "            // this.model.on('change:width', this.update_width, this);\n",
        "            // this.model.on('change:height', this.update_height, this);\n",
        "            // this.model.on('change:_transform_values', this.update_transform, this);\n",
        "            this.model.on('change:smoothing', this.update_smoothing, this);\n",
        "\n",
        "            CanvasImageFancyView.__super__.initialize.apply(this, arguments);\n",
        "        },\n",
        "\n",
        "        // render: function () {\n",
        "        //     // Render a widget's view instance to the DOM.\n",
        "        //     // console.log('render');\n",
        "\n",
        "        //     // This project's view is quite simple: just a single <canvas> element.\n",
        "        //     // http://stackoverflow.com/questions/3729034/javascript-html5-capture-keycode-and-write-to-canvas\n",
        "        //     this.setElement('<canvas />');\n",
        "\n",
        "        //     // Gather some handy references for the canvas and its context.\n",
        "        //     this.canvas = this.el\n",
        "        //     this.context = this.canvas.getContext('2d');\n",
        "\n",
        "        //     // Internal image element serving to render new image src data.  This object will\n",
        "        //     // later be used as source data argument to the canvas' own `drawImage()` method.\n",
        "        //     this.image = new Image();\n",
        "\n",
        "        //     // Event handling for drawing new data to the canvas.\n",
        "        //     var that = this\n",
        "        //     var draw_onload = function () {\n",
        "        //         // console.log('draw_onload');\n",
        "        //         that.update_data_image();\n",
        "        //     }\n",
        "\n",
        "        //     this.image.onload = draw_onload\n",
        "\n",
        "        //     // Does any valid data exist in the system?  Copy data_b64 if it exists in model.\n",
        "        //     if (this.model.has('data_encode')) {\n",
        "        //         // console.log('render has b64');\n",
        "        //         if (this.model.get('data_encode') != '') {\n",
        "        //             // console.log('render has OK data_encode');\n",
        "        //             this.update_data_encode();\n",
        "        //         }\n",
        "        //     }\n",
        "\n",
        "        //     // I noticed problems if this update() function call was left out, e.g. second views of\n",
        "        //     // my model would not initially receive CSS style properties.\n",
        "        //     this.update();\n",
        "        // },\n",
        "\n",
        "        update_smoothing: function () {\n",
        "            // Python --> JavaScript\n",
        "            console.log('update_smoothing');\n",
        "            this.set_smoothing(this.model.get('smoothing'));\n",
        "        },\n",
        "\n",
        "        set_smoothing: function (value) {\n",
        "            this.context.mozImageSmoothingEnabled = value\n",
        "            this.context.oImageSmoothingEnabled = value\n",
        "            this.context.webkitImageSmoothingEnabled = value\n",
        "            this.context.imageSmoothingEnabled = value\n",
        "        },\n",
        "\n",
        "    });\n",
        "\n",
        "    // Register Views with widget manager.\n",
        "\n",
        "    // Note: the method called below must be \"register_widget_view\", NOT \"register_widget_model\"!!\n",
        "    console.log('register views');\n",
        "    WidgetManager.register_widget_view('CanvasImageBaseView', CanvasImageBaseView);\n",
        "    WidgetManager.register_widget_view('CanvasImageFancyView', CanvasImageFancyView);\n",
        "});\n"
       ],
       "metadata": {},
       "output_type": "display_data"
      }
     ],
     "prompt_number": 4
    },
    {
     "cell_type": "code",
     "collapsed": false,
     "input": [
      "# Same URL as earlier\n",
      "url_elephant = 'http://upload.wikimedia.org/wikipedia/commons/thumb/3/37/African_Bush_Elephant.jpg/160px-African_Bush_Elephant.jpg'\n",
      "\n",
      "# Make the widget and display it to the screen.\n",
      "wid = canvas.CanvasImageBase()\n",
      "wid.data_encode = url_elephant\n",
      "# wid.display()"
     ],
     "language": "python",
     "metadata": {},
     "outputs": [],
     "prompt_number": 5
    },
    {
     "cell_type": "code",
     "collapsed": false,
     "input": [
      "wid.display()"
     ],
     "language": "python",
     "metadata": {},
     "outputs": [],
     "prompt_number": 6
    },
    {
     "cell_type": "code",
     "collapsed": false,
     "input": [
      "wid.display()\n",
      "print(wid.width, wid.height)"
     ],
     "language": "python",
     "metadata": {},
     "outputs": [
      {
       "ename": "AttributeError",
       "evalue": "'CanvasImageBase' object has no attribute 'width'",
       "output_type": "pyerr",
       "traceback": [
        "\u001b[1;31m---------------------------------------------------------------------------\u001b[0m\n\u001b[1;31mAttributeError\u001b[0m                            Traceback (most recent call last)",
        "\u001b[1;32m<ipython-input-7-8ce17f637094>\u001b[0m in \u001b[0;36m<module>\u001b[1;34m()\u001b[0m\n\u001b[0;32m      1\u001b[0m \u001b[0mwid\u001b[0m\u001b[1;33m.\u001b[0m\u001b[0mdisplay\u001b[0m\u001b[1;33m(\u001b[0m\u001b[1;33m)\u001b[0m\u001b[1;33m\u001b[0m\u001b[0m\n\u001b[1;32m----> 2\u001b[1;33m \u001b[1;32mprint\u001b[0m\u001b[1;33m(\u001b[0m\u001b[0mwid\u001b[0m\u001b[1;33m.\u001b[0m\u001b[0mwidth\u001b[0m\u001b[1;33m,\u001b[0m \u001b[0mwid\u001b[0m\u001b[1;33m.\u001b[0m\u001b[0mheight\u001b[0m\u001b[1;33m)\u001b[0m\u001b[1;33m\u001b[0m\u001b[0m\n\u001b[0m",
        "\u001b[1;31mAttributeError\u001b[0m: 'CanvasImageBase' object has no attribute 'width'"
       ]
      }
     ],
     "prompt_number": 7
    },
    {
     "cell_type": "markdown",
     "metadata": {},
     "source": [
      "But what about the nice black line around the edge?  No problem!  The IPython built-in Widget's support direct manipulation of CSS properties.  My Canvas Widget is an extension of the IPython `DOMWidget`, so it too can manipulate CSS properties.  The Mozilla Develloper Network has great reference information for [CSS properties](https://developer.mozilla.org/en-US/docs/Web/CSS/Reference).\n"
     ]
    },
    {
     "cell_type": "code",
     "collapsed": false,
     "input": [
      "# Update widget's image border property.\n",
      "wid.set_css('border', 'solid black 2px')\n",
      "\n",
      "# There we go!  So really just a few lines of Python code."
     ],
     "language": "python",
     "metadata": {},
     "outputs": [],
     "prompt_number": 10
    },
    {
     "cell_type": "markdown",
     "metadata": {},
     "source": [
      "Using my `CanvasImageWidget` is much easier than stepping through all those hoops needed with the `%%html` or `%%javascript` magic functions.  And that's the whole point of the IPython Notebook!  Make it easier to work with data and view the results."
     ]
    },
    {
     "cell_type": "heading",
     "level": 2,
     "metadata": {},
     "source": [
      "What about the Custom JavaScript Source Code?"
     ]
    },
    {
     "cell_type": "markdown",
     "metadata": {},
     "source": [
      "Most of the Notebook JavaScript extensions and examples I've seen place new JavaScript code in the user's  IPython profile `static/custom` folder.  That just seems a bit cumbersome to me so I tried something different for this project.  I include a `js` subfolder inside my Python package and I wrote a couple of helper Python functions.  When a `CanvasWidget` is instantiated it calls the function `_bootstrap_js()` which reads in any required JavaScript files.  The contents of each file are then injected into the Notebook using IPython's built-in `display_javascript()` function."
     ]
    },
    {
     "cell_type": "markdown",
     "metadata": {},
     "source": [
      "```Python\n",
      "_path_module = os.path.abspath(os.path.dirname(__file__))\n",
      "_path_js = os.path.join(_path_module, 'js')\n",
      "\n",
      "def _read_local_js(fname):\n",
      "    \"\"\"Read a JavaScript file from application's local JS folder.  Return a string.\"\"\"\n",
      "    b, e = os.path.splitext(os.path.basename(fname))\n",
      "    f = os.path.join(_path_js, b + '.js')\n",
      "\n",
      "    with open(f) as fo:\n",
      "        return fo.read()\n",
      "\n",
      "\n",
      "def _bootstrap_js():\n",
      "    \"\"\"Load JavaScript and inject into current Notebook session.\"\"\"\n",
      "    files = ['widget_canvas.js']\n",
      "    for f in files:\n",
      "        js = _read_local_js(f)\n",
      "        IPython.display.display_javascript(js, raw=True)\n",
      "```"
     ]
    },
    {
     "cell_type": "heading",
     "level": 2,
     "metadata": {},
     "source": [
      "Display Images from Numpy Arrays"
     ]
    },
    {
     "cell_type": "markdown",
     "metadata": {},
     "source": [
      "While displaying images by specifying a URL has many uses, I'm mostly interested in displaying technical imagery as part of my everyday data analysis efforts.  This means working with data in Numpy arrays in the Python back-end and somehow transfering images to the JavaScript front-end in a manner compatible with the existing Widget system.  It turns out it's quite easy to compress an image as PNG and embed that data via [Base64](http://en.wikipedia.org/wiki/Base64) encoding into a very large URL string.  This may not be the most efficient or elegant solution, but it was simplest for me to understand and get it working quickly.  \n",
      "\n",
      "The little helper function below shows how I do this conversion, using `PIL/Pillow` behind the scenes to perform the actual PNG compression.  The input to the helper function is a Numpy array containing an image, and the output is a huge URL string with embedded image data."
     ]
    },
    {
     "cell_type": "code",
     "collapsed": false,
     "input": [
      "import base64\n",
      "\n",
      "def encode_src_data(image):\n",
      "    \"\"\"\n",
      "    Compress and encode input image data.\n",
      "    Format as <img> element src string with embedded data.\n",
      "    This function uses a PNG compression function from the included module image.py.\n",
      "    \"\"\"\n",
      "    # Compress with PNG.\n",
      "    data_comp, fmt = canvas.image.compress(image)\n",
      "\n",
      "    # Encode with base64.\n",
      "    data_b64 = base64.b64encode(data_comp)\n",
      "\n",
      "    # Build an Image Element src string with embedded data.\n",
      "    data_encode = 'data:image/{:s};base64,{:s}'.format(fmt, data_b64)\n",
      "    \n",
      "    return data_encode"
     ],
     "language": "python",
     "metadata": {},
     "outputs": [],
     "prompt_number": 11
    },
    {
     "cell_type": "heading",
     "level": 2,
     "metadata": {},
     "source": [
      "Using `CanvasImage` with Embedded Data "
     ]
    },
    {
     "cell_type": "markdown",
     "metadata": {},
     "source": [
      "Here is a quick example of what that encoded URL looks like:"
     ]
    },
    {
     "cell_type": "code",
     "collapsed": false,
     "input": [
      "# Load image file using my simple image reader helper function.\n",
      "data_whippet = canvas.image.read('images/Whippet.jpg')\n",
      "\n",
      "print('\\nImage shape: {}'.format(data_whippet.shape))\n",
      "\n",
      "# Encode all test images into src \n",
      "src_image = encode_src_data(data_whippet)\n",
      "\n",
      "print('\\nURL number of characters: {:d}'.format(len(src_image)))\n",
      "print('\\nURL first 200 characters: \"{:s}...\"'.format(src_image[:200]))"
     ],
     "language": "python",
     "metadata": {},
     "outputs": [
      {
       "output_type": "stream",
       "stream": "stdout",
       "text": [
        "\n",
        "Image shape: (220, 320, 3)\n",
        "\n",
        "URL number of characters: 108638\n",
        "\n",
        "URL first 200 characters: \"data:image/PNG;base64,iVBORw0KGgoAAAANSUhEUgAAAUAAAADcCAIAAACOIe9xAAEAAElEQVR4nOT9a4xsSXoYiH2PiDjnZGbVffa7Z3qGwxmSGlIUibVE07sUsFgLlgwYsmCs4cViARtY+/fCMAx44f8GDPuPDNjwX/9dSzbWgi3J0EKAbYna9ZJLkZTI5kxPd0...\"\n"
       ]
      }
     ],
     "prompt_number": 12
    },
    {
     "cell_type": "markdown",
     "metadata": {},
     "source": [
      "This large `src` string with the embedded photo may be fed directly into a `CanvasImageWidget`."
     ]
    },
    {
     "cell_type": "code",
     "collapsed": false,
     "input": [
      "# Create a CanvasWidget using image data embedded in URL string.\n",
      "wid = canvas.CanvasImageBase()\n",
      "\n",
      "wid.data_encode = src_image\n",
      "\n",
      "wid.display()"
     ],
     "language": "python",
     "metadata": {},
     "outputs": [],
     "prompt_number": 13
    },
    {
     "cell_type": "markdown",
     "metadata": {},
     "source": [
      "I wrote my `CanvasImage` class such that it can directly accept Numpy arrays containing image data and incorporates the above functionality as integral components.  This class handles all the details for embedding the compressed image into the Canvas Element."
     ]
    },
    {
     "cell_type": "code",
     "collapsed": false,
     "input": [
      "# Load another dog image.\n",
      "data_doberman = canvas.image.read('images/Doberman.jpg')\n",
      "\n",
      "# Display Numpy image directly.\n",
      "wid = canvas.CanvasImageBase(data_doberman)\n",
      "wid.display()"
     ],
     "language": "python",
     "metadata": {},
     "outputs": [],
     "prompt_number": 16
    },
    {
     "cell_type": "markdown",
     "metadata": {},
     "source": [
      "But which dog to choose?  I like them both!"
     ]
    },
    {
     "cell_type": "code",
     "collapsed": false,
     "input": [
      "import time\n",
      "num_loop = 100\n",
      "dt = 0.05\n",
      "\n",
      "t0 = time.time()\n",
      "for k in range(num_loop):\n",
      "    wid.image = [data_whippet, data_doberman][k % 2]\n",
      "    time.sleep(dt)\n",
      "    \n",
      "t1 = time.time()\n",
      "\n",
      "fps = num_loop / (t1 - t0)\n",
      "print('Rate: {:5.2f} FPS'.format(fps))"
     ],
     "language": "python",
     "metadata": {},
     "outputs": [
      {
       "output_type": "stream",
       "stream": "stdout",
       "text": [
        "Rate: 13.97 FPS\n"
       ]
      }
     ],
     "prompt_number": 34
    },
    {
     "cell_type": "heading",
     "level": 2,
     "metadata": {},
     "source": [
      "Final Thoughts"
     ]
    },
    {
     "cell_type": "markdown",
     "metadata": {},
     "source": [
      "The `CanvasImage` does not currently support drawing geometric shapes, but I'm certain it could be done without too much effort.  My focus now is with image display, but that doesn't prevent anyone else from lending a hand and working out details for line and shape drawing. The next step for me will be to add basic support for mouse and keyboard events such that the user will be able to attach their own Python event handlers.  I also want to support image [transforms](http://www.whatwg.org/specs/web-apps/current-work/multipage/the-canvas-element.html#transformations).  The next steps will be to provide helper functions making it easy to connect mouse/keyboard events with generating new image transforms.  This combination will enable even more features like image panning with the mouse or zooming with the scroll wheel.  \n",
      "\n",
      "**Yeah!  I can't wait!**"
     ]
    },
    {
     "cell_type": "code",
     "collapsed": false,
     "input": [],
     "language": "python",
     "metadata": {},
     "outputs": []
    }
   ],
   "metadata": {}
  }
 ]
}
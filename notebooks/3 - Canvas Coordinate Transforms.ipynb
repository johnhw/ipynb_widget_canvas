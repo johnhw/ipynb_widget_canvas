{
 "metadata": {
  "name": "",
  "signature": "sha256:b37440aa9cb87f7657ca35c7fcbf8779fe4bfbda394959a55e32a6df2a9279c8"
 },
 "nbformat": 3,
 "nbformat_minor": 0,
 "worksheets": [
  {
   "cells": [
    {
     "cell_type": "heading",
     "level": 1,
     "metadata": {},
     "source": [
      "Canvas Coordinate Transforms"
     ]
    },
    {
     "cell_type": "markdown",
     "metadata": {},
     "source": [
      "## Notes and Links\n",
      "- http://www.whatwg.org/specs/web-apps/current-work/multipage/the-canvas-element.html#drawing-images\n",
      "- http://developers.whatwg.org/the-canvas-element.html#transformations\n",
      "- https://developer.mozilla.org/en-US/docs/Web/API/CanvasRenderingContext2D\n",
      "- https://developer.mozilla.org/en-US/docs/Web/Guide/HTML/Canvas_tutorial/Transformations\n",
      "- https://developer.mozilla.org/en-US/docs/Web/HTML/Canvas/Drawing_graphics_with_canvas\n",
      "- See the list here [whatwg](http://www.whatwg.org/specs/web-apps/current-work/multipage/the-canvas-element.html#drawing-images) for a description of what happens at each processing step.\n",
      "\n",
      "\n",
      "## To Do:\n",
      "- Review and test updates to Transform callback function.\n",
      "- Incorporate Pan_Zoom_Rotate examples.\n",
      "- Support changing `imageSmoothing` option on canvas.\n",
      "- Transfer prototype Notebook code for handling/generating Transform events into a proper Python module.  Place into own module, or perhaps inside of existing Transform.py.\n",
      "\n",
      "- Check for mouse leave/enter canvas for more robust drag event handling / responsiveness\n",
      "\n",
      "- Ideas for interactive drag & resize:\n",
      "    - Look into resizable canvas by click/dragging edge or corner\n",
      "    - [canvas resize](http://www.html5canvastutorials.com/labs/html5-canvas-drag-and-drop-resize-and-invert-images)\n",
      "    - Possible ideas at [StackOverflow](http://stackoverflow.com/questions/1977741/resizable-canvas-jquery-ui)\n",
      "\n",
      "- Build draft version of my Quiver app.\n",
      "\n",
      "## To Do Later:\n",
      "\n",
      "- Reduce latencies in mouse/transform responsiveness:\n",
      "    - Look for areas to eliminate redundancies.\n",
      "    - Move more code from Python back-end to JavaScript front-end.  I suspect the major source of latency is the round-trip between back-end and front-end while responding to user input mouse events.\n",
      "    - The following bits of code will be useful when moving stsuff to the front-end:\n",
      "        - Blog post: http://simonsarris.com/blog/471-a-transformation-class-for-canvas-to-keep-track-of-the-transformation-matrix\n",
      "        - Github repo: https://github.com/simonsarris/Canvas-tutorials/blob/master/transform.js\n",
      "        - Grab a `decompose()` function from here: https://github.com/paperjs/paper.js/blob/master/src/basic/Matrix.js\n",
      "\n",
      "## Done:\n",
      "- Transform to be implemented in parts.  Six-element vector of the numbers making up the transform matrix will be basic data synced between front- and bak-ends.- Examples maniplating image with transforms\n",
      "- Example with dispaying mouse motion & click event info via Text Widget\n",
      "- Initialize Python class, with or without an image.\n",
      "- CSS border properties managed through `DOMWidget`'s methods `get_css()` and `set_css()`.\n",
      "- Image is class property, src is the traitlet synchronized\n",
      "- Canvas events propagated to Python side:\n",
      "    - Capture mouse wheel/scroll [events](http://stackoverflow.com/questions/10313142/javascript-capture-mouse-wheel-event-and-do-not-scroll-the-page)\n",
      "    - mouse click and motion handling: [example code](http://stackoverflow.com/questions/10001283/html5-canvas-how-to-handle-mousedown-mouseup-mouseclick)\n",
      "\n",
      "    - mouse coordinate [awesome example](http://www.html5canvastutorials.com/advanced/html5-canvas-mouse-coordinates/)\n",
      "- All mouse events are to carry similar information.\n",
      "- Receive mouse event on Python side.\n",
      "- Interpret mouse down/up as click event on Python side.  May require explicitly registering event handler in Python.\n",
      "- Demonstrate syncing Python dicts <--> JavaScript object literals via Dict traitlet.\n"
     ]
    },
    {
     "cell_type": "heading",
     "level": 2,
     "metadata": {},
     "source": [
      "Load image data"
     ]
    },
    {
     "cell_type": "code",
     "collapsed": false,
     "input": [
      "from __future__ import print_function, unicode_literals, division\n",
      "\n",
      "import matplotlib.pyplot as plt\n",
      "import numpy as np\n",
      "\n",
      "import IPython\n",
      "from IPython.html.widgets import HTMLWidget, LatexWidget, TextareaWidget, ContainerWidget\n",
      "\n",
      "import widget_canvas as canvas\n",
      "\n",
      "# Load two images.\n",
      "data_A = canvas.image.read('images/Whippet.jpg')\n",
      "data_B = canvas.image.read('images/Doberman.jpg')"
     ],
     "language": "python",
     "metadata": {},
     "outputs": [],
     "prompt_number": 13
    },
    {
     "cell_type": "heading",
     "level": 2,
     "metadata": {},
     "source": [
      "Canvas 2D Image Transformations"
     ]
    },
    {
     "cell_type": "markdown",
     "metadata": {},
     "source": [
      "The `Canvas Element` does not do a good job of keeping track of its own transformation matrix.  Or at least the API does not make it easily retrievable once it's been set.  I wrote a Python helper class based on an earlier JavaScript implementation by Simon Sarris: [transform.js](https://github.com/simonsarris/Canvas-tutorials/blob/master/transform.js)."
     ]
    },
    {
     "cell_type": "markdown",
     "metadata": {},
     "source": [
      "Canvas Element and image transformations: \n",
      "- Great info about specifying the source rectangle, the destination rectangle, and how the transform is applied: [link](http://www.whatwg.org/specs/web-apps/current-work/multipage/the-canvas-element.html#drawing-images)\n",
      "\n",
      "- http://developers.whatwg.org/the-canvas-element.html#transformations\n",
      "- https://developer.mozilla.org/en-US/docs/Web/API/CanvasRenderingContext2D\n",
      "- https://developer.mozilla.org/en-US/docs/Web/Guide/HTML/Canvas_tutorial/Transformations\n",
      "- https://developer.mozilla.org/en-US/docs/Web/HTML/Canvas/Drawing_graphics_with_canvas"
     ]
    },
    {
     "cell_type": "heading",
     "level": 2,
     "metadata": {},
     "source": [
      "Display everything!"
     ]
    },
    {
     "cell_type": "markdown",
     "metadata": {},
     "source": [
      "The mouse event display from the previous notebook has been copied into a single module.  I did this to keep this Notebook tidy and focused on the good stuff: working with Canvas image transforms."
     ]
    },
    {
     "cell_type": "code",
     "collapsed": false,
     "input": [
      "import display_mouse_events\n",
      "\n",
      "wid_image = display_mouse_events.display(data_A)\n",
      "\n",
      "# Build a few helper widgets.\n",
      "wid_butt = IPython.html.widgets.ButtonWidget(description='Reset Transform')\n",
      "IPython.display.display(wid_butt)"
     ],
     "language": "python",
     "metadata": {},
     "outputs": [],
     "prompt_number": 14
    },
    {
     "cell_type": "code",
     "collapsed": false,
     "input": [
      "# Build event handler for the button I just added in the cell above.\n",
      "def handle_reset(widget_butt):\n",
      "    wid_image.transform.reset()\n",
      "\n",
      "# Attach event handler to the button.\n",
      "wid_butt.on_click(handle_reset)\n"
     ],
     "language": "python",
     "metadata": {},
     "outputs": [],
     "prompt_number": 15
    },
    {
     "cell_type": "code",
     "collapsed": false,
     "input": [
      "IPython.display.display(wid_image.transform)\n"
     ],
     "language": "python",
     "metadata": {},
     "outputs": [
      {
       "output_type": "stream",
       "stream": "stdout",
       "text": [
        "get\n"
       ]
      },
      {
       "latex": [
        "\n",
        "                \\begin{equation*}\n",
        "                M = \\begin{vmatrix} 43005.227 & -18092.340 &   0.000 \\\\\n",
        "                                       18092.340 & 43005.227 &   0.000 \\end{vmatrix}\n",
        "                \\end{equation*}\n",
        "                "
       ],
       "metadata": {},
       "output_type": "display_data",
       "text": [
        "43005.23 -18092.34   0.00\n",
        "18092.34 43005.23   0.00"
       ]
      }
     ],
     "prompt_number": 27
    },
    {
     "cell_type": "code",
     "collapsed": false,
     "input": [
      "print(0)\n",
      "wid_image.transform.scale(1.2).scale(5).rotate(15)\n",
      "print(1)"
     ],
     "language": "python",
     "metadata": {},
     "outputs": [
      {
       "output_type": "stream",
       "stream": "stdout",
       "text": [
        "0\n",
        "get\n",
        "s\n",
        "s\n",
        "r\n",
        "1\n"
       ]
      }
     ],
     "prompt_number": 25
    },
    {
     "cell_type": "code",
     "collapsed": false,
     "input": [
      "IPython.display.display(wid_image.transform)\n"
     ],
     "language": "python",
     "metadata": {},
     "outputs": [
      {
       "output_type": "stream",
       "stream": "stdout",
       "text": [
        "get\n"
       ]
      },
      {
       "latex": [
        "\n",
        "                \\begin{equation*}\n",
        "                M = \\begin{vmatrix} 43005.227 & -18092.340 &   0.000 \\\\\n",
        "                                       18092.340 & 43005.227 &   0.000 \\end{vmatrix}\n",
        "                \\end{equation*}\n",
        "                "
       ],
       "metadata": {},
       "output_type": "display_data",
       "text": [
        "43005.23 -18092.34   0.00\n",
        "18092.34 43005.23   0.00"
       ]
      }
     ],
     "prompt_number": 26
    },
    {
     "cell_type": "code",
     "collapsed": false,
     "input": [
      "1/0\n"
     ],
     "language": "python",
     "metadata": {},
     "outputs": [
      {
       "ename": "ZeroDivisionError",
       "evalue": "division by zero",
       "output_type": "pyerr",
       "traceback": [
        "\u001b[1;31m---------------------------------------------------------------------------\u001b[0m",
        "\u001b[1;31mZeroDivisionError\u001b[0m                         Traceback (most recent call last)",
        "\u001b[1;32m<ipython-input-17-05c9758a9c21>\u001b[0m in \u001b[0;36m<module>\u001b[1;34m()\u001b[0m\n\u001b[1;32m----> 1\u001b[1;33m \u001b[1;36m1\u001b[0m\u001b[1;33m/\u001b[0m\u001b[1;36m0\u001b[0m\u001b[1;33m\u001b[0m\u001b[0m\n\u001b[0m",
        "\u001b[1;31mZeroDivisionError\u001b[0m: division by zero"
       ]
      }
     ],
     "prompt_number": 17
    },
    {
     "cell_type": "code",
     "collapsed": false,
     "input": [
      "import time\n",
      "\n",
      "T = canvas.transform.Transform() \n",
      "\n",
      "def update_transform(T):\n",
      "    wid_image._transform = T.values\n",
      "#     IPython.display.clear_output(True)\n",
      "#     IPython.display.display(T)\n",
      "    \n",
      "\n",
      "def handle_slide_scale(name_trait, value_old, value_new):\n",
      "    X, Y = wid_image.mouse_xy\n",
      "    \n",
      "    T.translate(-X, -Y)\n",
      "    T.scale(value_new/value_old)\n",
      "    T.translate(X, Y)\n",
      "\n",
      "    update_transform(T)\n",
      "    \n",
      "# def handle_A(wid):\n",
      "#     T.scale(1./1.1)\n",
      "#     update_transform(T)\n",
      "# def handle_B(wid):\n",
      "#     T.scale(1.1)\n",
      "#     update_transform(T)\n",
      "\n",
      "def handle_scroll(widget, ev):\n",
      "    tick = ev['deltaY']\n",
      "\n",
      "    factor = 1.1\n",
      "    \n",
      "    if tick == 0:\n",
      "#         raise Exception()\n",
      "#         print('tick == 0, do nothing')\n",
      "        return\n",
      "\n",
      "    if tick > 0:\n",
      "        scl = factor\n",
      "    else:\n",
      "        scl = 1./factor\n",
      "\n",
      "    px, py = ev['canvas_xy']\n",
      "\n",
      "    Q = T.copy()\n",
      "    Q.invert()\n",
      "    \n",
      "    px, py = Q.transform_point(px, py)\n",
      "    T.translate(px, py).scale(scl).translate(-px, -py)\n",
      "  \n",
      "    update_transform(T)\n",
      "\n",
      "    \n",
      "def handle_drag(widget, ev):\n",
      "    dx, dy = ev['drag_delta_xy']\n",
      "    \n",
      "#     D = T.copy()\n",
      "#     qx, qy = Q.invert().transform_point(dx, dy)\n",
      "#     qx, qy = T.transform_point(dx, dy)\n",
      "#     T.translate(dx, dy, update=True)  #.scale(scl).translate(px, py)\n",
      "\n",
      "    \n",
      "    Q = T.copy()\n",
      "    Q.invert()\n",
      "    \n",
      "    p0x, p0y = Q.m13, Q.m23  # Q.transform_point(0, 0)\n",
      "    pdx, pdy = Q.transform_point(dx, dy)\n",
      "#     print(dx, dy, px, py)\n",
      "    T.translate(pdx-p0x, pdy-p0y)\n",
      "\n",
      "    update_transform(T)\n",
      "    \n",
      "      \n",
      "# wid_slide.on_trait_change(handle_slide_scale, name=str('value'))\n",
      "# wid_butt_A.on_click(handle_A)\n",
      "\n",
      "wid_butt_C.on_click(handle_C)\n",
      "\n",
      "wid_image.on_mouse_wheel(handle_scroll)\n",
      "wid_image.on_mouse_drag(handle_drag)"
     ],
     "language": "python",
     "metadata": {},
     "outputs": []
    },
    {
     "cell_type": "code",
     "collapsed": false,
     "input": [],
     "language": "python",
     "metadata": {},
     "outputs": []
    }
   ],
   "metadata": {}
  }
 ]
}
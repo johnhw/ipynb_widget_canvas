{
 "metadata": {
  "name": "",
  "signature": "sha256:c634f54836c07a03b43c01f3263823959ab8ace606a79addd2b86355644a8f0a"
 },
 "nbformat": 3,
 "nbformat_minor": 0,
 "worksheets": [
  {
   "cells": [
    {
     "cell_type": "heading",
     "level": 1,
     "metadata": {},
     "source": [
      "Canvas Coordinate Transforms"
     ]
    },
    {
     "cell_type": "markdown",
     "metadata": {},
     "source": [
      "## To Do:\n",
      "- Transform to be implemented in parts.  Six-element vector of the numbers making up the transform matrix will be basic data used on JavaScript side.  Additionally use dimensions and position of `Source Rectangle` for panning and cropping.  Ok, but now do I really need to use the transform matrix??  Maybe not.  Zooming would be controlled by changing size of `Source Rectangle`.  Panning controlled by changing offsets of `Source Rectangle`.  What else is there??  Rotations and shears, but I don't care about that right now.  Maybe I never will.\n",
      "\n",
      "\n",
      "New Traitlets for transforms:\n",
      "    - Transform values (6)\n",
      "    - Pan values (2)\n",
      "    - Crop values 2)\n",
      "\n",
      "\n",
      "\n",
      "Ideas for interactive drag resize example: http://www.html5canvastutorials.com/labs/html5-canvas-drag-and-drop-resize-and-invert-images/\n",
      "\n",
      "- Build better example that incorporates built-in widgets for buttons, sliders, and number display\n",
      "- Look into resizable canvas by click/dragging edge or corner.  Possible ideas at [StackOverflow](http://stackoverflow.com/questions/1977741/resizable-canvas-jquery-ui)\n",
      "- Example maniplating image with transforms\n",
      "- Build draft version of my Quiver app.\n",
      "\n",
      "## Done:\n",
      "- Example with dispaying mouse motion & click event info via Text Widget\n",
      "- Initialize Python class, with or without an image.\n",
      "- CSS border properties managed through `DOMWidget`'s methods `get_css()` and `set_css()`.\n",
      "- Image is class property, src is the traitlet synchronized\n",
      "- Canvas events propagated to Python side:\n",
      "    - Capture mouse wheel/scroll [events](http://stackoverflow.com/questions/10313142/javascript-capture-mouse-wheel-event-and-do-not-scroll-the-page)\n",
      "    - mouse click and motion handling: [example code](http://stackoverflow.com/questions/10001283/html5-canvas-how-to-handle-mousedown-mouseup-mouseclick)\n",
      "\n",
      "    - mouse coordinate [awesome example](http://www.html5canvastutorials.com/advanced/html5-canvas-mouse-coordinates/)\n",
      "- All mouse events are to carry similar information.\n",
      "- Receive mouse event on Python side.\n",
      "- Interpret mouse down/up as click event on Python side.  May require explicitly registering event handler in Python.\n",
      "- Demonstrate syncing Python dicts <--> JavaScript object literals via Dict traitlet.\n"
     ]
    },
    {
     "cell_type": "markdown",
     "metadata": {},
     "source": [
      "---"
     ]
    },
    {
     "cell_type": "heading",
     "level": 2,
     "metadata": {},
     "source": [
      "Load image data"
     ]
    },
    {
     "cell_type": "code",
     "collapsed": false,
     "input": [
      "from __future__ import print_function, unicode_literals, division\n",
      "\n",
      "import matplotlib.pyplot as plt\n",
      "import numpy as np\n",
      "\n",
      "import IPython\n",
      "from IPython.html.widgets import HTMLWidget, LatexWidget, TextareaWidget, ContainerWidget\n",
      "\n",
      "import widget_canvas as canvas\n",
      "\n",
      "# Load two images.\n",
      "data_A = canvas.image.read('images/Whippet.jpg')\n",
      "data_B = canvas.image.read('images/Doberman.jpg')"
     ],
     "language": "python",
     "metadata": {},
     "outputs": [],
     "prompt_number": 2
    },
    {
     "cell_type": "heading",
     "level": 2,
     "metadata": {},
     "source": [
      "Le's make some widgets"
     ]
    },
    {
     "cell_type": "markdown",
     "metadata": {},
     "source": [
      "I want to display one of the images above using canvas image widget with a few additional helper widgets so I can see what's happening as I capture mouse events.  The setup process for connecting multiple widgets seems a little \"wordy\" to me, but this is also the first time I attempt to work with so many at the same time.  Maybe this is normal?  If there exists a better, more effective process I would to hear some feedback.\n",
      "\n",
      "In the cell below I create a mouse-event display system to work alongside an instance of a my Canvas Widget.  The display is made from combinations of several `HTMLWidgets`, a single `TextareaWidget`, and a few `ContainerWidgets` to arrange them all in a nice layout."
     ]
    },
    {
     "cell_type": "code",
     "collapsed": false,
     "input": [],
     "language": "python",
     "metadata": {},
     "outputs": [],
     "prompt_number": 3
    },
    {
     "cell_type": "markdown",
     "metadata": {},
     "source": [
      "The `container_main` widget is an instance of `ContainerWidget` and it holds all of the widgets comprising my display system, including the `ImageWidget` instance stored in `wid_image`."
     ]
    },
    {
     "cell_type": "heading",
     "level": 2,
     "metadata": {},
     "source": [
      "Python event handlers"
     ]
    },
    {
     "cell_type": "markdown",
     "metadata": {},
     "source": [
      "Define a few Python event handlers and connect them to the canvas widget so they can update the display in response to mouse events."
     ]
    },
    {
     "cell_type": "code",
     "collapsed": false,
     "input": [
      "# http://getbootstrap.com/components/#labels\n",
      "style_A = 'label label-default'\n",
      "style_B = 'label label-primary'\n",
      "style_C = 'label label-success'\n",
      "style_D = 'label label-info'\n",
      "style_E = 'label label-warning'\n",
      "style_F = 'label label-danger'\n",
      "\n",
      "# Handlers.\n",
      "def handle_event(ev):\n",
      "    \"\"\"Generic event handler.\"\"\"\n",
      "    wid_event_text.value = 'Event:\\n{}'.format(ev)\n",
      "\n",
      "def handle_motion(ev):\n",
      "    wid_move.value = '<b>Move</b>'\n",
      "    X = ev['canvasX']\n",
      "    Y = ev['canvasY']\n",
      "    wid_move_XY.value = 'XY: {:04.0f}, {:04.0f}'.format(X, Y)\n",
      "\n",
      "    wid_drag.value = 'Drag'\n",
      "    wid_drag_XY.value = 'XY:'\n",
      "\n",
      "    \n",
      "def handle_drag(ev):\n",
      "    wid_move.value = 'Move'\n",
      "    wid_drag.value = '<b>Drag</b>'\n",
      "    X = ev['dragX']\n",
      "    Y = ev['dragY']\n",
      "    \n",
      "    wid_drag_XY.value = 'XY: {:04.0f}, {:04.0f}'.format(X, Y)\n",
      "    wid_move_XY.value = 'XY:'\n",
      "    \n",
      "def handle_down(ev):\n",
      "    wid_down_up.value = 'Button: Down'\n",
      "    \n",
      "def handle_up(ev):\n",
      "    wid_down_up.value = 'Button: Up'\n",
      "\n",
      "    \n",
      "_click_classes = [style_E, style_F]\n",
      "_click_data = [data_A, data_B]\n",
      "ix = [0]\n",
      "def handle_click(ev):\n",
      "    wid_click.remove_class(_click_classes[ix[0]])\n",
      "\n",
      "    ix[0] = (ix[0] + 1) % 2\n",
      "    wid_click.add_class(_click_classes[ix[0]])\n",
      "    wid_image.image = _click_data[ix[0]]\n",
      "\n",
      "    \n",
      "_scroll_classes = [style_B, style_C]\n",
      "iw = [0]\n",
      "def handle_scroll(ev):\n",
      "    wid_scroll.remove_class(_scroll_classes[iw[0]])\n",
      "\n",
      "    iw[0] = (iw[0] + 1) % 2\n",
      "    wid_scroll.add_class(_scroll_classes[iw[0]])\n",
      "\n",
      "# Assign handlers for individual event types.\n",
      "wid_image.on_mouse_move(handle_motion)\n",
      "wid_image.on_mouse_move(handle_event)\n",
      "\n",
      "wid_image.on_mouse_drag(handle_drag)\n",
      "wid_image.on_mouse_drag(handle_event)\n",
      "\n",
      "wid_image.on_mouse_down(handle_down)\n",
      "wid_image.on_mouse_down(handle_event)\n",
      "\n",
      "wid_image.on_mouse_up(handle_up)\n",
      "wid_image.on_mouse_up(handle_event)\n",
      "\n",
      "wid_image.on_mouse_click(handle_click)\n",
      "wid_image.on_mouse_click(handle_event)\n",
      "\n",
      "wid_image.on_mouse_wheel(handle_scroll)\n",
      "wid_image.on_mouse_wheel(handle_event)"
     ],
     "language": "python",
     "metadata": {},
     "outputs": [],
     "prompt_number": 4
    },
    {
     "cell_type": "markdown",
     "metadata": {},
     "source": [
      "## Helper function\n",
      "The helper function below is used to display the widgets and then apply any classes that can only be done after the widget is actually dsplayed to the screen."
     ]
    },
    {
     "cell_type": "code",
     "collapsed": false,
     "input": [
      "def display_my_widgets(widget, mod_hbox):\n",
      "    IPython.display.display(widget)\n",
      "    \n",
      "    # Change class values after widget has been displayed to screen.\n",
      "    wid_click.add_class(_click_classes[ix[0]])\n",
      "    wid_scroll.add_class(_scroll_classes[iw[0]])\n",
      "\n",
      "    for w in mod_hbox:\n",
      "        w.remove_class('vbox')\n",
      "        w.add_class('hbox')"
     ],
     "language": "python",
     "metadata": {},
     "outputs": [],
     "prompt_number": 5
    },
    {
     "cell_type": "heading",
     "level": 2,
     "metadata": {},
     "source": [
      "Display everything!"
     ]
    },
    {
     "cell_type": "markdown",
     "metadata": {},
     "source": [
      "Now its finally time to render the collection of widgets to the browser screen.  If it works for yo then you should see an image of a dog on the left and a handful of small information displays on the right.  Try clicking, dragging, and scr"
     ]
    },
    {
     "cell_type": "code",
     "collapsed": false,
     "input": [
      "# List of widgets to be set to `hbox` style.\n",
      "mod_hbox = [container_main, container_move, container_drag]\n",
      "\n",
      "# Display!\n",
      "display_my_widgets(container_main, mod_hbox)"
     ],
     "language": "python",
     "metadata": {},
     "outputs": [],
     "prompt_number": 6
    },
    {
     "cell_type": "heading",
     "level": 2,
     "metadata": {},
     "source": [
      "Canvas 2D Image Transformations"
     ]
    },
    {
     "cell_type": "markdown",
     "metadata": {},
     "source": [
      "Canvas Element and image transformations: \n",
      "- `drawImage()`:\n",
      "    - This link includes great info about specifying the source rectangle, the destination rectangle, and how the transform is applied.\n",
      "    - http://www.whatwg.org/specs/web-apps/current-work/multipage/the-canvas-element.html#drawing-images\n",
      "\n",
      "- http://developers.whatwg.org/the-canvas-element.html#transformations\n",
      "- https://developer.mozilla.org/en-US/docs/Web/API/CanvasRenderingContext2D\n",
      "- https://developer.mozilla.org/en-US/docs/Web/Guide/HTML/Canvas_tutorial/Transformations\n",
      "- https://developer.mozilla.org/en-US/docs/Web/HTML/Canvas/Drawing_graphics_with_canvas\n"
     ]
    },
    {
     "cell_type": "code",
     "collapsed": false,
     "input": [
      "# Build a few helper widgets.\n",
      "wid_butt = IPython.html.widgets.ButtonWidget(description='click me!')\n",
      "wid_progr = IPython.html.widgets.FloatProgressWidget(description='Progress')\n",
      "\n",
      "wid_slide = IPython.html.widgets.FloatSliderWidget(description='Float', min=0, max=100)\n"
     ],
     "language": "python",
     "metadata": {},
     "outputs": [],
     "prompt_number": 8
    },
    {
     "cell_type": "code",
     "collapsed": false,
     "input": [
      "IPython.display.display(wid_slide)\n",
      "IPython.display.display(wid_progr)"
     ],
     "language": "python",
     "metadata": {},
     "outputs": [],
     "prompt_number": 9
    },
    {
     "cell_type": "code",
     "collapsed": false,
     "input": [
      "def handler(name, value_old, value_new):\n",
      "    wid_progr.value = value_new\n",
      "    \n",
      "wid_slide.on_trait_change(handler, name=str('value'))\n",
      "    "
     ],
     "language": "python",
     "metadata": {},
     "outputs": [],
     "prompt_number": 10
    },
    {
     "cell_type": "code",
     "collapsed": false,
     "input": [],
     "language": "python",
     "metadata": {},
     "outputs": [],
     "prompt_number": 44
    },
    {
     "cell_type": "code",
     "collapsed": false,
     "input": [],
     "language": "python",
     "metadata": {},
     "outputs": [],
     "prompt_number": 44
    },
    {
     "cell_type": "code",
     "collapsed": false,
     "input": [
      "cos"
     ],
     "language": "python",
     "metadata": {},
     "outputs": [
      {
       "ename": "NameError",
       "evalue": "name 'cos' is not defined",
       "output_type": "pyerr",
       "traceback": [
        "\u001b[1;31m---------------------------------------------------------------------------\u001b[0m\n\u001b[1;31mNameError\u001b[0m                                 Traceback (most recent call last)",
        "\u001b[1;32m<ipython-input-11-6771081d7ee8>\u001b[0m in \u001b[0;36m<module>\u001b[1;34m()\u001b[0m\n\u001b[1;32m----> 1\u001b[1;33m \u001b[0mcos\u001b[0m\u001b[1;33m\u001b[0m\u001b[0m\n\u001b[0m",
        "\u001b[1;31mNameError\u001b[0m: name 'cos' is not defined"
       ]
      }
     ],
     "prompt_number": 11
    },
    {
     "cell_type": "code",
     "collapsed": false,
     "input": [
      "import math"
     ],
     "language": "python",
     "metadata": {},
     "outputs": [],
     "prompt_number": 12
    },
    {
     "cell_type": "code",
     "collapsed": false,
     "input": [
      "\n",
      "math.cos"
     ],
     "language": "python",
     "metadata": {},
     "outputs": [
      {
       "metadata": {},
       "output_type": "pyout",
       "prompt_number": 14,
       "text": [
        "<function math.cos>"
       ]
      }
     ],
     "prompt_number": 14
    },
    {
     "cell_type": "code",
     "collapsed": false,
     "input": [],
     "language": "python",
     "metadata": {},
     "outputs": []
    }
   ],
   "metadata": {}
  }
 ]
}
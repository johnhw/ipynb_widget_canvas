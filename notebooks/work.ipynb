{
 "cells": [
  {
   "cell_type": "code",
   "execution_count": 1,
   "metadata": {
    "collapsed": false
   },
   "outputs": [
    {
     "data": {
      "application/javascript": [
       "require([\"widgets/js/widget\", \"widgets/js/manager\"], function(widget, manager) {\n",
       "\n",
       "\n",
       "    /////////////////////////////////////////////////\n",
       "    // Helper functions\n",
       "\n",
       "    function findAncestor(elem, cls) {\n",
       "        // http://stackoverflow.com/questions/22119673/find-the-closest-ancestor-element-that-has-a-specific-class\n",
       "        while ((elem = elem.parentElement) && !elem.classList.contains(cls));\n",
       "        return elem;\n",
       "    }\n",
       "\n",
       "    /////////////////////////////////////////////////\n",
       "\n",
       "    // define(function (require) {\n",
       "    //     var widget = require('widgets/js/widget');\n",
       "\n",
       "    var CanvasImageView = widget.DOMWidgetView.extend({\n",
       "        render: function() {\n",
       "            // Backbone Model --> JavaScript View\n",
       "            // Render a widget's view instance to the DOM.\n",
       "\n",
       "            // This project's view is quite simple: just a single <canvas> element.\n",
       "            // if (this.model.get('canvas_id') == undefined) {\n",
       "            //     this.model.set('canvas_id', guid());\n",
       "            // }\n",
       "            // console.log(this.model.get('_uuid'));\n",
       "            this.setElement('<canvas />');\n",
       "\n",
       "            this.canvas = this.el\n",
       "            this.canvas.className = 'my_canvas ' + this.model.get('_uuid')\n",
       "\n",
       "            // Dedicated event handler(s) for some special cases\n",
       "            // http://backbonejs.org/#Events-on\n",
       "            this.model.on('change:_encoded_url', this.update_encoded, this);\n",
       "            this.model.on('change:_something', this.something, this);\n",
       "\n",
       "            // Internal image object serving to render new image src data.  This object will\n",
       "            // later be used as source data argument to the canvas' own `drawImage()` method.\n",
       "            this.imageWork = new Image();\n",
       "            var that = this\n",
       "            this.imageWork.onload = function() {\n",
       "                that.draw()\n",
       "            }\n",
       "\n",
       "            // Ideas for handling keyboard events in the future:\n",
       "            // http://stackoverflow.com/questions/3729034/javascript-html5-capture-keycode-and-write-to-canvas\n",
       "\n",
       "            // Mouse event throttle\n",
       "            this._mouse_timestamp = 0\n",
       "            this._mouse_time_threshold = 50 // milliseconds\n",
       "\n",
       "            // Prevent mouse cursor from changing to text selection mode.\n",
       "            // http://stackoverflow.com/a/11805438/282840\n",
       "            // when-i-click-on-a-canvas-and-drag-my-mouse-the-cursor-changes-to-a-text-selecti\n",
       "            this.canvas.onmousedown = function(event) {\n",
       "                event.preventDefault();\n",
       "            };\n",
       "\n",
       "            // Prevent page from scrolling with mouse wheel events over canvas\n",
       "            // http://stackoverflow.com/questions/10313142/\n",
       "            //        javascript-capture-mouse-wheel-event-and-do-not-scroll-the-page\n",
       "            this.canvas.onwheel = function(event) {\n",
       "                event.preventDefault();\n",
       "            };\n",
       "\n",
       "            // Prevent context menu popup from right-click on canvas\n",
       "            this.canvas.oncontextmenu = function(event) {\n",
       "                event.preventDefault();\n",
       "            };\n",
       "\n",
       "            this.update();\n",
       "            this.update_encoded();\n",
       "        },\n",
       "\n",
       "        update: function() {\n",
       "            // Python --> JavaScript (generic)\n",
       "            // Copy new value from Backbone model, apply to this View.\n",
       "            // This method handles updates for almost everything except a select few traitlets that\n",
       "            // have dedicated update functions.\n",
       "\n",
       "            // Currently canvas width and height are slaved (on the Pythn side) to image's\n",
       "            // inherent width and height.  Later this might be upgraded to support canvas' builtin\n",
       "            // affine transform functions.\n",
       "\n",
       "            // Awesome article about resizing canvas and/or displayed element\n",
       "            // http://webglfundamentals.org/webgl/lessons/webgl-resizing-the-canvas.html\n",
       "\n",
       "            // Update canvas width and height.\n",
       "            // if (this.model.get('_width_canvas') !== undefined) {\n",
       "            this.canvas.width = this.model.get('_width_canvas')\n",
       "                // } else {\n",
       "                // https://developer.mozilla.org/en-US/docs/Web/API/Element/removeAttribute\n",
       "                // this.canvas.removeAttribute('_width_canvas');\n",
       "                // }\n",
       "\n",
       "            // if (this.model.get('_height_canvas') !== undefined) {\n",
       "            this.canvas.height = this.model.get('_height_canvas')\n",
       "                // } else {\n",
       "                // https://developer.mozilla.org/en-US/docs/Web/API/Element/removeAttribute\n",
       "                // this.canvas.removeAttribute('_height_canvas');\n",
       "                // }\n",
       "\n",
       "            // Update CSS display width and height\n",
       "            if (this.model.get('width') !== undefined) {\n",
       "                this.canvas.style.width = this.model.get('width') + 'px'\n",
       "            } else {\n",
       "                // https://developer.mozilla.org/en-US/docs/Web/API/Element/removeAttribute\n",
       "                this.canvas.style.removeAttribute('width');\n",
       "            }\n",
       "\n",
       "            if (this.model.get('height') !== undefined) {\n",
       "                this.canvas.style.height = this.model.get('height') + 'px'\n",
       "            } else {\n",
       "                // https://developer.mozilla.org/en-US/docs/Web/API/Element/removeAttribute\n",
       "                this.canvas.style.removeAttribute('height');\n",
       "            }\n",
       "\n",
       "            // Image rendering quality\n",
       "            // https://developer.mozilla.org/en/docs/Web/CSS/image-rendering\n",
       "            // auto, crisp-edges, pixelated\n",
       "            if (this.model.get('pixelated')) {\n",
       "                this.canvas.style.imageRendering = 'pixelated'\n",
       "            } else {\n",
       "                this.canvas.style.imageRendering = 'auto'\n",
       "            }\n",
       "\n",
       "            // Draw it!\n",
       "            this.draw()\n",
       "\n",
       "            return CanvasImageView.__super__.update.apply(this);\n",
       "        },\n",
       "\n",
       "        update_encoded: function() {\n",
       "            // Python --> JavaScript\n",
       "            var value = this.model.get('_encoded_url');\n",
       "            if (value != '') {\n",
       "\n",
       "                // Load encoded image data into worker image object.\n",
       "                // this.imageWork.src = 'data:image/' + this.model.get('_format') + ';base64,' + value\n",
       "                this.imageWork.src = value\n",
       "\n",
       "                // Event processing and image decoding continues inside imageWork's onload() event\n",
       "                // handler, which in turn calls this.draw() defined further below.\n",
       "            }\n",
       "        },\n",
       "\n",
       "        something: function() {\n",
       "            // Testing ideas and debugging problems.\n",
       "\n",
       "            console.log('something')\n",
       "\n",
       "            // http://stackoverflow.com/questions/5694986/how-can-i-clone-an-image-in-javascript\n",
       "            // http://stackoverflow.com/questions/8467121/can-i-copy-a-javascript-image-object\n",
       "            // http://www.w3schools.com/jsref/met_node_clonenode.asp\n",
       "\n",
       "            // Multiple options for getting image data\n",
       "            // var imageFinal = this.imageWork.cloneNode()\n",
       "            // var data_url = this.canvas.toDataURL()\n",
       "            // var width = this.model.get('width')\n",
       "            // var height = this.model.get('height')\n",
       "\n",
       "            // var image_static = new Image();\n",
       "\n",
       "            // Find pre-rendered static image place holder.\n",
       "            var n = 'static_image_' + this.model.get('_uuid')\n",
       "            var cell = findAncestor(this.canvas, 'cell')\n",
       "            var image_static = cell.getElementsByClassName(n)[0]; // there should exist just a single output element\n",
       "            image_static.src = this.canvas.toDataURL();\n",
       "            image_static.style.display = 'block'\n",
       "\n",
       "            // Find all rendered instances\n",
       "            // var elems = document.getElementsByClassName(this.model.get('_uuid'));\n",
       "            // console.log(elems)\n",
       "            // for (var i = 0; i < elems.length; i++) {\n",
       "            //     var elem_canvas = elems[i]\n",
       "            //     console.log(elem_canvas)\n",
       "            // }\n",
       "\n",
       "            // // Build new element output_area.  Alll these details learned by browsing rendered\n",
       "            // // notebook and copying observed styles.  Quite time consuming!  Blah!\n",
       "            // var output_area = document.createElement('div')\n",
       "            // output_area.className = 'output_area'\n",
       "\n",
       "            // var prompt = document.createElement('div')\n",
       "            // prompt.className = 'prompt'\n",
       "\n",
       "            // var output_subarea = document.createElement('div')\n",
       "            // output_subarea.className = 'output_subarea output_jpeg output_execute_result'\n",
       "            // // output_png output_result\n",
       "            // // output_html rendered_html\n",
       "\n",
       "\n",
       "            // // Assemble output_area\n",
       "            // output_area.appendChild(prompt)\n",
       "            // output_area.appendChild(output_subarea)\n",
       "            // output_subarea.appendChild(image_static)\n",
       "\n",
       "            // // Now its time to place the above finished output_area in the right spot.\n",
       "\n",
       "            // // Attach new output_area as first child of current cell's output element.\n",
       "            // var cell = findAncestor(this.canvas, 'cell')\n",
       "            // var output = cell.getElementsByClassName('output')[0]; // there should exist just a single output element\n",
       "\n",
       "            // // New element `output_area` needs to be placed as first child of element `output` in\n",
       "            // // order to replicate appearance of displayed widgets.  Potential problem is that there\n",
       "            // // may or may not exist other sibling `output_area` elements.\n",
       "\n",
       "            // // Pre-existing output_area elements?\n",
       "            // var existing_output_areas = output.getElementsByClassName('output_area')\n",
       "            // if (existing_output_areas.length > 0) {\n",
       "            //     // Place in front of pre-existing output_area elements\n",
       "            //     output.insertBefore(output_area, existing_output_areas[0]);\n",
       "            // } else {\n",
       "            //     // Add as only child\n",
       "            //     output.appendChild(output_area);\n",
       "            // }\n",
       "\n",
       "\n",
       "            // Copy style to static image.\n",
       "            // https://developer.mozilla.org/en-US/docs/Web/API/Window/getComputedStyle\n",
       "            // var completeStyle = window.getComputedStyle(this.canvas, null).cssText\n",
       "            // image_static.style.cssText = completeStyle\n",
       "\n",
       "\n",
       "            // document.getElementById(\"placehere\").appendChild(image);\n",
       "            // need to add to current cell's output element:\n",
       "            // - output area\n",
       "            //     - output_subarea, output_jpeg (or output_png)\n",
       "\n",
       "\n",
       "\n",
       "            // See IPython.display.Image for max-width confinement example\n",
       "\n",
       "            // http://stackoverflow.com/questions/7802744/adding-an-img-element-to-a-div-with-javascript\n",
       "            // this.appropriate_cell_area['text/html'] = '<img src=\"' + dataURL + '\" width=\"' + width + '\">';\n",
       "\n",
       "            // IPython.keyboard_manager.enable()\n",
       "            // $(fig.parent_element).html('<img src=\"' + dataURL + '\" width=\"' + width + '\">');\n",
       "        },\n",
       "\n",
       "        remove: function() {\n",
       "            // Widget is about to be removed from the front end display.\n",
       "\n",
       "            // This is a place where I could potentially add functionality to replace canvas with a\n",
       "            // static image. See matplotlib's nbagg for ideas:\n",
       "            // https://github.com/matplotlib/matplotlib/blob/master/lib/matplotlib/backends/web_backend/nbagg_mpl.js\n",
       "            // http://stackoverflow.com/questions/7802744/adding-an-img-element-to-a-div-with-javascript\n",
       "            // http://stackoverflow.com/questions/5694986/how-can-i-clone-an-image-in-javascript\n",
       "            // http://www.w3schools.com/jsref/met_node_clonenode.asp\n",
       "            // http://stackoverflow.com/questions/8467121/can-i-copy-a-javascript-image-object\n",
       "\n",
       "\n",
       "            CanvasImageView.__super__.remove.apply(this, arguments);\n",
       "        },\n",
       "\n",
       "        clear: function() {\n",
       "            // Clear the canvas while preserving current geometry state.\n",
       "            // http://stackoverflow.com/a/6722031/282840\n",
       "            var context = this.canvas.getContext('2d');\n",
       "\n",
       "            context.save();\n",
       "\n",
       "            context.setTransform(1, 0, 0, 1, 0, 0);\n",
       "            context.clearRect(0, 0, this.canvas.width, this.canvas.height);\n",
       "\n",
       "            context.restore();\n",
       "        },\n",
       "\n",
       "        draw: function() {\n",
       "            // Draw image data from internal Image object to the Canvas element.\n",
       "            // http://www.w3.org/TR/2014/CR-2dcontext-20140821/#drawing-images-to-the-canvas\n",
       "\n",
       "            // Clear any prior image data.\n",
       "            this.clear();\n",
       "\n",
       "            // Update current transform information.\n",
       "            // -= NOT YET IMPLEMENTED =-\n",
       "\n",
       "            // Draw image to screen\n",
       "            var context = this.canvas.getContext('2d');\n",
       "            context.drawImage(this.imageWork, 0, 0);\n",
       "        },\n",
       "\n",
       "        /////////////////////////////////////////\n",
       "        // JavaScript --> Python\n",
       "        // Tell Backbone how to respond to JavaScript-generated events\n",
       "        // Great reference: https://developer.mozilla.org/en-US/docs/Web/Reference/Events\n",
       "        events: {\n",
       "            mousemove: 'handle_mouse_move',\n",
       "            mouseup: 'handle_mouse_generic',\n",
       "            mousedown: 'handle_mouse_generic',\n",
       "            wheel: 'handle_mouse_generic',\n",
       "            click: 'handle_mouse_generic',\n",
       "            // mouseenter: 'XXX',  // don't worry about these events for now\n",
       "            // mouseleave: 'XXX',\n",
       "            // mouseout:   'XXX',\n",
       "            // mouseover:  'XXX',\n",
       "        },\n",
       "\n",
       "        build_mouse_event: function(jev) {\n",
       "            // Build event data structure to be sent to Python backend\n",
       "\n",
       "            // Mouse button events\n",
       "            // https://developer.mozilla.org/en-US/docs/Web/API/MouseEvent/buttons\n",
       "            //\n",
       "            // Canvas-local XY coordinates:\n",
       "            // http://stackoverflow.com/questions/17130395/canvas-html5-real-mouse-position\n",
       "            // https://developer.mozilla.org/en-US/docs/Web/API/Element.getBoundingClientRect\n",
       "            var rect = this.canvas.getBoundingClientRect();\n",
       "\n",
       "            // Convert event types to more practical values for user's Python callback functions.\n",
       "            var js_to_py = {\n",
       "                'mousemove': 'move',\n",
       "                'mouseup': 'up',\n",
       "                'mousedown': 'down',\n",
       "                'click': 'click',\n",
       "                'wheel': 'wheel',\n",
       "            }\n",
       "\n",
       "            // Build the event\n",
       "            var ev = {\n",
       "                type: js_to_py[jev.originalEvent.type],\n",
       "                canvasX: parseInt(jev.originalEvent.clientX - rect.left),\n",
       "                canvasY: parseInt(jev.originalEvent.clientY - rect.top),\n",
       "                shiftKey: jev.originalEvent.shiftKey,\n",
       "                altKey: jev.originalEvent.altKey,\n",
       "                ctrlKey: jev.originalEvent.ctrlKey,\n",
       "                timeStamp: jev.originalEvent.timeStamp,\n",
       "                buttons: jev.originalEvent.buttons,\n",
       "            }\n",
       "\n",
       "            // Check for `wheel` event\n",
       "            // https://developer.mozilla.org/en-US/docs/Web/Reference/Events/wheel\n",
       "            if (jev.originalEvent.type == 'wheel') {\n",
       "                ev.deltaMode = jev.originalEvent.deltaMode\n",
       "                ev.deltaX = jev.originalEvent.deltaX\n",
       "                ev.deltaY = jev.originalEvent.deltaY\n",
       "                ev.deltaZ = jev.originalEvent.deltaZ\n",
       "            }\n",
       "\n",
       "            return ev\n",
       "        },\n",
       "\n",
       "        check_mouse_throttle: function(jev) {\n",
       "            // Return true if enough time has passed\n",
       "            var delta = jev.originalEvent.timeStamp - this._mouse_timestamp\n",
       "            if (delta >= this._mouse_time_threshold) {\n",
       "                this._mouse_timestamp = jev.originalEvent.timeStamp\n",
       "                return true\n",
       "            } else {\n",
       "                return false\n",
       "            }\n",
       "        },\n",
       "\n",
       "        handle_mouse_generic: function(jev) {\n",
       "            // Generic mouse event handler\n",
       "            // https://developer.mozilla.org/en-US/docs/Web/Reference/Events\n",
       "            if (this.model.get('_mouse_active')) {\n",
       "                var ev = this.build_mouse_event(jev);\n",
       "                this.model.set('_mouse_event', ev);\n",
       "                this.touch(); // Must call after any modifications to Backbone Model data.\n",
       "            }\n",
       "        },\n",
       "\n",
       "        handle_mouse_move: function(jev) {\n",
       "            // Mouse motion event handler\n",
       "            if (this.model.get('_mouse_active')) {\n",
       "                if (this.check_mouse_throttle(jev)) {\n",
       "                    // This event appears to generate a lot of CPU usage.  Throttling is my\n",
       "                    // simple attempt to mitigate the issue.\n",
       "                    var ev = this.build_mouse_event(jev);\n",
       "                    this.model.set('_mouse_event', ev);\n",
       "                    this.touch(); // Must call after any modifications to Backbone Model data.\n",
       "                }\n",
       "            }\n",
       "        },\n",
       "    });\n",
       "\n",
       "    // Simple way to load JS stuff.\n",
       "    manager.WidgetManager.register_widget_view('CanvasImageView', CanvasImageView);\n",
       "\n",
       "    // // Official and complicated way to load/register JS stuff.\n",
       "    // return {\n",
       "    //     CanvasImageView: CanvasImageView,\n",
       "    // };\n",
       "});\n"
      ],
      "text/plain": [
       "<IPython.core.display.Javascript object>"
      ]
     },
     "metadata": {},
     "output_type": "display_data"
    }
   ],
   "source": [
    "import IPython\n",
    "from widget_canvas import CanvasImage\n",
    "from widget_canvas import image\n",
    "\n",
    "data_image = image.read('images/Whippet.jpg')"
   ]
  },
  {
   "cell_type": "code",
   "execution_count": 2,
   "metadata": {
    "collapsed": false
   },
   "outputs": [],
   "source": [
    "data_comp = image.encode(data_image, fmt='jpg')\n",
    "# ip=IPython.get_ipython()"
   ]
  },
  {
   "cell_type": "code",
   "execution_count": 3,
   "metadata": {
    "collapsed": false
   },
   "outputs": [],
   "source": [
    "img = IPython.display.Image(data_comp)"
   ]
  },
  {
   "cell_type": "code",
   "execution_count": 4,
   "metadata": {
    "collapsed": false
   },
   "outputs": [
    {
     "data": {
      "image/jpeg": "[encoded data removed]",
      "text/plain": [
       "<IPython.core.display.Image object>"
      ]
     },
     "execution_count": 4,
     "metadata": {},
     "output_type": "execute_result"
    }
   ],
   "source": [
    "img"
   ]
  },
  {
   "cell_type": "code",
   "execution_count": 5,
   "metadata": {
    "collapsed": false
   },
   "outputs": [
    {
     "data": {
      "image/jpeg": "[encoded data removed]",
      "text/plain": [
       "<IPython.core.display.Image object>"
      ]
     },
     "metadata": {},
     "output_type": "display_data"
    },
    {
     "name": "stdout",
     "output_type": "stream",
     "text": [
      "ABC123\n",
      "hello!\n"
     ]
    }
   ],
   "source": [
    "IPython.display.display(img)\n",
    "\n",
    "print('ABC123')\n",
    "\n",
    "print('hello!')"
   ]
  },
  {
   "cell_type": "code",
   "execution_count": null,
   "metadata": {
    "collapsed": false
   },
   "outputs": [],
   "source": []
  },
  {
   "cell_type": "code",
   "execution_count": 6,
   "metadata": {
    "collapsed": false
   },
   "outputs": [],
   "source": [
    "wid = CanvasImage(data_image, format='jpeg')"
   ]
  },
  {
   "cell_type": "code",
   "execution_count": 7,
   "metadata": {
    "collapsed": false
   },
   "outputs": [],
   "source": [
    "html_template = '<img src=\"{}\" class=\"{}\">'\n",
    "\n",
    "src = wid._encoded_url.decode()\n",
    "cls = 'my_image_' + wid._uuid\n",
    "\n",
    "h = html_template.format(src, cls)\n",
    "H = IPython.display.HTML(h)"
   ]
  },
  {
   "cell_type": "code",
   "execution_count": 10,
   "metadata": {
    "collapsed": false
   },
   "outputs": [],
   "source": [
    "# hey!\n",
    "wid"
   ]
  },
  {
   "cell_type": "code",
   "execution_count": 7,
   "metadata": {
    "collapsed": false
   },
   "outputs": [],
   "source": [
    "def display_wrapper(wid):\n",
    "    # template = '<img class=\"{}\" style=\"display: none\">'\n",
    "    template = '<img class=\"{}\">'\n",
    "    c = 'static_image_' + wid._uuid\n",
    "    html = template.format(c)\n",
    "\n",
    "    IPython.display.display_html(html, raw=True)\n",
    "\n",
    "    IPython.display.display(wid)\n",
    "        \n",
    "        "
   ]
  },
  {
   "cell_type": "code",
   "execution_count": 8,
   "metadata": {
    "collapsed": false
   },
   "outputs": [
    {
     "data": {
      "text/html": [
       "<img class=\"static_image_5e55e604c88911e5904f0c8bfd5f52a3\">"
      ]
     },
     "metadata": {},
     "output_type": "display_data"
    }
   ],
   "source": [
    "display_wrapper(wid)"
   ]
  },
  {
   "cell_type": "code",
   "execution_count": null,
   "metadata": {
    "collapsed": true
   },
   "outputs": [],
   "source": []
  },
  {
   "cell_type": "code",
   "execution_count": 11,
   "metadata": {
    "collapsed": false
   },
   "outputs": [],
   "source": [
    "wid.something()"
   ]
  },
  {
   "cell_type": "code",
   "execution_count": null,
   "metadata": {
    "collapsed": true
   },
   "outputs": [],
   "source": []
  },
  {
   "cell_type": "code",
   "execution_count": 13,
   "metadata": {
    "collapsed": false
   },
   "outputs": [
    {
     "data": {
      "text/html": [
       "<img src=\"data:image/jpeg;charset=utf-8;base64,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\" class=\"static_image_sdsdsd\">"
      ]
     },
     "metadata": {},
     "output_type": "display_data"
    }
   ],
   "source": [
    "template = '<img src=\"{}\" class=\"{}\">'  # style=\"display: none\">'\n",
    "\n",
    "c = 'static_image_sdsdsd'\n",
    "s = wid._encoded_url.decode()\n",
    "html = template.format(s, c)\n",
    "IPython.display.display_html(html, raw=True)"
   ]
  },
  {
   "cell_type": "code",
   "execution_count": 11,
   "metadata": {
    "collapsed": false
   },
   "outputs": [
    {
     "name": "stdout",
     "output_type": "stream",
     "text": [
      "AAAAA\n"
     ]
    },
    {
     "data": {
      "text/html": [
       "<img src=\"data:image/jpeg;charset=utf-8;base64,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\" class=\"my_image_eba9534ec88211e5bd480c8bfd5f52a3\">"
      ],
      "text/plain": [
       "<IPython.core.display.HTML object>"
      ]
     },
     "metadata": {},
     "output_type": "display_data"
    },
    {
     "name": "stdout",
     "output_type": "stream",
     "text": [
      "BBBB\n"
     ]
    },
    {
     "data": {
      "image/jpeg": "[encoded data removed]",
      "text/plain": [
       "<IPython.core.display.Image object>"
      ]
     },
     "metadata": {},
     "output_type": "display_data"
    },
    {
     "name": "stdout",
     "output_type": "stream",
     "text": [
      "ZZZ123\n"
     ]
    },
    {
     "data": {
      "text/html": [
       "<img class=\"static_image_eba9534ec88211e5bd480c8bfd5f52a3\" style=\"display: none\">"
      ]
     },
     "metadata": {},
     "output_type": "display_data"
    },
    {
     "name": "stdout",
     "output_type": "stream",
     "text": [
      "OK!\n"
     ]
    }
   ],
   "source": [
    "print('AAAAA')\n",
    "IPython.display.display(H)\n",
    "\n",
    "print('BBBB')\n",
    "IPython.display.display(img)\n",
    "\n",
    "\n",
    "print('ZZZ123')\n",
    "IPython.display.display(wid)\n",
    "\n",
    "print('OK!')"
   ]
  },
  {
   "cell_type": "markdown",
   "metadata": {
    "collapsed": true
   },
   "source": [
    "# Canvas Resizing\n",
    "\n",
    "Awesome article about resizing canvas and/or displayed element\n",
    "\n",
    "http://webglfundamentals.org/webgl/lessons/webgl-resizing-the-canvas.html\n",
    "\n"
   ]
  },
  {
   "cell_type": "code",
   "execution_count": 17,
   "metadata": {
    "collapsed": true
   },
   "outputs": [],
   "source": [
    "wid"
   ]
  },
  {
   "cell_type": "code",
   "execution_count": null,
   "metadata": {
    "collapsed": true
   },
   "outputs": [],
   "source": []
  },
  {
   "cell_type": "code",
   "execution_count": null,
   "metadata": {
    "collapsed": true
   },
   "outputs": [],
   "source": []
  },
  {
   "cell_type": "code",
   "execution_count": null,
   "metadata": {
    "collapsed": true
   },
   "outputs": [],
   "source": []
  },
  {
   "cell_type": "code",
   "execution_count": null,
   "metadata": {
    "collapsed": true
   },
   "outputs": [],
   "source": []
  }
 ],
 "metadata": {
  "kernelspec": {
   "display_name": "Python 3",
   "language": "python",
   "name": "python3"
  },
  "language_info": {
   "codemirror_mode": {
    "name": "ipython",
    "version": 3
   },
   "file_extension": ".py",
   "mimetype": "text/x-python",
   "name": "python",
   "nbconvert_exporter": "python",
   "pygments_lexer": "ipython3",
   "version": "3.5.1"
  }
 },
 "nbformat": 4,
 "nbformat_minor": 0
}

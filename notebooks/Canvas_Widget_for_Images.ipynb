{
 "metadata": {
  "name": "",
  "signature": "sha256:a16428200e821d738244a930b0d8dfd2e0405d0c4379575416adb3367ad95a07"
 },
 "nbformat": 3,
 "nbformat_minor": 0,
 "worksheets": [
  {
   "cells": [
    {
     "cell_type": "heading",
     "level": 1,
     "metadata": {},
     "source": [
      "Canvas Widget for IPython Notebook"
     ]
    },
    {
     "cell_type": "markdown",
     "metadata": {},
     "source": [
      "## To Do:\n",
      "- Canvas events propagated to Python side:\n",
      "    - Capture mouse wheel/scroll [events](http://stackoverflow.com/questions/10313142/javascript-capture-mouse-wheel-event-and-do-not-scroll-the-page)\n",
      "- Implement image transforms: Traitlets, JS handlers, Python handlers\n",
      "    - Update transform wrt/ scroll, drag, ctrl-scroll\n",
      "- Build better example that incorporates built-in widgets for buttons, sliders, and number display\n",
      "- Look into resizable canvas by click/dragging edge or corner.  Possible ideas at [StackOverflow](http://stackoverflow.com/questions/1977741/resizable-canvas-jquery-ui)\n",
      "- Example with dispaying mouse motion & click event info via Text Widget\n",
      "- Example maniplating image with transforms\n",
      "- Examples displaying and timing animations: sequence of images, and sequence of src strings\n",
      "- Build draft version of my Quiver app.\n",
      "\n",
      "## Done:\n",
      "- Initialize Python class, with or without an image.\n",
      "- CSS border properties managed through `DOMWidget`'s methods `get_css()` and `set_css()`.\n",
      "- Image is class property, src is the traitlet synchronized\n",
      "- Canvas events propagated to Python side:\n",
      "    - mouse click and motion handling: [example code](http://stackoverflow.com/questions/10001283/html5-canvas-how-to-handle-mousedown-mouseup-mouseclick#)\n",
      "    - mouse coordinate [awesome example](http://www.html5canvastutorials.com/advanced/html5-canvas-mouse-coordinates/)\n",
      "- All mouse events are to carry similar information.\n",
      "- Receive mouse event on Python side.\n",
      "- Interpret mouse down/up as click event on Python side.  May require explicitly registering event handler in Python.\n",
      "- Demonstrate syncing Python dicts <--> JavaScript object literals via Dict traitlet.\n"
     ]
    },
    {
     "cell_type": "markdown",
     "metadata": {},
     "source": [
      "---"
     ]
    },
    {
     "cell_type": "heading",
     "level": 2,
     "metadata": {},
     "source": [
      "Display an Image with an HTML Canvas Element"
     ]
    },
    {
     "cell_type": "markdown",
     "metadata": {},
     "source": [
      "The Canvas Widget takes as its primary input value the `src` string one normally uses when creating an ordinary HTML `<img>` element.  There are many options to choose from when using the `<canvas>` element to [display an image](https://developer.mozilla.org/en-US/docs/Web/Guide/HTML/Canvas_tutorial/Using_images).  It pretty much comes down to specifying a  source of image data when calling `canvas.drawImage(some_image_data)`.  The [Canvas Tutorial](https://developer.mozilla.org/en-US/docs/Web/Guide/HTML/Canvas_tutorial/Using_images#Getting_images_to_draw) at the Mozilla Developer Network site has a great summary about which data types the `<canvas>` element is able to use as an image source:\n",
      "\n",
      "- **[HTMLImageElement](https://developer.mozilla.org/en-US/docs/Web/API/HTMLImageElement)**: These are images created using the `Image()` constructor, as well as any existing [`<img>`](https://developer.mozilla.org/en-US/docs/Web/HTML/Element/img) element.\n",
      "\n",
      "- **[HTMLVideoElement](https://developer.mozilla.org/en-US/docs/Web/API/HTMLVideoElement)**: Using an HTML [`<video>`](https://developer.mozilla.org/en-US/docs/Web/HTML/Element/video) element as your image source grabs the current frame from the video and uses it as an image.\n",
      "\n",
      "- **[HTMLCanvasElement](https://developer.mozilla.org/en-US/docs/Web/API/HTMLCanvasElement)**: Another [`<canvas>`](https://developer.mozilla.org/en-US/docs/Web/HTML/Element/canvas) element as your image source.\n",
      "\n",
      "The simplest option for me was to constrct an internal `Image` element from the user-supplied `src` string.  Just below is an example showing exactly how I did that."
     ]
    },
    {
     "cell_type": "code",
     "collapsed": false,
     "input": [
      "%%html\n",
      "\n",
      "<!-- Canvas element with a nice black border -->\n",
      "<canvas id='a_simple_example' style='border: solid black 2px'/>"
     ],
     "language": "python",
     "metadata": {},
     "outputs": [
      {
       "html": [
        "\n",
        "<!-- Canvas element with a nice black border -->\n",
        "<canvas id='a_simple_example' style='border: solid black 2px'/>"
       ],
       "metadata": {},
       "output_type": "display_data",
       "text": [
        "<IPython.core.display.HTML object>"
       ]
      }
     ],
     "prompt_number": 15
    },
    {
     "cell_type": "code",
     "collapsed": false,
     "input": [
      "%%javascript\n",
      "\n",
      "// Get a reference to that HTML Canvas Element I created in the previous cell.\n",
      "var canvas = document.getElementById('a_simple_example');\n",
      "\n",
      "// Get it's drawing context.\n",
      "var context = canvas.getContext('2d');\n",
      "\n",
      "// Create an <img> element to receive new images from the outside world.\n",
      "var img = new Image();   \n",
      "\n",
      "// Handler for new image data.\n",
      "img.onload = function() {\n",
      "    // Set canvas width and height.\n",
      "    canvas.width = img.width\n",
      "    canvas.style.width = img.width + 'px'\n",
      "\n",
      "    canvas.height = img.height\n",
      "    canvas.style.height = img.height + 'px'\n",
      "\n",
      "    // Do the actual drawing.\n",
      "    context.drawImage(img, 0, 0);\n",
      "}\n",
      "\n",
      "// Set `src` to an elephant URL!\n",
      "var url_elephant = 'http://upload.wikimedia.org/wikipedia/commons/thumb/3/37/African_Bush_Elephant.jpg/160px-African_Bush_Elephant.jpg'\n",
      "\n",
      "img.src = url_elephant"
     ],
     "language": "python",
     "metadata": {},
     "outputs": [
      {
       "javascript": [
        "\n",
        "// Get a reference to that HTML Canvas Element I created in the previous cell.\n",
        "var canvas = document.getElementById('a_simple_example');\n",
        "\n",
        "// Get it's drawing context.\n",
        "var context = canvas.getContext('2d');\n",
        "\n",
        "// Create an <img> element to receive new images from the outside world.\n",
        "var img = new Image();   \n",
        "\n",
        "// Handler for new image data.\n",
        "img.onload = function() {\n",
        "    // Set canvas width and height.\n",
        "    canvas.width = img.width\n",
        "    canvas.style.width = img.width + 'px'\n",
        "\n",
        "    canvas.height = img.height\n",
        "    canvas.style.height = img.height + 'px'\n",
        "\n",
        "    // Do the actual drawing.\n",
        "    context.drawImage(img, 0, 0);\n",
        "}\n",
        "\n",
        "// Set `src` to an elephant URL!\n",
        "var url_elephant = 'http://upload.wikimedia.org/wikipedia/commons/thumb/3/37/African_Bush_Elephant.jpg/160px-African_Bush_Elephant.jpg'\n",
        "\n",
        "img.src = url_elephant"
       ],
       "metadata": {},
       "output_type": "display_data",
       "text": [
        "<IPython.core.display.Javascript object>"
       ]
      }
     ],
     "prompt_number": 16
    },
    {
     "cell_type": "markdown",
     "metadata": {},
     "source": [
      "Have a look at the JavaScript source code for my `Canvas Widget` and you will see something similar to the example just above.  Of course the final Widget version is more complicated due to it being implemented as part of an existing framework that itself is a sophisticated mix of multiple JavaScript libraries."
     ]
    },
    {
     "cell_type": "heading",
     "level": 2,
     "metadata": {},
     "source": [
      "My new Class: `CanvasWidget`"
     ]
    },
    {
     "cell_type": "markdown",
     "metadata": {},
     "source": [
      "Now I use my new Canvas Widget to show the same image."
     ]
    },
    {
     "cell_type": "code",
     "collapsed": false,
     "input": [
      "import IPython\n",
      "import widget_canvas as canvas\n",
      "\n",
      "# Same URL as earlier\n",
      "url_elephant = 'http://upload.wikimedia.org/wikipedia/commons/thumb/3/37/African_Bush_Elephant.jpg/160px-African_Bush_Elephant.jpg'\n",
      "\n",
      "# Make the widget.\n",
      "wid_canvas = canvas.CanvasWidget(url_elephant)\n",
      "\n",
      "# Display the widget.\n",
      "IPython.display.display(wid_canvas)"
     ],
     "language": "python",
     "metadata": {},
     "outputs": [],
     "prompt_number": 13
    },
    {
     "cell_type": "markdown",
     "metadata": {},
     "source": [
      "But what about the nice black line around the edge?  No problem!  The IPython built-in Widget's support direct manipulation of CSS properties.  My Canvas Widget is an extension of the IPython `DOMWidget`, so it too can manipulate CSS properties."
     ]
    },
    {
     "cell_type": "code",
     "collapsed": false,
     "input": [
      "# Update widget's image border property.\n",
      "wid_canvas.set_css('border', 'solid black 2px')\n",
      "\n",
      "# There we go!"
     ],
     "language": "python",
     "metadata": {},
     "outputs": [],
     "prompt_number": 17
    },
    {
     "cell_type": "markdown",
     "metadata": {},
     "source": [
      "Using the Python Canvas Widget is much easier than stepping through all the hoops needed to with direct HTML and JavaScript.  And that's the whole point of the IPython Notebook!  Make it easier to work with data and view the results.\n",
      "\n",
      "The `Canvas Element` can do a lot more than just display an image.  It has a bunch of methods for drawing all kinds of lines and shapes!  But right now I'm focused on displaying images, but I wrote the Canvas Widget generic enough such that adding additional draw functions should be a rather straightforward task."
     ]
    },
    {
     "cell_type": "heading",
     "level": 2,
     "metadata": {},
     "source": [
      "Display Images from Numpy Arrays"
     ]
    },
    {
     "cell_type": "markdown",
     "metadata": {},
     "source": [
      "While displaying images by specifying a URL has many uses, I am primarily interested in displaying technical imagery as part of some analysis effort.  This means working with data in Numpy arrays in the Python back-end and somehow transfering an image to the JavaScript front-end in a manner compatible with using the Canvas Element for final display.  It turns out it is quite easy to compress an image as PNG and embed that data via [Base64](http://en.wikipedia.org/wiki/Base64) encoding into a very large URL string.  This may not be the most efficient or elegant solution, but it was simplest for me to understand and get it working quickly.  \n",
      "\n",
      "The little helper function below shows how I do this conversion, using `PIL/Pillow` behind the scenes to perform the actual PNG compression.  The input to the function is a Numpy array containing an image, and the output is a large URL string that may be used as an Image Element's `src` value."
     ]
    },
    {
     "cell_type": "code",
     "collapsed": false,
     "input": [
      "import base64\n",
      "\n",
      "def encode_src_data(image):\n",
      "    \"\"\"\n",
      "    Compress and encode input image data.\n",
      "    Format as <img> element src string with embedded data.\n",
      "    This function uses a PNG compression function from the included module image.py.\n",
      "    \"\"\"\n",
      "    # Compress with PNG.\n",
      "    data_comp, fmt = canvas.image.png_compress(image)\n",
      "\n",
      "    # Encode with base64.\n",
      "    data_b64 = base64.b64encode(data_comp)\n",
      "\n",
      "    # Build an Image Element src string with embedded data.\n",
      "    src = 'data:image/{:s};base64,{:s}'.format(fmt, data_b64)\n",
      "    \n",
      "    return src"
     ],
     "language": "python",
     "metadata": {},
     "outputs": []
    },
    {
     "cell_type": "code",
     "collapsed": false,
     "input": [
      "# Encode all test images into src \n",
      "images_src = [encode_src_data(img) for img in images]\n"
     ],
     "language": "python",
     "metadata": {},
     "outputs": []
    },
    {
     "cell_type": "heading",
     "level": 2,
     "metadata": {},
     "source": [
      "My other new Class: `CanvasImageWidget`"
     ]
    },
    {
     "cell_type": "markdown",
     "metadata": {},
     "source": [
      "I wrote a new class called `CanvasImageWidget` that inherits from `CanvasWidget` and incorporates the above helper function as an integral component."
     ]
    },
    {
     "cell_type": "heading",
     "level": 2,
     "metadata": {},
     "source": [
      "Manipulate CSS Properties"
     ]
    },
    {
     "cell_type": "markdown",
     "metadata": {},
     "source": [
      "Run the code in the cell below to see how easy it is to modify the _displayed_ image by manipulating the Canvas Element's CSS properties.  You can then rerun the animation loop above and see the updated properties remain.\n",
      "\n",
      "The Mozilla Develloper Network has great reference information for [CSS properties](https://developer.mozilla.org/en-US/docs/Web/CSS/Reference)\n"
     ]
    },
    {
     "cell_type": "code",
     "collapsed": false,
     "input": [
      "# Play with setting some CSS properties.\n",
      "wid_image.set_css('border-radius', '10px')\n",
      "wid_image.set_css('border', 'solid 5px red')\n"
     ],
     "language": "python",
     "metadata": {},
     "outputs": [],
     "prompt_number": 12
    },
    {
     "cell_type": "heading",
     "level": 2,
     "metadata": {},
     "source": [
      "Easy Mouse Event Handlers"
     ]
    },
    {
     "cell_type": "markdown",
     "metadata": {},
     "source": [
      "While I haven't yet added support for drawing fancy lines, I did include support for responding to mouse events: motion, clicks, and drags.  In the next few cells I'll use a few built-in IPython widgets to demonstrate how easy it is to work with mouse events.   "
     ]
    },
    {
     "cell_type": "code",
     "collapsed": false,
     "input": [
      "# Image URL.\n",
      "src_whippet = 'http://upload.wikimedia.org/wikipedia/commons/thumb/d/df/Whippet_teeth.jpg/640px-Whippet_teeth.jpg'\n",
      "src_doberman = 'http://upload.wikimedia.org/wikipedia/commons/thumb/1/10/Dobermannhuendin.jpg/640px-Dobermannhuendin.jpg'\n",
      "\n",
      "# Make the widget.\n",
      "wid_canvas = canvas.CanvasWidget(src_whippet)\n",
      "\n",
      "# Display the widget.\n",
      "IPython.display.display(wid_canvas)\n"
     ],
     "language": "python",
     "metadata": {},
     "outputs": [],
     "prompt_number": 113
    },
    {
     "cell_type": "markdown",
     "metadata": {},
     "source": [
      "---"
     ]
    },
    {
     "cell_type": "heading",
     "level": 2,
     "metadata": {},
     "source": [
      "Testing\n"
     ]
    },
    {
     "cell_type": "code",
     "collapsed": false,
     "input": [
      "f = '../grey-wolf.jpg'\n",
      "data, meta = data_io.read(f)\n",
      "\n",
      "img_1 = data[:300]\n",
      "img_2 = data[300:]\n",
      "\n",
      "# wid_canvas = CanvasImageWidget(img_1)\n",
      "wid_image = CanvasImageWidget()\n",
      "wid_image.image = img_1\n",
      "wid_image.set_css('border', 'solid 1px black')\n",
      "\n",
      "# Helpers.\n",
      "wid_X = IPython.html.widgets.IntTextWidget(description='X')\n",
      "wid_Y = IPython.html.widgets.IntTextWidget(description='Y')\n",
      "wid_T = IPython.html.widgets.TextWidget(description='ev')\n",
      "\n",
      "# Display the widgets.\n",
      "IPython.display.display(wid_image)\n",
      "IPython.display.display(wid_X)\n",
      "IPython.display.display(wid_Y)\n",
      "IPython.display.display(wid_T)\n",
      "\n",
      "# External event handlers.\n",
      "def event_xy(ev):\n",
      "    wid_X.value = ev['canvasX']\n",
      "    wid_Y.value = ev['canvasY']\n",
      "    wid_T.value = str(ev['type'])\n",
      "\n",
      "    \n",
      "def event_click(ev):\n",
      "    print(ev)\n",
      "    \n",
      "wid_image.on_mouse_move(event_xy)\n",
      "wid_image.on_mouse_click(event_click)\n"
     ],
     "language": "python",
     "metadata": {},
     "outputs": [
      {
       "output_type": "stream",
       "stream": "stdout",
       "text": [
        "{'clientX': 605, 'clientY': 372, 'metaKey': False, 'shiftKey': False, 'button': 0, 'altKey': False, 'canvasY': 114.40625, 'canvasX': 311.3125, 'ctrlKey': False, 'type': 'mouseup', 'timeStamp': 1401338556605}\n"
       ]
      },
      {
       "output_type": "stream",
       "stream": "stdout",
       "text": [
        "{'clientX': 696, 'clientY': 408, 'metaKey': False, 'shiftKey': False, 'button': 0, 'altKey': False, 'canvasY': 150.40625, 'canvasX': 402.3125, 'ctrlKey': False, 'type': 'mouseup', 'timeStamp': 1401338561624}\n"
       ]
      },
      {
       "output_type": "stream",
       "stream": "stdout",
       "text": [
        "{'clientX': 721, 'clientY': 502, 'metaKey': False, 'shiftKey': False, 'button': 0, 'altKey': False, 'canvasY': 244.40625, 'canvasX': 427.3125, 'ctrlKey': False, 'type': 'mouseup', 'timeStamp': 1401338582019}\n"
       ]
      },
      {
       "output_type": "stream",
       "stream": "stdout",
       "text": [
        "{'clientX': 746, 'clientY': 522, 'metaKey': False, 'shiftKey': False, 'button': 0, 'altKey': False, 'canvasY': 264.40625, 'canvasX': 452.3125, 'ctrlKey': False, 'type': 'mouseup', 'timeStamp': 1401338583358}\n"
       ]
      }
     ],
     "prompt_number": 25
    },
    {
     "cell_type": "code",
     "collapsed": false,
     "input": [
      "wid_T.set_css('width', '1000')\n"
     ],
     "language": "python",
     "metadata": {},
     "outputs": [],
     "prompt_number": 18
    },
    {
     "cell_type": "code",
     "collapsed": false,
     "input": [
      "# Play with setting some CSS properties.\n",
      "wid.set_css('background','lightblue')\n",
      "\n",
      "wid.set_css('border-radius', '10px')\n",
      "wid_image.set_css('border', 'solid 1px red')\n"
     ],
     "language": "python",
     "metadata": {},
     "outputs": [],
     "prompt_number": 208
    },
    {
     "cell_type": "heading",
     "level": 2,
     "metadata": {},
     "source": [
      "Play with Button Widget"
     ]
    },
    {
     "cell_type": "code",
     "collapsed": false,
     "input": [
      "import IPython\n",
      "import IPython.html.widgets\n",
      "\n",
      "# Instantiate a widget object.\n",
      "wid_butt = IPython.html.widgets.ButtonWidget(description='click me!')\n"
     ],
     "language": "python",
     "metadata": {},
     "outputs": [],
     "prompt_number": 14
    },
    {
     "cell_type": "code",
     "collapsed": false,
     "input": [
      "# Python callback for widget's click event.\n",
      "def clicker(wid):\n",
      "    wid.description += 'A'\n",
      "    \n",
      "# Attach the callback.\n",
      "wid_butt.on_click(clicker)\n",
      "\n",
      "# Display widget.\n",
      "wid_butt"
     ],
     "language": "python",
     "metadata": {},
     "outputs": [],
     "prompt_number": 15
    }
   ],
   "metadata": {}
  }
 ]
}
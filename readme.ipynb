{
 "cells": [
  {
   "cell_type": "markdown",
   "metadata": {},
   "source": [
    "# Canvas Image Widget for IPython Notebook "
   ]
  },
  {
   "cell_type": "markdown",
   "metadata": {},
   "source": [
    "## Motivation\n",
    "\n",
    "The HTML5 Canvas Element is a powerful tool for displaying resolution-dependent bitmap data.  It's great for efficiently rendering 2D graphics, images, artwork, or game components.  My current interest in the Canvas Element is to use it as the foundation for an interactive image viewer within the IPython [Notebook](http://ipython.org/notebook.html) widget [framework](http://nbviewer.ipython.org/github/ipython/ipython/blob/3.x/examples/Interactive%20Widgets/Index.ipynb).\n",
    "\n",
    "I knew early on that I would need to learn a lot about JavaScript to make this project work. JavaScript is a really curious programming language, where the basic language itself is a wilderness of bizarre constructs and third-party modules.  Navigating through that mess is risky without a good reference: [book](https://play.google.com/store/books/details/Douglas_Crockford_JavaScript_The_Good_Parts?id=PXa2bby0oQ0C). I was really surprised at how much I had to learn about [RequireJS](http://requirejs.org/) and [BackboneJS](http://backbonejs.org/) before I could start making meaningful progress on the technical parts.\n",
    "\n",
    "I found it especially satisfying when the [Module Pattern](http://javascriptplayground.com/blog/2012/04/javascript-module-pattern/) finally started making sense to me."
   ]
  },
  {
   "cell_type": "markdown",
   "metadata": {},
   "source": [
    "## Design Thoughts\n",
    "\n",
    "My plans for the Canvas Widget were to implement functionality required by my other projects:\n",
    "  - Display an image from a Numpy array: gray scale, RGB, or RGBA\n",
    "  - Display an image via URL\n",
    "  - Accept Python callback functions to be called in response to user's mouse motion/click events\n",
    "  - Readily support image zooming and panning via mouse\n",
    "\n",
    "I wanted this widget to be as easy (or as hard??) to install and use as the built-in widgets."
   ]
  },
  {
   "cell_type": "markdown",
   "metadata": {},
   "source": [
    "## Example Widget Usage"
   ]
  },
  {
   "cell_type": "markdown",
   "metadata": {},
   "source": [
    "[Reference Notes](notebooks/01%20-%20Reference%20Notes.ipynb)\n"
   ]
  },
  {
   "cell_type": "code",
   "execution_count": null,
   "metadata": {
    "collapsed": true
   },
   "outputs": [],
   "source": []
  }
 ],
 "metadata": {
  "kernelspec": {
   "display_name": "Python 3",
   "language": "python",
   "name": "python3"
  },
  "language_info": {
   "codemirror_mode": {
    "name": "ipython",
    "version": 3
   },
   "file_extension": ".py",
   "mimetype": "text/x-python",
   "name": "python",
   "nbconvert_exporter": "python",
   "pygments_lexer": "ipython3",
   "version": "3.4.3"
  }
 },
 "nbformat": 4,
 "nbformat_minor": 0
}
